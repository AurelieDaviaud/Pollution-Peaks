{
 "cells": [
  {
   "cell_type": "markdown",
   "metadata": {
    "toc": "true"
   },
   "source": [
    "# Table of Contents\n",
    " <p><div class=\"lev1 toc-item\"><a href=\"#Titanic:-Machine-Learning-from-Disaster\" data-toc-modified-id=\"Titanic:-Machine-Learning-from-Disaster-1\"><span class=\"toc-item-num\">1&nbsp;&nbsp;</span>Titanic: Machine Learning from Disaster</a></div><div class=\"lev1 toc-item\"><a href=\"#1-Exploratory-data-analysis\" data-toc-modified-id=\"1-Exploratory-data-analysis-2\"><span class=\"toc-item-num\">2&nbsp;&nbsp;</span>1 Exploratory data analysis</a></div><div class=\"lev2 toc-item\"><a href=\"#1.1-Check-data\" data-toc-modified-id=\"1.1-Check-data-21\"><span class=\"toc-item-num\">2.1&nbsp;&nbsp;</span>1.1 Check data</a></div><div class=\"lev2 toc-item\"><a href=\"#1.2-Check-correlations-among-variables\" data-toc-modified-id=\"1.2-Check-correlations-among-variables-22\"><span class=\"toc-item-num\">2.2&nbsp;&nbsp;</span>1.2 Check correlations among variables</a></div><div class=\"lev2 toc-item\"><a href=\"#1.3-Visualize-some-potentially-important-variables\" data-toc-modified-id=\"1.3-Visualize-some-potentially-important-variables-23\"><span class=\"toc-item-num\">2.3&nbsp;&nbsp;</span>1.3 Visualize some potentially important variables</a></div><div class=\"lev3 toc-item\"><a href=\"#1.3.1-Passenger's-class\" data-toc-modified-id=\"1.3.1-Passenger's-class-231\"><span class=\"toc-item-num\">2.3.1&nbsp;&nbsp;</span>1.3.1 Passenger's class</a></div><div class=\"lev3 toc-item\"><a href=\"#1.3.2-Women-and-children-first!\" data-toc-modified-id=\"1.3.2-Women-and-children-first!-232\"><span class=\"toc-item-num\">2.3.2&nbsp;&nbsp;</span>1.3.2 Women and children first!</a></div><div class=\"lev1 toc-item\"><a href=\"#2-Feature-engineering\" data-toc-modified-id=\"2-Feature-engineering-3\"><span class=\"toc-item-num\">3&nbsp;&nbsp;</span>2 Feature engineering</a></div><div class=\"lev2 toc-item\"><a href=\"#2.1-Create-new-features-1\" data-toc-modified-id=\"2.1-Create-new-features-1-31\"><span class=\"toc-item-num\">3.1&nbsp;&nbsp;</span>2.1 Create new features 1</a></div><div class=\"lev3 toc-item\"><a href=\"#2.1.1-Create-Title-from-Name\" data-toc-modified-id=\"2.1.1-Create-Title-from-Name-311\"><span class=\"toc-item-num\">3.1.1&nbsp;&nbsp;</span>2.1.1 Create Title from Name</a></div><div class=\"lev2 toc-item\"><a href=\"#2.2-Impute-missing-data\" data-toc-modified-id=\"2.2-Impute-missing-data-32\"><span class=\"toc-item-num\">3.2&nbsp;&nbsp;</span>2.2 Impute missing data</a></div><div class=\"lev3 toc-item\"><a href=\"#2.2.1-Fare\" data-toc-modified-id=\"2.2.1-Fare-321\"><span class=\"toc-item-num\">3.2.1&nbsp;&nbsp;</span>2.2.1 Fare</a></div><div class=\"lev3 toc-item\"><a href=\"#2.2.2-Embarked\" data-toc-modified-id=\"2.2.2-Embarked-322\"><span class=\"toc-item-num\">3.2.2&nbsp;&nbsp;</span>2.2.2 Embarked</a></div><div class=\"lev3 toc-item\"><a href=\"#2.2.3-Age\" data-toc-modified-id=\"2.2.3-Age-323\"><span class=\"toc-item-num\">3.2.3&nbsp;&nbsp;</span>2.2.3 Age</a></div><div class=\"lev2 toc-item\"><a href=\"#2.3-Create-new-features-2\" data-toc-modified-id=\"2.3-Create-new-features-2-33\"><span class=\"toc-item-num\">3.3&nbsp;&nbsp;</span>2.3 Create new features 2</a></div><div class=\"lev3 toc-item\"><a href=\"#2.3.1-Create-Child-and-Young-from-Age\" data-toc-modified-id=\"2.3.1-Create-Child-and-Young-from-Age-331\"><span class=\"toc-item-num\">3.3.1&nbsp;&nbsp;</span>2.3.1 Create Child and Young from Age</a></div><div class=\"lev3 toc-item\"><a href=\"#2.3.2-Create-Title2-from-Title\" data-toc-modified-id=\"2.3.2-Create-Title2-from-Title-332\"><span class=\"toc-item-num\">3.3.2&nbsp;&nbsp;</span>2.3.2 Create Title2 from Title</a></div><div class=\"lev3 toc-item\"><a href=\"#2.3.3-Create-dummy-variables\" data-toc-modified-id=\"2.3.3-Create-dummy-variables-333\"><span class=\"toc-item-num\">3.3.3&nbsp;&nbsp;</span>2.3.3 Create dummy variables</a></div><div class=\"lev1 toc-item\"><a href=\"#3-Machine-learning\" data-toc-modified-id=\"3-Machine-learning-4\"><span class=\"toc-item-num\">4&nbsp;&nbsp;</span>3 Machine learning</a></div><div class=\"lev2 toc-item\"><a href=\"#3.1-Logistic-regression\" data-toc-modified-id=\"3.1-Logistic-regression-41\"><span class=\"toc-item-num\">4.1&nbsp;&nbsp;</span>3.1 Logistic regression</a></div><div class=\"lev3 toc-item\"><a href=\"#3.1.1-A-first-quick-and-dirty-model\" data-toc-modified-id=\"3.1.1-A-first-quick-and-dirty-model-411\"><span class=\"toc-item-num\">4.1.1&nbsp;&nbsp;</span>3.1.1 A first quick and dirty model</a></div><div class=\"lev3 toc-item\"><a href=\"#3.1.2-Check-learning-curves\" data-toc-modified-id=\"3.1.2-Check-learning-curves-412\"><span class=\"toc-item-num\">4.1.2&nbsp;&nbsp;</span>3.1.2 Check learning curves</a></div><div class=\"lev3 toc-item\"><a href=\"#3.1.3-Feature-selection\" data-toc-modified-id=\"3.1.3-Feature-selection-413\"><span class=\"toc-item-num\">4.1.3&nbsp;&nbsp;</span>3.1.3 Feature selection</a></div><div class=\"lev4 toc-item\"><a href=\"#3.1.3.1-Manual-selection\" data-toc-modified-id=\"3.1.3.1-Manual-selection-4131\"><span class=\"toc-item-num\">4.1.3.1&nbsp;&nbsp;</span>3.1.3.1 Manual selection</a></div><div class=\"lev4 toc-item\"><a href=\"#3.1.3.2-Automatic-selection\" data-toc-modified-id=\"3.1.3.2-Automatic-selection-4132\"><span class=\"toc-item-num\">4.1.3.2&nbsp;&nbsp;</span>3.1.3.2 Automatic selection</a></div><div class=\"lev2 toc-item\"><a href=\"#3.2-Classification-tree:-CART-(Recursive-Partitioning)\" data-toc-modified-id=\"3.2-Classification-tree:-CART-(Recursive-Partitioning)-42\"><span class=\"toc-item-num\">4.2&nbsp;&nbsp;</span>3.2 Classification tree: CART (Recursive Partitioning)</a></div><div class=\"lev2 toc-item\"><a href=\"#3.3-Random-forest\" data-toc-modified-id=\"3.3-Random-forest-43\"><span class=\"toc-item-num\">4.3&nbsp;&nbsp;</span>3.3 Random forest</a></div><div class=\"lev2 toc-item\"><a href=\"#3.4-Support-Vector-Machine-(SVM)\" data-toc-modified-id=\"3.4-Support-Vector-Machine-(SVM)-44\"><span class=\"toc-item-num\">4.4&nbsp;&nbsp;</span>3.4 Support Vector Machine (SVM)</a></div><div class=\"lev3 toc-item\"><a href=\"#3.4.1-With-linear-kernel\" data-toc-modified-id=\"3.4.1-With-linear-kernel-441\"><span class=\"toc-item-num\">4.4.1&nbsp;&nbsp;</span>3.4.1 With linear kernel</a></div><div class=\"lev3 toc-item\"><a href=\"#3.4.2-With-Gaussian-kernel\" data-toc-modified-id=\"3.4.2-With-Gaussian-kernel-442\"><span class=\"toc-item-num\">4.4.2&nbsp;&nbsp;</span>3.4.2 With Gaussian kernel</a></div><div class=\"lev2 toc-item\"><a href=\"#3.5-Neural-network\" data-toc-modified-id=\"3.5-Neural-network-45\"><span class=\"toc-item-num\">4.5&nbsp;&nbsp;</span>3.5 Neural network</a></div><div class=\"lev2 toc-item\"><a href=\"#3.6-XGBoost\" data-toc-modified-id=\"3.6-XGBoost-46\"><span class=\"toc-item-num\">4.6&nbsp;&nbsp;</span>3.6 XGBoost</a></div><div class=\"lev3 toc-item\"><a href=\"#3.6.1-Linear\" data-toc-modified-id=\"3.6.1-Linear-461\"><span class=\"toc-item-num\">4.6.1&nbsp;&nbsp;</span>3.6.1 Linear</a></div><div class=\"lev3 toc-item\"><a href=\"#3.6.2-Tree\" data-toc-modified-id=\"3.6.2-Tree-462\"><span class=\"toc-item-num\">4.6.2&nbsp;&nbsp;</span>3.6.2 Tree</a></div><div class=\"lev1 toc-item\"><a href=\"#4-Compare-the-best-models\" data-toc-modified-id=\"4-Compare-the-best-models-5\"><span class=\"toc-item-num\">5&nbsp;&nbsp;</span>4 Compare the best models</a></div><div class=\"lev2 toc-item\"><a href=\"#4.1-Compare-the-performances\" data-toc-modified-id=\"4.1-Compare-the-performances-51\"><span class=\"toc-item-num\">5.1&nbsp;&nbsp;</span>4.1 Compare the performances</a></div><div class=\"lev2 toc-item\"><a href=\"#4.2-Check-correlations-among-models\" data-toc-modified-id=\"4.2-Check-correlations-among-models-52\"><span class=\"toc-item-num\">5.2&nbsp;&nbsp;</span>4.2 Check correlations among models</a></div><div class=\"lev1 toc-item\"><a href=\"#5-Predictions-on-the-test-set\" data-toc-modified-id=\"5-Predictions-on-the-test-set-6\"><span class=\"toc-item-num\">6&nbsp;&nbsp;</span>5 Predictions on the test set</a></div><div class=\"lev2 toc-item\"><a href=\"#5.1-GLM\" data-toc-modified-id=\"5.1-GLM-61\"><span class=\"toc-item-num\">6.1&nbsp;&nbsp;</span>5.1 GLM</a></div><div class=\"lev2 toc-item\"><a href=\"#5.2-CART\" data-toc-modified-id=\"5.2-CART-62\"><span class=\"toc-item-num\">6.2&nbsp;&nbsp;</span>5.2 CART</a></div><div class=\"lev2 toc-item\"><a href=\"#5.3--Random-forest\" data-toc-modified-id=\"5.3--Random-forest-63\"><span class=\"toc-item-num\">6.3&nbsp;&nbsp;</span>5.3  Random forest</a></div><div class=\"lev2 toc-item\"><a href=\"#5.4-SVM\" data-toc-modified-id=\"5.4-SVM-64\"><span class=\"toc-item-num\">6.4&nbsp;&nbsp;</span>5.4 SVM</a></div><div class=\"lev2 toc-item\"><a href=\"#5.5-XGBoost-(linear)\" data-toc-modified-id=\"5.5-XGBoost-(linear)-65\"><span class=\"toc-item-num\">6.5&nbsp;&nbsp;</span>5.5 XGBoost (linear)</a></div><div class=\"lev2 toc-item\"><a href=\"#5.6-XGBoost-(tree)\" data-toc-modified-id=\"5.6-XGBoost-(tree)-66\"><span class=\"toc-item-num\">6.6&nbsp;&nbsp;</span>5.6 XGBoost (tree)</a></div><div class=\"lev1 toc-item\"><a href=\"#6-Going-further\" data-toc-modified-id=\"6-Going-further-7\"><span class=\"toc-item-num\">7&nbsp;&nbsp;</span>6 Going further</a></div>"
   ]
  },
  {
   "cell_type": "markdown",
   "metadata": {
    "run_control": {
     "marked": false
    }
   },
   "source": [
    "# Titanic: Machine Learning from Disaster\n",
    "Author: Aurélie Daviaud "
   ]
  },
  {
   "cell_type": "markdown",
   "metadata": {
    "run_control": {
     "marked": false
    }
   },
   "source": [
    "* Language: R\n",
    "* Methods : Classification (logistic regression, CART, Random Forest, SVM, neural network, XGBoost), cross-validation"
   ]
  },
  {
   "cell_type": "markdown",
   "metadata": {},
   "source": [
    "## Table of Contents\n",
    "\n",
    "1  Exploratory data analysis <br>\n",
    "...1.1  Check data <br>\n",
    "...1.2  Check correlations among variables <br>\n",
    "...1.3  Visualize some potentially important variables <br>\n",
    "......1.3.1  Passenger's class <br>\n",
    "......1.3.2  Women and children first! <br>\n",
    "2  Feature engineering <br>\n",
    "....2.1  Create new features 1 <br>\n",
    "......2.1.1  Create Title from Name <br>\n",
    "....2.2  Impute missing data <br>\n",
    "......2.2.1  Fare <br>\n",
    "......2.2.2  Embarked <br>\n",
    "......2.2.3  Age <br>\n",
    "....2.3  Create new features 2 <br>\n",
    "......2.3.1  Create Child and Young from Age <br>\n",
    "......2.3.2  Create Title2 from Title <br>\n",
    "......2.3.3  Create dummy variables <br>\n",
    "3  Machine learning <br>\n",
    "...3.1  Logistic regression <br>\n",
    "......3.1.1  A first quick and dirty model <br>\n",
    "......3.1.2  Check learning curves <br>\n",
    "......3.1.3  Feature selection <br>\n",
    ".........3.1.3.1  Manual selection <br>\n",
    ".........3.1.3.2  Automatic selection <br>\n",
    "...3.2  Classification tree: CART (Recursive Partitioning) <br>\n",
    "...3.3  Random forest <br>\n",
    "...3.4  Support Vector Machine (SVM) <br>\n",
    "......3.4.1  With linear kernel <br>\n",
    "......3.4.2  With Gaussian kernel <br>\n",
    "...3.5  Neural network <br>\n",
    "...3.6  XGBoost <br>\n",
    "......3.6.1  Linear <br>\n",
    "......3.6.2  Tree <br>\n",
    "4  Compare the best models <br>\n",
    "...4.1  Compare the performances <br>\n",
    "...4.2  Check correlations among models <br>\n",
    "5  Predictions on the test set <br>\n",
    "...5.1  GLM <br>\n",
    "...5.2  CART <br>\n",
    "...5.3  Random forest <br>\n",
    "...5.4  SVM <br>\n",
    "...5.5  XGBoost (linear) <br>\n",
    "...5.6  XGBoost (tree) <br>\n",
    "6  Going further <br>"
   ]
  },
  {
   "cell_type": "markdown",
   "metadata": {
    "run_control": {
     "marked": false
    }
   },
   "source": [
    "**Context**<br>\n",
    "The aim of this project is to predict survivors in the Titanic dataset. I will follow typical steps of a machine learning project: exploratory data analysis, pre-processing (data imputation, scaling, feature engineering, feature selection...) and machine learning."
   ]
  },
  {
   "cell_type": "markdown",
   "metadata": {
    "run_control": {
     "marked": false
    }
   },
   "source": [
    "**Data description**"
   ]
  },
  {
   "cell_type": "markdown",
   "metadata": {
    "run_control": {
     "marked": false
    }
   },
   "source": [
    "|Variable| Description|\n",
    "|--------|------------|\n",
    "|Survived|Survival (0 = No, 1 = Yes)|\n",
    "|Pclass|Ticket class (1 = 1st, 2 = 2nd, 3 = 3rd)|\n",
    "|Sex|Sex (male/female)|\n",
    "|Age|Age (in years)|\n",
    "|SibSp|# of siblings/spouses aboard the Titanic|\n",
    "|Parch|\t# of parents/children aboard the Titanic|\n",
    "|Ticket|Ticket number|\n",
    "|Fare|Passenger fare|\n",
    "|Cabin|Cabin number|\n",
    "|Embarked|Port of Embarkation (C = Cherbourg, Q = Queenstown, S = Southampton)|"
   ]
  },
  {
   "cell_type": "code",
   "execution_count": 2,
   "metadata": {
    "collapsed": false,
    "init_cell": true,
    "run_control": {
     "marked": false
    }
   },
   "outputs": [],
   "source": [
    "# Load libraries\n",
    "library(polycor)      # hetcor()\n",
    "library(ggplot2)      # ggplot()\n",
    "library(caret)        # train(), trainControl(), resamples(), varImp()\n",
    "library(mice)         # mice()\n",
    "library(lattice)      # densityplot()\n",
    "library(gridExtra)    # grid.arrange()\n",
    "library(dummies)      # dummy.data.frame()\n",
    "library(plyr)         # revalue()\n",
    "library(rpart)        # rpart()\n",
    "library(rpart.plot)   # rpart.plot()\n",
    "library(randomForest) # method = 'rf'\n",
    "library(party)        # method = 'cforest'\n",
    "library(kernlab)      # method = 'svmLinear' and method = 'svmRadial' \n",
    "library(nnet)         # method = 'nnet'\n",
    "library(corrplot)     # corrplot()\n",
    "library(caretEnsemble)# caretList(), caretStack()"
   ]
  },
  {
   "cell_type": "code",
   "execution_count": 3,
   "metadata": {
    "collapsed": false,
    "init_cell": true,
    "run_control": {
     "marked": false
    },
    "scrolled": true
   },
   "outputs": [],
   "source": [
    "setwd(\"C:/Users/AurelieD/Documents/Boulot/0-Data scientist/Kaggle/Titanic\")"
   ]
  },
  {
   "cell_type": "code",
   "execution_count": 4,
   "metadata": {
    "collapsed": true,
    "init_cell": true
   },
   "outputs": [],
   "source": [
    "## Load data (some cells of our table are empty, we have to specify to R to treat them as missing values (NA) using na.string)\n",
    "Train <- read.csv(\"train.csv\", na.strings=c(\"\"))\n",
    "Test <- read.csv(\"test.csv\", na.strings=c(\"\"))"
   ]
  },
  {
   "cell_type": "code",
   "execution_count": 91,
   "metadata": {
    "collapsed": false,
    "scrolled": true
   },
   "outputs": [
    {
     "name": "stdout",
     "output_type": "stream",
     "text": [
      "'data.frame':\t891 obs. of  12 variables:\n",
      " $ PassengerId: int  1 2 3 4 5 6 7 8 9 10 ...\n",
      " $ Survived   : int  0 1 1 1 0 0 0 0 1 1 ...\n",
      " $ Pclass     : int  3 1 3 1 3 3 1 3 3 2 ...\n",
      " $ Name       : Factor w/ 891 levels \"Abbing, Mr. Anthony\",..: 109 191 358 277 16 559 520 629 417 581 ...\n",
      " $ Sex        : Factor w/ 2 levels \"female\",\"male\": 2 1 1 1 2 2 2 2 1 1 ...\n",
      " $ Age        : num  22 38 26 35 35 NA 54 2 27 14 ...\n",
      " $ SibSp      : int  1 1 0 1 0 0 0 3 0 1 ...\n",
      " $ Parch      : int  0 0 0 0 0 0 0 1 2 0 ...\n",
      " $ Ticket     : Factor w/ 681 levels \"110152\",\"110413\",..: 524 597 670 50 473 276 86 396 345 133 ...\n",
      " $ Fare       : num  7.25 71.28 7.92 53.1 8.05 ...\n",
      " $ Cabin      : Factor w/ 147 levels \"A10\",\"A14\",\"A16\",..: NA 82 NA 56 NA NA 130 NA NA NA ...\n",
      " $ Embarked   : Factor w/ 3 levels \"C\",\"Q\",\"S\": 3 1 3 3 3 2 3 3 3 1 ...\n"
     ]
    }
   ],
   "source": [
    "str(Train)"
   ]
  },
  {
   "cell_type": "code",
   "execution_count": 92,
   "metadata": {
    "collapsed": false
   },
   "outputs": [
    {
     "name": "stdout",
     "output_type": "stream",
     "text": [
      "'data.frame':\t418 obs. of  11 variables:\n",
      " $ PassengerId: int  892 893 894 895 896 897 898 899 900 901 ...\n",
      " $ Pclass     : int  3 3 2 3 3 3 3 2 3 3 ...\n",
      " $ Name       : Factor w/ 418 levels \"Abbott, Master. Eugene Joseph\",..: 210 409 273 414 182 370 85 58 5 104 ...\n",
      " $ Sex        : Factor w/ 2 levels \"female\",\"male\": 2 1 2 2 1 2 1 2 1 2 ...\n",
      " $ Age        : num  34.5 47 62 27 22 14 30 26 18 21 ...\n",
      " $ SibSp      : int  0 1 0 0 1 0 0 1 0 2 ...\n",
      " $ Parch      : int  0 0 0 0 1 0 0 1 0 0 ...\n",
      " $ Ticket     : Factor w/ 363 levels \"110469\",\"110489\",..: 153 222 74 148 139 262 159 85 101 270 ...\n",
      " $ Fare       : num  7.83 7 9.69 8.66 12.29 ...\n",
      " $ Cabin      : Factor w/ 76 levels \"A11\",\"A18\",\"A21\",..: NA NA NA NA NA NA NA NA NA NA ...\n",
      " $ Embarked   : Factor w/ 3 levels \"C\",\"Q\",\"S\": 2 3 2 3 3 3 2 3 1 3 ...\n"
     ]
    }
   ],
   "source": [
    "str(Test)"
   ]
  },
  {
   "cell_type": "markdown",
   "metadata": {
    "run_control": {
     "marked": false
    }
   },
   "source": [
    "---\n",
    "# 1 Exploratory data analysis"
   ]
  },
  {
   "cell_type": "markdown",
   "metadata": {},
   "source": [
    "First, let's take a look at the Train data."
   ]
  },
  {
   "cell_type": "markdown",
   "metadata": {
    "run_control": {
     "marked": false
    }
   },
   "source": [
    "## 1.1 Check data"
   ]
  },
  {
   "cell_type": "code",
   "execution_count": 93,
   "metadata": {
    "collapsed": false,
    "run_control": {
     "marked": false
    },
    "scrolled": false
   },
   "outputs": [
    {
     "data": {
      "text/html": [
       "<table>\n",
       "<thead><tr><th scope=col>PassengerId</th><th scope=col>Survived</th><th scope=col>Pclass</th><th scope=col>Name</th><th scope=col>Sex</th><th scope=col>Age</th><th scope=col>SibSp</th><th scope=col>Parch</th><th scope=col>Ticket</th><th scope=col>Fare</th><th scope=col>Cabin</th><th scope=col>Embarked</th></tr></thead>\n",
       "<tbody>\n",
       "\t<tr><td>1                                                  </td><td>0                                                  </td><td>3                                                  </td><td>Braund, Mr. Owen Harris                            </td><td>male                                               </td><td>22                                                 </td><td>1                                                  </td><td>0                                                  </td><td>A/5 21171                                          </td><td> 7.2500                                            </td><td>NA                                                 </td><td>S                                                  </td></tr>\n",
       "\t<tr><td>2                                                  </td><td>1                                                  </td><td>1                                                  </td><td>Cumings, Mrs. John Bradley (Florence Briggs Thayer)</td><td>female                                             </td><td>38                                                 </td><td>1                                                  </td><td>0                                                  </td><td>PC 17599                                           </td><td>71.2833                                            </td><td>C85                                                </td><td>C                                                  </td></tr>\n",
       "\t<tr><td>3                                                  </td><td>1                                                  </td><td>3                                                  </td><td>Heikkinen, Miss. Laina                             </td><td>female                                             </td><td>26                                                 </td><td>0                                                  </td><td>0                                                  </td><td>STON/O2. 3101282                                   </td><td> 7.9250                                            </td><td>NA                                                 </td><td>S                                                  </td></tr>\n",
       "\t<tr><td>4                                                  </td><td>1                                                  </td><td>1                                                  </td><td>Futrelle, Mrs. Jacques Heath (Lily May Peel)       </td><td>female                                             </td><td>35                                                 </td><td>1                                                  </td><td>0                                                  </td><td>113803                                             </td><td>53.1000                                            </td><td>C123                                               </td><td>S                                                  </td></tr>\n",
       "\t<tr><td>5                                                  </td><td>0                                                  </td><td>3                                                  </td><td>Allen, Mr. William Henry                           </td><td>male                                               </td><td>35                                                 </td><td>0                                                  </td><td>0                                                  </td><td>373450                                             </td><td> 8.0500                                            </td><td>NA                                                 </td><td>S                                                  </td></tr>\n",
       "\t<tr><td>6                                                  </td><td>0                                                  </td><td>3                                                  </td><td>Moran, Mr. James                                   </td><td>male                                               </td><td>NA                                                 </td><td>0                                                  </td><td>0                                                  </td><td>330877                                             </td><td> 8.4583                                            </td><td>NA                                                 </td><td>Q                                                  </td></tr>\n",
       "</tbody>\n",
       "</table>\n"
      ],
      "text/latex": [
       "\\begin{tabular}{r|llllllllllll}\n",
       " PassengerId & Survived & Pclass & Name & Sex & Age & SibSp & Parch & Ticket & Fare & Cabin & Embarked\\\\\n",
       "\\hline\n",
       "\t 1                                                   & 0                                                   & 3                                                   & Braund, Mr. Owen Harris                             & male                                                & 22                                                  & 1                                                   & 0                                                   & A/5 21171                                           &  7.2500                                             & NA                                                  & S                                                  \\\\\n",
       "\t 2                                                   & 1                                                   & 1                                                   & Cumings, Mrs. John Bradley (Florence Briggs Thayer) & female                                              & 38                                                  & 1                                                   & 0                                                   & PC 17599                                            & 71.2833                                             & C85                                                 & C                                                  \\\\\n",
       "\t 3                                                   & 1                                                   & 3                                                   & Heikkinen, Miss. Laina                              & female                                              & 26                                                  & 0                                                   & 0                                                   & STON/O2. 3101282                                    &  7.9250                                             & NA                                                  & S                                                  \\\\\n",
       "\t 4                                                   & 1                                                   & 1                                                   & Futrelle, Mrs. Jacques Heath (Lily May Peel)        & female                                              & 35                                                  & 1                                                   & 0                                                   & 113803                                              & 53.1000                                             & C123                                                & S                                                  \\\\\n",
       "\t 5                                                   & 0                                                   & 3                                                   & Allen, Mr. William Henry                            & male                                                & 35                                                  & 0                                                   & 0                                                   & 373450                                              &  8.0500                                             & NA                                                  & S                                                  \\\\\n",
       "\t 6                                                   & 0                                                   & 3                                                   & Moran, Mr. James                                    & male                                                & NA                                                  & 0                                                   & 0                                                   & 330877                                              &  8.4583                                             & NA                                                  & Q                                                  \\\\\n",
       "\\end{tabular}\n"
      ],
      "text/markdown": [
       "\n",
       "PassengerId | Survived | Pclass | Name | Sex | Age | SibSp | Parch | Ticket | Fare | Cabin | Embarked | \n",
       "|---|---|---|---|---|---|\n",
       "| 1                                                   | 0                                                   | 3                                                   | Braund, Mr. Owen Harris                             | male                                                | 22                                                  | 1                                                   | 0                                                   | A/5 21171                                           |  7.2500                                             | NA                                                  | S                                                   | \n",
       "| 2                                                   | 1                                                   | 1                                                   | Cumings, Mrs. John Bradley (Florence Briggs Thayer) | female                                              | 38                                                  | 1                                                   | 0                                                   | PC 17599                                            | 71.2833                                             | C85                                                 | C                                                   | \n",
       "| 3                                                   | 1                                                   | 3                                                   | Heikkinen, Miss. Laina                              | female                                              | 26                                                  | 0                                                   | 0                                                   | STON/O2. 3101282                                    |  7.9250                                             | NA                                                  | S                                                   | \n",
       "| 4                                                   | 1                                                   | 1                                                   | Futrelle, Mrs. Jacques Heath (Lily May Peel)        | female                                              | 35                                                  | 1                                                   | 0                                                   | 113803                                              | 53.1000                                             | C123                                                | S                                                   | \n",
       "| 5                                                   | 0                                                   | 3                                                   | Allen, Mr. William Henry                            | male                                                | 35                                                  | 0                                                   | 0                                                   | 373450                                              |  8.0500                                             | NA                                                  | S                                                   | \n",
       "| 6                                                   | 0                                                   | 3                                                   | Moran, Mr. James                                    | male                                                | NA                                                  | 0                                                   | 0                                                   | 330877                                              |  8.4583                                             | NA                                                  | Q                                                   | \n",
       "\n",
       "\n"
      ],
      "text/plain": [
       "  PassengerId Survived Pclass\n",
       "1 1           0        3     \n",
       "2 2           1        1     \n",
       "3 3           1        3     \n",
       "4 4           1        1     \n",
       "5 5           0        3     \n",
       "6 6           0        3     \n",
       "  Name                                                Sex    Age SibSp Parch\n",
       "1 Braund, Mr. Owen Harris                             male   22  1     0    \n",
       "2 Cumings, Mrs. John Bradley (Florence Briggs Thayer) female 38  1     0    \n",
       "3 Heikkinen, Miss. Laina                              female 26  0     0    \n",
       "4 Futrelle, Mrs. Jacques Heath (Lily May Peel)        female 35  1     0    \n",
       "5 Allen, Mr. William Henry                            male   35  0     0    \n",
       "6 Moran, Mr. James                                    male   NA  0     0    \n",
       "  Ticket           Fare    Cabin Embarked\n",
       "1 A/5 21171         7.2500 NA    S       \n",
       "2 PC 17599         71.2833 C85   C       \n",
       "3 STON/O2. 3101282  7.9250 NA    S       \n",
       "4 113803           53.1000 C123  S       \n",
       "5 373450            8.0500 NA    S       \n",
       "6 330877            8.4583 NA    Q       "
      ]
     },
     "metadata": {},
     "output_type": "display_data"
    }
   ],
   "source": [
    "## Check data\n",
    "head(Train)"
   ]
  },
  {
   "cell_type": "code",
   "execution_count": 94,
   "metadata": {
    "collapsed": false,
    "run_control": {
     "marked": false
    },
    "scrolled": true
   },
   "outputs": [
    {
     "name": "stdout",
     "output_type": "stream",
     "text": [
      "'data.frame':\t891 obs. of  12 variables:\n",
      " $ PassengerId: int  1 2 3 4 5 6 7 8 9 10 ...\n",
      " $ Survived   : int  0 1 1 1 0 0 0 0 1 1 ...\n",
      " $ Pclass     : int  3 1 3 1 3 3 1 3 3 2 ...\n",
      " $ Name       : Factor w/ 891 levels \"Abbing, Mr. Anthony\",..: 109 191 358 277 16 559 520 629 417 581 ...\n",
      " $ Sex        : Factor w/ 2 levels \"female\",\"male\": 2 1 1 1 2 2 2 2 1 1 ...\n",
      " $ Age        : num  22 38 26 35 35 NA 54 2 27 14 ...\n",
      " $ SibSp      : int  1 1 0 1 0 0 0 3 0 1 ...\n",
      " $ Parch      : int  0 0 0 0 0 0 0 1 2 0 ...\n",
      " $ Ticket     : Factor w/ 681 levels \"110152\",\"110413\",..: 524 597 670 50 473 276 86 396 345 133 ...\n",
      " $ Fare       : num  7.25 71.28 7.92 53.1 8.05 ...\n",
      " $ Cabin      : Factor w/ 147 levels \"A10\",\"A14\",\"A16\",..: NA 82 NA 56 NA NA 130 NA NA NA ...\n",
      " $ Embarked   : Factor w/ 3 levels \"C\",\"Q\",\"S\": 3 1 3 3 3 2 3 3 3 1 ...\n"
     ]
    }
   ],
   "source": [
    "str(Train)          # check factors' levels"
   ]
  },
  {
   "cell_type": "code",
   "execution_count": 5,
   "metadata": {
    "collapsed": true,
    "init_cell": true,
    "run_control": {
     "marked": false
    }
   },
   "outputs": [],
   "source": [
    "# Specify proper classes to variables\n",
    "Train$Survived <- factor(Train$Survived)\n",
    "Train$Pclass <- factor(Train$Pclass, levels=c(\"1\", \"2\", \"3\"), ordered=TRUE)"
   ]
  },
  {
   "cell_type": "code",
   "execution_count": 96,
   "metadata": {
    "collapsed": false,
    "run_control": {
     "marked": false
    },
    "scrolled": false
   },
   "outputs": [
    {
     "data": {
      "text/plain": [
       "  PassengerId    Survived Pclass                                     Name    \n",
       " Min.   :  1.0   0:549    1:216   Abbing, Mr. Anthony                  :  1  \n",
       " 1st Qu.:223.5   1:342    2:184   Abbott, Mr. Rossmore Edward          :  1  \n",
       " Median :446.0            3:491   Abbott, Mrs. Stanton (Rosa Hunt)     :  1  \n",
       " Mean   :446.0                    Abelson, Mr. Samuel                  :  1  \n",
       " 3rd Qu.:668.5                    Abelson, Mrs. Samuel (Hannah Wizosky):  1  \n",
       " Max.   :891.0                    Adahl, Mr. Mauritz Nils Martin       :  1  \n",
       "                                  (Other)                              :885  \n",
       "     Sex           Age            SibSp           Parch             Ticket   \n",
       " female:314   Min.   : 0.42   Min.   :0.000   Min.   :0.0000   1601    :  7  \n",
       " male  :577   1st Qu.:20.12   1st Qu.:0.000   1st Qu.:0.0000   347082  :  7  \n",
       "              Median :28.00   Median :0.000   Median :0.0000   CA. 2343:  7  \n",
       "              Mean   :29.70   Mean   :0.523   Mean   :0.3816   3101295 :  6  \n",
       "              3rd Qu.:38.00   3rd Qu.:1.000   3rd Qu.:0.0000   347088  :  6  \n",
       "              Max.   :80.00   Max.   :8.000   Max.   :6.0000   CA 2144 :  6  \n",
       "              NA's   :177                                      (Other) :852  \n",
       "      Fare                Cabin     Embarked  \n",
       " Min.   :  0.00   B96 B98    :  4   C   :168  \n",
       " 1st Qu.:  7.91   C23 C25 C27:  4   Q   : 77  \n",
       " Median : 14.45   G6         :  4   S   :644  \n",
       " Mean   : 32.20   C22 C26    :  3   NA's:  2  \n",
       " 3rd Qu.: 31.00   D          :  3             \n",
       " Max.   :512.33   (Other)    :186             \n",
       "                  NA's       :687             "
      ]
     },
     "metadata": {},
     "output_type": "display_data"
    }
   ],
   "source": [
    "summary(Train)      # check min/max/mean... of each variable"
   ]
  },
  {
   "cell_type": "markdown",
   "metadata": {
    "run_control": {
     "marked": false
    }
   },
   "source": [
    "## 1.2 Check correlations among variables"
   ]
  },
  {
   "cell_type": "markdown",
   "metadata": {
    "run_control": {
     "marked": false
    }
   },
   "source": [
    "This will allow us to:\n",
    "* see which variables may be good predictors of our dependent variable (Survived) (this can be helpful when we don't have any domain knowledge);\n",
    "* check multicollinearity among predictors, i.e. when one predictor can be linearly predicted from the others."
   ]
  },
  {
   "cell_type": "markdown",
   "metadata": {
    "run_control": {
     "marked": false
    }
   },
   "source": [
    "Since we have factors, ordered factors and numeric variables, we will use the `hetcor()` function of the 'polycor' package. It \"computes a heterogenous correlation matrix, consisting of Pearson product-moment correlations between numeric variables, polyserial correlations between numeric and ordinal variables, and polychoric correlations between ordinal variables.\" (https://cran.r-project.org/web/packages/polycor/polycor.pdf). We will ignore the variables Cabin and Name for preliminary exploration of the data since they contain many missing data and need some processing."
   ]
  },
  {
   "cell_type": "code",
   "execution_count": 97,
   "metadata": {
    "collapsed": true,
    "run_control": {
     "marked": false
    }
   },
   "outputs": [],
   "source": [
    "Train_sub <- subset(Train, select=c(Survived, Pclass, Sex, Age, SibSp, Parch, Fare, Embarked)) "
   ]
  },
  {
   "cell_type": "code",
   "execution_count": 98,
   "metadata": {
    "collapsed": false,
    "run_control": {
     "marked": false
    }
   },
   "outputs": [
    {
     "data": {
      "text/html": [
       "<table>\n",
       "<thead><tr><th></th><th scope=col>Survived</th><th scope=col>Pclass</th><th scope=col>Sex</th><th scope=col>Age</th><th scope=col>SibSp</th><th scope=col>Parch</th><th scope=col>Fare</th><th scope=col>Embarked</th></tr></thead>\n",
       "<tbody>\n",
       "\t<tr><th scope=row>Survived</th><td> 1.00000000</td><td>-0.48055675</td><td>-0.7609001 </td><td>-0.09788042</td><td>-0.04897746</td><td> 0.10128585</td><td> 0.38166338</td><td>-0.26734299</td></tr>\n",
       "\t<tr><th scope=row>Pclass</th><td>-0.48055675</td><td> 1.00000000</td><td> 0.1992472 </td><td>-0.41238334</td><td> 0.12283381</td><td> 0.02263785</td><td>-0.78299896</td><td> 0.19342079</td></tr>\n",
       "\t<tr><th scope=row>Sex</th><td>-0.76090008</td><td> 0.19924719</td><td> 1.0000000 </td><td> 0.12085141</td><td>-0.14124694</td><td>-0.30412276</td><td>-0.21952881</td><td> 0.18706902</td></tr>\n",
       "\t<tr><th scope=row>Age</th><td>-0.09788042</td><td>-0.41238334</td><td> 0.1208514 </td><td> 1.00000000</td><td>-0.30824676</td><td>-0.18911926</td><td> 0.09606669</td><td>-0.04053557</td></tr>\n",
       "\t<tr><th scope=row>SibSp</th><td>-0.04897746</td><td> 0.12283381</td><td>-0.1412469 </td><td>-0.30824676</td><td> 1.00000000</td><td> 0.41483770</td><td> 0.15965104</td><td> 0.11114924</td></tr>\n",
       "\t<tr><th scope=row>Parch</th><td> 0.10128585</td><td> 0.02263785</td><td>-0.3041228 </td><td>-0.18911926</td><td> 0.41483770</td><td> 1.00000000</td><td> 0.21622494</td><td> 0.06730955</td></tr>\n",
       "\t<tr><th scope=row>Fare</th><td> 0.38166338</td><td>-0.78299896</td><td>-0.2195288 </td><td> 0.09606669</td><td> 0.15965104</td><td> 0.21622494</td><td> 1.00000000</td><td>-0.25808764</td></tr>\n",
       "\t<tr><th scope=row>Embarked</th><td>-0.26734299</td><td> 0.19342079</td><td> 0.1870690 </td><td>-0.04053557</td><td> 0.11114924</td><td> 0.06730955</td><td>-0.25808764</td><td> 1.00000000</td></tr>\n",
       "</tbody>\n",
       "</table>\n"
      ],
      "text/latex": [
       "\\begin{tabular}{r|llllllll}\n",
       "  & Survived & Pclass & Sex & Age & SibSp & Parch & Fare & Embarked\\\\\n",
       "\\hline\n",
       "\tSurvived &  1.00000000 & -0.48055675 & -0.7609001  & -0.09788042 & -0.04897746 &  0.10128585 &  0.38166338 & -0.26734299\\\\\n",
       "\tPclass & -0.48055675 &  1.00000000 &  0.1992472  & -0.41238334 &  0.12283381 &  0.02263785 & -0.78299896 &  0.19342079\\\\\n",
       "\tSex & -0.76090008 &  0.19924719 &  1.0000000  &  0.12085141 & -0.14124694 & -0.30412276 & -0.21952881 &  0.18706902\\\\\n",
       "\tAge & -0.09788042 & -0.41238334 &  0.1208514  &  1.00000000 & -0.30824676 & -0.18911926 &  0.09606669 & -0.04053557\\\\\n",
       "\tSibSp & -0.04897746 &  0.12283381 & -0.1412469  & -0.30824676 &  1.00000000 &  0.41483770 &  0.15965104 &  0.11114924\\\\\n",
       "\tParch &  0.10128585 &  0.02263785 & -0.3041228  & -0.18911926 &  0.41483770 &  1.00000000 &  0.21622494 &  0.06730955\\\\\n",
       "\tFare &  0.38166338 & -0.78299896 & -0.2195288  &  0.09606669 &  0.15965104 &  0.21622494 &  1.00000000 & -0.25808764\\\\\n",
       "\tEmbarked & -0.26734299 &  0.19342079 &  0.1870690  & -0.04053557 &  0.11114924 &  0.06730955 & -0.25808764 &  1.00000000\\\\\n",
       "\\end{tabular}\n"
      ],
      "text/markdown": [
       "\n",
       "| <!--/--> | Survived | Pclass | Sex | Age | SibSp | Parch | Fare | Embarked | \n",
       "|---|---|---|---|---|---|---|---|\n",
       "| Survived |  1.00000000 | -0.48055675 | -0.7609001  | -0.09788042 | -0.04897746 |  0.10128585 |  0.38166338 | -0.26734299 | \n",
       "| Pclass | -0.48055675 |  1.00000000 |  0.1992472  | -0.41238334 |  0.12283381 |  0.02263785 | -0.78299896 |  0.19342079 | \n",
       "| Sex | -0.76090008 |  0.19924719 |  1.0000000  |  0.12085141 | -0.14124694 | -0.30412276 | -0.21952881 |  0.18706902 | \n",
       "| Age | -0.09788042 | -0.41238334 |  0.1208514  |  1.00000000 | -0.30824676 | -0.18911926 |  0.09606669 | -0.04053557 | \n",
       "| SibSp | -0.04897746 |  0.12283381 | -0.1412469  | -0.30824676 |  1.00000000 |  0.41483770 |  0.15965104 |  0.11114924 | \n",
       "| Parch |  0.10128585 |  0.02263785 | -0.3041228  | -0.18911926 |  0.41483770 |  1.00000000 |  0.21622494 |  0.06730955 | \n",
       "| Fare |  0.38166338 | -0.78299896 | -0.2195288  |  0.09606669 |  0.15965104 |  0.21622494 |  1.00000000 | -0.25808764 | \n",
       "| Embarked | -0.26734299 |  0.19342079 |  0.1870690  | -0.04053557 |  0.11114924 |  0.06730955 | -0.25808764 |  1.00000000 | \n",
       "\n",
       "\n"
      ],
      "text/plain": [
       "         Survived    Pclass      Sex        Age         SibSp       Parch      \n",
       "Survived  1.00000000 -0.48055675 -0.7609001 -0.09788042 -0.04897746  0.10128585\n",
       "Pclass   -0.48055675  1.00000000  0.1992472 -0.41238334  0.12283381  0.02263785\n",
       "Sex      -0.76090008  0.19924719  1.0000000  0.12085141 -0.14124694 -0.30412276\n",
       "Age      -0.09788042 -0.41238334  0.1208514  1.00000000 -0.30824676 -0.18911926\n",
       "SibSp    -0.04897746  0.12283381 -0.1412469 -0.30824676  1.00000000  0.41483770\n",
       "Parch     0.10128585  0.02263785 -0.3041228 -0.18911926  0.41483770  1.00000000\n",
       "Fare      0.38166338 -0.78299896 -0.2195288  0.09606669  0.15965104  0.21622494\n",
       "Embarked -0.26734299  0.19342079  0.1870690 -0.04053557  0.11114924  0.06730955\n",
       "         Fare        Embarked   \n",
       "Survived  0.38166338 -0.26734299\n",
       "Pclass   -0.78299896  0.19342079\n",
       "Sex      -0.21952881  0.18706902\n",
       "Age       0.09606669 -0.04053557\n",
       "SibSp     0.15965104  0.11114924\n",
       "Parch     0.21622494  0.06730955\n",
       "Fare      1.00000000 -0.25808764\n",
       "Embarked -0.25808764  1.00000000"
      ]
     },
     "metadata": {},
     "output_type": "display_data"
    }
   ],
   "source": [
    "hetcor(Train_sub, use = \"pairwise.complete.obs\")$correlations"
   ]
  },
  {
   "cell_type": "markdown",
   "metadata": {
    "run_control": {
     "marked": false
    }
   },
   "source": [
    "We observe that:\n",
    "* Survived is highly correlated with Sex (r=-0.76). So Sex may be a good predictor for Survived. To a lesser extent, Pclass is also correlated to Survived (r=-0.48).\n",
    "* Fare is highly correlated with Pclass (r=-0.78). So Fare and Pclass are collinear."
   ]
  },
  {
   "cell_type": "markdown",
   "metadata": {
    "run_control": {
     "marked": false
    }
   },
   "source": [
    "## 1.3 Visualize some potentially important variables"
   ]
  },
  {
   "cell_type": "markdown",
   "metadata": {
    "run_control": {
     "marked": false
    }
   },
   "source": [
    "### 1.3.1 Passenger's class\n",
    "\n",
    "It is well known that passengers from the 1st class were the first ones to be allowed to board on the life rafts. Therefore the correlation we have just seen between the survival and the passenger's class was expected. Let's inspect this relationship deeplier."
   ]
  },
  {
   "cell_type": "code",
   "execution_count": 6,
   "metadata": {
    "collapsed": true,
    "init_cell": true,
    "run_control": {
     "marked": false
    }
   },
   "outputs": [],
   "source": [
    "# Give a proper size to plots\n",
    "options(repr.plot.width=4, repr.plot.height=4)"
   ]
  },
  {
   "cell_type": "code",
   "execution_count": 7,
   "metadata": {
    "collapsed": false,
    "init_cell": true,
    "run_control": {
     "marked": false
    }
   },
   "outputs": [],
   "source": [
    "# Prepare a nice theme (i.e. general appearance of graphs)\n",
    "theme_new <- theme_classic() + \n",
    "    theme(plot.title = element_text(size=11, face=\"bold\", hjust = 0.5), axis.text.x = element_text(size = 11))"
   ]
  },
  {
   "cell_type": "code",
   "execution_count": 101,
   "metadata": {
    "collapsed": false,
    "run_control": {
     "marked": false
    }
   },
   "outputs": [
    {
     "data": {},
     "metadata": {},
     "output_type": "display_data"
    },
    {
     "data": {
      "image/png": "[encoded data removed]",
      "text/plain": [
       "plot without title"
      ]
     },
     "metadata": {},
     "output_type": "display_data"
    }
   ],
   "source": [
    "ggplot(data=Train) + \n",
    "  geom_bar(aes(x = Survived, fill = Pclass), position = \"fill\") +\n",
    "  labs(title = \"Distribution of classes\\namong dead and safe passengers\", y = \"Proportion of passengers\", x = \"\") +\n",
    "  scale_x_discrete(labels=c(\"Died\",\"Survived\")) +\n",
    "  scale_fill_brewer(palette=\"Blues\") +\n",
    "  theme_new"
   ]
  },
  {
   "cell_type": "code",
   "execution_count": 102,
   "metadata": {
    "collapsed": false,
    "run_control": {
     "marked": false
    }
   },
   "outputs": [
    {
     "data": {},
     "metadata": {},
     "output_type": "display_data"
    },
    {
     "data": {
      "image/png": "[encoded data removed]",
      "text/plain": [
       "plot without title"
      ]
     },
     "metadata": {},
     "output_type": "display_data"
    }
   ],
   "source": [
    "ggplot(data=Train) + \n",
    "  geom_bar(aes(x = Pclass, fill = Survived), position = \"fill\") +\n",
    "  labs(title = \"Distribution of dead and safe passengers\\namong classes\", y = \"Proportion of passengers\", x = \"\") +\n",
    "  scale_x_discrete(labels=c(\"1\",\"2\",\"3\")) +\n",
    "  scale_fill_brewer(palette=\"Blues\", labels=c(\"Died\", \"Survived\"), name = \"Survival\") +\n",
    "  theme_new"
   ]
  },
  {
   "cell_type": "markdown",
   "metadata": {
    "run_control": {
     "marked": false
    }
   },
   "source": [
    "We can see that most of the people who survived were in the first class. On the contrary, most of the people who died were in the 3rd class."
   ]
  },
  {
   "cell_type": "markdown",
   "metadata": {
    "run_control": {
     "marked": false
    }
   },
   "source": [
    "Similarly, here, we can see that most of the first class people survived whereas most of the 3rd class people died."
   ]
  },
  {
   "cell_type": "markdown",
   "metadata": {
    "run_control": {
     "marked": false
    }
   },
   "source": [
    "### 1.3.2 Women and children first!"
   ]
  },
  {
   "cell_type": "code",
   "execution_count": 103,
   "metadata": {
    "collapsed": false,
    "run_control": {
     "marked": false
    }
   },
   "outputs": [
    {
     "data": {},
     "metadata": {},
     "output_type": "display_data"
    },
    {
     "data": {
      "image/png": "[encoded data removed]",
      "text/plain": [
       "plot without title"
      ]
     },
     "metadata": {},
     "output_type": "display_data"
    }
   ],
   "source": [
    "ggplot(data=Train) + \n",
    "  geom_bar(aes(x = Survived, fill = Sex), position = \"fill\") +\n",
    "  labs(title = \"Distribution of classes\\namong dead and safe passengers\", y = \"Proportion of passengers\", x = \"\") +\n",
    "  scale_x_discrete(labels=c(\"Died\",\"Survived\")) +\n",
    "  scale_fill_brewer(palette=\"Blues\") +\n",
    "  theme_new"
   ]
  },
  {
   "cell_type": "markdown",
   "metadata": {
    "run_control": {
     "marked": false
    }
   },
   "source": [
    "Most dead people were men and most surviving people were women. <br>\n",
    "As expected (from our domain knowledge and our preliminary correlation test), Sex is a good predictor for the survival of passengers.\n",
    "\n",
    "What about age? Children were supposed to board the life rafts first."
   ]
  },
  {
   "cell_type": "code",
   "execution_count": 104,
   "metadata": {
    "collapsed": false,
    "run_control": {
     "marked": false
    }
   },
   "outputs": [
    {
     "name": "stderr",
     "output_type": "stream",
     "text": [
      "Warning message:\n",
      "\"Removed 177 rows containing non-finite values (stat_boxplot).\""
     ]
    },
    {
     "data": {},
     "metadata": {},
     "output_type": "display_data"
    },
    {
     "data": {
      "image/png": "[encoded data removed]",
      "text/plain": [
       "plot without title"
      ]
     },
     "metadata": {},
     "output_type": "display_data"
    }
   ],
   "source": [
    "ggplot(data=Train) + \n",
    "  geom_boxplot(aes(x = Survived, y = Age)) +\n",
    "  labs(title = \"Distribution of ages\\namong dead and safe passengers\", x = \"\") +\n",
    "  scale_x_discrete(labels=c(\"Died\",\"Survived\")) +\n",
    "  theme_new"
   ]
  },
  {
   "cell_type": "markdown",
   "metadata": {
    "run_control": {
     "marked": false
    }
   },
   "source": [
    "There seem to be only a slight difference in the distribution of ages among dead and safe passengers. Although the median is equal, the upper and lower quartiles are a bit lower for the surviving passengers meaning that surviving people were slightly younger than dead people."
   ]
  },
  {
   "cell_type": "markdown",
   "metadata": {
    "run_control": {
     "marked": false
    }
   },
   "source": [
    "Let's use an histogram now to look at the details."
   ]
  },
  {
   "cell_type": "code",
   "execution_count": 105,
   "metadata": {
    "collapsed": false,
    "run_control": {
     "marked": false
    }
   },
   "outputs": [
    {
     "name": "stderr",
     "output_type": "stream",
     "text": [
      "Warning message:\n",
      "\"Removed 177 rows containing non-finite values (stat_bin).\""
     ]
    },
    {
     "data": {},
     "metadata": {},
     "output_type": "display_data"
    },
    {
     "data": {
      "image/png": "[encoded data removed]",
      "text/plain": [
       "plot without title"
      ]
     },
     "metadata": {},
     "output_type": "display_data"
    }
   ],
   "source": [
    "ggplot(data = Train, aes(x = Age, group = Survived, fill = Survived)) + \n",
    "   geom_histogram(position=\"dodge\", binwidth = 5, boundary=15) + \n",
    "   labs(title = \"Distribution of ages\\namong dead and safe passengers\") + \n",
    "   scale_fill_manual(labels = c(\"Died\", \"Survived\"), name = \"Survival\", values = c(\"steelblue3\", \"lightblue\")) +\n",
    "   theme_new"
   ]
  },
  {
   "cell_type": "markdown",
   "metadata": {
    "run_control": {
     "marked": false
    }
   },
   "source": [
    "Now, we clearly see a difference for some ages: most child under 5 have survived whereas most young passengers between 15-30 have died."
   ]
  },
  {
   "cell_type": "markdown",
   "metadata": {},
   "source": [
    "***\n",
    "# 2 Feature engineering"
   ]
  },
  {
   "cell_type": "markdown",
   "metadata": {},
   "source": [
    "Our aim is to give as much information as we can to the model: the more useful information the model gets, the better it is likely to be."
   ]
  },
  {
   "cell_type": "markdown",
   "metadata": {},
   "source": [
    "First, let's combine the Train and Test datasets (while removing temporarily the Survived column of the Train dataset)."
   ]
  },
  {
   "cell_type": "code",
   "execution_count": 8,
   "metadata": {
    "collapsed": true,
    "init_cell": true
   },
   "outputs": [],
   "source": [
    "Survived <- Train$Survived   # We will add it back to the train dataset after processing of the combined data set."
   ]
  },
  {
   "cell_type": "code",
   "execution_count": 9,
   "metadata": {
    "collapsed": true,
    "init_cell": true
   },
   "outputs": [],
   "source": [
    "Train$Survived <- NULL\n",
    "titanic = rbind(Train, Test)"
   ]
  },
  {
   "cell_type": "code",
   "execution_count": 108,
   "metadata": {
    "collapsed": false,
    "run_control": {
     "marked": false
    },
    "scrolled": false
   },
   "outputs": [
    {
     "name": "stdout",
     "output_type": "stream",
     "text": [
      "'data.frame':\t1309 obs. of  11 variables:\n",
      " $ PassengerId: int  1 2 3 4 5 6 7 8 9 10 ...\n",
      " $ Pclass     : Ord.factor w/ 3 levels \"1\"<\"2\"<\"3\": 3 1 3 1 3 3 1 3 3 2 ...\n",
      " $ Name       : Factor w/ 1307 levels \"Abbing, Mr. Anthony\",..: 109 191 358 277 16 559 520 629 417 581 ...\n",
      " $ Sex        : Factor w/ 2 levels \"female\",\"male\": 2 1 1 1 2 2 2 2 1 1 ...\n",
      " $ Age        : num  22 38 26 35 35 NA 54 2 27 14 ...\n",
      " $ SibSp      : int  1 1 0 1 0 0 0 3 0 1 ...\n",
      " $ Parch      : int  0 0 0 0 0 0 0 1 2 0 ...\n",
      " $ Ticket     : Factor w/ 929 levels \"110152\",\"110413\",..: 524 597 670 50 473 276 86 396 345 133 ...\n",
      " $ Fare       : num  7.25 71.28 7.92 53.1 8.05 ...\n",
      " $ Cabin      : Factor w/ 186 levels \"A10\",\"A14\",\"A16\",..: NA 82 NA 56 NA NA 130 NA NA NA ...\n",
      " $ Embarked   : Factor w/ 3 levels \"C\",\"Q\",\"S\": 3 1 3 3 3 2 3 3 3 1 ...\n"
     ]
    }
   ],
   "source": [
    "str(titanic)"
   ]
  },
  {
   "cell_type": "markdown",
   "metadata": {
    "collapsed": true
   },
   "source": [
    "## 2.1 Create new features 1"
   ]
  },
  {
   "cell_type": "markdown",
   "metadata": {
    "run_control": {
     "marked": false
    }
   },
   "source": [
    "### 2.1.1 Create Title from Name\n",
    "The name can provide some interesting information. It is in the form: Last Name, Title First name Middle name. In case of a spouse, her first name and last name are added in brackets. <br>\n",
    "Let's retrieve the title which may reflect the age as well as the social status of the passengers."
   ]
  },
  {
   "cell_type": "code",
   "execution_count": 10,
   "metadata": {
    "collapsed": false,
    "init_cell": true,
    "run_control": {
     "marked": false
    }
   },
   "outputs": [],
   "source": [
    "titanic$Title <- sub(\".+,\\\\s\", \"\", titanic$Name)\n",
    "titanic$Title <- as.factor(sub(\"\\\\.\\\\s.+\", \"\", titanic$Title))"
   ]
  },
  {
   "cell_type": "markdown",
   "metadata": {
    "collapsed": true,
    "run_control": {
     "marked": false
    }
   },
   "source": [
    "## 2.2 Impute missing data"
   ]
  },
  {
   "cell_type": "markdown",
   "metadata": {
    "run_control": {
     "marked": false
    }
   },
   "source": [
    "First, we can increase the number of observations used in the model by imputing the missing values. "
   ]
  },
  {
   "cell_type": "markdown",
   "metadata": {
    "run_control": {
     "marked": false
    }
   },
   "source": [
    "What is the numer of missing values in each variable?"
   ]
  },
  {
   "cell_type": "code",
   "execution_count": 110,
   "metadata": {
    "collapsed": true,
    "run_control": {
     "marked": false
    }
   },
   "outputs": [],
   "source": [
    "nbNA <- function(x){sum(is.na(x))}"
   ]
  },
  {
   "cell_type": "code",
   "execution_count": 111,
   "metadata": {
    "collapsed": false,
    "run_control": {
     "marked": false
    },
    "scrolled": true
   },
   "outputs": [
    {
     "data": {
      "text/html": [
       "<dl class=dl-horizontal>\n",
       "\t<dt>PassengerId</dt>\n",
       "\t\t<dd>0</dd>\n",
       "\t<dt>Pclass</dt>\n",
       "\t\t<dd>0</dd>\n",
       "\t<dt>Name</dt>\n",
       "\t\t<dd>0</dd>\n",
       "\t<dt>Sex</dt>\n",
       "\t\t<dd>0</dd>\n",
       "\t<dt>Age</dt>\n",
       "\t\t<dd>263</dd>\n",
       "\t<dt>SibSp</dt>\n",
       "\t\t<dd>0</dd>\n",
       "\t<dt>Parch</dt>\n",
       "\t\t<dd>0</dd>\n",
       "\t<dt>Ticket</dt>\n",
       "\t\t<dd>0</dd>\n",
       "\t<dt>Fare</dt>\n",
       "\t\t<dd>1</dd>\n",
       "\t<dt>Cabin</dt>\n",
       "\t\t<dd>1014</dd>\n",
       "\t<dt>Embarked</dt>\n",
       "\t\t<dd>2</dd>\n",
       "\t<dt>Title</dt>\n",
       "\t\t<dd>0</dd>\n",
       "</dl>\n"
      ],
      "text/latex": [
       "\\begin{description*}\n",
       "\\item[PassengerId] 0\n",
       "\\item[Pclass] 0\n",
       "\\item[Name] 0\n",
       "\\item[Sex] 0\n",
       "\\item[Age] 263\n",
       "\\item[SibSp] 0\n",
       "\\item[Parch] 0\n",
       "\\item[Ticket] 0\n",
       "\\item[Fare] 1\n",
       "\\item[Cabin] 1014\n",
       "\\item[Embarked] 2\n",
       "\\item[Title] 0\n",
       "\\end{description*}\n"
      ],
      "text/markdown": [
       "PassengerId\n",
       ":   0Pclass\n",
       ":   0Name\n",
       ":   0Sex\n",
       ":   0Age\n",
       ":   263SibSp\n",
       ":   0Parch\n",
       ":   0Ticket\n",
       ":   0Fare\n",
       ":   1Cabin\n",
       ":   1014Embarked\n",
       ":   2Title\n",
       ":   0\n",
       "\n"
      ],
      "text/plain": [
       "PassengerId      Pclass        Name         Sex         Age       SibSp \n",
       "          0           0           0           0         263           0 \n",
       "      Parch      Ticket        Fare       Cabin    Embarked       Title \n",
       "          0           0           1        1014           2           0 "
      ]
     },
     "metadata": {},
     "output_type": "display_data"
    }
   ],
   "source": [
    "apply(titanic,2,nbNA)"
   ]
  },
  {
   "cell_type": "markdown",
   "metadata": {
    "run_control": {
     "marked": false
    }
   },
   "source": [
    "### 2.2.1 Fare"
   ]
  },
  {
   "cell_type": "code",
   "execution_count": 112,
   "metadata": {
    "collapsed": false
   },
   "outputs": [
    {
     "data": {
      "image/png": "[encoded data removed]",
      "text/plain": [
       "Plot with title \"Histogram of titanic$Fare\""
      ]
     },
     "metadata": {},
     "output_type": "display_data"
    }
   ],
   "source": [
    "hist(titanic$Fare, breaks=50)"
   ]
  },
  {
   "cell_type": "code",
   "execution_count": 113,
   "metadata": {
    "collapsed": false,
    "scrolled": true
   },
   "outputs": [
    {
     "data": {
      "text/plain": [
       "   Min. 1st Qu.  Median    Mean 3rd Qu.    Max.    NA's \n",
       "  0.000   7.896  14.450  33.300  31.280 512.300       1 "
      ]
     },
     "metadata": {},
     "output_type": "display_data"
    }
   ],
   "source": [
    "summary(titanic$Fare)"
   ]
  },
  {
   "cell_type": "markdown",
   "metadata": {},
   "source": [
    "Given that the distribution of Fare is highly skewed, the best seems to impute the missing value with the median."
   ]
  },
  {
   "cell_type": "code",
   "execution_count": 11,
   "metadata": {
    "collapsed": false,
    "init_cell": true,
    "run_control": {
     "marked": false
    }
   },
   "outputs": [],
   "source": [
    "# Impute Fare with the median\n",
    "titanic[is.na(titanic[,\"Fare\"]), \"Fare\"] <- median(titanic[,\"Fare\"], na.rm = TRUE)"
   ]
  },
  {
   "cell_type": "markdown",
   "metadata": {},
   "source": [
    "### 2.2.2 Embarked"
   ]
  },
  {
   "cell_type": "markdown",
   "metadata": {
    "run_control": {
     "marked": false
    }
   },
   "source": [
    "<br>\n",
    "For **Embarked**, there are only two passengers with missing values. Who are those passengers?"
   ]
  },
  {
   "cell_type": "code",
   "execution_count": 115,
   "metadata": {
    "collapsed": false,
    "run_control": {
     "marked": false
    },
    "scrolled": true
   },
   "outputs": [
    {
     "data": {
      "text/html": [
       "<table>\n",
       "<thead><tr><th></th><th scope=col>PassengerId</th><th scope=col>Pclass</th><th scope=col>Name</th><th scope=col>Sex</th><th scope=col>Age</th><th scope=col>SibSp</th><th scope=col>Parch</th><th scope=col>Ticket</th><th scope=col>Fare</th><th scope=col>Cabin</th><th scope=col>Embarked</th><th scope=col>Title</th></tr></thead>\n",
       "<tbody>\n",
       "\t<tr><th scope=row>62</th><td> 62                                      </td><td>1                                        </td><td>Icard, Miss. Amelie                      </td><td>female                                   </td><td>38                                       </td><td>0                                        </td><td>0                                        </td><td>113572                                   </td><td>80                                       </td><td>B28                                      </td><td>NA                                       </td><td>Miss                                     </td></tr>\n",
       "\t<tr><th scope=row>830</th><td>830                                      </td><td>1                                        </td><td>Stone, Mrs. George Nelson (Martha Evelyn)</td><td>female                                   </td><td>62                                       </td><td>0                                        </td><td>0                                        </td><td>113572                                   </td><td>80                                       </td><td>B28                                      </td><td>NA                                       </td><td>Mrs                                      </td></tr>\n",
       "</tbody>\n",
       "</table>\n"
      ],
      "text/latex": [
       "\\begin{tabular}{r|llllllllllll}\n",
       "  & PassengerId & Pclass & Name & Sex & Age & SibSp & Parch & Ticket & Fare & Cabin & Embarked & Title\\\\\n",
       "\\hline\n",
       "\t62 &  62                                       & 1                                         & Icard, Miss. Amelie                       & female                                    & 38                                        & 0                                         & 0                                         & 113572                                    & 80                                        & B28                                       & NA                                        & Miss                                     \\\\\n",
       "\t830 & 830                                       & 1                                         & Stone, Mrs. George Nelson (Martha Evelyn) & female                                    & 62                                        & 0                                         & 0                                         & 113572                                    & 80                                        & B28                                       & NA                                        & Mrs                                      \\\\\n",
       "\\end{tabular}\n"
      ],
      "text/markdown": [
       "\n",
       "| <!--/--> | PassengerId | Pclass | Name | Sex | Age | SibSp | Parch | Ticket | Fare | Cabin | Embarked | Title | \n",
       "|---|---|\n",
       "| 62 |  62                                       | 1                                         | Icard, Miss. Amelie                       | female                                    | 38                                        | 0                                         | 0                                         | 113572                                    | 80                                        | B28                                       | NA                                        | Miss                                      | \n",
       "| 830 | 830                                       | 1                                         | Stone, Mrs. George Nelson (Martha Evelyn) | female                                    | 62                                        | 0                                         | 0                                         | 113572                                    | 80                                        | B28                                       | NA                                        | Mrs                                       | \n",
       "\n",
       "\n"
      ],
      "text/plain": [
       "    PassengerId Pclass Name                                      Sex    Age\n",
       "62   62         1      Icard, Miss. Amelie                       female 38 \n",
       "830 830         1      Stone, Mrs. George Nelson (Martha Evelyn) female 62 \n",
       "    SibSp Parch Ticket Fare Cabin Embarked Title\n",
       "62  0     0     113572 80   B28   NA       Miss \n",
       "830 0     0     113572 80   B28   NA       Mrs  "
      ]
     },
     "metadata": {},
     "output_type": "display_data"
    }
   ],
   "source": [
    "titanic[is.na(titanic$Embarked), ]"
   ]
  },
  {
   "cell_type": "markdown",
   "metadata": {
    "run_control": {
     "marked": false
    }
   },
   "source": [
    "We can see that they are two women > 30 years old, sharing the same first class cabin. Let's see whether we can use this information to impute the missing data. <br>"
   ]
  },
  {
   "cell_type": "code",
   "execution_count": 116,
   "metadata": {
    "collapsed": false,
    "run_control": {
     "marked": false
    }
   },
   "outputs": [
    {
     "data": {
      "text/plain": [
       "\n",
       " C  Q  S \n",
       "44  2 36 "
      ]
     },
     "metadata": {},
     "output_type": "display_data"
    }
   ],
   "source": [
    "table(titanic[titanic$Sex == \"female\" & titanic$Pclass == \"1\" & titanic$Age > 30,\"Embarked\"])"
   ]
  },
  {
   "cell_type": "markdown",
   "metadata": {
    "run_control": {
     "marked": false
    }
   },
   "source": [
    "Women sharing the same traits have mainly embarked at either Cherbourg (France) or Southampton (UK). Since the two passengers with missing data have an English name, we can assume that they embarked at Southampton. "
   ]
  },
  {
   "cell_type": "code",
   "execution_count": 12,
   "metadata": {
    "collapsed": true,
    "init_cell": true,
    "run_control": {
     "marked": false
    }
   },
   "outputs": [],
   "source": [
    "titanic$Embarked[is.na(titanic$Embarked)] = \"S\""
   ]
  },
  {
   "cell_type": "markdown",
   "metadata": {},
   "source": [
    "### 2.2.3 Age"
   ]
  },
  {
   "cell_type": "code",
   "execution_count": 118,
   "metadata": {
    "collapsed": false
   },
   "outputs": [
    {
     "data": {
      "text/html": [
       "20.0916730328495"
      ],
      "text/latex": [
       "20.0916730328495"
      ],
      "text/markdown": [
       "20.0916730328495"
      ],
      "text/plain": [
       "[1] 20.09167"
      ]
     },
     "metadata": {},
     "output_type": "display_data"
    }
   ],
   "source": [
    "# Percentage of missing values in Age\n",
    "263/nrow(titanic)*100"
   ]
  },
  {
   "cell_type": "markdown",
   "metadata": {
    "run_control": {
     "marked": false
    }
   },
   "source": [
    "Given the percentage of missing values for Age, will impute this variable using Multivariate Imputation by Chained Equations (MICE)."
   ]
  },
  {
   "cell_type": "markdown",
   "metadata": {
    "run_control": {
     "marked": false
    }
   },
   "source": [
    "First, let's check the missing pattern of Age."
   ]
  },
  {
   "cell_type": "code",
   "execution_count": 119,
   "metadata": {
    "collapsed": false,
    "run_control": {
     "marked": false
    }
   },
   "outputs": [
    {
     "data": {
      "text/plain": [
       "\n",
       "female   male \n",
       "    78    185 "
      ]
     },
     "metadata": {},
     "output_type": "display_data"
    }
   ],
   "source": [
    "# Are the missing ages equally distributed across male and female? \n",
    "table(titanic[is.na(titanic$Age), \"Sex\"])"
   ]
  },
  {
   "cell_type": "code",
   "execution_count": 120,
   "metadata": {
    "collapsed": false,
    "run_control": {
     "marked": false
    }
   },
   "outputs": [
    {
     "data": {
      "text/plain": [
       "\n",
       "  1   2   3 \n",
       " 39  16 208 "
      ]
     },
     "metadata": {},
     "output_type": "display_data"
    }
   ],
   "source": [
    "# Are the missing ages equally distributed across classes? \n",
    "table(titanic[is.na(titanic$Age), \"Pclass\"])"
   ]
  },
  {
   "cell_type": "markdown",
   "metadata": {
    "run_control": {
     "marked": false
    }
   },
   "source": [
    "We observe that the missing ages are not randomly distributed across all sexes and classes, with more missing data in males and 3rd class passengers. So we probably have a MAR (Missing at random) pattern and not a MCAR pattern (Missing completely ate random)."
   ]
  },
  {
   "cell_type": "code",
   "execution_count": 121,
   "metadata": {
    "collapsed": false
   },
   "outputs": [
    {
     "data": {
      "text/html": [
       "<ol class=list-inline>\n",
       "\t<li>'PassengerId'</li>\n",
       "\t<li>'Pclass'</li>\n",
       "\t<li>'Name'</li>\n",
       "\t<li>'Sex'</li>\n",
       "\t<li>'Age'</li>\n",
       "\t<li>'SibSp'</li>\n",
       "\t<li>'Parch'</li>\n",
       "\t<li>'Ticket'</li>\n",
       "\t<li>'Fare'</li>\n",
       "\t<li>'Cabin'</li>\n",
       "\t<li>'Embarked'</li>\n",
       "\t<li>'Title'</li>\n",
       "</ol>\n"
      ],
      "text/latex": [
       "\\begin{enumerate*}\n",
       "\\item 'PassengerId'\n",
       "\\item 'Pclass'\n",
       "\\item 'Name'\n",
       "\\item 'Sex'\n",
       "\\item 'Age'\n",
       "\\item 'SibSp'\n",
       "\\item 'Parch'\n",
       "\\item 'Ticket'\n",
       "\\item 'Fare'\n",
       "\\item 'Cabin'\n",
       "\\item 'Embarked'\n",
       "\\item 'Title'\n",
       "\\end{enumerate*}\n"
      ],
      "text/markdown": [
       "1. 'PassengerId'\n",
       "2. 'Pclass'\n",
       "3. 'Name'\n",
       "4. 'Sex'\n",
       "5. 'Age'\n",
       "6. 'SibSp'\n",
       "7. 'Parch'\n",
       "8. 'Ticket'\n",
       "9. 'Fare'\n",
       "10. 'Cabin'\n",
       "11. 'Embarked'\n",
       "12. 'Title'\n",
       "\n",
       "\n"
      ],
      "text/plain": [
       " [1] \"PassengerId\" \"Pclass\"      \"Name\"        \"Sex\"         \"Age\"        \n",
       " [6] \"SibSp\"       \"Parch\"       \"Ticket\"      \"Fare\"        \"Cabin\"      \n",
       "[11] \"Embarked\"    \"Title\"      "
      ]
     },
     "metadata": {},
     "output_type": "display_data"
    }
   ],
   "source": [
    "names(titanic)"
   ]
  },
  {
   "cell_type": "markdown",
   "metadata": {
    "run_control": {
     "marked": false
    }
   },
   "source": [
    "Let's initialize the mice function parameters. <br>"
   ]
  },
  {
   "cell_type": "code",
   "execution_count": 13,
   "metadata": {
    "collapsed": false,
    "init_cell": true,
    "run_control": {
     "marked": false
    }
   },
   "outputs": [],
   "source": [
    "# Create a mids object containing the default settings\n",
    "init <- mice(titanic[, !names(titanic) %in% c(\"PassengerID\", \"Name\")], maxit=0, seed = 1)"
   ]
  },
  {
   "cell_type": "code",
   "execution_count": 14,
   "metadata": {
    "collapsed": true,
    "init_cell": true,
    "run_control": {
     "marked": false
    }
   },
   "outputs": [],
   "source": [
    "# Selects the best predictors\n",
    "new.pred<-quickpred(titanic[, !names(titanic) %in% c(\"PassengerID\", \"Name\")])"
   ]
  },
  {
   "cell_type": "code",
   "execution_count": 15,
   "metadata": {
    "collapsed": true,
    "init_cell": true,
    "run_control": {
     "marked": false
    }
   },
   "outputs": [],
   "source": [
    "# Define the methods\n",
    "meth <- init$method\n",
    "meth[c(\"Cabin\")]=\"\"    # Skip a variable from imputation while this variable will still be used for prediction."
   ]
  },
  {
   "cell_type": "code",
   "execution_count": 16,
   "metadata": {
    "collapsed": false,
    "init_cell": true,
    "run_control": {
     "marked": false
    }
   },
   "outputs": [],
   "source": [
    "# Perform imputation (here, we create 5 imputed datasets, the default value for the m parameter)\n",
    "imputed_Data <- mice(titanic[, !names(titanic) %in% c(\"PassengerID\", \"Name\")], method=meth, m=10, pred=new.pred, seed = 1, print=FALSE)"
   ]
  },
  {
   "cell_type": "markdown",
   "metadata": {
    "run_control": {
     "marked": false
    }
   },
   "source": [
    "Let's inspect the distribution of original and imputed data"
   ]
  },
  {
   "cell_type": "code",
   "execution_count": 126,
   "metadata": {
    "collapsed": false,
    "run_control": {
     "marked": false
    }
   },
   "outputs": [
    {
     "data": {},
     "metadata": {},
     "output_type": "display_data"
    },
    {
     "data": {
      "image/png": "[encoded data removed]",
      "text/plain": [
       "plot without title"
      ]
     },
     "metadata": {},
     "output_type": "display_data"
    }
   ],
   "source": [
    "densityplot(imputed_Data)"
   ]
  },
  {
   "cell_type": "markdown",
   "metadata": {
    "run_control": {
     "marked": false
    }
   },
   "source": [
    "The density of the imputed data for each imputed dataset is showed in magenta while the density of the observed data is showed in blue. We observe that the central tendencies of the density plots of imputed data appear relatively similar to the observed data."
   ]
  },
  {
   "cell_type": "code",
   "execution_count": 127,
   "metadata": {
    "collapsed": true,
    "run_control": {
     "marked": false
    }
   },
   "outputs": [],
   "source": [
    "# Give a proper size to plots\n",
    "options(repr.plot.width=10, repr.plot.height=10)"
   ]
  },
  {
   "cell_type": "code",
   "execution_count": 128,
   "metadata": {
    "collapsed": false,
    "run_control": {
     "marked": false
    },
    "scrolled": false
   },
   "outputs": [],
   "source": [
    "for (i in 1:10){\n",
    "    namePlot <- paste(\"plot\", i, sep=\"\")\n",
    "    plot <- ggplot(titanic,aes(x=Age)) + \n",
    "          geom_density(data=data.frame(titanic$PassengerId, complete(imputed_Data,i)), alpha = 0.2, fill = \"blue\")+\n",
    "          geom_density(data=titanic, alpha = 0.2, fill = \"Red\")+\n",
    "          labs(title=paste(\"Age Distribution, imputation \", i, sep=\"\"))+\n",
    "          labs(x=\"Age\") +\n",
    "          theme_new\n",
    "     assign(namePlot, plot)\n",
    "}"
   ]
  },
  {
   "cell_type": "code",
   "execution_count": 129,
   "metadata": {
    "collapsed": false,
    "run_control": {
     "marked": false
    }
   },
   "outputs": [
    {
     "name": "stderr",
     "output_type": "stream",
     "text": [
      "Warning message:\n",
      "\"Removed 263 rows containing non-finite values (stat_density).\"Warning message:\n",
      "\"Removed 263 rows containing non-finite values (stat_density).\"Warning message:\n",
      "\"Removed 263 rows containing non-finite values (stat_density).\"Warning message:\n",
      "\"Removed 263 rows containing non-finite values (stat_density).\"Warning message:\n",
      "\"Removed 263 rows containing non-finite values (stat_density).\"Warning message:\n",
      "\"Removed 263 rows containing non-finite values (stat_density).\"Warning message:\n",
      "\"Removed 263 rows containing non-finite values (stat_density).\"Warning message:\n",
      "\"Removed 263 rows containing non-finite values (stat_density).\"Warning message:\n",
      "\"Removed 263 rows containing non-finite values (stat_density).\"Warning message:\n",
      "\"Removed 263 rows containing non-finite values (stat_density).\""
     ]
    },
    {
     "data": {
      "image/png": "[encoded data removed]",
      "text/plain": [
       "plot without title"
      ]
     },
     "metadata": {},
     "output_type": "display_data"
    }
   ],
   "source": [
    "grid.arrange(plot1, plot2, plot3, plot4, plot5, plot6, plot7, plot8, plot9, plot10, nrow=4, ncol=3)"
   ]
  },
  {
   "cell_type": "markdown",
   "metadata": {
    "run_control": {
     "marked": false
    }
   },
   "source": [
    "The fifth imputed dataset seems to be the best one, based on the density distribution. Let's use it."
   ]
  },
  {
   "cell_type": "code",
   "execution_count": 17,
   "metadata": {
    "collapsed": false,
    "init_cell": true,
    "run_control": {
     "marked": false
    }
   },
   "outputs": [],
   "source": [
    "titanic_imp <- complete(imputed_Data, 5)\n",
    "titanic$Age <- titanic_imp$Age"
   ]
  },
  {
   "cell_type": "markdown",
   "metadata": {
    "run_control": {
     "marked": false
    }
   },
   "source": [
    "The **Cabin** variable may also be of interest: it contains the deck ('deck''cabine_number') which may reflect some proximity to the life rafts (The deck A being the closest deck and the deck G being the farthest one). However, this variable contains a majority of missing values (NA). <br>\n",
    "We could still try to impute it using the family names, ticket number and class: 1) families are probably people sharing the same name and having the same ticket number; 2) people from the same family were probably on the same deck; 3) first class had the top decks (A-E), second class (D-F), and third class (E-G). <br>\n",
    "However, given that the deck is highly correlated with Pclass, we will just keep it away for now."
   ]
  },
  {
   "cell_type": "markdown",
   "metadata": {},
   "source": [
    "## 2.3 Create new features 2"
   ]
  },
  {
   "cell_type": "markdown",
   "metadata": {
    "run_control": {
     "marked": false
    }
   },
   "source": [
    "### 2.3.1 Create Child and Young from Age\n",
    "We have seen that the age classes were not equal regarding the survival rate: most child under 5 have survived whereas most young passengers between 15-30 have died. Let's create a variable Child (<5) and a variable Young (15-30)."
   ]
  },
  {
   "cell_type": "code",
   "execution_count": 18,
   "metadata": {
    "collapsed": false,
    "init_cell": true,
    "run_control": {
     "marked": false
    }
   },
   "outputs": [],
   "source": [
    "titanic$Child <- factor(titanic$Age <= 5)\n",
    "titanic$Young <- factor(titanic$Age > 15 & titanic$Age <= 30)"
   ]
  },
  {
   "cell_type": "markdown",
   "metadata": {},
   "source": [
    "### 2.3.2 Create Title2 from Title"
   ]
  },
  {
   "cell_type": "markdown",
   "metadata": {
    "run_control": {
     "marked": false
    }
   },
   "source": [
    "In title, we have many levels which have only one observation or a few observations. This is not optimal for modelisation since those levels may have near-to-zero variance. Let's merge titles into a smaller number of levels, using the age and sex usually related to those titles."
   ]
  },
  {
   "cell_type": "code",
   "execution_count": 132,
   "metadata": {
    "collapsed": false,
    "run_control": {
     "marked": false
    }
   },
   "outputs": [
    {
     "data": {
      "text/html": [
       "<dl class=dl-horizontal>\n",
       "\t<dt>Capt</dt>\n",
       "\t\t<dd>1</dd>\n",
       "\t<dt>Col</dt>\n",
       "\t\t<dd>4</dd>\n",
       "\t<dt>Don</dt>\n",
       "\t\t<dd>1</dd>\n",
       "\t<dt>Dona</dt>\n",
       "\t\t<dd>1</dd>\n",
       "\t<dt>Dr</dt>\n",
       "\t\t<dd>8</dd>\n",
       "\t<dt>Jonkheer</dt>\n",
       "\t\t<dd>1</dd>\n",
       "\t<dt>Lady</dt>\n",
       "\t\t<dd>1</dd>\n",
       "\t<dt>Major</dt>\n",
       "\t\t<dd>2</dd>\n",
       "\t<dt>Master</dt>\n",
       "\t\t<dd>61</dd>\n",
       "\t<dt>Miss</dt>\n",
       "\t\t<dd>260</dd>\n",
       "\t<dt>Mlle</dt>\n",
       "\t\t<dd>2</dd>\n",
       "\t<dt>Mme</dt>\n",
       "\t\t<dd>1</dd>\n",
       "\t<dt>Mr</dt>\n",
       "\t\t<dd>757</dd>\n",
       "\t<dt>Mrs</dt>\n",
       "\t\t<dd>197</dd>\n",
       "\t<dt>Ms</dt>\n",
       "\t\t<dd>2</dd>\n",
       "\t<dt>Rev</dt>\n",
       "\t\t<dd>8</dd>\n",
       "\t<dt>Sir</dt>\n",
       "\t\t<dd>1</dd>\n",
       "\t<dt>the Countess</dt>\n",
       "\t\t<dd>1</dd>\n",
       "</dl>\n"
      ],
      "text/latex": [
       "\\begin{description*}\n",
       "\\item[Capt] 1\n",
       "\\item[Col] 4\n",
       "\\item[Don] 1\n",
       "\\item[Dona] 1\n",
       "\\item[Dr] 8\n",
       "\\item[Jonkheer] 1\n",
       "\\item[Lady] 1\n",
       "\\item[Major] 2\n",
       "\\item[Master] 61\n",
       "\\item[Miss] 260\n",
       "\\item[Mlle] 2\n",
       "\\item[Mme] 1\n",
       "\\item[Mr] 757\n",
       "\\item[Mrs] 197\n",
       "\\item[Ms] 2\n",
       "\\item[Rev] 8\n",
       "\\item[Sir] 1\n",
       "\\item[the Countess] 1\n",
       "\\end{description*}\n"
      ],
      "text/markdown": [
       "Capt\n",
       ":   1Col\n",
       ":   4Don\n",
       ":   1Dona\n",
       ":   1Dr\n",
       ":   8Jonkheer\n",
       ":   1Lady\n",
       ":   1Major\n",
       ":   2Master\n",
       ":   61Miss\n",
       ":   260Mlle\n",
       ":   2Mme\n",
       ":   1Mr\n",
       ":   757Mrs\n",
       ":   197Ms\n",
       ":   2Rev\n",
       ":   8Sir\n",
       ":   1the Countess\n",
       ":   1\n",
       "\n"
      ],
      "text/plain": [
       "        Capt          Col          Don         Dona           Dr     Jonkheer \n",
       "           1            4            1            1            8            1 \n",
       "        Lady        Major       Master         Miss         Mlle          Mme \n",
       "           1            2           61          260            2            1 \n",
       "          Mr          Mrs           Ms          Rev          Sir the Countess \n",
       "         757          197            2            8            1            1 "
      ]
     },
     "metadata": {},
     "output_type": "display_data"
    }
   ],
   "source": [
    "summary(titanic$Title)"
   ]
  },
  {
   "cell_type": "code",
   "execution_count": 133,
   "metadata": {
    "collapsed": true,
    "run_control": {
     "marked": false
    }
   },
   "outputs": [],
   "source": [
    "titles <- as.character(unique(titanic$Title))"
   ]
  },
  {
   "cell_type": "code",
   "execution_count": 134,
   "metadata": {
    "collapsed": false,
    "run_control": {
     "marked": false
    }
   },
   "outputs": [
    {
     "data": {
      "text/html": [
       "<table>\n",
       "<thead><tr><th scope=col>Title</th><th scope=col>Female</th><th scope=col>Male</th><th scope=col>Minimum_Age</th><th scope=col>Maximum_Age</th></tr></thead>\n",
       "<tbody>\n",
       "\t<tr><td>Mr          </td><td>0           </td><td>757         </td><td>2           </td><td>80          </td></tr>\n",
       "\t<tr><td>Mrs         </td><td>197         </td><td>0           </td><td>14          </td><td>76          </td></tr>\n",
       "\t<tr><td>Miss        </td><td>260         </td><td>0           </td><td>0.17        </td><td>63          </td></tr>\n",
       "\t<tr><td>Master      </td><td>0           </td><td>61          </td><td>0.33        </td><td>14.5        </td></tr>\n",
       "\t<tr><td>Don         </td><td>0           </td><td>1           </td><td>40          </td><td>40          </td></tr>\n",
       "\t<tr><td>Rev         </td><td>0           </td><td>8           </td><td>27          </td><td>57          </td></tr>\n",
       "\t<tr><td>Dr          </td><td>1           </td><td>7           </td><td>23          </td><td>54          </td></tr>\n",
       "\t<tr><td>Mme         </td><td>1           </td><td>0           </td><td>24          </td><td>24          </td></tr>\n",
       "\t<tr><td>Ms          </td><td>2           </td><td>0           </td><td>26          </td><td>28          </td></tr>\n",
       "\t<tr><td>Major       </td><td>0           </td><td>2           </td><td>45          </td><td>52          </td></tr>\n",
       "\t<tr><td>Lady        </td><td>1           </td><td>0           </td><td>48          </td><td>48          </td></tr>\n",
       "\t<tr><td>Sir         </td><td>0           </td><td>1           </td><td>49          </td><td>49          </td></tr>\n",
       "\t<tr><td>Mlle        </td><td>2           </td><td>0           </td><td>24          </td><td>24          </td></tr>\n",
       "\t<tr><td>Col         </td><td>0           </td><td>4           </td><td>47          </td><td>60          </td></tr>\n",
       "\t<tr><td>Capt        </td><td>0           </td><td>1           </td><td>70          </td><td>70          </td></tr>\n",
       "\t<tr><td>the Countess</td><td>1           </td><td>0           </td><td>33          </td><td>33          </td></tr>\n",
       "\t<tr><td>Jonkheer    </td><td>0           </td><td>1           </td><td>38          </td><td>38          </td></tr>\n",
       "\t<tr><td>Dona        </td><td>1           </td><td>0           </td><td>39          </td><td>39          </td></tr>\n",
       "</tbody>\n",
       "</table>\n"
      ],
      "text/latex": [
       "\\begin{tabular}{r|lllll}\n",
       " Title & Female & Male & Minimum\\_Age & Maximum\\_Age\\\\\n",
       "\\hline\n",
       "\t Mr           & 0            & 757          & 2            & 80          \\\\\n",
       "\t Mrs          & 197          & 0            & 14           & 76          \\\\\n",
       "\t Miss         & 260          & 0            & 0.17         & 63          \\\\\n",
       "\t Master       & 0            & 61           & 0.33         & 14.5        \\\\\n",
       "\t Don          & 0            & 1            & 40           & 40          \\\\\n",
       "\t Rev          & 0            & 8            & 27           & 57          \\\\\n",
       "\t Dr           & 1            & 7            & 23           & 54          \\\\\n",
       "\t Mme          & 1            & 0            & 24           & 24          \\\\\n",
       "\t Ms           & 2            & 0            & 26           & 28          \\\\\n",
       "\t Major        & 0            & 2            & 45           & 52          \\\\\n",
       "\t Lady         & 1            & 0            & 48           & 48          \\\\\n",
       "\t Sir          & 0            & 1            & 49           & 49          \\\\\n",
       "\t Mlle         & 2            & 0            & 24           & 24          \\\\\n",
       "\t Col          & 0            & 4            & 47           & 60          \\\\\n",
       "\t Capt         & 0            & 1            & 70           & 70          \\\\\n",
       "\t the Countess & 1            & 0            & 33           & 33          \\\\\n",
       "\t Jonkheer     & 0            & 1            & 38           & 38          \\\\\n",
       "\t Dona         & 1            & 0            & 39           & 39          \\\\\n",
       "\\end{tabular}\n"
      ],
      "text/markdown": [
       "\n",
       "Title | Female | Male | Minimum_Age | Maximum_Age | \n",
       "|---|---|---|---|---|---|---|---|---|---|---|---|---|---|---|---|---|---|\n",
       "| Mr           | 0            | 757          | 2            | 80           | \n",
       "| Mrs          | 197          | 0            | 14           | 76           | \n",
       "| Miss         | 260          | 0            | 0.17         | 63           | \n",
       "| Master       | 0            | 61           | 0.33         | 14.5         | \n",
       "| Don          | 0            | 1            | 40           | 40           | \n",
       "| Rev          | 0            | 8            | 27           | 57           | \n",
       "| Dr           | 1            | 7            | 23           | 54           | \n",
       "| Mme          | 1            | 0            | 24           | 24           | \n",
       "| Ms           | 2            | 0            | 26           | 28           | \n",
       "| Major        | 0            | 2            | 45           | 52           | \n",
       "| Lady         | 1            | 0            | 48           | 48           | \n",
       "| Sir          | 0            | 1            | 49           | 49           | \n",
       "| Mlle         | 2            | 0            | 24           | 24           | \n",
       "| Col          | 0            | 4            | 47           | 60           | \n",
       "| Capt         | 0            | 1            | 70           | 70           | \n",
       "| the Countess | 1            | 0            | 33           | 33           | \n",
       "| Jonkheer     | 0            | 1            | 38           | 38           | \n",
       "| Dona         | 1            | 0            | 39           | 39           | \n",
       "\n",
       "\n"
      ],
      "text/plain": [
       "   Title        Female Male Minimum_Age Maximum_Age\n",
       "1  Mr           0      757  2           80         \n",
       "2  Mrs          197    0    14          76         \n",
       "3  Miss         260    0    0.17        63         \n",
       "4  Master       0      61   0.33        14.5       \n",
       "5  Don          0      1    40          40         \n",
       "6  Rev          0      8    27          57         \n",
       "7  Dr           1      7    23          54         \n",
       "8  Mme          1      0    24          24         \n",
       "9  Ms           2      0    26          28         \n",
       "10 Major        0      2    45          52         \n",
       "11 Lady         1      0    48          48         \n",
       "12 Sir          0      1    49          49         \n",
       "13 Mlle         2      0    24          24         \n",
       "14 Col          0      4    47          60         \n",
       "15 Capt         0      1    70          70         \n",
       "16 the Countess 1      0    33          33         \n",
       "17 Jonkheer     0      1    38          38         \n",
       "18 Dona         1      0    39          39         "
      ]
     },
     "metadata": {},
     "output_type": "display_data"
    }
   ],
   "source": [
    "as.data.frame(cbind(\"Title\" = titles, \n",
    "   \"Female\" = sapply(titles, function(x) nrow(titanic[titanic$Title == x & titanic$Sex == \"female\",])),\n",
    "   \"Male\" = sapply(titles, function(x) nrow(titanic[titanic$Title == x & titanic$Sex == \"male\",])),\n",
    "   \"Minimum_Age\" = sapply(titles, function(x) min(titanic[titanic$Title == x ,'Age'], na.rm = TRUE)),\n",
    "   \"Maximum_Age\" = sapply(titles, function(x) max(titanic[titanic$Title == x,'Age'], na.rm = TRUE))), row.names = F)"
   ]
  },
  {
   "cell_type": "markdown",
   "metadata": {
    "run_control": {
     "marked": false
    }
   },
   "source": [
    " We can merge titles into: \n",
    "* Sir : men above 14.5 years old with an important social status\n",
    "* Mr: men above 14.5 years old without status\n",
    "* Master: boys up to 14.5 years old\n",
    "* Mrs: women above 14 years old, married or not\n",
    "* Miss: girls up to 14 years old"
   ]
  },
  {
   "cell_type": "code",
   "execution_count": 19,
   "metadata": {
    "collapsed": false,
    "init_cell": true,
    "run_control": {
     "marked": false
    }
   },
   "outputs": [],
   "source": [
    "titanic$Title2 <- titanic$Title\n",
    "\n",
    "titanic[(titanic$Sex == \"male\" & titanic$Age <= 14.5),]$Title2 = \"Master\" \n",
    "titanic[(titanic$Sex == \"male\" & titanic$Age > 14.5),]$Title2 = \"Mr\"\n",
    "titanic[(titanic$Sex == \"female\" & titanic$Age <= 14),]$Title2 = \"Miss\"\n",
    "titanic[(titanic$Sex == \"female\" & titanic$Age > 14),]$Title2 = \"Mrs\"\n",
    "\n",
    "titanic[titanic$Title == \"Capt\"|\n",
    "   titanic$Title == \"Col\"|\n",
    "   titanic$Title == \"Don\"|\n",
    "   titanic$Title == \"Major\"|\n",
    "   titanic$Title == \"Rev\"|      \n",
    "   titanic$Title == \"Jonkheer\"|\n",
    "   (titanic$Title == \"Dr\" &  titanic$Sex == \"male\"),]$Title2 = \"Sir\"\n",
    "\n",
    "titanic$Title2 <- factor(titanic$Title2)"
   ]
  },
  {
   "cell_type": "code",
   "execution_count": 136,
   "metadata": {
    "collapsed": false,
    "run_control": {
     "marked": false
    }
   },
   "outputs": [
    {
     "data": {
      "text/html": [
       "<dl class=dl-horizontal>\n",
       "\t<dt>Master</dt>\n",
       "\t\t<dd>69</dd>\n",
       "\t<dt>Miss</dt>\n",
       "\t\t<dd>68</dd>\n",
       "\t<dt>Mr</dt>\n",
       "\t\t<dd>750</dd>\n",
       "\t<dt>Mrs</dt>\n",
       "\t\t<dd>398</dd>\n",
       "\t<dt>Sir</dt>\n",
       "\t\t<dd>24</dd>\n",
       "</dl>\n"
      ],
      "text/latex": [
       "\\begin{description*}\n",
       "\\item[Master] 69\n",
       "\\item[Miss] 68\n",
       "\\item[Mr] 750\n",
       "\\item[Mrs] 398\n",
       "\\item[Sir] 24\n",
       "\\end{description*}\n"
      ],
      "text/markdown": [
       "Master\n",
       ":   69Miss\n",
       ":   68Mr\n",
       ":   750Mrs\n",
       ":   398Sir\n",
       ":   24\n",
       "\n"
      ],
      "text/plain": [
       "Master   Miss     Mr    Mrs    Sir \n",
       "    69     68    750    398     24 "
      ]
     },
     "metadata": {},
     "output_type": "display_data"
    }
   ],
   "source": [
    "summary(titanic$Title2)"
   ]
  },
  {
   "cell_type": "markdown",
   "metadata": {
    "run_control": {
     "marked": false
    }
   },
   "source": [
    "Now, we have levels that are much more balanced."
   ]
  },
  {
   "cell_type": "markdown",
   "metadata": {
    "run_control": {
     "marked": false
    }
   },
   "source": [
    "### 2.3.3 Create dummy variables"
   ]
  },
  {
   "cell_type": "markdown",
   "metadata": {
    "run_control": {
     "marked": false
    }
   },
   "source": [
    "Let's convert our factor variables into **dummy variables**. Having dummy variables is not absolutely necessary, however:\n",
    "* it will make the intrepretation easier\n",
    "* it may also help the model to perform better\n",
    "* contrary to glm() or train() that automatically create dummy variables, most functions don't."
   ]
  },
  {
   "cell_type": "code",
   "execution_count": 20,
   "metadata": {
    "collapsed": false,
    "init_cell": true,
    "run_control": {
     "marked": false
    }
   },
   "outputs": [
    {
     "data": {
      "text/html": [
       "<ol class=list-inline>\n",
       "\t<li>'PassengerId'</li>\n",
       "\t<li>'Pclass'</li>\n",
       "\t<li>'Name'</li>\n",
       "\t<li>'Sex_female'</li>\n",
       "\t<li>'Sex_male'</li>\n",
       "\t<li>'Age'</li>\n",
       "\t<li>'SibSp'</li>\n",
       "\t<li>'Parch'</li>\n",
       "\t<li>'Ticket'</li>\n",
       "\t<li>'Fare'</li>\n",
       "\t<li>'Cabin'</li>\n",
       "\t<li>'Embarked_C'</li>\n",
       "\t<li>'Embarked_Q'</li>\n",
       "\t<li>'Embarked_S'</li>\n",
       "\t<li>'Title'</li>\n",
       "\t<li>'Child'</li>\n",
       "\t<li>'Young'</li>\n",
       "\t<li>'Title2_Master'</li>\n",
       "\t<li>'Title2_Miss'</li>\n",
       "\t<li>'Title2_Mr'</li>\n",
       "\t<li>'Title2_Mrs'</li>\n",
       "\t<li>'Title2_Sir'</li>\n",
       "</ol>\n"
      ],
      "text/latex": [
       "\\begin{enumerate*}\n",
       "\\item 'PassengerId'\n",
       "\\item 'Pclass'\n",
       "\\item 'Name'\n",
       "\\item 'Sex\\_female'\n",
       "\\item 'Sex\\_male'\n",
       "\\item 'Age'\n",
       "\\item 'SibSp'\n",
       "\\item 'Parch'\n",
       "\\item 'Ticket'\n",
       "\\item 'Fare'\n",
       "\\item 'Cabin'\n",
       "\\item 'Embarked\\_C'\n",
       "\\item 'Embarked\\_Q'\n",
       "\\item 'Embarked\\_S'\n",
       "\\item 'Title'\n",
       "\\item 'Child'\n",
       "\\item 'Young'\n",
       "\\item 'Title2\\_Master'\n",
       "\\item 'Title2\\_Miss'\n",
       "\\item 'Title2\\_Mr'\n",
       "\\item 'Title2\\_Mrs'\n",
       "\\item 'Title2\\_Sir'\n",
       "\\end{enumerate*}\n"
      ],
      "text/markdown": [
       "1. 'PassengerId'\n",
       "2. 'Pclass'\n",
       "3. 'Name'\n",
       "4. 'Sex_female'\n",
       "5. 'Sex_male'\n",
       "6. 'Age'\n",
       "7. 'SibSp'\n",
       "8. 'Parch'\n",
       "9. 'Ticket'\n",
       "10. 'Fare'\n",
       "11. 'Cabin'\n",
       "12. 'Embarked_C'\n",
       "13. 'Embarked_Q'\n",
       "14. 'Embarked_S'\n",
       "15. 'Title'\n",
       "16. 'Child'\n",
       "17. 'Young'\n",
       "18. 'Title2_Master'\n",
       "19. 'Title2_Miss'\n",
       "20. 'Title2_Mr'\n",
       "21. 'Title2_Mrs'\n",
       "22. 'Title2_Sir'\n",
       "\n",
       "\n"
      ],
      "text/plain": [
       " [1] \"PassengerId\"   \"Pclass\"        \"Name\"          \"Sex_female\"   \n",
       " [5] \"Sex_male\"      \"Age\"           \"SibSp\"         \"Parch\"        \n",
       " [9] \"Ticket\"        \"Fare\"          \"Cabin\"         \"Embarked_C\"   \n",
       "[13] \"Embarked_Q\"    \"Embarked_S\"    \"Title\"         \"Child\"        \n",
       "[17] \"Young\"         \"Title2_Master\" \"Title2_Miss\"   \"Title2_Mr\"    \n",
       "[21] \"Title2_Mrs\"    \"Title2_Sir\"   "
      ]
     },
     "metadata": {},
     "output_type": "display_data"
    }
   ],
   "source": [
    "titanic_dum <- dummy.data.frame(titanic, names= c(\"Sex\",\"Embarked\", \"Title2\") , sep = \"_\")\n",
    "names(titanic_dum)"
   ]
  },
  {
   "cell_type": "code",
   "execution_count": 21,
   "metadata": {
    "collapsed": false,
    "init_cell": true,
    "run_control": {
     "marked": false
    }
   },
   "outputs": [],
   "source": [
    "# Convert the dummy variables into factors\n",
    "vars = c(\"Sex_female\", \"Sex_male\", \"Embarked_C\", \"Embarked_Q\", \"Embarked_S\", \"Title2_Master\", \"Title2_Miss\", \"Title2_Mr\", \n",
    "         \"Title2_Mrs\", \"Title2_Sir\")\n",
    "titanic_dum[,vars] = lapply(titanic_dum[,vars], function(x) as.factor(x))"
   ]
  },
  {
   "cell_type": "code",
   "execution_count": 139,
   "metadata": {
    "collapsed": false,
    "run_control": {
     "marked": false
    },
    "scrolled": false
   },
   "outputs": [
    {
     "name": "stdout",
     "output_type": "stream",
     "text": [
      "'data.frame':\t1309 obs. of  22 variables:\n",
      " $ PassengerId  : int  1 2 3 4 5 6 7 8 9 10 ...\n",
      " $ Pclass       : Ord.factor w/ 3 levels \"1\"<\"2\"<\"3\": 3 1 3 1 3 3 1 3 3 2 ...\n",
      " $ Name         : Factor w/ 1307 levels \"Abbing, Mr. Anthony\",..: 109 191 358 277 16 559 520 629 417 581 ...\n",
      " $ Sex_female   : Factor w/ 2 levels \"0\",\"1\": 1 2 2 2 1 1 1 1 2 2 ...\n",
      " $ Sex_male     : Factor w/ 2 levels \"0\",\"1\": 2 1 1 1 2 2 2 2 1 1 ...\n",
      " $ Age          : num  22 38 26 35 35 24 54 2 27 14 ...\n",
      " $ SibSp        : int  1 1 0 1 0 0 0 3 0 1 ...\n",
      " $ Parch        : int  0 0 0 0 0 0 0 1 2 0 ...\n",
      " $ Ticket       : Factor w/ 929 levels \"110152\",\"110413\",..: 524 597 670 50 473 276 86 396 345 133 ...\n",
      " $ Fare         : num  7.25 71.28 7.92 53.1 8.05 ...\n",
      " $ Cabin        : Factor w/ 186 levels \"A10\",\"A14\",\"A16\",..: NA 82 NA 56 NA NA 130 NA NA NA ...\n",
      " $ Embarked_C   : Factor w/ 2 levels \"0\",\"1\": 1 2 1 1 1 1 1 1 1 2 ...\n",
      " $ Embarked_Q   : Factor w/ 2 levels \"0\",\"1\": 1 1 1 1 1 2 1 1 1 1 ...\n",
      " $ Embarked_S   : Factor w/ 2 levels \"0\",\"1\": 2 1 2 2 2 1 2 2 2 1 ...\n",
      " $ Title        : Factor w/ 18 levels \"Capt\",\"Col\",\"Don\",..: 13 14 10 14 13 13 13 9 14 14 ...\n",
      " $ Child        : Factor w/ 2 levels \"FALSE\",\"TRUE\": 1 1 1 1 1 1 1 2 1 1 ...\n",
      " $ Young        : Factor w/ 2 levels \"FALSE\",\"TRUE\": 2 1 2 1 1 2 1 1 2 1 ...\n",
      " $ Title2_Master: Factor w/ 2 levels \"0\",\"1\": 1 1 1 1 1 1 1 2 1 1 ...\n",
      " $ Title2_Miss  : Factor w/ 2 levels \"0\",\"1\": 1 1 1 1 1 1 1 1 1 2 ...\n",
      " $ Title2_Mr    : Factor w/ 2 levels \"0\",\"1\": 2 1 1 1 2 2 2 1 1 1 ...\n",
      " $ Title2_Mrs   : Factor w/ 2 levels \"0\",\"1\": 1 2 2 2 1 1 1 1 2 1 ...\n",
      " $ Title2_Sir   : Factor w/ 2 levels \"0\",\"1\": 1 1 1 1 1 1 1 1 1 1 ...\n",
      " - attr(*, \"dummies\")=List of 3\n",
      "  ..$ Sex     : int  4 5\n",
      "  ..$ Embarked: int  12 13 14\n",
      "  ..$ Title2  : int  18 19 20 21 22\n"
     ]
    }
   ],
   "source": [
    "str(titanic_dum)"
   ]
  },
  {
   "cell_type": "markdown",
   "metadata": {
    "run_control": {
     "marked": false
    }
   },
   "source": [
    "---\n",
    "# 3 Machine learning"
   ]
  },
  {
   "cell_type": "markdown",
   "metadata": {},
   "source": [
    "Now, we can split again our data into the training and test sets."
   ]
  },
  {
   "cell_type": "code",
   "execution_count": 22,
   "metadata": {
    "collapsed": true,
    "init_cell": true
   },
   "outputs": [],
   "source": [
    "Train = titanic_dum[1:891,]\n",
    "Test = titanic_dum[892:1309,]"
   ]
  },
  {
   "cell_type": "markdown",
   "metadata": {},
   "source": [
    "And add back the variable Survived to the training set."
   ]
  },
  {
   "cell_type": "code",
   "execution_count": 23,
   "metadata": {
    "collapsed": false,
    "init_cell": true
   },
   "outputs": [],
   "source": [
    "Train$Survived <- as.factor(Survived)\n",
    "Train$Survived <- as.factor(revalue(Train$Survived, c(\"0\" = \"No\", \"1\"=\"Yes\")))"
   ]
  },
  {
   "cell_type": "code",
   "execution_count": 24,
   "metadata": {
    "collapsed": true,
    "init_cell": true
   },
   "outputs": [],
   "source": [
    "# Let's remove variables that we won't use\n",
    "Train$PassengerId <- NULL\n",
    "Train$Cabin <- NULL\n",
    "Train$Ticket <- NULL\n",
    "Train$Name <- NULL\n",
    "Train$Title <- NULL"
   ]
  },
  {
   "cell_type": "markdown",
   "metadata": {
    "run_control": {
     "marked": false
    }
   },
   "source": [
    "We will use the **`train()`** function of the 'caret' package. It is a very convenient wrapper for modeling, allowing automatic preprocessing (e.g. scaling) and model tuning using resampling (cross-validation, bootstrap, etc.). It provides a uniform interface of the functions themselves, as well as a way to standardize common tasks. Thus, we will be able to compare various algorithms easily.\n",
    "\n",
    "Note that we will set the same seed prior to each training. This will ensures that the same resampling sets are used, which will come in handy when we compare the resampling profiles between models."
   ]
  },
  {
   "cell_type": "markdown",
   "metadata": {
    "run_control": {
     "marked": false
    }
   },
   "source": [
    "## 3.1 Logistic regression"
   ]
  },
  {
   "cell_type": "markdown",
   "metadata": {
    "run_control": {
     "marked": false
    }
   },
   "source": [
    "### 3.1.1 A first quick and dirty model\n",
    "\n",
    "We build a first quick and dirty model, using all the variables. That will give us a benchmark accuracy.<br>"
   ]
  },
  {
   "cell_type": "code",
   "execution_count": 143,
   "metadata": {
    "collapsed": false
   },
   "outputs": [
    {
     "data": {
      "text/html": [
       "<ol class=list-inline>\n",
       "\t<li>'Pclass'</li>\n",
       "\t<li>'Sex_female'</li>\n",
       "\t<li>'Sex_male'</li>\n",
       "\t<li>'Age'</li>\n",
       "\t<li>'SibSp'</li>\n",
       "\t<li>'Parch'</li>\n",
       "\t<li>'Fare'</li>\n",
       "\t<li>'Embarked_C'</li>\n",
       "\t<li>'Embarked_Q'</li>\n",
       "\t<li>'Embarked_S'</li>\n",
       "\t<li>'Child'</li>\n",
       "\t<li>'Young'</li>\n",
       "\t<li>'Title2_Master'</li>\n",
       "\t<li>'Title2_Miss'</li>\n",
       "\t<li>'Title2_Mr'</li>\n",
       "\t<li>'Title2_Mrs'</li>\n",
       "\t<li>'Title2_Sir'</li>\n",
       "\t<li>'Survived'</li>\n",
       "</ol>\n"
      ],
      "text/latex": [
       "\\begin{enumerate*}\n",
       "\\item 'Pclass'\n",
       "\\item 'Sex\\_female'\n",
       "\\item 'Sex\\_male'\n",
       "\\item 'Age'\n",
       "\\item 'SibSp'\n",
       "\\item 'Parch'\n",
       "\\item 'Fare'\n",
       "\\item 'Embarked\\_C'\n",
       "\\item 'Embarked\\_Q'\n",
       "\\item 'Embarked\\_S'\n",
       "\\item 'Child'\n",
       "\\item 'Young'\n",
       "\\item 'Title2\\_Master'\n",
       "\\item 'Title2\\_Miss'\n",
       "\\item 'Title2\\_Mr'\n",
       "\\item 'Title2\\_Mrs'\n",
       "\\item 'Title2\\_Sir'\n",
       "\\item 'Survived'\n",
       "\\end{enumerate*}\n"
      ],
      "text/markdown": [
       "1. 'Pclass'\n",
       "2. 'Sex_female'\n",
       "3. 'Sex_male'\n",
       "4. 'Age'\n",
       "5. 'SibSp'\n",
       "6. 'Parch'\n",
       "7. 'Fare'\n",
       "8. 'Embarked_C'\n",
       "9. 'Embarked_Q'\n",
       "10. 'Embarked_S'\n",
       "11. 'Child'\n",
       "12. 'Young'\n",
       "13. 'Title2_Master'\n",
       "14. 'Title2_Miss'\n",
       "15. 'Title2_Mr'\n",
       "16. 'Title2_Mrs'\n",
       "17. 'Title2_Sir'\n",
       "18. 'Survived'\n",
       "\n",
       "\n"
      ],
      "text/plain": [
       " [1] \"Pclass\"        \"Sex_female\"    \"Sex_male\"      \"Age\"          \n",
       " [5] \"SibSp\"         \"Parch\"         \"Fare\"          \"Embarked_C\"   \n",
       " [9] \"Embarked_Q\"    \"Embarked_S\"    \"Child\"         \"Young\"        \n",
       "[13] \"Title2_Master\" \"Title2_Miss\"   \"Title2_Mr\"     \"Title2_Mrs\"   \n",
       "[17] \"Title2_Sir\"    \"Survived\"     "
      ]
     },
     "metadata": {},
     "output_type": "display_data"
    }
   ],
   "source": [
    "names(Train)"
   ]
  },
  {
   "cell_type": "code",
   "execution_count": 25,
   "metadata": {
    "collapsed": true,
    "init_cell": true,
    "run_control": {
     "marked": false
    }
   },
   "outputs": [],
   "source": [
    "## Define cross-validation experiment\n",
    "numFolds = trainControl(method = \"cv\", number = 10) # method='cv' for cross-validation, number=10 for 10 folds"
   ]
  },
  {
   "cell_type": "code",
   "execution_count": 145,
   "metadata": {
    "collapsed": false,
    "run_control": {
     "marked": false
    },
    "scrolled": false
   },
   "outputs": [
    {
     "name": "stderr",
     "output_type": "stream",
     "text": [
      "Warning message in predict.lm(object, newdata, se.fit, scale = 1, type = ifelse(type == :\n",
      "\"prediction from a rank-deficient fit may be misleading\"Warning message in predict.lm(object, newdata, se.fit, scale = 1, type = ifelse(type == :\n",
      "\"prediction from a rank-deficient fit may be misleading\"Warning message in predict.lm(object, newdata, se.fit, scale = 1, type = ifelse(type == :\n",
      "\"prediction from a rank-deficient fit may be misleading\"Warning message in predict.lm(object, newdata, se.fit, scale = 1, type = ifelse(type == :\n",
      "\"prediction from a rank-deficient fit may be misleading\"Warning message in predict.lm(object, newdata, se.fit, scale = 1, type = ifelse(type == :\n",
      "\"prediction from a rank-deficient fit may be misleading\"Warning message in predict.lm(object, newdata, se.fit, scale = 1, type = ifelse(type == :\n",
      "\"prediction from a rank-deficient fit may be misleading\"Warning message in predict.lm(object, newdata, se.fit, scale = 1, type = ifelse(type == :\n",
      "\"prediction from a rank-deficient fit may be misleading\"Warning message in predict.lm(object, newdata, se.fit, scale = 1, type = ifelse(type == :\n",
      "\"prediction from a rank-deficient fit may be misleading\"Warning message in predict.lm(object, newdata, se.fit, scale = 1, type = ifelse(type == :\n",
      "\"prediction from a rank-deficient fit may be misleading\"Warning message in predict.lm(object, newdata, se.fit, scale = 1, type = ifelse(type == :\n",
      "\"prediction from a rank-deficient fit may be misleading\""
     ]
    }
   ],
   "source": [
    "## Perform the training with cross-validation\n",
    "set.seed(1)\n",
    "logmod1 <- train(Survived ~ .-Sex_female -Embarked_C -Title2_Master,    # We have to remove the \"reference\" level of dummy variables\n",
    "                data = Train, \n",
    "                method = \"glm\", \n",
    "                trControl = numFolds, \n",
    "                na.action = na.omit, \n",
    "                preProcess=c(\"center\", \"scale\"))"
   ]
  },
  {
   "cell_type": "code",
   "execution_count": 68,
   "metadata": {
    "collapsed": false,
    "run_control": {
     "marked": false
    },
    "scrolled": false
   },
   "outputs": [
    {
     "data": {
      "text/plain": [
       "\n",
       "Call:\n",
       "NULL\n",
       "\n",
       "Deviance Residuals: \n",
       "    Min       1Q   Median       3Q      Max  \n",
       "-2.4176  -0.5318  -0.3675   0.5541   2.5701  \n",
       "\n",
       "Coefficients: (1 not defined because of singularities)\n",
       "              Estimate Std. Error z value Pr(>|z|)    \n",
       "(Intercept)  -0.737246   0.106584  -6.917 4.61e-12 ***\n",
       "Pclass.L     -0.940760   0.160721  -5.853 4.82e-09 ***\n",
       "Pclass.Q      0.001987   0.101244   0.020 0.984340    \n",
       "Sex_male1    -0.084721   0.410383  -0.206 0.836444    \n",
       "Age           0.221354   0.731684   0.303 0.762250    \n",
       "SibSp        -0.838129   0.566057  -1.481 0.138702    \n",
       "Parch         0.323158   0.342626   0.943 0.345588    \n",
       "Fare         -0.383011   0.540686  -0.708 0.478709    \n",
       "Embarked_Q1  -0.019203   0.114395  -0.168 0.866690    \n",
       "Embarked_S1  -0.208026   0.114543  -1.816 0.069349 .  \n",
       "ChildTRUE     0.323772   0.160619   2.016 0.043823 *  \n",
       "YoungTRUE    -0.185078   0.161228  -1.148 0.250997    \n",
       "Age_Sq       -0.618905   0.596661  -1.037 0.299605    \n",
       "AgeXFare      0.305446   0.410229   0.745 0.456529    \n",
       "Fare_Sq       0.269560   0.305260   0.883 0.377209    \n",
       "AgeXSibSp     0.434261   0.244652   1.775 0.075896 .  \n",
       "FareXSibSp    0.243983   0.240591   1.014 0.310537    \n",
       "SibSp_sq     -0.880481   0.755610  -1.165 0.243915    \n",
       "AgeXParch    -0.338084   0.311986  -1.084 0.278520    \n",
       "FareXParch   -0.246033   0.268287  -0.917 0.359117    \n",
       "SibSpXParch   0.222713   0.368423   0.605 0.545508    \n",
       "Parch_sp     -0.153459   0.253153  -0.606 0.544387    \n",
       "Title2_Miss1 -0.166523   0.175341  -0.950 0.342259    \n",
       "Title2_Mr1   -1.471975   0.429721  -3.425 0.000614 ***\n",
       "Title2_Mrs1         NA         NA      NA       NA    \n",
       "Title2_Sir1  -0.512864   0.155144  -3.306 0.000947 ***\n",
       "---\n",
       "Signif. codes:  0 '***' 0.001 '**' 0.01 '*' 0.05 '.' 0.1 ' ' 1\n",
       "\n",
       "(Dispersion parameter for binomial family taken to be 1)\n",
       "\n",
       "    Null deviance: 1186.66  on 890  degrees of freedom\n",
       "Residual deviance:  710.79  on 866  degrees of freedom\n",
       "AIC: 760.79\n",
       "\n",
       "Number of Fisher Scoring iterations: 6\n"
      ]
     },
     "metadata": {},
     "output_type": "display_data"
    }
   ],
   "source": [
    "summary(logmod1)     # with Pclass as ordered factor"
   ]
  },
  {
   "cell_type": "markdown",
   "metadata": {
    "run_control": {
     "marked": false
    }
   },
   "source": [
    "**Note 1**: The `lm()/glm()` functions use linear least squares, which is a direct optimization method (global optimum guarantee and good computational performance). Linear least squares are computed using QR decomposition, which is more efficient than gradient descent, however, they are very sensitive to outliers.<br>\n",
    "**Note 2**: We have to normalize our data to have similar scale among the independent variables. By using the parameter `preProcess=c(\"center\", \"scale\")`, the normalization will be performed on the 9 training folds only (not on the whole original training set). This will limit accidental contamination of the training data. <br>\n",
    "**Note 3**: Since the Pclass is an ordered factor, the L (linear) parameter gives a measure of the linear trend and Q specifies quadratic terms (which is close to zero in this case because the pattern is linear)."
   ]
  },
  {
   "cell_type": "markdown",
   "metadata": {
    "run_control": {
     "marked": false
    }
   },
   "source": [
    "As expected, the **class**, the fact to be a **child** and the **title** (which includes the sex) have a significant impact on the survival of passengers. We observe that the probability of survival is significantly higher if the passenger is a child < 5 and lower if the passenger is in 3rd class and/or has a male title (i.e. Mr or Sir)."
   ]
  },
  {
   "cell_type": "markdown",
   "metadata": {
    "run_control": {
     "marked": false
    }
   },
   "source": [
    "Let's see what is the accuracy of the model (i.e. mean accuracy accross cross-validated models)."
   ]
  },
  {
   "cell_type": "code",
   "execution_count": 146,
   "metadata": {
    "collapsed": false,
    "run_control": {
     "marked": false
    },
    "scrolled": false
   },
   "outputs": [
    {
     "data": {
      "text/html": [
       "0.822667688117126"
      ],
      "text/latex": [
       "0.822667688117126"
      ],
      "text/markdown": [
       "0.822667688117126"
      ],
      "text/plain": [
       "[1] 0.8226677"
      ]
     },
     "metadata": {},
     "output_type": "display_data"
    }
   ],
   "source": [
    "logmod1$results$Accuracy"
   ]
  },
  {
   "cell_type": "markdown",
   "metadata": {
    "run_control": {
     "marked": false
    }
   },
   "source": [
    "That was a really quick and dirty model and the performance is already good! But I think that we can do much better by improving it."
   ]
  },
  {
   "cell_type": "markdown",
   "metadata": {
    "run_control": {
     "marked": false
    }
   },
   "source": [
    "Now, how can we **improve** our model? \n",
    "1. Get more training examples?\n",
    "2. Try smaller sets of features (to avoid overfitting)?\n",
    "3. Try getting additional features?\n",
    "4. Try adding polynomial features?<br>\n",
    "\n",
    "Before rushing into any of these options (which is likely to waste our time), let's be smart and check what is wrong in our model."
   ]
  },
  {
   "cell_type": "markdown",
   "metadata": {
    "run_control": {
     "marked": false
    }
   },
   "source": [
    "### 3.1.2 Check learning curves\n",
    "\n",
    "Let's check for high bias or high variance using learning curves."
   ]
  },
  {
   "cell_type": "code",
   "execution_count": 152,
   "metadata": {
    "collapsed": false,
    "run_control": {
     "marked": false
    },
    "scrolled": true
   },
   "outputs": [
    {
     "name": "stderr",
     "output_type": "stream",
     "text": [
      "Warning message in eval(expr, envir, enclos):\n",
      "\"model fit failed for Fold01: parameter=none Error in `contrasts<-`(`*tmp*`, value = contr.funs[1 + isOF[nn]]) : \n",
      "  contrasts can be applied only to factors with 2 or more levels\n",
      "\"Warning message in predict.lm(object, newdata, se.fit, scale = 1, type = ifelse(type == :\n",
      "\"prediction from a rank-deficient fit may be misleading\"Warning message in predict.lm(object, newdata, se.fit, scale = 1, type = ifelse(type == :\n",
      "\"prediction from a rank-deficient fit may be misleading\"Warning message in predict.lm(object, newdata, se.fit, scale = 1, type = ifelse(type == :\n",
      "\"prediction from a rank-deficient fit may be misleading\"Warning message in predict.lm(object, newdata, se.fit, scale = 1, type = ifelse(type == :\n",
      "\"prediction from a rank-deficient fit may be misleading\"Warning message in predict.lm(object, newdata, se.fit, scale = 1, type = ifelse(type == :\n",
      "\"prediction from a rank-deficient fit may be misleading\"Warning message:\n",
      "\"glm.fit: fitted probabilities numerically 0 or 1 occurred\"Warning message in predict.lm(object, newdata, se.fit, scale = 1, type = ifelse(type == :\n",
      "\"prediction from a rank-deficient fit may be misleading\"Warning message in predict.lm(object, newdata, se.fit, scale = 1, type = ifelse(type == :\n",
      "\"prediction from a rank-deficient fit may be misleading\"Warning message in predict.lm(object, newdata, se.fit, scale = 1, type = ifelse(type == :\n",
      "\"prediction from a rank-deficient fit may be misleading\"Warning message in predict.lm(object, newdata, se.fit, scale = 1, type = ifelse(type == :\n",
      "\"prediction from a rank-deficient fit may be misleading\"Warning message in nominalTrainWorkflow(x = x, y = y, wts = weights, info = trainInfo, :\n",
      "\"There were missing values in resampled performance measures.\"Warning message in predict.lm(object, newdata, se.fit, scale = 1, type = ifelse(type == :\n",
      "\"prediction from a rank-deficient fit may be misleading\"Warning message in predict.lm(object, newdata, se.fit, scale = 1, type = ifelse(type == :\n",
      "\"prediction from a rank-deficient fit may be misleading\"Warning message in predict.lm(object, newdata, se.fit, scale = 1, type = ifelse(type == :\n",
      "\"prediction from a rank-deficient fit may be misleading\"Warning message in predict.lm(object, newdata, se.fit, scale = 1, type = ifelse(type == :\n",
      "\"prediction from a rank-deficient fit may be misleading\"Warning message in predict.lm(object, newdata, se.fit, scale = 1, type = ifelse(type == :\n",
      "\"prediction from a rank-deficient fit may be misleading\"Warning message in predict.lm(object, newdata, se.fit, scale = 1, type = ifelse(type == :\n",
      "\"prediction from a rank-deficient fit may be misleading\"Warning message in predict.lm(object, newdata, se.fit, scale = 1, type = ifelse(type == :\n",
      "\"prediction from a rank-deficient fit may be misleading\"Warning message in predict.lm(object, newdata, se.fit, scale = 1, type = ifelse(type == :\n",
      "\"prediction from a rank-deficient fit may be misleading\"Warning message in predict.lm(object, newdata, se.fit, scale = 1, type = ifelse(type == :\n",
      "\"prediction from a rank-deficient fit may be misleading\"Warning message in predict.lm(object, newdata, se.fit, scale = 1, type = ifelse(type == :\n",
      "\"prediction from a rank-deficient fit may be misleading\"Warning message in predict.lm(object, newdata, se.fit, scale = 1, type = ifelse(type == :\n",
      "\"prediction from a rank-deficient fit may be misleading\"Warning message in predict.lm(object, newdata, se.fit, scale = 1, type = ifelse(type == :\n",
      "\"prediction from a rank-deficient fit may be misleading\"Warning message in predict.lm(object, newdata, se.fit, scale = 1, type = ifelse(type == :\n",
      "\"prediction from a rank-deficient fit may be misleading\"Warning message in predict.lm(object, newdata, se.fit, scale = 1, type = ifelse(type == :\n",
      "\"prediction from a rank-deficient fit may be misleading\"Warning message in predict.lm(object, newdata, se.fit, scale = 1, type = ifelse(type == :\n",
      "\"prediction from a rank-deficient fit may be misleading\"Warning message in predict.lm(object, newdata, se.fit, scale = 1, type = ifelse(type == :\n",
      "\"prediction from a rank-deficient fit may be misleading\"Warning message in predict.lm(object, newdata, se.fit, scale = 1, type = ifelse(type == :\n",
      "\"prediction from a rank-deficient fit may be misleading\"Warning message in predict.lm(object, newdata, se.fit, scale = 1, type = ifelse(type == :\n",
      "\"prediction from a rank-deficient fit may be misleading\"Warning message in predict.lm(object, newdata, se.fit, scale = 1, type = ifelse(type == :\n",
      "\"prediction from a rank-deficient fit may be misleading\"Warning message in predict.lm(object, newdata, se.fit, scale = 1, type = ifelse(type == :\n",
      "\"prediction from a rank-deficient fit may be misleading\"Warning message in predict.lm(object, newdata, se.fit, scale = 1, type = ifelse(type == :\n",
      "\"prediction from a rank-deficient fit may be misleading\"Warning message in predict.lm(object, newdata, se.fit, scale = 1, type = ifelse(type == :\n",
      "\"prediction from a rank-deficient fit may be misleading\"Warning message in predict.lm(object, newdata, se.fit, scale = 1, type = ifelse(type == :\n",
      "\"prediction from a rank-deficient fit may be misleading\"Warning message in predict.lm(object, newdata, se.fit, scale = 1, type = ifelse(type == :\n",
      "\"prediction from a rank-deficient fit may be misleading\"Warning message in predict.lm(object, newdata, se.fit, scale = 1, type = ifelse(type == :\n",
      "\"prediction from a rank-deficient fit may be misleading\"Warning message in predict.lm(object, newdata, se.fit, scale = 1, type = ifelse(type == :\n",
      "\"prediction from a rank-deficient fit may be misleading\"Warning message in predict.lm(object, newdata, se.fit, scale = 1, type = ifelse(type == :\n",
      "\"prediction from a rank-deficient fit may be misleading\"Warning message in predict.lm(object, newdata, se.fit, scale = 1, type = ifelse(type == :\n",
      "\"prediction from a rank-deficient fit may be misleading\"Warning message in predict.lm(object, newdata, se.fit, scale = 1, type = ifelse(type == :\n",
      "\"prediction from a rank-deficient fit may be misleading\"Warning message in predict.lm(object, newdata, se.fit, scale = 1, type = ifelse(type == :\n",
      "\"prediction from a rank-deficient fit may be misleading\"Warning message in predict.lm(object, newdata, se.fit, scale = 1, type = ifelse(type == :\n",
      "\"prediction from a rank-deficient fit may be misleading\"Warning message in predict.lm(object, newdata, se.fit, scale = 1, type = ifelse(type == :\n",
      "\"prediction from a rank-deficient fit may be misleading\"Warning message in predict.lm(object, newdata, se.fit, scale = 1, type = ifelse(type == :\n",
      "\"prediction from a rank-deficient fit may be misleading\"Warning message in predict.lm(object, newdata, se.fit, scale = 1, type = ifelse(type == :\n",
      "\"prediction from a rank-deficient fit may be misleading\"Warning message in predict.lm(object, newdata, se.fit, scale = 1, type = ifelse(type == :\n",
      "\"prediction from a rank-deficient fit may be misleading\"Warning message in predict.lm(object, newdata, se.fit, scale = 1, type = ifelse(type == :\n",
      "\"prediction from a rank-deficient fit may be misleading\"Warning message in predict.lm(object, newdata, se.fit, scale = 1, type = ifelse(type == :\n",
      "\"prediction from a rank-deficient fit may be misleading\"Warning message in predict.lm(object, newdata, se.fit, scale = 1, type = ifelse(type == :\n",
      "\"prediction from a rank-deficient fit may be misleading\"Warning message in predict.lm(object, newdata, se.fit, scale = 1, type = ifelse(type == :\n",
      "\"prediction from a rank-deficient fit may be misleading\"Warning message in predict.lm(object, newdata, se.fit, scale = 1, type = ifelse(type == :\n",
      "\"prediction from a rank-deficient fit may be misleading\"Warning message in predict.lm(object, newdata, se.fit, scale = 1, type = ifelse(type == :\n",
      "\"prediction from a rank-deficient fit may be misleading\"Warning message in predict.lm(object, newdata, se.fit, scale = 1, type = ifelse(type == :\n",
      "\"prediction from a rank-deficient fit may be misleading\"Warning message in predict.lm(object, newdata, se.fit, scale = 1, type = ifelse(type == :\n",
      "\"prediction from a rank-deficient fit may be misleading\"Warning message in predict.lm(object, newdata, se.fit, scale = 1, type = ifelse(type == :\n",
      "\"prediction from a rank-deficient fit may be misleading\"Warning message in predict.lm(object, newdata, se.fit, scale = 1, type = ifelse(type == :\n",
      "\"prediction from a rank-deficient fit may be misleading\"Warning message in predict.lm(object, newdata, se.fit, scale = 1, type = ifelse(type == :\n",
      "\"prediction from a rank-deficient fit may be misleading\"Warning message in predict.lm(object, newdata, se.fit, scale = 1, type = ifelse(type == :\n",
      "\"prediction from a rank-deficient fit may be misleading\"Warning message in predict.lm(object, newdata, se.fit, scale = 1, type = ifelse(type == :\n",
      "\"prediction from a rank-deficient fit may be misleading\"Warning message in predict.lm(object, newdata, se.fit, scale = 1, type = ifelse(type == :\n",
      "\"prediction from a rank-deficient fit may be misleading\"Warning message in predict.lm(object, newdata, se.fit, scale = 1, type = ifelse(type == :\n",
      "\"prediction from a rank-deficient fit may be misleading\"Warning message in predict.lm(object, newdata, se.fit, scale = 1, type = ifelse(type == :\n",
      "\"prediction from a rank-deficient fit may be misleading\"Warning message in predict.lm(object, newdata, se.fit, scale = 1, type = ifelse(type == :\n",
      "\"prediction from a rank-deficient fit may be misleading\"Warning message in predict.lm(object, newdata, se.fit, scale = 1, type = ifelse(type == :\n",
      "\"prediction from a rank-deficient fit may be misleading\"Warning message in predict.lm(object, newdata, se.fit, scale = 1, type = ifelse(type == :\n",
      "\"prediction from a rank-deficient fit may be misleading\"Warning message in predict.lm(object, newdata, se.fit, scale = 1, type = ifelse(type == :\n",
      "\"prediction from a rank-deficient fit may be misleading\"Warning message in predict.lm(object, newdata, se.fit, scale = 1, type = ifelse(type == :\n",
      "\"prediction from a rank-deficient fit may be misleading\"Warning message in predict.lm(object, newdata, se.fit, scale = 1, type = ifelse(type == :\n",
      "\"prediction from a rank-deficient fit may be misleading\"Warning message in predict.lm(object, newdata, se.fit, scale = 1, type = ifelse(type == :\n",
      "\"prediction from a rank-deficient fit may be misleading\"Warning message in predict.lm(object, newdata, se.fit, scale = 1, type = ifelse(type == :\n",
      "\"prediction from a rank-deficient fit may be misleading\"Warning message in predict.lm(object, newdata, se.fit, scale = 1, type = ifelse(type == :\n",
      "\"prediction from a rank-deficient fit may be misleading\"Warning message in predict.lm(object, newdata, se.fit, scale = 1, type = ifelse(type == :\n",
      "\"prediction from a rank-deficient fit may be misleading\"Warning message in predict.lm(object, newdata, se.fit, scale = 1, type = ifelse(type == :\n",
      "\"prediction from a rank-deficient fit may be misleading\"Warning message in predict.lm(object, newdata, se.fit, scale = 1, type = ifelse(type == :\n",
      "\"prediction from a rank-deficient fit may be misleading\"Warning message in predict.lm(object, newdata, se.fit, scale = 1, type = ifelse(type == :\n",
      "\"prediction from a rank-deficient fit may be misleading\"Warning message in predict.lm(object, newdata, se.fit, scale = 1, type = ifelse(type == :\n",
      "\"prediction from a rank-deficient fit may be misleading\"Warning message in predict.lm(object, newdata, se.fit, scale = 1, type = ifelse(type == :\n",
      "\"prediction from a rank-deficient fit may be misleading\"Warning message in predict.lm(object, newdata, se.fit, scale = 1, type = ifelse(type == :\n",
      "\"prediction from a rank-deficient fit may be misleading\"Warning message in predict.lm(object, newdata, se.fit, scale = 1, type = ifelse(type == :\n",
      "\"prediction from a rank-deficient fit may be misleading\"Warning message in predict.lm(object, newdata, se.fit, scale = 1, type = ifelse(type == :\n",
      "\"prediction from a rank-deficient fit may be misleading\"Warning message in predict.lm(object, newdata, se.fit, scale = 1, type = ifelse(type == :\n",
      "\"prediction from a rank-deficient fit may be misleading\"Warning message in predict.lm(object, newdata, se.fit, scale = 1, type = ifelse(type == :\n",
      "\"prediction from a rank-deficient fit may be misleading\"Warning message in predict.lm(object, newdata, se.fit, scale = 1, type = ifelse(type == :\n",
      "\"prediction from a rank-deficient fit may be misleading\"Warning message in predict.lm(object, newdata, se.fit, scale = 1, type = ifelse(type == :\n",
      "\"prediction from a rank-deficient fit may be misleading\"Warning message in predict.lm(object, newdata, se.fit, scale = 1, type = ifelse(type == :\n",
      "\"prediction from a rank-deficient fit may be misleading\"Warning message in predict.lm(object, newdata, se.fit, scale = 1, type = ifelse(type == :\n",
      "\"prediction from a rank-deficient fit may be misleading\"Warning message in predict.lm(object, newdata, se.fit, scale = 1, type = ifelse(type == :\n",
      "\"prediction from a rank-deficient fit may be misleading\"Warning message in predict.lm(object, newdata, se.fit, scale = 1, type = ifelse(type == :\n",
      "\"prediction from a rank-deficient fit may be misleading\"Warning message in predict.lm(object, newdata, se.fit, scale = 1, type = ifelse(type == :\n",
      "\"prediction from a rank-deficient fit may be misleading\"Warning message in predict.lm(object, newdata, se.fit, scale = 1, type = ifelse(type == :\n",
      "\"prediction from a rank-deficient fit may be misleading\"Warning message in predict.lm(object, newdata, se.fit, scale = 1, type = ifelse(type == :\n",
      "\"prediction from a rank-deficient fit may be misleading\"Warning message in predict.lm(object, newdata, se.fit, scale = 1, type = ifelse(type == :\n",
      "\"prediction from a rank-deficient fit may be misleading\"Warning message in predict.lm(object, newdata, se.fit, scale = 1, type = ifelse(type == :\n",
      "\"prediction from a rank-deficient fit may be misleading\"Warning message in predict.lm(object, newdata, se.fit, scale = 1, type = ifelse(type == :\n",
      "\"prediction from a rank-deficient fit may be misleading\"Warning message in predict.lm(object, newdata, se.fit, scale = 1, type = ifelse(type == :\n",
      "\"prediction from a rank-deficient fit may be misleading\"Warning message in predict.lm(object, newdata, se.fit, scale = 1, type = ifelse(type == :\n",
      "\"prediction from a rank-deficient fit may be misleading\"Warning message in predict.lm(object, newdata, se.fit, scale = 1, type = ifelse(type == :\n",
      "\"prediction from a rank-deficient fit may be misleading\"Warning message in predict.lm(object, newdata, se.fit, scale = 1, type = ifelse(type == :\n",
      "\"prediction from a rank-deficient fit may be misleading\"Warning message in predict.lm(object, newdata, se.fit, scale = 1, type = ifelse(type == :\n",
      "\"prediction from a rank-deficient fit may be misleading\"Warning message in predict.lm(object, newdata, se.fit, scale = 1, type = ifelse(type == :\n",
      "\"prediction from a rank-deficient fit may be misleading\"Warning message in predict.lm(object, newdata, se.fit, scale = 1, type = ifelse(type == :\n",
      "\"prediction from a rank-deficient fit may be misleading\"Warning message in predict.lm(object, newdata, se.fit, scale = 1, type = ifelse(type == :\n",
      "\"prediction from a rank-deficient fit may be misleading\"Warning message in predict.lm(object, newdata, se.fit, scale = 1, type = ifelse(type == :\n",
      "\"prediction from a rank-deficient fit may be misleading\"Warning message in predict.lm(object, newdata, se.fit, scale = 1, type = ifelse(type == :\n",
      "\"prediction from a rank-deficient fit may be misleading\"Warning message in predict.lm(object, newdata, se.fit, scale = 1, type = ifelse(type == :\n",
      "\"prediction from a rank-deficient fit may be misleading\"Warning message in predict.lm(object, newdata, se.fit, scale = 1, type = ifelse(type == :\n",
      "\"prediction from a rank-deficient fit may be misleading\"Warning message in predict.lm(object, newdata, se.fit, scale = 1, type = ifelse(type == :\n",
      "\"prediction from a rank-deficient fit may be misleading\"Warning message in predict.lm(object, newdata, se.fit, scale = 1, type = ifelse(type == :\n",
      "\"prediction from a rank-deficient fit may be misleading\"Warning message in predict.lm(object, newdata, se.fit, scale = 1, type = ifelse(type == :\n",
      "\"prediction from a rank-deficient fit may be misleading\"Warning message in predict.lm(object, newdata, se.fit, scale = 1, type = ifelse(type == :\n",
      "\"prediction from a rank-deficient fit may be misleading\"Warning message in predict.lm(object, newdata, se.fit, scale = 1, type = ifelse(type == :\n",
      "\"prediction from a rank-deficient fit may be misleading\"Warning message in predict.lm(object, newdata, se.fit, scale = 1, type = ifelse(type == :\n",
      "\"prediction from a rank-deficient fit may be misleading\"Warning message in predict.lm(object, newdata, se.fit, scale = 1, type = ifelse(type == :\n",
      "\"prediction from a rank-deficient fit may be misleading\"Warning message in predict.lm(object, newdata, se.fit, scale = 1, type = ifelse(type == :\n",
      "\"prediction from a rank-deficient fit may be misleading\"Warning message in predict.lm(object, newdata, se.fit, scale = 1, type = ifelse(type == :\n",
      "\"prediction from a rank-deficient fit may be misleading\"Warning message in predict.lm(object, newdata, se.fit, scale = 1, type = ifelse(type == :\n",
      "\"prediction from a rank-deficient fit may be misleading\"Warning message in predict.lm(object, newdata, se.fit, scale = 1, type = ifelse(type == :\n",
      "\"prediction from a rank-deficient fit may be misleading\"Warning message in predict.lm(object, newdata, se.fit, scale = 1, type = ifelse(type == :\n",
      "\"prediction from a rank-deficient fit may be misleading\"Warning message in predict.lm(object, newdata, se.fit, scale = 1, type = ifelse(type == :\n",
      "\"prediction from a rank-deficient fit may be misleading\"Warning message in predict.lm(object, newdata, se.fit, scale = 1, type = ifelse(type == :\n",
      "\"prediction from a rank-deficient fit may be misleading\"Warning message in predict.lm(object, newdata, se.fit, scale = 1, type = ifelse(type == :\n",
      "\"prediction from a rank-deficient fit may be misleading\""
     ]
    }
   ],
   "source": [
    "set.seed(1)\n",
    "lc <- learing_curve_dat(Train[, !names(Train) %in% c(\"Sex_female\", \"Embarked_C\", \"Title2_Master\")], outcome = \"Survived\", \n",
    "                        proportion = (1:10)/10, \n",
    "                        test_prop = 0, \n",
    "                        method = \"glm\", \n",
    "                        trControl = numFolds, \n",
    "                        na.action = na.omit,                        \n",
    "                        verbose = FALSE) "
   ]
  },
  {
   "cell_type": "code",
   "execution_count": 153,
   "metadata": {
    "collapsed": true,
    "run_control": {
     "marked": false
    }
   },
   "outputs": [],
   "source": [
    "# Give a proper size to plots\n",
    "options(repr.plot.width=5, repr.plot.height=4)"
   ]
  },
  {
   "cell_type": "code",
   "execution_count": 154,
   "metadata": {
    "collapsed": false,
    "run_control": {
     "marked": false
    },
    "scrolled": false
   },
   "outputs": [
    {
     "name": "stderr",
     "output_type": "stream",
     "text": [
      "Warning message:\n",
      "\"Removed 1 rows containing non-finite values (stat_smooth).\""
     ]
    },
    {
     "data": {},
     "metadata": {},
     "output_type": "display_data"
    },
    {
     "data": {
      "image/png": "[encoded data removed]",
      "text/plain": [
       "plot without title"
      ]
     },
     "metadata": {},
     "output_type": "display_data"
    }
   ],
   "source": [
    "ggplot(lc, aes(x = Training_Size, y = Accuracy, color = Data)) +\n",
    "    geom_smooth(method = loess, span = .8) +   \n",
    "    theme_classic()"
   ]
  },
  {
   "cell_type": "markdown",
   "metadata": {
    "run_control": {
     "marked": false
    }
   },
   "source": [
    "This graph shows the **learning curves** of the model (Accuracy vs Sample size). \"Training\" and \"Resampling\" represent the perfomance of the model on the training set and on the resampling set respectively, with a increasing size of the training set. (The resampling set is the set that was retrieved as a \"test\" set during the cross-validation process)<br>\n",
    "\n",
    "We observe that the **performance on the training set decreases** with the increase of the training set size. Indeed, the more  data we get, the less likely is the linear model to fit exactly the data. On the contrary, the **performance of the model on the resampling set increases** with the increase of the training set size. The more data we train the model with, the better the model is to generalize to unknown data. <br>\n",
    "\n",
    "We have a slightly lower performance when we fit the model the resampling set compared to the training set. It seems that we have a **high variance** problem, even if the learning curve is not very clear here... In other words, our model seems to be **overfitting**. Let's remove some features."
   ]
  },
  {
   "cell_type": "markdown",
   "metadata": {
    "run_control": {
     "marked": false
    }
   },
   "source": [
    "### 3.1.3 Feature selection"
   ]
  },
  {
   "cell_type": "markdown",
   "metadata": {
    "run_control": {
     "marked": false
    }
   },
   "source": [
    "We can perform feature selection, to keep only relevant predictors, either manually or automatically.<br>\n",
    "As written by Guyon & Elisseeff (2003) (http://www.jmlr.org/papers/volume3/guyon03a/guyon03a.pdf), \n",
    "> There are many potential benefits of feature selection:\n",
    "* facilitating data visualization and data understanding, \n",
    "* reducing the measurement and storage requirements, \n",
    "* reducing training and utilization times, \n",
    "* defying the curse of dimensionality to improve prediction performance."
   ]
  },
  {
   "cell_type": "markdown",
   "metadata": {
    "run_control": {
     "marked": false
    }
   },
   "source": [
    "#### 3.1.3.1 Manual selection"
   ]
  },
  {
   "cell_type": "markdown",
   "metadata": {
    "run_control": {
     "marked": false
    }
   },
   "source": [
    "First, let's check the warning that appeared when we run our quick and dirty model. It seems that we have a problem related to rank-deficiency. It may stem from many origins, one of which may be that we have some **collinear variables**. We know that Fare is highly correlated with Pclass. However, removing Fare does not remove the warning.<br>\n",
    "We have created Title2 by taking into account Sex and Age. Sex and Titles2 are likely highly correlated."
   ]
  },
  {
   "cell_type": "code",
   "execution_count": 161,
   "metadata": {
    "collapsed": false,
    "run_control": {
     "marked": false
    },
    "scrolled": true
   },
   "outputs": [
    {
     "name": "stderr",
     "output_type": "stream",
     "text": [
      "Warning message in polychor(x, y, ML = ML, std.err = std.err):\n",
      "\"inadmissible correlation set to 0.9999\""
     ]
    },
    {
     "data": {
      "text/html": [
       "<table>\n",
       "<thead><tr><th></th><th scope=col>Sex_male</th><th scope=col>Title2_Mr</th></tr></thead>\n",
       "<tbody>\n",
       "\t<tr><th scope=row>Sex_male</th><td>1.0000</td><td>0.9999</td></tr>\n",
       "\t<tr><th scope=row>Title2_Mr</th><td>0.9999</td><td>1.0000</td></tr>\n",
       "</tbody>\n",
       "</table>\n"
      ],
      "text/latex": [
       "\\begin{tabular}{r|ll}\n",
       "  & Sex\\_male & Title2\\_Mr\\\\\n",
       "\\hline\n",
       "\tSex\\_male & 1.0000 & 0.9999\\\\\n",
       "\tTitle2\\_Mr & 0.9999 & 1.0000\\\\\n",
       "\\end{tabular}\n"
      ],
      "text/markdown": [
       "\n",
       "| <!--/--> | Sex_male | Title2_Mr | \n",
       "|---|---|\n",
       "| Sex_male | 1.0000 | 0.9999 | \n",
       "| Title2_Mr | 0.9999 | 1.0000 | \n",
       "\n",
       "\n"
      ],
      "text/plain": [
       "          Sex_male Title2_Mr\n",
       "Sex_male  1.0000   0.9999   \n",
       "Title2_Mr 0.9999   1.0000   "
      ]
     },
     "metadata": {},
     "output_type": "display_data"
    }
   ],
   "source": [
    "# For example: \n",
    "hetcor(Train[,c(\"Sex_male\", \"Title2_Mr\")])$correlations"
   ]
  },
  {
   "cell_type": "markdown",
   "metadata": {},
   "source": [
    "Let's try to remove Sex_male then."
   ]
  },
  {
   "cell_type": "code",
   "execution_count": 155,
   "metadata": {
    "collapsed": false
   },
   "outputs": [
    {
     "data": {
      "text/html": [
       "<ol class=list-inline>\n",
       "\t<li>'Pclass'</li>\n",
       "\t<li>'Sex_female'</li>\n",
       "\t<li>'Sex_male'</li>\n",
       "\t<li>'Age'</li>\n",
       "\t<li>'SibSp'</li>\n",
       "\t<li>'Parch'</li>\n",
       "\t<li>'Fare'</li>\n",
       "\t<li>'Embarked_C'</li>\n",
       "\t<li>'Embarked_Q'</li>\n",
       "\t<li>'Embarked_S'</li>\n",
       "\t<li>'Child'</li>\n",
       "\t<li>'Young'</li>\n",
       "\t<li>'Title2_Master'</li>\n",
       "\t<li>'Title2_Miss'</li>\n",
       "\t<li>'Title2_Mr'</li>\n",
       "\t<li>'Title2_Mrs'</li>\n",
       "\t<li>'Title2_Sir'</li>\n",
       "\t<li>'Survived'</li>\n",
       "</ol>\n"
      ],
      "text/latex": [
       "\\begin{enumerate*}\n",
       "\\item 'Pclass'\n",
       "\\item 'Sex\\_female'\n",
       "\\item 'Sex\\_male'\n",
       "\\item 'Age'\n",
       "\\item 'SibSp'\n",
       "\\item 'Parch'\n",
       "\\item 'Fare'\n",
       "\\item 'Embarked\\_C'\n",
       "\\item 'Embarked\\_Q'\n",
       "\\item 'Embarked\\_S'\n",
       "\\item 'Child'\n",
       "\\item 'Young'\n",
       "\\item 'Title2\\_Master'\n",
       "\\item 'Title2\\_Miss'\n",
       "\\item 'Title2\\_Mr'\n",
       "\\item 'Title2\\_Mrs'\n",
       "\\item 'Title2\\_Sir'\n",
       "\\item 'Survived'\n",
       "\\end{enumerate*}\n"
      ],
      "text/markdown": [
       "1. 'Pclass'\n",
       "2. 'Sex_female'\n",
       "3. 'Sex_male'\n",
       "4. 'Age'\n",
       "5. 'SibSp'\n",
       "6. 'Parch'\n",
       "7. 'Fare'\n",
       "8. 'Embarked_C'\n",
       "9. 'Embarked_Q'\n",
       "10. 'Embarked_S'\n",
       "11. 'Child'\n",
       "12. 'Young'\n",
       "13. 'Title2_Master'\n",
       "14. 'Title2_Miss'\n",
       "15. 'Title2_Mr'\n",
       "16. 'Title2_Mrs'\n",
       "17. 'Title2_Sir'\n",
       "18. 'Survived'\n",
       "\n",
       "\n"
      ],
      "text/plain": [
       " [1] \"Pclass\"        \"Sex_female\"    \"Sex_male\"      \"Age\"          \n",
       " [5] \"SibSp\"         \"Parch\"         \"Fare\"          \"Embarked_C\"   \n",
       " [9] \"Embarked_Q\"    \"Embarked_S\"    \"Child\"         \"Young\"        \n",
       "[13] \"Title2_Master\" \"Title2_Miss\"   \"Title2_Mr\"     \"Title2_Mrs\"   \n",
       "[17] \"Title2_Sir\"    \"Survived\"     "
      ]
     },
     "metadata": {},
     "output_type": "display_data"
    }
   ],
   "source": [
    "names(Train)"
   ]
  },
  {
   "cell_type": "code",
   "execution_count": 156,
   "metadata": {
    "collapsed": false,
    "run_control": {
     "marked": false
    }
   },
   "outputs": [],
   "source": [
    "## Perform the cross validation\n",
    "set.seed(1)\n",
    "logmod2 <- train(Survived ~ .-Sex_female -Embarked_C -Title2_Master -Sex_male, \n",
    "                 data = Train, \n",
    "                 method = \"glm\", \n",
    "                 trControl = numFolds, \n",
    "                 na.action = na.omit, \n",
    "                 preProcess=c(\"center\", \"scale\"))"
   ]
  },
  {
   "cell_type": "code",
   "execution_count": 157,
   "metadata": {
    "collapsed": false,
    "run_control": {
     "marked": false
    },
    "scrolled": true
   },
   "outputs": [
    {
     "data": {
      "text/plain": [
       "\n",
       "Call:\n",
       "NULL\n",
       "\n",
       "Deviance Residuals: \n",
       "    Min       1Q   Median       3Q      Max  \n",
       "-2.5066  -0.5717  -0.3620   0.5418   2.5770  \n",
       "\n",
       "Coefficients:\n",
       "             Estimate Std. Error z value Pr(>|z|)    \n",
       "(Intercept)  -0.68573    0.09680  -7.084 1.40e-12 ***\n",
       "Pclass.L     -0.90930    0.13440  -6.766 1.33e-11 ***\n",
       "Pclass.Q     -0.03550    0.09676  -0.367  0.71373    \n",
       "Age          -0.44081    0.18545  -2.377  0.01746 *  \n",
       "SibSp        -0.56822    0.13495  -4.211 2.55e-05 ***\n",
       "Parch        -0.23011    0.10352  -2.223  0.02624 *  \n",
       "Fare          0.13828    0.13140   1.052  0.29266    \n",
       "Embarked_Q1  -0.06132    0.11192  -0.548  0.58376    \n",
       "Embarked_S1  -0.20492    0.11155  -1.837  0.06620 .  \n",
       "ChildTRUE     0.20463    0.11924   1.716  0.08615 .  \n",
       "YoungTRUE    -0.27831    0.15120  -1.841  0.06568 .  \n",
       "Title2_Miss1 -0.02414    0.12063  -0.200  0.84141    \n",
       "Title2_Mr1   -1.07443    0.32704  -3.285  0.00102 ** \n",
       "Title2_Mrs1   0.50812    0.29677   1.712  0.08686 .  \n",
       "Title2_Sir1  -0.37218    0.13046  -2.853  0.00433 ** \n",
       "---\n",
       "Signif. codes:  0 '***' 0.001 '**' 0.01 '*' 0.05 '.' 0.1 ' ' 1\n",
       "\n",
       "(Dispersion parameter for binomial family taken to be 1)\n",
       "\n",
       "    Null deviance: 1186.66  on 890  degrees of freedom\n",
       "Residual deviance:  727.25  on 876  degrees of freedom\n",
       "AIC: 757.25\n",
       "\n",
       "Number of Fisher Scoring iterations: 5\n"
      ]
     },
     "metadata": {},
     "output_type": "display_data"
    }
   ],
   "source": [
    "summary(logmod2)"
   ]
  },
  {
   "cell_type": "markdown",
   "metadata": {
    "run_control": {
     "marked": false
    }
   },
   "source": [
    "Let's see what is the accuracy of the model."
   ]
  },
  {
   "cell_type": "code",
   "execution_count": 158,
   "metadata": {
    "collapsed": false,
    "run_control": {
     "marked": false
    },
    "scrolled": true
   },
   "outputs": [
    {
     "data": {
      "text/html": [
       "0.822667688117126"
      ],
      "text/latex": [
       "0.822667688117126"
      ],
      "text/markdown": [
       "0.822667688117126"
      ],
      "text/plain": [
       "[1] 0.8226677"
      ]
     },
     "metadata": {},
     "output_type": "display_data"
    }
   ],
   "source": [
    "logmod2$results$Accuracy"
   ]
  },
  {
   "cell_type": "markdown",
   "metadata": {},
   "source": [
    "Removing Sex_male did not change the accuracy of our model."
   ]
  },
  {
   "cell_type": "markdown",
   "metadata": {
    "run_control": {
     "marked": false
    }
   },
   "source": [
    "Let's have a look at the **importance** of each variable."
   ]
  },
  {
   "cell_type": "code",
   "execution_count": 163,
   "metadata": {
    "collapsed": false,
    "run_control": {
     "marked": false
    },
    "scrolled": true
   },
   "outputs": [
    {
     "data": {
      "text/plain": [
       "glm variable importance\n",
       "\n",
       "             Overall\n",
       "Pclass.L      6.7659\n",
       "SibSp         4.2108\n",
       "Title2_Mr1    3.2853\n",
       "Title2_Sir1   2.8528\n",
       "Age           2.3769\n",
       "Parch         2.2227\n",
       "YoungTRUE     1.8406\n",
       "Embarked_S1   1.8370\n",
       "ChildTRUE     1.7161\n",
       "Title2_Mrs1   1.7122\n",
       "Fare          1.0523\n",
       "Embarked_Q1   0.5479\n",
       "Pclass.Q      0.3668\n",
       "Title2_Miss1  0.2001"
      ]
     },
     "metadata": {},
     "output_type": "display_data"
    }
   ],
   "source": [
    "# absolute value of the t-statistic\n",
    "varImp(logmod2, scale=FALSE)"
   ]
  },
  {
   "cell_type": "markdown",
   "metadata": {
    "run_control": {
     "marked": false
    }
   },
   "source": [
    "We can remove some of the least important variable: Title2_Miss, Title2_Mrs, Embarked_S and Embarked_Q."
   ]
  },
  {
   "cell_type": "code",
   "execution_count": 164,
   "metadata": {
    "collapsed": false
   },
   "outputs": [
    {
     "data": {
      "text/html": [
       "<ol class=list-inline>\n",
       "\t<li>'Pclass'</li>\n",
       "\t<li>'Sex_female'</li>\n",
       "\t<li>'Sex_male'</li>\n",
       "\t<li>'Age'</li>\n",
       "\t<li>'SibSp'</li>\n",
       "\t<li>'Parch'</li>\n",
       "\t<li>'Fare'</li>\n",
       "\t<li>'Embarked_C'</li>\n",
       "\t<li>'Embarked_Q'</li>\n",
       "\t<li>'Embarked_S'</li>\n",
       "\t<li>'Child'</li>\n",
       "\t<li>'Young'</li>\n",
       "\t<li>'Title2_Master'</li>\n",
       "\t<li>'Title2_Miss'</li>\n",
       "\t<li>'Title2_Mr'</li>\n",
       "\t<li>'Title2_Mrs'</li>\n",
       "\t<li>'Title2_Sir'</li>\n",
       "\t<li>'Survived'</li>\n",
       "</ol>\n"
      ],
      "text/latex": [
       "\\begin{enumerate*}\n",
       "\\item 'Pclass'\n",
       "\\item 'Sex\\_female'\n",
       "\\item 'Sex\\_male'\n",
       "\\item 'Age'\n",
       "\\item 'SibSp'\n",
       "\\item 'Parch'\n",
       "\\item 'Fare'\n",
       "\\item 'Embarked\\_C'\n",
       "\\item 'Embarked\\_Q'\n",
       "\\item 'Embarked\\_S'\n",
       "\\item 'Child'\n",
       "\\item 'Young'\n",
       "\\item 'Title2\\_Master'\n",
       "\\item 'Title2\\_Miss'\n",
       "\\item 'Title2\\_Mr'\n",
       "\\item 'Title2\\_Mrs'\n",
       "\\item 'Title2\\_Sir'\n",
       "\\item 'Survived'\n",
       "\\end{enumerate*}\n"
      ],
      "text/markdown": [
       "1. 'Pclass'\n",
       "2. 'Sex_female'\n",
       "3. 'Sex_male'\n",
       "4. 'Age'\n",
       "5. 'SibSp'\n",
       "6. 'Parch'\n",
       "7. 'Fare'\n",
       "8. 'Embarked_C'\n",
       "9. 'Embarked_Q'\n",
       "10. 'Embarked_S'\n",
       "11. 'Child'\n",
       "12. 'Young'\n",
       "13. 'Title2_Master'\n",
       "14. 'Title2_Miss'\n",
       "15. 'Title2_Mr'\n",
       "16. 'Title2_Mrs'\n",
       "17. 'Title2_Sir'\n",
       "18. 'Survived'\n",
       "\n",
       "\n"
      ],
      "text/plain": [
       " [1] \"Pclass\"        \"Sex_female\"    \"Sex_male\"      \"Age\"          \n",
       " [5] \"SibSp\"         \"Parch\"         \"Fare\"          \"Embarked_C\"   \n",
       " [9] \"Embarked_Q\"    \"Embarked_S\"    \"Child\"         \"Young\"        \n",
       "[13] \"Title2_Master\" \"Title2_Miss\"   \"Title2_Mr\"     \"Title2_Mrs\"   \n",
       "[17] \"Title2_Sir\"    \"Survived\"     "
      ]
     },
     "metadata": {},
     "output_type": "display_data"
    }
   ],
   "source": [
    "names(Train)"
   ]
  },
  {
   "cell_type": "code",
   "execution_count": 189,
   "metadata": {
    "collapsed": false,
    "run_control": {
     "marked": false
    }
   },
   "outputs": [],
   "source": [
    "## Perform the cross validation\n",
    "set.seed(1)\n",
    "logmod3 <- train(Survived ~ Pclass + Age + SibSp + Parch + Fare  + Child + Young + Title2_Mr + Title2_Sir, \n",
    "                 data = Train, \n",
    "                 method = \"glm\", \n",
    "                 trControl = numFolds, \n",
    "                 na.action = na.omit, \n",
    "                 preProcess=c(\"center\", \"scale\"))"
   ]
  },
  {
   "cell_type": "code",
   "execution_count": 190,
   "metadata": {
    "collapsed": false
   },
   "outputs": [
    {
     "data": {
      "text/html": [
       "0.829409828623312"
      ],
      "text/latex": [
       "0.829409828623312"
      ],
      "text/markdown": [
       "0.829409828623312"
      ],
      "text/plain": [
       "[1] 0.8294098"
      ]
     },
     "metadata": {},
     "output_type": "display_data"
    }
   ],
   "source": [
    "logmod3$results$Accuracy"
   ]
  },
  {
   "cell_type": "markdown",
   "metadata": {
    "run_control": {
     "marked": false
    }
   },
   "source": [
    "And, now, let's remove Fare which is among the least important variables and collinear with Pclass."
   ]
  },
  {
   "cell_type": "code",
   "execution_count": 34,
   "metadata": {
    "collapsed": false,
    "init_cell": true,
    "run_control": {
     "marked": false
    }
   },
   "outputs": [],
   "source": [
    "## Perform the cross validation\n",
    "set.seed(1)\n",
    "logmod4 <- train(Survived ~ Pclass + Age + SibSp + Parch + Child + Young + Title2_Mr + Title2_Sir, \n",
    "                  data = Train, \n",
    "                  method = \"glm\", \n",
    "                  trControl = numFolds, \n",
    "                  na.action = na.omit, \n",
    "                  preProcess=c(\"center\", \"scale\"))"
   ]
  },
  {
   "cell_type": "code",
   "execution_count": 35,
   "metadata": {
    "collapsed": false,
    "run_control": {
     "marked": false
    }
   },
   "outputs": [
    {
     "data": {
      "text/html": [
       "0.831669787765293"
      ],
      "text/latex": [
       "0.831669787765293"
      ],
      "text/markdown": [
       "0.831669787765293"
      ],
      "text/plain": [
       "[1] 0.8316698"
      ]
     },
     "metadata": {},
     "output_type": "display_data"
    }
   ],
   "source": [
    "logmod4$results$Accuracy"
   ]
  },
  {
   "cell_type": "markdown",
   "metadata": {
    "run_control": {
     "marked": false
    }
   },
   "source": [
    "Still better!"
   ]
  },
  {
   "cell_type": "markdown",
   "metadata": {
    "run_control": {
     "marked": false
    }
   },
   "source": [
    "#### 3.1.3.2 Automatic selection"
   ]
  },
  {
   "cell_type": "markdown",
   "metadata": {
    "run_control": {
     "marked": false
    }
   },
   "source": [
    "Another way to perform feature selection is to use **stepwise feature selection** based on **AIC**. Let's try it starting with all the variables."
   ]
  },
  {
   "cell_type": "code",
   "execution_count": 174,
   "metadata": {
    "collapsed": false,
    "run_control": {
     "marked": false
    },
    "scrolled": true
   },
   "outputs": [
    {
     "data": {
      "text/html": [
       "<ol class=list-inline>\n",
       "\t<li>'Pclass'</li>\n",
       "\t<li>'Sex_female'</li>\n",
       "\t<li>'Sex_male'</li>\n",
       "\t<li>'Age'</li>\n",
       "\t<li>'SibSp'</li>\n",
       "\t<li>'Parch'</li>\n",
       "\t<li>'Fare'</li>\n",
       "\t<li>'Embarked_C'</li>\n",
       "\t<li>'Embarked_Q'</li>\n",
       "\t<li>'Embarked_S'</li>\n",
       "\t<li>'Child'</li>\n",
       "\t<li>'Young'</li>\n",
       "\t<li>'Title2_Master'</li>\n",
       "\t<li>'Title2_Miss'</li>\n",
       "\t<li>'Title2_Mr'</li>\n",
       "\t<li>'Title2_Mrs'</li>\n",
       "\t<li>'Title2_Sir'</li>\n",
       "\t<li>'Survived'</li>\n",
       "</ol>\n"
      ],
      "text/latex": [
       "\\begin{enumerate*}\n",
       "\\item 'Pclass'\n",
       "\\item 'Sex\\_female'\n",
       "\\item 'Sex\\_male'\n",
       "\\item 'Age'\n",
       "\\item 'SibSp'\n",
       "\\item 'Parch'\n",
       "\\item 'Fare'\n",
       "\\item 'Embarked\\_C'\n",
       "\\item 'Embarked\\_Q'\n",
       "\\item 'Embarked\\_S'\n",
       "\\item 'Child'\n",
       "\\item 'Young'\n",
       "\\item 'Title2\\_Master'\n",
       "\\item 'Title2\\_Miss'\n",
       "\\item 'Title2\\_Mr'\n",
       "\\item 'Title2\\_Mrs'\n",
       "\\item 'Title2\\_Sir'\n",
       "\\item 'Survived'\n",
       "\\end{enumerate*}\n"
      ],
      "text/markdown": [
       "1. 'Pclass'\n",
       "2. 'Sex_female'\n",
       "3. 'Sex_male'\n",
       "4. 'Age'\n",
       "5. 'SibSp'\n",
       "6. 'Parch'\n",
       "7. 'Fare'\n",
       "8. 'Embarked_C'\n",
       "9. 'Embarked_Q'\n",
       "10. 'Embarked_S'\n",
       "11. 'Child'\n",
       "12. 'Young'\n",
       "13. 'Title2_Master'\n",
       "14. 'Title2_Miss'\n",
       "15. 'Title2_Mr'\n",
       "16. 'Title2_Mrs'\n",
       "17. 'Title2_Sir'\n",
       "18. 'Survived'\n",
       "\n",
       "\n"
      ],
      "text/plain": [
       " [1] \"Pclass\"        \"Sex_female\"    \"Sex_male\"      \"Age\"          \n",
       " [5] \"SibSp\"         \"Parch\"         \"Fare\"          \"Embarked_C\"   \n",
       " [9] \"Embarked_Q\"    \"Embarked_S\"    \"Child\"         \"Young\"        \n",
       "[13] \"Title2_Master\" \"Title2_Miss\"   \"Title2_Mr\"     \"Title2_Mrs\"   \n",
       "[17] \"Title2_Sir\"    \"Survived\"     "
      ]
     },
     "metadata": {},
     "output_type": "display_data"
    }
   ],
   "source": [
    "names(Train)"
   ]
  },
  {
   "cell_type": "code",
   "execution_count": 184,
   "metadata": {
    "collapsed": false,
    "run_control": {
     "marked": false
    }
   },
   "outputs": [],
   "source": [
    "## Perform the training with cross-validation\n",
    "set.seed(1)\n",
    "AIC_glm <- train(Survived ~ .-Sex_female -Title2_Master -Embarked_C -Sex_male, \n",
    "                 data = Train, \n",
    "                 method = \"glmStepAIC\", \n",
    "                 trControl = numFolds, \n",
    "                 na.action = na.omit, \n",
    "                 preProcess=c(\"center\", \"scale\"),\n",
    "                 trace=FALSE)"
   ]
  },
  {
   "cell_type": "code",
   "execution_count": 185,
   "metadata": {
    "collapsed": false,
    "run_control": {
     "marked": false
    },
    "scrolled": false
   },
   "outputs": [
    {
     "data": {
      "text/plain": [
       "\n",
       "Call:\n",
       "NULL\n",
       "\n",
       "Deviance Residuals: \n",
       "    Min       1Q   Median       3Q      Max  \n",
       "-2.5318  -0.5549  -0.3578   0.5499   2.5366  \n",
       "\n",
       "Coefficients:\n",
       "            Estimate Std. Error z value Pr(>|z|)    \n",
       "(Intercept) -0.69743    0.09620  -7.249 4.19e-13 ***\n",
       "Pclass.L    -1.00514    0.10990  -9.146  < 2e-16 ***\n",
       "Age         -0.45852    0.18387  -2.494 0.012642 *  \n",
       "SibSp       -0.54236    0.12913  -4.200 2.67e-05 ***\n",
       "Parch       -0.19795    0.09945  -1.991 0.046532 *  \n",
       "Embarked_S1 -0.18664    0.09243  -2.019 0.043458 *  \n",
       "ChildTRUE    0.20270    0.11816   1.716 0.086246 .  \n",
       "YoungTRUE   -0.27762    0.15057  -1.844 0.065208 .  \n",
       "Title2_Mr1  -1.01982    0.27945  -3.649 0.000263 ***\n",
       "Title2_Mrs1  0.55479    0.25418   2.183 0.029059 *  \n",
       "Title2_Sir1 -0.36575    0.12075  -3.029 0.002453 ** \n",
       "---\n",
       "Signif. codes:  0 '***' 0.001 '**' 0.01 '*' 0.05 '.' 0.1 ' ' 1\n",
       "\n",
       "(Dispersion parameter for binomial family taken to be 1)\n",
       "\n",
       "    Null deviance: 1186.66  on 890  degrees of freedom\n",
       "Residual deviance:  728.95  on 880  degrees of freedom\n",
       "AIC: 750.95\n",
       "\n",
       "Number of Fisher Scoring iterations: 5\n"
      ]
     },
     "metadata": {},
     "output_type": "display_data"
    }
   ],
   "source": [
    "summary(AIC_glm)"
   ]
  },
  {
   "cell_type": "code",
   "execution_count": 186,
   "metadata": {
    "collapsed": false,
    "run_control": {
     "marked": false
    }
   },
   "outputs": [
    {
     "data": {
      "text/html": [
       "0.828260980592441"
      ],
      "text/latex": [
       "0.828260980592441"
      ],
      "text/markdown": [
       "0.828260980592441"
      ],
      "text/plain": [
       "[1] 0.828261"
      ]
     },
     "metadata": {},
     "output_type": "display_data"
    }
   ],
   "source": [
    "AIC_glm$results$Accuracy"
   ]
  },
  {
   "cell_type": "code",
   "execution_count": 177,
   "metadata": {
    "collapsed": false,
    "run_control": {
     "marked": false
    }
   },
   "outputs": [
    {
     "data": {
      "text/html": [
       "0.830508171603677"
      ],
      "text/latex": [
       "0.830508171603677"
      ],
      "text/markdown": [
       "0.830508171603677"
      ],
      "text/plain": [
       "[1] 0.8305082"
      ]
     },
     "metadata": {},
     "output_type": "display_data"
    }
   ],
   "source": [
    "AIC_glm$results$Accuracy"
   ]
  },
  {
   "cell_type": "markdown",
   "metadata": {
    "run_control": {
     "marked": false
    }
   },
   "source": [
    "We observe that performing stepwise selection slightly decreased the performance of our model. Actually, feature selection does not necessarily improve the accuracy of a model. Its aim is primarily to decrease the model's complexity. Since our aim is to have the best accuracy, we will keep all the variables selected through the manual selection. "
   ]
  },
  {
   "cell_type": "markdown",
   "metadata": {
    "run_control": {
     "marked": false
    }
   },
   "source": [
    "---\n",
    "## 3.2 Classification tree: CART (Recursive Partitioning)"
   ]
  },
  {
   "cell_type": "code",
   "execution_count": 191,
   "metadata": {
    "collapsed": false,
    "run_control": {
     "marked": false
    }
   },
   "outputs": [
    {
     "data": {
      "text/html": [
       "<ol class=list-inline>\n",
       "\t<li>'Pclass'</li>\n",
       "\t<li>'Sex_female'</li>\n",
       "\t<li>'Sex_male'</li>\n",
       "\t<li>'Age'</li>\n",
       "\t<li>'SibSp'</li>\n",
       "\t<li>'Parch'</li>\n",
       "\t<li>'Fare'</li>\n",
       "\t<li>'Embarked_C'</li>\n",
       "\t<li>'Embarked_Q'</li>\n",
       "\t<li>'Embarked_S'</li>\n",
       "\t<li>'Child'</li>\n",
       "\t<li>'Young'</li>\n",
       "\t<li>'Title2_Master'</li>\n",
       "\t<li>'Title2_Miss'</li>\n",
       "\t<li>'Title2_Mr'</li>\n",
       "\t<li>'Title2_Mrs'</li>\n",
       "\t<li>'Title2_Sir'</li>\n",
       "\t<li>'Survived'</li>\n",
       "</ol>\n"
      ],
      "text/latex": [
       "\\begin{enumerate*}\n",
       "\\item 'Pclass'\n",
       "\\item 'Sex\\_female'\n",
       "\\item 'Sex\\_male'\n",
       "\\item 'Age'\n",
       "\\item 'SibSp'\n",
       "\\item 'Parch'\n",
       "\\item 'Fare'\n",
       "\\item 'Embarked\\_C'\n",
       "\\item 'Embarked\\_Q'\n",
       "\\item 'Embarked\\_S'\n",
       "\\item 'Child'\n",
       "\\item 'Young'\n",
       "\\item 'Title2\\_Master'\n",
       "\\item 'Title2\\_Miss'\n",
       "\\item 'Title2\\_Mr'\n",
       "\\item 'Title2\\_Mrs'\n",
       "\\item 'Title2\\_Sir'\n",
       "\\item 'Survived'\n",
       "\\end{enumerate*}\n"
      ],
      "text/markdown": [
       "1. 'Pclass'\n",
       "2. 'Sex_female'\n",
       "3. 'Sex_male'\n",
       "4. 'Age'\n",
       "5. 'SibSp'\n",
       "6. 'Parch'\n",
       "7. 'Fare'\n",
       "8. 'Embarked_C'\n",
       "9. 'Embarked_Q'\n",
       "10. 'Embarked_S'\n",
       "11. 'Child'\n",
       "12. 'Young'\n",
       "13. 'Title2_Master'\n",
       "14. 'Title2_Miss'\n",
       "15. 'Title2_Mr'\n",
       "16. 'Title2_Mrs'\n",
       "17. 'Title2_Sir'\n",
       "18. 'Survived'\n",
       "\n",
       "\n"
      ],
      "text/plain": [
       " [1] \"Pclass\"        \"Sex_female\"    \"Sex_male\"      \"Age\"          \n",
       " [5] \"SibSp\"         \"Parch\"         \"Fare\"          \"Embarked_C\"   \n",
       " [9] \"Embarked_Q\"    \"Embarked_S\"    \"Child\"         \"Young\"        \n",
       "[13] \"Title2_Master\" \"Title2_Miss\"   \"Title2_Mr\"     \"Title2_Mrs\"   \n",
       "[17] \"Title2_Sir\"    \"Survived\"     "
      ]
     },
     "metadata": {},
     "output_type": "display_data"
    }
   ],
   "source": [
    "names(Train)"
   ]
  },
  {
   "cell_type": "code",
   "execution_count": 26,
   "metadata": {
    "collapsed": false,
    "init_cell": true,
    "run_control": {
     "marked": false
    }
   },
   "outputs": [],
   "source": [
    "## Define the cross-validation experiment\n",
    "numFolds = trainControl(method = \"cv\", number = 10 ) # method='cv' for cross-validation, number=10 for 10 folds\n",
    "cpGrid = expand.grid( .cp = seq(0.01,0.5,0.01))"
   ]
  },
  {
   "cell_type": "markdown",
   "metadata": {
    "run_control": {
     "marked": false
    }
   },
   "source": [
    "For this model, we are not going to use the 'formula' option, then our tree will be clearer when we plot it."
   ]
  },
  {
   "cell_type": "code",
   "execution_count": 27,
   "metadata": {
    "collapsed": false,
    "init_cell": true,
    "run_control": {
     "marked": false
    }
   },
   "outputs": [],
   "source": [
    "DV = Train[, \"Survived\"]\n",
    "pred = Train[, c('Pclass', 'Age', 'SibSp', 'Parch', 'Fare', 'Embarked_Q', 'Embarked_S', 'Child', \n",
    "                     'Young', 'Title2_Miss', 'Title2_Mr', 'Title2_Mrs', 'Title2_Sir')]"
   ]
  },
  {
   "cell_type": "code",
   "execution_count": 195,
   "metadata": {
    "collapsed": false,
    "run_control": {
     "marked": false
    }
   },
   "outputs": [],
   "source": [
    "## Perform the cross validation\n",
    "set.seed(1)\n",
    "CART1 <- train(pred, DV, method = \"rpart\", trControl = numFolds, na.action = na.omit, tuneGrid = cpGrid)"
   ]
  },
  {
   "cell_type": "code",
   "execution_count": 196,
   "metadata": {
    "collapsed": false,
    "run_control": {
     "marked": false
    },
    "scrolled": false
   },
   "outputs": [
    {
     "data": {
      "text/html": [
       "<table>\n",
       "<thead><tr><th></th><th scope=col>cp</th></tr></thead>\n",
       "<tbody>\n",
       "\t<tr><th scope=row>2</th><td>0.02</td></tr>\n",
       "</tbody>\n",
       "</table>\n"
      ],
      "text/latex": [
       "\\begin{tabular}{r|l}\n",
       "  & cp\\\\\n",
       "\\hline\n",
       "\t2 & 0.02\\\\\n",
       "\\end{tabular}\n"
      ],
      "text/markdown": [
       "\n",
       "| <!--/--> | cp | \n",
       "|---|\n",
       "| 2 | 0.02 | \n",
       "\n",
       "\n"
      ],
      "text/plain": [
       "  cp  \n",
       "2 0.02"
      ]
     },
     "metadata": {},
     "output_type": "display_data"
    }
   ],
   "source": [
    "CART1$bestTune"
   ]
  },
  {
   "cell_type": "code",
   "execution_count": 197,
   "metadata": {
    "collapsed": true,
    "run_control": {
     "marked": false
    }
   },
   "outputs": [],
   "source": [
    "# Give a proper size to plots\n",
    "options(repr.plot.width=4, repr.plot.height=4)"
   ]
  },
  {
   "cell_type": "code",
   "execution_count": 198,
   "metadata": {
    "collapsed": false,
    "run_control": {
     "marked": false
    },
    "scrolled": false
   },
   "outputs": [
    {
     "data": {},
     "metadata": {},
     "output_type": "display_data"
    },
    {
     "data": {
      "image/png": "[encoded data removed]",
      "text/plain": [
       "plot without title"
      ]
     },
     "metadata": {},
     "output_type": "display_data"
    }
   ],
   "source": [
    "plot(CART1)"
   ]
  },
  {
   "cell_type": "code",
   "execution_count": 199,
   "metadata": {
    "collapsed": true,
    "run_control": {
     "marked": false
    }
   },
   "outputs": [],
   "source": [
    "# Give a proper size to plots\n",
    "options(repr.plot.width=6, repr.plot.height=6)"
   ]
  },
  {
   "cell_type": "code",
   "execution_count": 200,
   "metadata": {
    "collapsed": false,
    "run_control": {
     "marked": false
    }
   },
   "outputs": [
    {
     "data": {
      "image/png": "[encoded data removed]",
      "text/plain": [
       "plot without title"
      ]
     },
     "metadata": {},
     "output_type": "display_data"
    }
   ],
   "source": [
    "rpart.plot(CART1$finalModel, type=0, extra=106, under=TRUE, tweak=0.8)"
   ]
  },
  {
   "cell_type": "markdown",
   "metadata": {
    "run_control": {
     "marked": false
    }
   },
   "source": [
    "The plot shows the probability of survival and the percentage of observations in each leaf.<br>\n",
    "The **title** was important: a passenger who was a 'Mr' was more likely to die, and in the 2nd and 1st class, a 'Sir' was also more likely to die. These results mirror what we said earlier about the lower probability of survival in men. As expected, the **class** of the passenger had an impact on their survival: first and second class passengers were more likely to survive. <br> \n",
    "Then, among passengers from the 3rd class, the **Fare** was of interest: interestingly, having paid at least 23 made a person more likely to die..."
   ]
  },
  {
   "cell_type": "code",
   "execution_count": 201,
   "metadata": {
    "collapsed": false,
    "run_control": {
     "marked": false
    }
   },
   "outputs": [
    {
     "data": {
      "text/html": [
       "0.829435648621042"
      ],
      "text/latex": [
       "0.829435648621042"
      ],
      "text/markdown": [
       "0.829435648621042"
      ],
      "text/plain": [
       "[1] 0.8294356"
      ]
     },
     "metadata": {},
     "output_type": "display_data"
    }
   ],
   "source": [
    "# Best accuracy\n",
    "max(CART1$results$Accuracy)"
   ]
  },
  {
   "cell_type": "markdown",
   "metadata": {
    "run_control": {
     "marked": false
    }
   },
   "source": [
    "This CART model does not have a better performance than our best logistic regression model."
   ]
  },
  {
   "cell_type": "markdown",
   "metadata": {
    "run_control": {
     "marked": false
    }
   },
   "source": [
    "---\n",
    "## 3.3 Random forest"
   ]
  },
  {
   "cell_type": "markdown",
   "metadata": {
    "run_control": {
     "marked": false
    }
   },
   "source": [
    "Random forest = tree bagging + feature sampling"
   ]
  },
  {
   "cell_type": "code",
   "execution_count": 28,
   "metadata": {
    "collapsed": false,
    "init_cell": true,
    "run_control": {
     "marked": false
    }
   },
   "outputs": [],
   "source": [
    "## Define the cross-validation experiment\n",
    "mtryGrid = expand.grid( .mtry = 1:10)\n",
    "numFolds = trainControl(method = \"cv\", number = 10 ) # method='cv' for cross-validation, number=10 for 10 folds"
   ]
  },
  {
   "cell_type": "code",
   "execution_count": 224,
   "metadata": {
    "collapsed": false,
    "run_control": {
     "marked": false
    }
   },
   "outputs": [
    {
     "data": {
      "text/html": [
       "<ol class=list-inline>\n",
       "\t<li>'Pclass'</li>\n",
       "\t<li>'Sex_female'</li>\n",
       "\t<li>'Sex_male'</li>\n",
       "\t<li>'Age'</li>\n",
       "\t<li>'SibSp'</li>\n",
       "\t<li>'Parch'</li>\n",
       "\t<li>'Fare'</li>\n",
       "\t<li>'Embarked_C'</li>\n",
       "\t<li>'Embarked_Q'</li>\n",
       "\t<li>'Embarked_S'</li>\n",
       "\t<li>'Child'</li>\n",
       "\t<li>'Young'</li>\n",
       "\t<li>'Title2_Master'</li>\n",
       "\t<li>'Title2_Miss'</li>\n",
       "\t<li>'Title2_Mr'</li>\n",
       "\t<li>'Title2_Mrs'</li>\n",
       "\t<li>'Title2_Sir'</li>\n",
       "\t<li>'Survived'</li>\n",
       "\t<li>'Deck'</li>\n",
       "</ol>\n"
      ],
      "text/latex": [
       "\\begin{enumerate*}\n",
       "\\item 'Pclass'\n",
       "\\item 'Sex\\_female'\n",
       "\\item 'Sex\\_male'\n",
       "\\item 'Age'\n",
       "\\item 'SibSp'\n",
       "\\item 'Parch'\n",
       "\\item 'Fare'\n",
       "\\item 'Embarked\\_C'\n",
       "\\item 'Embarked\\_Q'\n",
       "\\item 'Embarked\\_S'\n",
       "\\item 'Child'\n",
       "\\item 'Young'\n",
       "\\item 'Title2\\_Master'\n",
       "\\item 'Title2\\_Miss'\n",
       "\\item 'Title2\\_Mr'\n",
       "\\item 'Title2\\_Mrs'\n",
       "\\item 'Title2\\_Sir'\n",
       "\\item 'Survived'\n",
       "\\item 'Deck'\n",
       "\\end{enumerate*}\n"
      ],
      "text/markdown": [
       "1. 'Pclass'\n",
       "2. 'Sex_female'\n",
       "3. 'Sex_male'\n",
       "4. 'Age'\n",
       "5. 'SibSp'\n",
       "6. 'Parch'\n",
       "7. 'Fare'\n",
       "8. 'Embarked_C'\n",
       "9. 'Embarked_Q'\n",
       "10. 'Embarked_S'\n",
       "11. 'Child'\n",
       "12. 'Young'\n",
       "13. 'Title2_Master'\n",
       "14. 'Title2_Miss'\n",
       "15. 'Title2_Mr'\n",
       "16. 'Title2_Mrs'\n",
       "17. 'Title2_Sir'\n",
       "18. 'Survived'\n",
       "19. 'Deck'\n",
       "\n",
       "\n"
      ],
      "text/plain": [
       " [1] \"Pclass\"        \"Sex_female\"    \"Sex_male\"      \"Age\"          \n",
       " [5] \"SibSp\"         \"Parch\"         \"Fare\"          \"Embarked_C\"   \n",
       " [9] \"Embarked_Q\"    \"Embarked_S\"    \"Child\"         \"Young\"        \n",
       "[13] \"Title2_Master\" \"Title2_Miss\"   \"Title2_Mr\"     \"Title2_Mrs\"   \n",
       "[17] \"Title2_Sir\"    \"Survived\"      \"Deck\"         "
      ]
     },
     "metadata": {},
     "output_type": "display_data"
    }
   ],
   "source": [
    "names(Train)"
   ]
  },
  {
   "cell_type": "code",
   "execution_count": 37,
   "metadata": {
    "collapsed": false,
    "init_cell": true,
    "run_control": {
     "marked": false
    }
   },
   "outputs": [],
   "source": [
    "## Perform the cross validation\n",
    "set.seed(1)\n",
    "RF1 <- train(Survived ~ Pclass + Age + SibSp + Parch + Fare + Embarked_Q + Embarked_S + Child + Young + \n",
    "                         Title2_Miss + Title2_Mr + Title2_Mrs + Title2_Sir, \n",
    "             data = Train, \n",
    "             method = \"rf\", \n",
    "             trControl = numFolds, \n",
    "             na.action = na.omit, \n",
    "             preProcess=c(\"center\", \"scale\"), \n",
    "             tuneGrid = mtryGrid, \n",
    "             nodesize = 15, \n",
    "             importance = TRUE)"
   ]
  },
  {
   "cell_type": "code",
   "execution_count": 225,
   "metadata": {
    "collapsed": false,
    "run_control": {
     "marked": false
    },
    "scrolled": true
   },
   "outputs": [
    {
     "data": {
      "text/html": [
       "<table>\n",
       "<thead><tr><th></th><th scope=col>mtry</th></tr></thead>\n",
       "<tbody>\n",
       "\t<tr><th scope=row>10</th><td>10</td></tr>\n",
       "</tbody>\n",
       "</table>\n"
      ],
      "text/latex": [
       "\\begin{tabular}{r|l}\n",
       "  & mtry\\\\\n",
       "\\hline\n",
       "\t10 & 10\\\\\n",
       "\\end{tabular}\n"
      ],
      "text/markdown": [
       "\n",
       "| <!--/--> | mtry | \n",
       "|---|\n",
       "| 10 | 10 | \n",
       "\n",
       "\n"
      ],
      "text/plain": [
       "   mtry\n",
       "10 10  "
      ]
     },
     "metadata": {},
     "output_type": "display_data"
    }
   ],
   "source": [
    "RF1$bestTune"
   ]
  },
  {
   "cell_type": "code",
   "execution_count": 226,
   "metadata": {
    "collapsed": false,
    "run_control": {
     "marked": false
    }
   },
   "outputs": [
    {
     "data": {
      "text/html": [
       "0.836163318579049"
      ],
      "text/latex": [
       "0.836163318579049"
      ],
      "text/markdown": [
       "0.836163318579049"
      ],
      "text/plain": [
       "[1] 0.8361633"
      ]
     },
     "metadata": {},
     "output_type": "display_data"
    }
   ],
   "source": [
    "# Best accuracy\n",
    "max(RF1$results$Accuracy)"
   ]
  },
  {
   "cell_type": "markdown",
   "metadata": {
    "run_control": {
     "marked": false
    }
   },
   "source": [
    "Our first random forest model is better than our best log and CART models.<br>\n",
    "However, we lose some of the interpretability that comes with CART.\n",
    "Actually, we can still compute metrics that give us insight into which variables are important. One metric that we can look at is the number of times, aggregated over all of the trees in the random forest model, that a certain variable is selected for a split (i.e. **selection frequency**)."
   ]
  },
  {
   "cell_type": "code",
   "execution_count": 227,
   "metadata": {
    "collapsed": true,
    "run_control": {
     "marked": false
    }
   },
   "outputs": [],
   "source": [
    "# Give a proper size to plots\n",
    "options(repr.plot.width=4, repr.plot.height=4)"
   ]
  },
  {
   "cell_type": "code",
   "execution_count": 228,
   "metadata": {
    "collapsed": false,
    "run_control": {
     "marked": false
    }
   },
   "outputs": [
    {
     "data": {
      "image/png": "[encoded data removed]",
      "text/plain": [
       "Plot with title \"RF1\""
      ]
     },
     "metadata": {},
     "output_type": "display_data"
    }
   ],
   "source": [
    "vu = varUsed(RF1$finalModel, count=TRUE)\n",
    "vusorted = sort(vu, decreasing = FALSE, index.return = TRUE)\n",
    "dotchart(vusorted$x, RF1$finalModel$xNames[vusorted$ix], main = \"RF1\", xlab = \"Selection frequency\", cex=0.7)"
   ]
  },
  {
   "cell_type": "markdown",
   "metadata": {
    "run_control": {
     "marked": false
    }
   },
   "source": [
    "Here, Fare and Age appear to be important variable."
   ]
  },
  {
   "cell_type": "markdown",
   "metadata": {
    "run_control": {
     "marked": false
    }
   },
   "source": [
    "Another way to see the importance of a variable is to look at the **reduction in impurity** (i.e. how homogenous each bucket or leaf\n",
    "of the tree is) after that variable has been selected for splitting in all of the trees in the forest (i.e. Gini importance). Or similarly, we can look at the mean **decrease in accuracy** (i.e. permutation importance)."
   ]
  },
  {
   "cell_type": "code",
   "execution_count": 229,
   "metadata": {
    "collapsed": true,
    "run_control": {
     "marked": false
    }
   },
   "outputs": [],
   "source": [
    "# Give a proper size to plots\n",
    "options(repr.plot.width=8, repr.plot.height=4)"
   ]
  },
  {
   "cell_type": "code",
   "execution_count": 230,
   "metadata": {
    "collapsed": false,
    "run_control": {
     "marked": false
    }
   },
   "outputs": [
    {
     "data": {
      "image/png": "[encoded data removed]",
      "text/plain": [
       "Plot with title \"RF1\""
      ]
     },
     "metadata": {},
     "output_type": "display_data"
    }
   ],
   "source": [
    "par(mfrow=c(1,2))\n",
    "\n",
    "# Compute the reduction in impurity (i.e. Gini importance)\n",
    "Gini <- varImp(RF1, type=2, scale=FALSE) \n",
    "Ginisorted = sort(Gini$importance$Overall, decreasing = FALSE, index.return = TRUE)\n",
    "dotchart(Ginisorted$x, rownames(Gini$importance)[Ginisorted$ix], \n",
    "         main = \"RF1\", \n",
    "         xlab = \"Gini importance\", \n",
    "         cex=0.7)\n",
    "\n",
    "# Compute the reduction in accuracy (i.e. permutation accuracy importance)\n",
    "Perm <- varImp(RF1, type=1, scale=FALSE) \n",
    "Permsorted = sort(Perm$importance$Overall, decreasing = FALSE, index.return = TRUE)\n",
    "dotchart(Permsorted$x, rownames(Perm$importance)[Permsorted$ix], \n",
    "         main = \"RF1\", \n",
    "         xlab = \"Permutation accuracy importance\", \n",
    "         cex=0.7)"
   ]
  },
  {
   "cell_type": "markdown",
   "metadata": {
    "run_control": {
     "marked": false
    }
   },
   "source": [
    "Again, Fare and Age appear among the top variables, but we can see that Title2_Mr and Pclass, are also important. <br>\n",
    "\n",
    "**WARNING!** We have to be careful here: isn't it a strange coincidence that all the continuous variables are in the top 5 variables used for splitting?... \n",
    "\n",
    "Checking the literature, we can find an explanation to this behaviour: \n",
    "* Strobl et al (2007) Bias in random forest variable importance measures: Illustrations, sources and a solution, BMC Bioinformatics, 8: 25\n",
    "* Strobl et al (2009) Party on!, The R Journal, 1/2.\n",
    "\n",
    "> In standard tree algorithms, variable selection is biased in favor of variables offering many potential cut-points, so that variables with many categories and continuous variables are artificially preferred.\n",
    "\n",
    "Therefore, authors suggested that\n",
    "> The randomForest function should not be used when the potential predictor variables vary in their scale of measurement or their number of categories."
   ]
  },
  {
   "cell_type": "code",
   "execution_count": 231,
   "metadata": {
    "collapsed": false,
    "run_control": {
     "marked": false
    }
   },
   "outputs": [],
   "source": [
    "pred3 <- subset(Train, select=c(Pclass, Age, SibSp, Parch, Fare, Embarked_Q, Embarked_S, Child, Young, \n",
    "                                    Title2_Miss, Title2_Mr, Title2_Mrs, Title2_Sir))"
   ]
  },
  {
   "cell_type": "code",
   "execution_count": 232,
   "metadata": {
    "collapsed": false,
    "run_control": {
     "marked": false
    }
   },
   "outputs": [
    {
     "data": {
      "text/html": [
       "<dl class=dl-horizontal>\n",
       "\t<dt>Fare</dt>\n",
       "\t\t<dd>248</dd>\n",
       "\t<dt>Age</dt>\n",
       "\t\t<dd>89</dd>\n",
       "\t<dt>SibSp</dt>\n",
       "\t\t<dd>7</dd>\n",
       "\t<dt>Parch</dt>\n",
       "\t\t<dd>7</dd>\n",
       "\t<dt>Pclass</dt>\n",
       "\t\t<dd>3</dd>\n",
       "\t<dt>Embarked_Q</dt>\n",
       "\t\t<dd>2</dd>\n",
       "\t<dt>Embarked_S</dt>\n",
       "\t\t<dd>2</dd>\n",
       "\t<dt>Child</dt>\n",
       "\t\t<dd>2</dd>\n",
       "\t<dt>Young</dt>\n",
       "\t\t<dd>2</dd>\n",
       "\t<dt>Title2_Miss</dt>\n",
       "\t\t<dd>2</dd>\n",
       "\t<dt>Title2_Mr</dt>\n",
       "\t\t<dd>2</dd>\n",
       "\t<dt>Title2_Mrs</dt>\n",
       "\t\t<dd>2</dd>\n",
       "\t<dt>Title2_Sir</dt>\n",
       "\t\t<dd>2</dd>\n",
       "</dl>\n"
      ],
      "text/latex": [
       "\\begin{description*}\n",
       "\\item[Fare] 248\n",
       "\\item[Age] 89\n",
       "\\item[SibSp] 7\n",
       "\\item[Parch] 7\n",
       "\\item[Pclass] 3\n",
       "\\item[Embarked\\textbackslash{}\\_Q] 2\n",
       "\\item[Embarked\\textbackslash{}\\_S] 2\n",
       "\\item[Child] 2\n",
       "\\item[Young] 2\n",
       "\\item[Title2\\textbackslash{}\\_Miss] 2\n",
       "\\item[Title2\\textbackslash{}\\_Mr] 2\n",
       "\\item[Title2\\textbackslash{}\\_Mrs] 2\n",
       "\\item[Title2\\textbackslash{}\\_Sir] 2\n",
       "\\end{description*}\n"
      ],
      "text/markdown": [
       "Fare\n",
       ":   248Age\n",
       ":   89SibSp\n",
       ":   7Parch\n",
       ":   7Pclass\n",
       ":   3Embarked_Q\n",
       ":   2Embarked_S\n",
       ":   2Child\n",
       ":   2Young\n",
       ":   2Title2_Miss\n",
       ":   2Title2_Mr\n",
       ":   2Title2_Mrs\n",
       ":   2Title2_Sir\n",
       ":   2\n",
       "\n"
      ],
      "text/plain": [
       "       Fare         Age       SibSp       Parch      Pclass  Embarked_Q \n",
       "        248          89           7           7           3           2 \n",
       " Embarked_S       Child       Young Title2_Miss   Title2_Mr  Title2_Mrs \n",
       "          2           2           2           2           2           2 \n",
       " Title2_Sir \n",
       "          2 "
      ]
     },
     "metadata": {},
     "output_type": "display_data"
    }
   ],
   "source": [
    "# Number of \"levels\" (i.e. potential cut-points) for each variable\n",
    "sort(apply(pred3, 2, function(x) length(unique(x))), decreasing = TRUE)"
   ]
  },
  {
   "cell_type": "markdown",
   "metadata": {
    "run_control": {
     "marked": false
    }
   },
   "source": [
    "Given our dataset, we have to use **unbiased tree algorithm** (i.e. ctree and cforest functions in the party package). They use subsampling without replacement which provides more reliable variable importance measures."
   ]
  },
  {
   "cell_type": "code",
   "execution_count": 233,
   "metadata": {
    "collapsed": false,
    "run_control": {
     "marked": false
    }
   },
   "outputs": [
    {
     "data": {
      "text/html": [
       "<ol class=list-inline>\n",
       "\t<li>'Pclass'</li>\n",
       "\t<li>'Sex_female'</li>\n",
       "\t<li>'Sex_male'</li>\n",
       "\t<li>'Age'</li>\n",
       "\t<li>'SibSp'</li>\n",
       "\t<li>'Parch'</li>\n",
       "\t<li>'Fare'</li>\n",
       "\t<li>'Embarked_C'</li>\n",
       "\t<li>'Embarked_Q'</li>\n",
       "\t<li>'Embarked_S'</li>\n",
       "\t<li>'Child'</li>\n",
       "\t<li>'Young'</li>\n",
       "\t<li>'Title2_Master'</li>\n",
       "\t<li>'Title2_Miss'</li>\n",
       "\t<li>'Title2_Mr'</li>\n",
       "\t<li>'Title2_Mrs'</li>\n",
       "\t<li>'Title2_Sir'</li>\n",
       "\t<li>'Survived'</li>\n",
       "\t<li>'Deck'</li>\n",
       "</ol>\n"
      ],
      "text/latex": [
       "\\begin{enumerate*}\n",
       "\\item 'Pclass'\n",
       "\\item 'Sex\\_female'\n",
       "\\item 'Sex\\_male'\n",
       "\\item 'Age'\n",
       "\\item 'SibSp'\n",
       "\\item 'Parch'\n",
       "\\item 'Fare'\n",
       "\\item 'Embarked\\_C'\n",
       "\\item 'Embarked\\_Q'\n",
       "\\item 'Embarked\\_S'\n",
       "\\item 'Child'\n",
       "\\item 'Young'\n",
       "\\item 'Title2\\_Master'\n",
       "\\item 'Title2\\_Miss'\n",
       "\\item 'Title2\\_Mr'\n",
       "\\item 'Title2\\_Mrs'\n",
       "\\item 'Title2\\_Sir'\n",
       "\\item 'Survived'\n",
       "\\item 'Deck'\n",
       "\\end{enumerate*}\n"
      ],
      "text/markdown": [
       "1. 'Pclass'\n",
       "2. 'Sex_female'\n",
       "3. 'Sex_male'\n",
       "4. 'Age'\n",
       "5. 'SibSp'\n",
       "6. 'Parch'\n",
       "7. 'Fare'\n",
       "8. 'Embarked_C'\n",
       "9. 'Embarked_Q'\n",
       "10. 'Embarked_S'\n",
       "11. 'Child'\n",
       "12. 'Young'\n",
       "13. 'Title2_Master'\n",
       "14. 'Title2_Miss'\n",
       "15. 'Title2_Mr'\n",
       "16. 'Title2_Mrs'\n",
       "17. 'Title2_Sir'\n",
       "18. 'Survived'\n",
       "19. 'Deck'\n",
       "\n",
       "\n"
      ],
      "text/plain": [
       " [1] \"Pclass\"        \"Sex_female\"    \"Sex_male\"      \"Age\"          \n",
       " [5] \"SibSp\"         \"Parch\"         \"Fare\"          \"Embarked_C\"   \n",
       " [9] \"Embarked_Q\"    \"Embarked_S\"    \"Child\"         \"Young\"        \n",
       "[13] \"Title2_Master\" \"Title2_Miss\"   \"Title2_Mr\"     \"Title2_Mrs\"   \n",
       "[17] \"Title2_Sir\"    \"Survived\"      \"Deck\"         "
      ]
     },
     "metadata": {},
     "output_type": "display_data"
    }
   ],
   "source": [
    "names(Train)"
   ]
  },
  {
   "cell_type": "code",
   "execution_count": 234,
   "metadata": {
    "collapsed": false,
    "run_control": {
     "marked": false
    }
   },
   "outputs": [],
   "source": [
    "## Perform the cross validation\n",
    "set.seed(1)\n",
    "RF2 <- train(Survived ~ Pclass + Age + SibSp + Parch + Fare + Embarked_Q + Embarked_S + Child + Young + \n",
    "                         Title2_Miss + Title2_Mr + Title2_Mrs + Title2_Sir, \n",
    "             data = Train, \n",
    "             method = \"cforest\", \n",
    "             trControl = numFolds, \n",
    "             preProcess=c(\"center\", \"scale\"), \n",
    "             tuneGrid = mtryGrid, \n",
    "             controls = cforest_unbiased(ntree=500))"
   ]
  },
  {
   "cell_type": "code",
   "execution_count": 235,
   "metadata": {
    "collapsed": false,
    "run_control": {
     "marked": false
    },
    "scrolled": true
   },
   "outputs": [
    {
     "data": {
      "text/html": [
       "<table>\n",
       "<thead><tr><th></th><th scope=col>mtry</th></tr></thead>\n",
       "<tbody>\n",
       "\t<tr><th scope=row>8</th><td>8</td></tr>\n",
       "</tbody>\n",
       "</table>\n"
      ],
      "text/latex": [
       "\\begin{tabular}{r|l}\n",
       "  & mtry\\\\\n",
       "\\hline\n",
       "\t8 & 8\\\\\n",
       "\\end{tabular}\n"
      ],
      "text/markdown": [
       "\n",
       "| <!--/--> | mtry | \n",
       "|---|\n",
       "| 8 | 8 | \n",
       "\n",
       "\n"
      ],
      "text/plain": [
       "  mtry\n",
       "8 8   "
      ]
     },
     "metadata": {},
     "output_type": "display_data"
    }
   ],
   "source": [
    "RF2$bestTune"
   ]
  },
  {
   "cell_type": "code",
   "execution_count": 236,
   "metadata": {
    "collapsed": false,
    "run_control": {
     "marked": false
    }
   },
   "outputs": [],
   "source": [
    "import <- varimp(RF2$finalModel)"
   ]
  },
  {
   "cell_type": "code",
   "execution_count": 237,
   "metadata": {
    "collapsed": true,
    "run_control": {
     "marked": false
    }
   },
   "outputs": [],
   "source": [
    "# Give a proper size to plots\n",
    "options(repr.plot.width=4, repr.plot.height=4)"
   ]
  },
  {
   "cell_type": "code",
   "execution_count": 238,
   "metadata": {
    "collapsed": false,
    "run_control": {
     "marked": false
    }
   },
   "outputs": [
    {
     "data": {
      "image/png": "[encoded data removed]",
      "text/plain": [
       "Plot with title \"RF2\""
      ]
     },
     "metadata": {},
     "output_type": "display_data"
    }
   ],
   "source": [
    "importSorted = sort(import, decreasing = FALSE, index.return = TRUE)\n",
    "dotchart(importSorted$x, \n",
    "         main = \"RF2\", \n",
    "         xlab = \"Permutation accuracy importance\", \n",
    "         cex=0.7)"
   ]
  },
  {
   "cell_type": "markdown",
   "metadata": {
    "run_control": {
     "marked": false
    }
   },
   "source": [
    "The 'cforest()' function is not as easy as the 'randomForest()' function to retrieve the variable selection frequency. Let's compute it."
   ]
  },
  {
   "cell_type": "markdown",
   "metadata": {
    "run_control": {
     "marked": false
    }
   },
   "source": [
    "The 'cutpoints_list()' function gives a list of all the cutpoints used for a given variable in a given tree made with the 'party' package (It can be found at: https://github.com/cran/party/blob/master/R/varimp.R). So, the list's length corresponds to the number of times the variable has been used for splitting."
   ]
  },
  {
   "cell_type": "code",
   "execution_count": 239,
   "metadata": {
    "collapsed": true,
    "run_control": {
     "marked": false
    }
   },
   "outputs": [],
   "source": [
    "cutpoints_list <- function(tree, variableID) {\n",
    "\n",
    "    cutp <- function(node) {\n",
    "       if (node[[4]]) return(NULL)\n",
    "       cp <- NULL\n",
    "       if (node[[5]][[1]] == variableID)\n",
    "           cp <- node[[5]][[3]]\n",
    "       nl <- cutp(node[[8]])\n",
    "       nr <- cutp(node[[9]])\n",
    "       return(c(cp, nl, nr))\n",
    "    }\n",
    "    return(cutp(tree))\n",
    "}"
   ]
  },
  {
   "cell_type": "markdown",
   "metadata": {
    "run_control": {
     "marked": false
    }
   },
   "source": [
    "Now we can use this function to compute the frequency selection of each variable."
   ]
  },
  {
   "cell_type": "code",
   "execution_count": 240,
   "metadata": {
    "collapsed": false,
    "run_control": {
     "marked": false
    }
   },
   "outputs": [],
   "source": [
    "# Retrieve the variables' names\n",
    "inputs <- RF2$finalModel@data@get(\"input\")\n",
    "xnames <- colnames(inputs)\n",
    "\n",
    "# Number of variables\n",
    "nbvar <- length(xnames)\n",
    "\n",
    "# Number of trees in the forest\n",
    "nbtree <- length(RF2$finalModel@ensemble)\n",
    "\n",
    "# Prepare container\n",
    "nbtimes <- data.frame()\n",
    "\n",
    "# Compute the number of times a given variable has been used to split a given tree\n",
    "for (i in 1:nbvar) {                      # for each variable\n",
    "    for (j in 1:nbtree) {                 # for each tree in the forest\n",
    "        cutpts <- cutpoints_list(RF2$finalModel@ensemble[[j]], i)\n",
    "        nbtimes[j,i] <- length(cutpts)\n",
    "    }\n",
    "}   \n",
    "colnames(nbtimes) <- xnames\n",
    "\n",
    "# Frequency selection of each variable\n",
    "nbtimesTot <- apply(nbtimes, 2, sum)"
   ]
  },
  {
   "cell_type": "code",
   "execution_count": 241,
   "metadata": {
    "collapsed": false,
    "run_control": {
     "marked": false
    }
   },
   "outputs": [
    {
     "data": {
      "text/html": [
       "<dl class=dl-horizontal>\n",
       "\t<dt>Pclass.L</dt>\n",
       "\t\t<dd>1441</dd>\n",
       "\t<dt>Pclass.Q</dt>\n",
       "\t\t<dd>738</dd>\n",
       "\t<dt>Age</dt>\n",
       "\t\t<dd>3482</dd>\n",
       "\t<dt>SibSp</dt>\n",
       "\t\t<dd>1683</dd>\n",
       "\t<dt>Parch</dt>\n",
       "\t\t<dd>1129</dd>\n",
       "\t<dt>Fare</dt>\n",
       "\t\t<dd>4183</dd>\n",
       "\t<dt>Embarked_Q1</dt>\n",
       "\t\t<dd>539</dd>\n",
       "\t<dt>Embarked_S1</dt>\n",
       "\t\t<dd>1333</dd>\n",
       "\t<dt>ChildTRUE</dt>\n",
       "\t\t<dd>382</dd>\n",
       "\t<dt>YoungTRUE</dt>\n",
       "\t\t<dd>1651</dd>\n",
       "\t<dt>Title2_Miss1</dt>\n",
       "\t\t<dd>203</dd>\n",
       "\t<dt>Title2_Mr1</dt>\n",
       "\t\t<dd>546</dd>\n",
       "\t<dt>Title2_Mrs1</dt>\n",
       "\t\t<dd>505</dd>\n",
       "\t<dt>Title2_Sir1</dt>\n",
       "\t\t<dd>307</dd>\n",
       "</dl>\n"
      ],
      "text/latex": [
       "\\begin{description*}\n",
       "\\item[Pclass.L] 1441\n",
       "\\item[Pclass.Q] 738\n",
       "\\item[Age] 3482\n",
       "\\item[SibSp] 1683\n",
       "\\item[Parch] 1129\n",
       "\\item[Fare] 4183\n",
       "\\item[Embarked\\textbackslash{}\\_Q1] 539\n",
       "\\item[Embarked\\textbackslash{}\\_S1] 1333\n",
       "\\item[ChildTRUE] 382\n",
       "\\item[YoungTRUE] 1651\n",
       "\\item[Title2\\textbackslash{}\\_Miss1] 203\n",
       "\\item[Title2\\textbackslash{}\\_Mr1] 546\n",
       "\\item[Title2\\textbackslash{}\\_Mrs1] 505\n",
       "\\item[Title2\\textbackslash{}\\_Sir1] 307\n",
       "\\end{description*}\n"
      ],
      "text/markdown": [
       "Pclass.L\n",
       ":   1441Pclass.Q\n",
       ":   738Age\n",
       ":   3482SibSp\n",
       ":   1683Parch\n",
       ":   1129Fare\n",
       ":   4183Embarked_Q1\n",
       ":   539Embarked_S1\n",
       ":   1333ChildTRUE\n",
       ":   382YoungTRUE\n",
       ":   1651Title2_Miss1\n",
       ":   203Title2_Mr1\n",
       ":   546Title2_Mrs1\n",
       ":   505Title2_Sir1\n",
       ":   307\n",
       "\n"
      ],
      "text/plain": [
       "    Pclass.L     Pclass.Q          Age        SibSp        Parch         Fare \n",
       "        1441          738         3482         1683         1129         4183 \n",
       " Embarked_Q1  Embarked_S1    ChildTRUE    YoungTRUE Title2_Miss1   Title2_Mr1 \n",
       "         539         1333          382         1651          203          546 \n",
       " Title2_Mrs1  Title2_Sir1 \n",
       "         505          307 "
      ]
     },
     "metadata": {},
     "output_type": "display_data"
    }
   ],
   "source": [
    "nbtimesTot"
   ]
  },
  {
   "cell_type": "code",
   "execution_count": 242,
   "metadata": {
    "collapsed": false,
    "run_control": {
     "marked": false
    }
   },
   "outputs": [
    {
     "data": {
      "image/png": "[encoded data removed]",
      "text/plain": [
       "Plot with title \"RF2\""
      ]
     },
     "metadata": {},
     "output_type": "display_data"
    }
   ],
   "source": [
    "nbtimesSorted = sort(nbtimesTot, decreasing = FALSE, index.return = TRUE)\n",
    "dotchart(nbtimesSorted$x, \n",
    "         main = \"RF2\", \n",
    "         xlab = \"Selection frequency\", \n",
    "         cex=0.7)"
   ]
  },
  {
   "cell_type": "markdown",
   "metadata": {
    "run_control": {
     "marked": false
    }
   },
   "source": [
    "Let's check our randomForest and cforest models together."
   ]
  },
  {
   "cell_type": "code",
   "execution_count": 243,
   "metadata": {
    "collapsed": true,
    "run_control": {
     "marked": false
    }
   },
   "outputs": [],
   "source": [
    "# Give a proper size to plots\n",
    "options(repr.plot.width=8, repr.plot.height=4)"
   ]
  },
  {
   "cell_type": "code",
   "execution_count": 244,
   "metadata": {
    "collapsed": false,
    "run_control": {
     "marked": false
    }
   },
   "outputs": [
    {
     "data": {
      "image/png": "[encoded data removed]",
      "text/plain": [
       "Plot with title \"RF2 (cforest)\""
      ]
     },
     "metadata": {},
     "output_type": "display_data"
    }
   ],
   "source": [
    "par(mfrow=c(1,2))\n",
    "dotchart(vusorted$x, \n",
    "         RF1$finalModel$xNames[vusorted$ix], \n",
    "         main = \"RF1 (randomForest)\", \n",
    "         xlab = \"Selection frequency\", \n",
    "         cex=0.7)\n",
    "dotchart(nbtimesSorted$x, \n",
    "         main = \"RF2 (cforest)\", \n",
    "         xlab = \"Selection frequency\", \n",
    "         cex=0.7)"
   ]
  },
  {
   "cell_type": "markdown",
   "metadata": {
    "run_control": {
     "marked": false
    }
   },
   "source": [
    "The use of 'cforest()' has clearly decreased the difference between Age/Fare and other variables such as Pclass or Embarked_S.<br>\n",
    "We can see that 'Fare' and 'Age' are still the mostly used variables although their impact into either the Gini importance or permutation accuracy importance is lower than other variables."
   ]
  },
  {
   "cell_type": "code",
   "execution_count": 245,
   "metadata": {
    "collapsed": false,
    "run_control": {
     "marked": false
    }
   },
   "outputs": [
    {
     "data": {
      "text/html": [
       "0.824864090341618"
      ],
      "text/latex": [
       "0.824864090341618"
      ],
      "text/markdown": [
       "0.824864090341618"
      ],
      "text/plain": [
       "[1] 0.8248641"
      ]
     },
     "metadata": {},
     "output_type": "display_data"
    }
   ],
   "source": [
    "# Best accuracy\n",
    "max(RF2$results$Accuracy)"
   ]
  },
  {
   "cell_type": "markdown",
   "metadata": {
    "run_control": {
     "marked": false
    }
   },
   "source": [
    "The accuracy of this model is lower than the random forest model, and even lower than the CART and log models..."
   ]
  },
  {
   "cell_type": "markdown",
   "metadata": {
    "run_control": {
     "marked": false
    }
   },
   "source": [
    "---\n",
    "## 3.4 Support Vector Machine (SVM)\n",
    "\n",
    "Since we have a relatively small number of features (1-1,000) and an intermediate number of observations (10-10,000), SVM seems to be a reasonable option, at least better than logistic regression. (with Gaussian kernel)"
   ]
  },
  {
   "cell_type": "markdown",
   "metadata": {
    "run_control": {
     "marked": false
    }
   },
   "source": [
    "### 3.4.1 With linear kernel"
   ]
  },
  {
   "cell_type": "code",
   "execution_count": 29,
   "metadata": {
    "collapsed": false,
    "init_cell": true,
    "run_control": {
     "marked": false
    }
   },
   "outputs": [],
   "source": [
    "## Define the cross-validation experiment\n",
    "costGrid = expand.grid( .C = c(0.01, 0.03, 0.1, 0.3, 1, 3, 10))\n",
    "numFolds = trainControl(method = \"cv\", number = 10 )"
   ]
  },
  {
   "cell_type": "code",
   "execution_count": 247,
   "metadata": {
    "collapsed": false,
    "run_control": {
     "marked": false
    }
   },
   "outputs": [
    {
     "data": {
      "text/html": [
       "<ol class=list-inline>\n",
       "\t<li>'Pclass'</li>\n",
       "\t<li>'Sex_female'</li>\n",
       "\t<li>'Sex_male'</li>\n",
       "\t<li>'Age'</li>\n",
       "\t<li>'SibSp'</li>\n",
       "\t<li>'Parch'</li>\n",
       "\t<li>'Fare'</li>\n",
       "\t<li>'Embarked_C'</li>\n",
       "\t<li>'Embarked_Q'</li>\n",
       "\t<li>'Embarked_S'</li>\n",
       "\t<li>'Child'</li>\n",
       "\t<li>'Young'</li>\n",
       "\t<li>'Title2_Master'</li>\n",
       "\t<li>'Title2_Miss'</li>\n",
       "\t<li>'Title2_Mr'</li>\n",
       "\t<li>'Title2_Mrs'</li>\n",
       "\t<li>'Title2_Sir'</li>\n",
       "\t<li>'Survived'</li>\n",
       "\t<li>'Deck'</li>\n",
       "</ol>\n"
      ],
      "text/latex": [
       "\\begin{enumerate*}\n",
       "\\item 'Pclass'\n",
       "\\item 'Sex\\_female'\n",
       "\\item 'Sex\\_male'\n",
       "\\item 'Age'\n",
       "\\item 'SibSp'\n",
       "\\item 'Parch'\n",
       "\\item 'Fare'\n",
       "\\item 'Embarked\\_C'\n",
       "\\item 'Embarked\\_Q'\n",
       "\\item 'Embarked\\_S'\n",
       "\\item 'Child'\n",
       "\\item 'Young'\n",
       "\\item 'Title2\\_Master'\n",
       "\\item 'Title2\\_Miss'\n",
       "\\item 'Title2\\_Mr'\n",
       "\\item 'Title2\\_Mrs'\n",
       "\\item 'Title2\\_Sir'\n",
       "\\item 'Survived'\n",
       "\\item 'Deck'\n",
       "\\end{enumerate*}\n"
      ],
      "text/markdown": [
       "1. 'Pclass'\n",
       "2. 'Sex_female'\n",
       "3. 'Sex_male'\n",
       "4. 'Age'\n",
       "5. 'SibSp'\n",
       "6. 'Parch'\n",
       "7. 'Fare'\n",
       "8. 'Embarked_C'\n",
       "9. 'Embarked_Q'\n",
       "10. 'Embarked_S'\n",
       "11. 'Child'\n",
       "12. 'Young'\n",
       "13. 'Title2_Master'\n",
       "14. 'Title2_Miss'\n",
       "15. 'Title2_Mr'\n",
       "16. 'Title2_Mrs'\n",
       "17. 'Title2_Sir'\n",
       "18. 'Survived'\n",
       "19. 'Deck'\n",
       "\n",
       "\n"
      ],
      "text/plain": [
       " [1] \"Pclass\"        \"Sex_female\"    \"Sex_male\"      \"Age\"          \n",
       " [5] \"SibSp\"         \"Parch\"         \"Fare\"          \"Embarked_C\"   \n",
       " [9] \"Embarked_Q\"    \"Embarked_S\"    \"Child\"         \"Young\"        \n",
       "[13] \"Title2_Master\" \"Title2_Miss\"   \"Title2_Mr\"     \"Title2_Mrs\"   \n",
       "[17] \"Title2_Sir\"    \"Survived\"      \"Deck\"         "
      ]
     },
     "metadata": {},
     "output_type": "display_data"
    }
   ],
   "source": [
    "names(Train)"
   ]
  },
  {
   "cell_type": "code",
   "execution_count": 248,
   "metadata": {
    "collapsed": false,
    "run_control": {
     "marked": false
    }
   },
   "outputs": [],
   "source": [
    "## Perform the cross validation\n",
    "set.seed(1)\n",
    "svm1 <- train(Survived ~ Pclass + Age + SibSp + Parch + Fare + Embarked_Q + Embarked_S + Child + Young + \n",
    "                          Title2_Miss + Title2_Mr + Title2_Mrs + Title2_Sir, \n",
    "              data = Train, \n",
    "              method = \"svmLinear\", \n",
    "              trControl = numFolds, \n",
    "              na.action = na.omit, \n",
    "              preProcess=c(\"center\", \"scale\"), \n",
    "              tuneGrid = costGrid)"
   ]
  },
  {
   "cell_type": "code",
   "execution_count": 249,
   "metadata": {
    "collapsed": false,
    "run_control": {
     "marked": false
    },
    "scrolled": false
   },
   "outputs": [
    {
     "data": {
      "text/html": [
       "<table>\n",
       "<thead><tr><th></th><th scope=col>C</th></tr></thead>\n",
       "<tbody>\n",
       "\t<tr><th scope=row>6</th><td>3</td></tr>\n",
       "</tbody>\n",
       "</table>\n"
      ],
      "text/latex": [
       "\\begin{tabular}{r|l}\n",
       "  & C\\\\\n",
       "\\hline\n",
       "\t6 & 3\\\\\n",
       "\\end{tabular}\n"
      ],
      "text/markdown": [
       "\n",
       "| <!--/--> | C | \n",
       "|---|\n",
       "| 6 | 3 | \n",
       "\n",
       "\n"
      ],
      "text/plain": [
       "  C\n",
       "6 3"
      ]
     },
     "metadata": {},
     "output_type": "display_data"
    }
   ],
   "source": [
    "svm1$bestTune"
   ]
  },
  {
   "cell_type": "code",
   "execution_count": 250,
   "metadata": {
    "collapsed": true,
    "run_control": {
     "marked": false
    }
   },
   "outputs": [],
   "source": [
    "# Give a proper size to plots\n",
    "options(repr.plot.width=4, repr.plot.height=4)"
   ]
  },
  {
   "cell_type": "code",
   "execution_count": 251,
   "metadata": {
    "collapsed": false,
    "run_control": {
     "marked": false
    }
   },
   "outputs": [
    {
     "data": {
      "text/html": [
       "0.82717568947906"
      ],
      "text/latex": [
       "0.82717568947906"
      ],
      "text/markdown": [
       "0.82717568947906"
      ],
      "text/plain": [
       "[1] 0.8271757"
      ]
     },
     "metadata": {},
     "output_type": "display_data"
    }
   ],
   "source": [
    "max(svm1$results$Accuracy)"
   ]
  },
  {
   "cell_type": "markdown",
   "metadata": {
    "run_control": {
     "marked": false
    }
   },
   "source": [
    "### 3.4.2 With Gaussian kernel"
   ]
  },
  {
   "cell_type": "code",
   "execution_count": 30,
   "metadata": {
    "collapsed": false,
    "init_cell": true,
    "run_control": {
     "marked": false
    }
   },
   "outputs": [],
   "source": [
    "## Define the cross-validation experiment\n",
    "costGrid = expand.grid( .C = c(0.01, 0.03, 0.1, 0.3, 1, 3, 10), .sigma = c(0.01, 0.03, 0.1, 0.3, 1, 3, 10))\n",
    "numFolds = trainControl(method = \"cv\", number = 10)"
   ]
  },
  {
   "cell_type": "code",
   "execution_count": 253,
   "metadata": {
    "collapsed": false,
    "run_control": {
     "marked": false
    }
   },
   "outputs": [],
   "source": [
    "## Perform the cross validation\n",
    "set.seed(1)\n",
    "svm2 <- train(Survived ~ Pclass + Age + SibSp + Parch + Fare + Embarked_Q + Embarked_S + Child + Young + \n",
    "                          Title2_Miss + Title2_Mr + Title2_Mrs + Title2_Sir, \n",
    "              data = Train, \n",
    "              method = \"svmRadial\", \n",
    "              trControl = numFolds, \n",
    "              na.action = na.omit, \n",
    "              preProcess=c(\"center\", \"scale\"), \n",
    "              tuneGrid = costGrid)"
   ]
  },
  {
   "cell_type": "code",
   "execution_count": 254,
   "metadata": {
    "collapsed": false,
    "run_control": {
     "marked": false
    },
    "scrolled": false
   },
   "outputs": [
    {
     "data": {
      "text/html": [
       "<table>\n",
       "<thead><tr><th></th><th scope=col>sigma</th><th scope=col>C</th></tr></thead>\n",
       "<tbody>\n",
       "\t<tr><th scope=row>25</th><td>0.3</td><td>0.3</td></tr>\n",
       "</tbody>\n",
       "</table>\n"
      ],
      "text/latex": [
       "\\begin{tabular}{r|ll}\n",
       "  & sigma & C\\\\\n",
       "\\hline\n",
       "\t25 & 0.3 & 0.3\\\\\n",
       "\\end{tabular}\n"
      ],
      "text/markdown": [
       "\n",
       "| <!--/--> | sigma | C | \n",
       "|---|\n",
       "| 25 | 0.3 | 0.3 | \n",
       "\n",
       "\n"
      ],
      "text/plain": [
       "   sigma C  \n",
       "25 0.3   0.3"
      ]
     },
     "metadata": {},
     "output_type": "display_data"
    }
   ],
   "source": [
    "svm2$bestTune"
   ]
  },
  {
   "cell_type": "code",
   "execution_count": 255,
   "metadata": {
    "collapsed": true,
    "run_control": {
     "marked": false
    }
   },
   "outputs": [],
   "source": [
    "# Give a proper size to plots\n",
    "options(repr.plot.width=6, repr.plot.height=4)"
   ]
  },
  {
   "cell_type": "code",
   "execution_count": 256,
   "metadata": {
    "collapsed": false,
    "run_control": {
     "marked": false
    },
    "scrolled": false
   },
   "outputs": [
    {
     "data": {},
     "metadata": {},
     "output_type": "display_data"
    },
    {
     "data": {
      "image/png": "[encoded data removed]",
      "text/plain": [
       "plot without title"
      ]
     },
     "metadata": {},
     "output_type": "display_data"
    }
   ],
   "source": [
    "plot(svm2)"
   ]
  },
  {
   "cell_type": "code",
   "execution_count": 257,
   "metadata": {
    "collapsed": false,
    "run_control": {
     "marked": false
    }
   },
   "outputs": [
    {
     "data": {
      "text/html": [
       "0.830520655998184"
      ],
      "text/latex": [
       "0.830520655998184"
      ],
      "text/markdown": [
       "0.830520655998184"
      ],
      "text/plain": [
       "[1] 0.8305207"
      ]
     },
     "metadata": {},
     "output_type": "display_data"
    }
   ],
   "source": [
    "max(svm2$results$Accuracy)"
   ]
  },
  {
   "cell_type": "markdown",
   "metadata": {
    "collapsed": true,
    "run_control": {
     "marked": false
    }
   },
   "source": [
    "This is better than CART but not better than our log and random forest models."
   ]
  },
  {
   "cell_type": "markdown",
   "metadata": {
    "run_control": {
     "marked": false
    }
   },
   "source": [
    "Even if SVM already uses regularisation to avoid overfitting (regularisation parameter C), let's remove some features that were defined as the least important ones by the random forest (i.e. Title2_Miss, Child, Title2_Mrs, Embarked_Q)."
   ]
  },
  {
   "cell_type": "code",
   "execution_count": 244,
   "metadata": {
    "collapsed": false,
    "run_control": {
     "marked": false
    },
    "scrolled": false
   },
   "outputs": [
    {
     "data": {
      "image/png": "[encoded data removed]",
      "text/plain": [
       "Plot with title \"RF2 (cforest)\""
      ]
     },
     "metadata": {},
     "output_type": "display_data"
    }
   ],
   "source": [
    "par(mfrow=c(1,2))\n",
    "dotchart(vusorted$x, \n",
    "         RF1$finalModel$xNames[vusorted$ix], \n",
    "         main = \"RF1 (randomForest)\", \n",
    "         xlab = \"Selection frequency\", \n",
    "         cex=0.7)\n",
    "dotchart(nbtimesSorted$x, \n",
    "         main = \"RF2 (cforest)\", \n",
    "         xlab = \"Selection frequency\", \n",
    "         cex=0.7)"
   ]
  },
  {
   "cell_type": "code",
   "execution_count": 38,
   "metadata": {
    "collapsed": false,
    "init_cell": true,
    "run_control": {
     "marked": false
    }
   },
   "outputs": [],
   "source": [
    "## Perform the cross validation\n",
    "set.seed(1)\n",
    "svm3 <- train(Survived ~ Pclass + Age + SibSp + Parch + Fare + Child + Title2_Miss + \n",
    "                          Title2_Mr + Title2_Mrs + Title2_Sir, \n",
    "              data = Train, \n",
    "              method = \"svmRadial\", \n",
    "              trControl = numFolds, \n",
    "              na.action = na.omit, \n",
    "              preProcess=c(\"center\", \"scale\"), \n",
    "              tuneGrid = costGrid)"
   ]
  },
  {
   "cell_type": "code",
   "execution_count": 269,
   "metadata": {
    "collapsed": false,
    "run_control": {
     "marked": false
    }
   },
   "outputs": [],
   "source": [
    "## Perform the cross validation\n",
    "set.seed(1)\n",
    "svm3 <- train(Survived ~ Pclass + Age + SibSp + Parch + Fare + Embarked_S +\n",
    "                          Title2_Mr + Title2_Sir, \n",
    "              data = Train, \n",
    "              method = \"svmRadial\", \n",
    "              trControl = numFolds, \n",
    "              na.action = na.omit, \n",
    "              preProcess=c(\"center\", \"scale\"), \n",
    "              tuneGrid = costGrid)"
   ]
  },
  {
   "cell_type": "code",
   "execution_count": 270,
   "metadata": {
    "collapsed": false,
    "run_control": {
     "marked": false
    },
    "scrolled": true
   },
   "outputs": [
    {
     "data": {
      "text/html": [
       "<table>\n",
       "<thead><tr><th></th><th scope=col>sigma</th><th scope=col>C</th></tr></thead>\n",
       "<tbody>\n",
       "\t<tr><th scope=row>43</th><td>0.01</td><td>10  </td></tr>\n",
       "</tbody>\n",
       "</table>\n"
      ],
      "text/latex": [
       "\\begin{tabular}{r|ll}\n",
       "  & sigma & C\\\\\n",
       "\\hline\n",
       "\t43 & 0.01 & 10  \\\\\n",
       "\\end{tabular}\n"
      ],
      "text/markdown": [
       "\n",
       "| <!--/--> | sigma | C | \n",
       "|---|\n",
       "| 43 | 0.01 | 10   | \n",
       "\n",
       "\n"
      ],
      "text/plain": [
       "   sigma C \n",
       "43 0.01  10"
      ]
     },
     "metadata": {},
     "output_type": "display_data"
    }
   ],
   "source": [
    "svm3$bestTune"
   ]
  },
  {
   "cell_type": "code",
   "execution_count": 271,
   "metadata": {
    "collapsed": false,
    "run_control": {
     "marked": false
    },
    "scrolled": true
   },
   "outputs": [
    {
     "data": {
      "text/html": [
       "0.836164737260243"
      ],
      "text/latex": [
       "0.836164737260243"
      ],
      "text/markdown": [
       "0.836164737260243"
      ],
      "text/plain": [
       "[1] 0.8361647"
      ]
     },
     "metadata": {},
     "output_type": "display_data"
    }
   ],
   "source": [
    "max(svm3$results$Accuracy)"
   ]
  },
  {
   "cell_type": "markdown",
   "metadata": {},
   "source": [
    "Now, we reach the same performance as our random forest model."
   ]
  },
  {
   "cell_type": "markdown",
   "metadata": {
    "collapsed": true,
    "run_control": {
     "marked": false
    }
   },
   "source": [
    "---\n",
    "## 3.5 Neural network"
   ]
  },
  {
   "cell_type": "code",
   "execution_count": 31,
   "metadata": {
    "collapsed": false,
    "init_cell": true,
    "run_control": {
     "marked": false
    }
   },
   "outputs": [],
   "source": [
    "## Define the cross-validation experiment\n",
    "layerGrid = expand.grid( .size = seq(5, 105, by=10), .decay = c(0, 10^seq(-3, 0, by=1)))\n",
    "numFolds = trainControl(method = \"cv\", number = 10 )"
   ]
  },
  {
   "cell_type": "code",
   "execution_count": null,
   "metadata": {
    "collapsed": false,
    "run_control": {
     "marked": false
    }
   },
   "outputs": [],
   "source": [
    "## Perform the cross validation\n",
    "set.seed(1)\n",
    "nn1 <- train(Survived ~ Pclass + Age + SibSp + Parch + Fare + Embarked_Q + Embarked_S + Child + Young + \n",
    "                         Title2_Miss + Title2_Mr + Title2_Mrs + Title2_Sir, \n",
    "             data = Train, \n",
    "             method = \"nnet\", \n",
    "             trControl = numFolds, \n",
    "             na.action = na.omit, \n",
    "             preProcess=c(\"center\", \"scale\"), \n",
    "             tuneGrid = layerGrid, \n",
    "             MaxNWts=1900,\n",
    "             trace=FALSE)"
   ]
  },
  {
   "cell_type": "code",
   "execution_count": null,
   "metadata": {
    "collapsed": false,
    "run_control": {
     "marked": false
    },
    "scrolled": false
   },
   "outputs": [],
   "source": [
    "nn1$bestTune"
   ]
  },
  {
   "cell_type": "code",
   "execution_count": null,
   "metadata": {
    "collapsed": false,
    "run_control": {
     "marked": false
    }
   },
   "outputs": [],
   "source": [
    "max(nn1$results$Accuracy, na.rm=TRUE)"
   ]
  },
  {
   "cell_type": "markdown",
   "metadata": {
    "run_control": {
     "marked": false
    }
   },
   "source": [
    "Neural networks are very sensitive to multicollinearity. Let's remove Fare that is highly correlater with Pclass."
   ]
  },
  {
   "cell_type": "code",
   "execution_count": 40,
   "metadata": {
    "collapsed": false,
    "init_cell": true,
    "run_control": {
     "marked": false
    }
   },
   "outputs": [],
   "source": [
    "## Perform the cross validation\n",
    "set.seed(1)\n",
    "nn2 <- train(Survived ~ Pclass + Age + SibSp + Parch + Embarked_Q + Embarked_S + Child + Young + \n",
    "                         Title2_Miss + Title2_Mr + Title2_Mrs + Title2_Sir, \n",
    "             data = Train, \n",
    "             method = \"nnet\", \n",
    "             trControl = numFolds, \n",
    "             na.action = na.omit, \n",
    "             preProcess=c(\"center\", \"scale\"), \n",
    "             tuneGrid = layerGrid,\n",
    "             MaxNWts=1700,\n",
    "             trace=FALSE)"
   ]
  },
  {
   "cell_type": "code",
   "execution_count": 229,
   "metadata": {
    "collapsed": false,
    "run_control": {
     "marked": false
    },
    "scrolled": true
   },
   "outputs": [
    {
     "data": {
      "text/html": [
       "<table>\n",
       "<thead><tr><th></th><th scope=col>size</th><th scope=col>decay</th></tr></thead>\n",
       "<tbody>\n",
       "\t<tr><th scope=row>40</th><td>75</td><td>1 </td></tr>\n",
       "</tbody>\n",
       "</table>\n"
      ],
      "text/latex": [
       "\\begin{tabular}{r|ll}\n",
       "  & size & decay\\\\\n",
       "\\hline\n",
       "\t40 & 75 & 1 \\\\\n",
       "\\end{tabular}\n"
      ],
      "text/markdown": [
       "\n",
       "| <!--/--> | size | decay | \n",
       "|---|\n",
       "| 40 | 75 | 1  | \n",
       "\n",
       "\n"
      ],
      "text/plain": [
       "   size decay\n",
       "40 75   1    "
      ]
     },
     "metadata": {},
     "output_type": "display_data"
    }
   ],
   "source": [
    "nn2$bestTune"
   ]
  },
  {
   "cell_type": "code",
   "execution_count": 230,
   "metadata": {
    "collapsed": false,
    "run_control": {
     "marked": false
    }
   },
   "outputs": [
    {
     "data": {
      "text/html": [
       "0.832042253521127"
      ],
      "text/latex": [
       "0.832042253521127"
      ],
      "text/markdown": [
       "0.832042253521127"
      ],
      "text/plain": [
       "[1] 0.8320423"
      ]
     },
     "metadata": {},
     "output_type": "display_data"
    }
   ],
   "source": [
    "max(nn2$results$Accuracy, na.rm=TRUE)"
   ]
  },
  {
   "cell_type": "markdown",
   "metadata": {
    "run_control": {
     "marked": false
    }
   },
   "source": [
    "Now, let's remove some features that were defined as the least important ones by the random forest (i.e. Title2_Miss, Child, Title2_Mrs, Embarked_Q)."
   ]
  },
  {
   "cell_type": "code",
   "execution_count": 234,
   "metadata": {
    "collapsed": false,
    "run_control": {
     "marked": false
    }
   },
   "outputs": [],
   "source": [
    "## Perform the cross validation\n",
    "set.seed(1)\n",
    "nn3 <- train(Survived ~ Pclass + Age + SibSp + Parch + Embarked_S + Young + \n",
    "                        Title2_Mr + Title2_Sir,\n",
    "             data = Train\n",
    "             method = \"nnet\", \n",
    "             trControl = numFolds, \n",
    "             na.action = na.omit, \n",
    "             preProcess=c(\"center\", \"scale\"), \n",
    "             tuneGrid = layerGrid, \n",
    "             MaxNWts=1900,\n",
    "             trace=FALSE)"
   ]
  },
  {
   "cell_type": "code",
   "execution_count": 235,
   "metadata": {
    "collapsed": false,
    "run_control": {
     "marked": false
    },
    "scrolled": true
   },
   "outputs": [
    {
     "data": {
      "text/html": [
       "<table>\n",
       "<thead><tr><th></th><th scope=col>size</th><th scope=col>decay</th></tr></thead>\n",
       "<tbody>\n",
       "\t<tr><th scope=row>35</th><td>65</td><td>1 </td></tr>\n",
       "</tbody>\n",
       "</table>\n"
      ],
      "text/latex": [
       "\\begin{tabular}{r|ll}\n",
       "  & size & decay\\\\\n",
       "\\hline\n",
       "\t35 & 65 & 1 \\\\\n",
       "\\end{tabular}\n"
      ],
      "text/markdown": [
       "\n",
       "| <!--/--> | size | decay | \n",
       "|---|\n",
       "| 35 | 65 | 1  | \n",
       "\n",
       "\n"
      ],
      "text/plain": [
       "   size decay\n",
       "35 65   1    "
      ]
     },
     "metadata": {},
     "output_type": "display_data"
    }
   ],
   "source": [
    "nn3$bestTune"
   ]
  },
  {
   "cell_type": "code",
   "execution_count": 236,
   "metadata": {
    "collapsed": false,
    "run_control": {
     "marked": false
    }
   },
   "outputs": [
    {
     "data": {
      "text/html": [
       "0.826388888888889"
      ],
      "text/latex": [
       "0.826388888888889"
      ],
      "text/markdown": [
       "0.826388888888889"
      ],
      "text/plain": [
       "[1] 0.8263889"
      ]
     },
     "metadata": {},
     "output_type": "display_data"
    }
   ],
   "source": [
    "max(nn3$results$Accuracy, na.rm=TRUE)"
   ]
  },
  {
   "cell_type": "markdown",
   "metadata": {},
   "source": [
    "That's not better. Let's keep them in the model."
   ]
  },
  {
   "cell_type": "markdown",
   "metadata": {},
   "source": [
    "## 3.6 XGBoost"
   ]
  },
  {
   "cell_type": "markdown",
   "metadata": {},
   "source": [
    "### 3.6.1 Linear"
   ]
  },
  {
   "cell_type": "code",
   "execution_count": 41,
   "metadata": {
    "collapsed": false,
    "init_cell": true,
    "run_control": {
     "marked": false
    }
   },
   "outputs": [],
   "source": [
    "## Define the cross-validation experiment\n",
    "tuneGridL = expand.grid(.nrounds = 1:3, \n",
    "                       .lambda = c(0.01, 0.03, 0.1, 0.3, 1, 3, 10), \n",
    "                       .alpha = c(0.01, 0.03, 0.1, 0.3, 1, 3, 10), \n",
    "                       .eta = c(0.01, 0.21, 0.05)) \n",
    "numFolds = trainControl(method = \"cv\", number = 10 )"
   ]
  },
  {
   "cell_type": "code",
   "execution_count": 42,
   "metadata": {
    "collapsed": false,
    "init_cell": true,
    "run_control": {
     "marked": false
    }
   },
   "outputs": [
    {
     "name": "stderr",
     "output_type": "stream",
     "text": [
      "Loading required package: xgboost\n",
      "Warning message:\n",
      "\"package 'xgboost' was built under R version 3.3.3\""
     ]
    }
   ],
   "source": [
    "## Perform the cross validation\n",
    "set.seed(1)\n",
    "xgb1 <- train(Survived ~ Pclass + Age + SibSp + Parch + Fare + Embarked_Q + Embarked_S + Child + Young + \n",
    "                         Title2_Miss + Title2_Mr + Title2_Mrs + Title2_Sir, \n",
    "             data = Train, \n",
    "             method = \"xgbLinear\", \n",
    "             trControl = numFolds, \n",
    "             na.action = na.omit, \n",
    "             preProcess=c(\"center\", \"scale\"), \n",
    "             tuneGrid = tuneGridL)"
   ]
  },
  {
   "cell_type": "code",
   "execution_count": 43,
   "metadata": {
    "collapsed": false,
    "run_control": {
     "marked": false
    },
    "scrolled": false
   },
   "outputs": [
    {
     "data": {
      "text/html": [
       "<table>\n",
       "<thead><tr><th></th><th scope=col>nrounds</th><th scope=col>lambda</th><th scope=col>alpha</th><th scope=col>eta</th></tr></thead>\n",
       "<tbody>\n",
       "\t<tr><th scope=row>244</th><td>2   </td><td>1   </td><td>1   </td><td>0.01</td></tr>\n",
       "</tbody>\n",
       "</table>\n"
      ],
      "text/latex": [
       "\\begin{tabular}{r|llll}\n",
       "  & nrounds & lambda & alpha & eta\\\\\n",
       "\\hline\n",
       "\t244 & 2    & 1    & 1    & 0.01\\\\\n",
       "\\end{tabular}\n"
      ],
      "text/markdown": [
       "\n",
       "| <!--/--> | nrounds | lambda | alpha | eta | \n",
       "|---|\n",
       "| 244 | 2    | 1    | 1    | 0.01 | \n",
       "\n",
       "\n"
      ],
      "text/plain": [
       "    nrounds lambda alpha eta \n",
       "244 2       1      1     0.01"
      ]
     },
     "metadata": {},
     "output_type": "display_data"
    }
   ],
   "source": [
    "xgb1$bestTune"
   ]
  },
  {
   "cell_type": "code",
   "execution_count": 44,
   "metadata": {
    "collapsed": false,
    "run_control": {
     "marked": false
    }
   },
   "outputs": [
    {
     "data": {
      "text/html": [
       "0.839509420043128"
      ],
      "text/latex": [
       "0.839509420043128"
      ],
      "text/markdown": [
       "0.839509420043128"
      ],
      "text/plain": [
       "[1] 0.8395094"
      ]
     },
     "metadata": {},
     "output_type": "display_data"
    }
   ],
   "source": [
    "max(xgb1$results$Accuracy)"
   ]
  },
  {
   "cell_type": "markdown",
   "metadata": {},
   "source": [
    "### 3.6.2 Tree"
   ]
  },
  {
   "cell_type": "code",
   "execution_count": 45,
   "metadata": {
    "collapsed": false,
    "init_cell": true,
    "run_control": {
     "marked": false
    }
   },
   "outputs": [],
   "source": [
    "## Define the cross-validation experiment\n",
    "tuneGridT = expand.grid(.nrounds = 1:3, \n",
    "                       .gamma = c(0.01, 0.03, 0.1, 0.3, 1),\n",
    "                       .max_depth = seq(3,10,2), \n",
    "                       .eta = c(0.01, 0.21, 0.05),\n",
    "                       .colsample_bytree = c(0.6, 0.7, 0.8, 0.9, 1), \n",
    "                       .min_child_weight = seq(1,10,2), \n",
    "                       .subsample = c(0.6, 0.7, 0.8, 0.9, 1)) \n",
    "numFolds = trainControl(method = \"cv\", number = 10 )"
   ]
  },
  {
   "cell_type": "code",
   "execution_count": 46,
   "metadata": {
    "collapsed": false,
    "init_cell": true,
    "run_control": {
     "marked": false
    }
   },
   "outputs": [],
   "source": [
    "## Perform the cross validation\n",
    "set.seed(1)\n",
    "xgb2 <- train(Survived ~ Pclass + Age + SibSp + Parch + Fare + Embarked_Q + Embarked_S + Child + Young + \n",
    "                         Title2_Miss + Title2_Mr + Title2_Mrs + Title2_Sir, \n",
    "             data = Train, \n",
    "             method = \"xgbTree\", \n",
    "             trControl = numFolds, \n",
    "             na.action = na.omit, \n",
    "             preProcess=c(\"center\", \"scale\"), \n",
    "             tuneGrid = tuneGridT)"
   ]
  },
  {
   "cell_type": "code",
   "execution_count": 47,
   "metadata": {
    "collapsed": false,
    "run_control": {
     "marked": false
    },
    "scrolled": false
   },
   "outputs": [
    {
     "data": {
      "text/html": [
       "<table>\n",
       "<thead><tr><th></th><th scope=col>nrounds</th><th scope=col>max_depth</th><th scope=col>eta</th><th scope=col>gamma</th><th scope=col>colsample_bytree</th><th scope=col>min_child_weight</th><th scope=col>subsample</th></tr></thead>\n",
       "<tbody>\n",
       "\t<tr><th scope=row>14351</th><td>2   </td><td>9   </td><td>0.05</td><td>0.3 </td><td>0.7 </td><td>3   </td><td>0.9 </td></tr>\n",
       "</tbody>\n",
       "</table>\n"
      ],
      "text/latex": [
       "\\begin{tabular}{r|lllllll}\n",
       "  & nrounds & max\\_depth & eta & gamma & colsample\\_bytree & min\\_child\\_weight & subsample\\\\\n",
       "\\hline\n",
       "\t14351 & 2    & 9    & 0.05 & 0.3  & 0.7  & 3    & 0.9 \\\\\n",
       "\\end{tabular}\n"
      ],
      "text/markdown": [
       "\n",
       "| <!--/--> | nrounds | max_depth | eta | gamma | colsample_bytree | min_child_weight | subsample | \n",
       "|---|\n",
       "| 14351 | 2    | 9    | 0.05 | 0.3  | 0.7  | 3    | 0.9  | \n",
       "\n",
       "\n"
      ],
      "text/plain": [
       "      nrounds max_depth eta  gamma colsample_bytree min_child_weight subsample\n",
       "14351 2       9         0.05 0.3   0.7              3                0.9      "
      ]
     },
     "metadata": {},
     "output_type": "display_data"
    }
   ],
   "source": [
    "xgb2$bestTune"
   ]
  },
  {
   "cell_type": "code",
   "execution_count": 48,
   "metadata": {
    "collapsed": false,
    "run_control": {
     "marked": false
    }
   },
   "outputs": [
    {
     "data": {
      "text/html": [
       "0.847362387924186"
      ],
      "text/latex": [
       "0.847362387924186"
      ],
      "text/markdown": [
       "0.847362387924186"
      ],
      "text/plain": [
       "[1] 0.8473624"
      ]
     },
     "metadata": {},
     "output_type": "display_data"
    }
   ],
   "source": [
    "max(xgb2$results$Accuracy)"
   ]
  },
  {
   "cell_type": "markdown",
   "metadata": {
    "run_control": {
     "marked": false
    }
   },
   "source": [
    "# 4 Compare the best models"
   ]
  },
  {
   "cell_type": "markdown",
   "metadata": {
    "run_control": {
     "marked": false
    }
   },
   "source": [
    "## 4.1 Compare the performances"
   ]
  },
  {
   "cell_type": "markdown",
   "metadata": {
    "run_control": {
     "marked": false
    }
   },
   "source": [
    "First, we have to run again the CART2 model, but using the formula and the Train_dum dataframe so that all models use the same training dataset."
   ]
  },
  {
   "cell_type": "code",
   "execution_count": 36,
   "metadata": {
    "collapsed": false,
    "init_cell": true,
    "run_control": {
     "marked": false
    }
   },
   "outputs": [],
   "source": [
    "set.seed(1)\n",
    "CART1b <- train(Survived ~ Pclass + Age + SibSp + Parch + Fare + Embarked_Q + Embarked_S + Child + Young + \n",
    "                         Title2_Miss + Title2_Mr + Title2_Mrs + Title2_Sir, \n",
    "                data = Train, \n",
    "                method = \"rpart\", \n",
    "                trControl = numFolds, \n",
    "                na.action = na.omit, \n",
    "                tuneGrid = cpGrid)"
   ]
  },
  {
   "cell_type": "code",
   "execution_count": 49,
   "metadata": {
    "collapsed": false,
    "run_control": {
     "marked": false
    }
   },
   "outputs": [
    {
     "data": {
      "text/plain": [
       "\n",
       "Call:\n",
       "summary.resamples(object = resamps)\n",
       "\n",
       "Models: GLM, CART, RF, SVM, NN, XGBL, XGBT \n",
       "Number of resamples: 10 \n",
       "\n",
       "Accuracy \n",
       "       Min. 1st Qu. Median   Mean 3rd Qu.   Max. NA's\n",
       "GLM  0.7416  0.8230 0.8324 0.8317  0.8551 0.8764    0\n",
       "CART 0.7303  0.8118 0.8323 0.8294  0.8551 0.8977    0\n",
       "RF   0.7528  0.8338 0.8427 0.8362  0.8516 0.8764    0\n",
       "SVM  0.7303  0.8118 0.8380 0.8328  0.8551 0.8977    0\n",
       "NN   0.7191  0.8187 0.8258 0.8226  0.8417 0.8764    0\n",
       "XGBL 0.7528  0.8315 0.8428 0.8395  0.8551 0.8876    0\n",
       "XGBT 0.7753  0.8455 0.8556 0.8474  0.8648 0.8764    0\n",
       "\n",
       "Kappa \n",
       "       Min. 1st Qu. Median   Mean 3rd Qu.   Max. NA's\n",
       "GLM  0.4303  0.6150 0.6405 0.6369  0.6887 0.7338    0\n",
       "CART 0.4158  0.5882 0.6407 0.6334  0.6887 0.7807    0\n",
       "RF   0.4453  0.6405 0.6580 0.6438  0.6758 0.7338    0\n",
       "SVM  0.4090  0.5962 0.6453 0.6406  0.6913 0.7783    0\n",
       "NN   0.3807  0.6025 0.6253 0.6156  0.6569 0.7338    0\n",
       "XGBL 0.4453  0.6386 0.6577 0.6523  0.6893 0.7593    0\n",
       "XGBT 0.5075  0.6597 0.6913 0.6714  0.7089 0.7454    0\n"
      ]
     },
     "metadata": {},
     "output_type": "display_data"
    }
   ],
   "source": [
    "# Collect the resampling results\n",
    "resamps <- resamples(list(GLM = logmod4,\n",
    "                          CART = CART1b,\n",
    "                          RF = RF1,\n",
    "                          SVM = svm3,\n",
    "                          NN = nn2,\n",
    "                          XGBL = xgb1,\n",
    "                          XGBT = xgb2))\n",
    "summary(resamps)"
   ]
  },
  {
   "cell_type": "markdown",
   "metadata": {
    "run_control": {
     "marked": false
    }
   },
   "source": [
    "Let's plot the results"
   ]
  },
  {
   "cell_type": "code",
   "execution_count": 50,
   "metadata": {
    "collapsed": true,
    "run_control": {
     "marked": false
    }
   },
   "outputs": [],
   "source": [
    "# Give a proper size to plots\n",
    "options(repr.plot.width=6, repr.plot.height=4)"
   ]
  },
  {
   "cell_type": "code",
   "execution_count": 51,
   "metadata": {
    "collapsed": false,
    "run_control": {
     "marked": false
    }
   },
   "outputs": [
    {
     "data": {},
     "metadata": {},
     "output_type": "display_data"
    },
    {
     "data": {
      "image/png": "[encoded data removed]",
      "text/plain": [
       "plot without title"
      ]
     },
     "metadata": {},
     "output_type": "display_data"
    }
   ],
   "source": [
    "bwplot(resamps, layout = c(2, 1))"
   ]
  },
  {
   "cell_type": "code",
   "execution_count": 243,
   "metadata": {
    "collapsed": false,
    "run_control": {
     "marked": false
    },
    "scrolled": false
   },
   "outputs": [
    {
     "data": {},
     "metadata": {},
     "output_type": "display_data"
    },
    {
     "data": {
      "image/png": "[encoded data removed]",
      "text/plain": [
       "plot without title"
      ]
     },
     "metadata": {},
     "output_type": "display_data"
    }
   ],
   "source": [
    "dotplot(resamps, metric = \"Accuracy\")"
   ]
  },
  {
   "cell_type": "code",
   "execution_count": 52,
   "metadata": {
    "collapsed": true,
    "run_control": {
     "marked": false
    }
   },
   "outputs": [],
   "source": [
    "# Give a proper size to plots\n",
    "options(repr.plot.width=5, repr.plot.height=5)"
   ]
  },
  {
   "cell_type": "code",
   "execution_count": 53,
   "metadata": {
    "collapsed": false,
    "run_control": {
     "marked": false
    }
   },
   "outputs": [
    {
     "data": {},
     "metadata": {},
     "output_type": "display_data"
    },
    {
     "data": {
      "image/png": "[encoded data removed]",
      "text/plain": [
       "plot without title"
      ]
     },
     "metadata": {},
     "output_type": "display_data"
    }
   ],
   "source": [
    "splom(resamps, varname.cex=0.8, varname.fontface=\"bold\", axis.text.cex=0.4)"
   ]
  },
  {
   "cell_type": "markdown",
   "metadata": {
    "run_control": {
     "marked": false
    }
   },
   "source": [
    "> Since models are fit on the same versions of the training data, it makes sense to make inferences on the differences between models. In this way we reduce the within-resample correlation that may exist. We can compute the differences, then use a simple t-test to evaluate the null hypothesis that there is no difference between models. (Max Kuhn)"
   ]
  },
  {
   "cell_type": "code",
   "execution_count": 54,
   "metadata": {
    "collapsed": false,
    "run_control": {
     "marked": false
    },
    "scrolled": false
   },
   "outputs": [
    {
     "data": {
      "text/plain": [
       "\n",
       "Call:\n",
       "diff.resamples(x = resamps)\n",
       "\n",
       "Models: GLM, CART, RF, SVM, NN, XGBL, XGBT \n",
       "Metrics: Accuracy, Kappa \n",
       "Number of differences: 21 \n",
       "p-value adjustment: bonferroni "
      ]
     },
     "metadata": {},
     "output_type": "display_data"
    },
    {
     "data": {
      "text/plain": [
       "\n",
       "Call:\n",
       "summary.diff.resamples(object = difValues)\n",
       "\n",
       "p-value adjustment: bonferroni \n",
       "Upper diagonal: estimates of the difference\n",
       "Lower diagonal: p-value for H0: difference = 0\n",
       "\n",
       "Accuracy \n",
       "     GLM    CART      RF        SVM       NN        XGBL      XGBT     \n",
       "GLM          0.002234 -0.004494 -0.001137  0.009040 -0.007840 -0.015693\n",
       "CART 1.0000           -0.006728 -0.003371  0.006806 -0.010074 -0.017927\n",
       "RF   1.0000 1.0000               0.003357  0.013534 -0.003346 -0.011199\n",
       "SVM  1.0000 1.0000    1.0000               0.010177 -0.006703 -0.014556\n",
       "NN   1.0000 1.0000    1.0000    1.0000              -0.016880 -0.024733\n",
       "XGBL 1.0000 1.0000    1.0000    1.0000    0.1399              -0.007853\n",
       "XGBT 1.0000 1.0000    1.0000    1.0000    0.3687    1.0000             \n",
       "\n",
       "Kappa \n",
       "     GLM    CART      RF        SVM       NN        XGBL      XGBT     \n",
       "GLM          0.003542 -0.006866 -0.003710  0.021340 -0.015408 -0.034500\n",
       "CART 1.0000           -0.010408 -0.007252  0.017797 -0.018950 -0.038042\n",
       "RF   1.0000 1.0000               0.003156  0.028206 -0.008542 -0.027634\n",
       "SVM  1.0000 1.0000    1.0000               0.025050 -0.011698 -0.030790\n",
       "NN   1.0000 1.0000    1.0000    1.0000              -0.036748 -0.055840\n",
       "XGBL 1.0000 1.0000    1.0000    1.0000    0.1176              -0.019092\n",
       "XGBT 1.0000 1.0000    1.0000    1.0000    0.3191    1.0000             \n"
      ]
     },
     "metadata": {},
     "output_type": "display_data"
    }
   ],
   "source": [
    "difValues <- diff(resamps)\n",
    "difValues\n",
    "summary(difValues)"
   ]
  },
  {
   "cell_type": "code",
   "execution_count": 57,
   "metadata": {
    "collapsed": true,
    "run_control": {
     "marked": false
    }
   },
   "outputs": [],
   "source": [
    "# Give a proper size to plots\n",
    "options(repr.plot.width=4, repr.plot.height=5)"
   ]
  },
  {
   "cell_type": "code",
   "execution_count": 58,
   "metadata": {
    "collapsed": false,
    "run_control": {
     "marked": false
    }
   },
   "outputs": [
    {
     "data": {},
     "metadata": {},
     "output_type": "display_data"
    },
    {
     "data": {
      "image/png": "[encoded data removed]",
      "text/plain": [
       "plot without title"
      ]
     },
     "metadata": {},
     "output_type": "display_data"
    }
   ],
   "source": [
    "bwplot(difValues, layout = c(3, 1), cex=0.8)"
   ]
  },
  {
   "cell_type": "markdown",
   "metadata": {
    "run_control": {
     "marked": false
    }
   },
   "source": [
    "We can see that all those models have a very similar accuracy."
   ]
  },
  {
   "cell_type": "markdown",
   "metadata": {
    "run_control": {
     "marked": false
    }
   },
   "source": [
    "## 4.2 Check correlations among models"
   ]
  },
  {
   "cell_type": "markdown",
   "metadata": {
    "run_control": {
     "marked": false
    }
   },
   "source": [
    "Let's check the correlation among models. We will use this information to decide whether we want to combine some models to build a stacked one."
   ]
  },
  {
   "cell_type": "code",
   "execution_count": 59,
   "metadata": {
    "collapsed": false,
    "run_control": {
     "marked": false
    }
   },
   "outputs": [
    {
     "data": {
      "text/html": [
       "<table>\n",
       "<thead><tr><th></th><th scope=col>GLM</th><th scope=col>CART</th><th scope=col>RF</th><th scope=col>SVM</th><th scope=col>NN</th><th scope=col>XGBL</th><th scope=col>XGBT</th></tr></thead>\n",
       "<tbody>\n",
       "\t<tr><th scope=row>GLM</th><td>1.0000000</td><td>0.9810310</td><td>0.7835333</td><td>0.9701062</td><td>0.8736794</td><td>0.9266126</td><td>0.7585487</td></tr>\n",
       "\t<tr><th scope=row>CART</th><td>0.9810310</td><td>1.0000000</td><td>0.6854624</td><td>0.9876399</td><td>0.8076806</td><td>0.8580292</td><td>0.7312503</td></tr>\n",
       "\t<tr><th scope=row>RF</th><td>0.7835333</td><td>0.6854624</td><td>1.0000000</td><td>0.7069643</td><td>0.8535902</td><td>0.9313125</td><td>0.8111155</td></tr>\n",
       "\t<tr><th scope=row>SVM</th><td>0.9701062</td><td>0.9876399</td><td>0.7069643</td><td>1.0000000</td><td>0.8353027</td><td>0.8787428</td><td>0.7721849</td></tr>\n",
       "\t<tr><th scope=row>NN</th><td>0.8736794</td><td>0.8076806</td><td>0.8535902</td><td>0.8353027</td><td>1.0000000</td><td>0.9333186</td><td>0.7599231</td></tr>\n",
       "\t<tr><th scope=row>XGBL</th><td>0.9266126</td><td>0.8580292</td><td>0.9313125</td><td>0.8787428</td><td>0.9333186</td><td>1.0000000</td><td>0.8692395</td></tr>\n",
       "\t<tr><th scope=row>XGBT</th><td>0.7585487</td><td>0.7312503</td><td>0.8111155</td><td>0.7721849</td><td>0.7599231</td><td>0.8692395</td><td>1.0000000</td></tr>\n",
       "</tbody>\n",
       "</table>\n"
      ],
      "text/latex": [
       "\\begin{tabular}{r|lllllll}\n",
       "  & GLM & CART & RF & SVM & NN & XGBL & XGBT\\\\\n",
       "\\hline\n",
       "\tGLM & 1.0000000 & 0.9810310 & 0.7835333 & 0.9701062 & 0.8736794 & 0.9266126 & 0.7585487\\\\\n",
       "\tCART & 0.9810310 & 1.0000000 & 0.6854624 & 0.9876399 & 0.8076806 & 0.8580292 & 0.7312503\\\\\n",
       "\tRF & 0.7835333 & 0.6854624 & 1.0000000 & 0.7069643 & 0.8535902 & 0.9313125 & 0.8111155\\\\\n",
       "\tSVM & 0.9701062 & 0.9876399 & 0.7069643 & 1.0000000 & 0.8353027 & 0.8787428 & 0.7721849\\\\\n",
       "\tNN & 0.8736794 & 0.8076806 & 0.8535902 & 0.8353027 & 1.0000000 & 0.9333186 & 0.7599231\\\\\n",
       "\tXGBL & 0.9266126 & 0.8580292 & 0.9313125 & 0.8787428 & 0.9333186 & 1.0000000 & 0.8692395\\\\\n",
       "\tXGBT & 0.7585487 & 0.7312503 & 0.8111155 & 0.7721849 & 0.7599231 & 0.8692395 & 1.0000000\\\\\n",
       "\\end{tabular}\n"
      ],
      "text/markdown": [
       "\n",
       "| <!--/--> | GLM | CART | RF | SVM | NN | XGBL | XGBT | \n",
       "|---|---|---|---|---|---|---|\n",
       "| GLM | 1.0000000 | 0.9810310 | 0.7835333 | 0.9701062 | 0.8736794 | 0.9266126 | 0.7585487 | \n",
       "| CART | 0.9810310 | 1.0000000 | 0.6854624 | 0.9876399 | 0.8076806 | 0.8580292 | 0.7312503 | \n",
       "| RF | 0.7835333 | 0.6854624 | 1.0000000 | 0.7069643 | 0.8535902 | 0.9313125 | 0.8111155 | \n",
       "| SVM | 0.9701062 | 0.9876399 | 0.7069643 | 1.0000000 | 0.8353027 | 0.8787428 | 0.7721849 | \n",
       "| NN | 0.8736794 | 0.8076806 | 0.8535902 | 0.8353027 | 1.0000000 | 0.9333186 | 0.7599231 | \n",
       "| XGBL | 0.9266126 | 0.8580292 | 0.9313125 | 0.8787428 | 0.9333186 | 1.0000000 | 0.8692395 | \n",
       "| XGBT | 0.7585487 | 0.7312503 | 0.8111155 | 0.7721849 | 0.7599231 | 0.8692395 | 1.0000000 | \n",
       "\n",
       "\n"
      ],
      "text/plain": [
       "     GLM       CART      RF        SVM       NN        XGBL      XGBT     \n",
       "GLM  1.0000000 0.9810310 0.7835333 0.9701062 0.8736794 0.9266126 0.7585487\n",
       "CART 0.9810310 1.0000000 0.6854624 0.9876399 0.8076806 0.8580292 0.7312503\n",
       "RF   0.7835333 0.6854624 1.0000000 0.7069643 0.8535902 0.9313125 0.8111155\n",
       "SVM  0.9701062 0.9876399 0.7069643 1.0000000 0.8353027 0.8787428 0.7721849\n",
       "NN   0.8736794 0.8076806 0.8535902 0.8353027 1.0000000 0.9333186 0.7599231\n",
       "XGBL 0.9266126 0.8580292 0.9313125 0.8787428 0.9333186 1.0000000 0.8692395\n",
       "XGBT 0.7585487 0.7312503 0.8111155 0.7721849 0.7599231 0.8692395 1.0000000"
      ]
     },
     "metadata": {},
     "output_type": "display_data"
    }
   ],
   "source": [
    "model_cor <- modelCor(resamps)\n",
    "model_cor"
   ]
  },
  {
   "cell_type": "code",
   "execution_count": 60,
   "metadata": {
    "collapsed": false,
    "run_control": {
     "marked": false
    },
    "scrolled": false
   },
   "outputs": [
    {
     "data": {
      "image/png": "[encoded data removed]",
      "text/plain": [
       "Plot with title \"\""
      ]
     },
     "metadata": {},
     "output_type": "display_data"
    }
   ],
   "source": [
    "corrplot(model_cor)"
   ]
  },
  {
   "cell_type": "markdown",
   "metadata": {
    "collapsed": true,
    "run_control": {
     "marked": false
    }
   },
   "source": [
    "The models are highly correlated to each other, so to assemble them will likely have little benefits."
   ]
  },
  {
   "cell_type": "markdown",
   "metadata": {
    "run_control": {
     "marked": false
    }
   },
   "source": [
    "# 5 Predictions on the test set"
   ]
  },
  {
   "cell_type": "code",
   "execution_count": 61,
   "metadata": {
    "collapsed": false
   },
   "outputs": [
    {
     "name": "stdout",
     "output_type": "stream",
     "text": [
      "'data.frame':\t418 obs. of  22 variables:\n",
      " $ PassengerId  : int  892 893 894 895 896 897 898 899 900 901 ...\n",
      " $ Pclass       : Ord.factor w/ 3 levels \"1\"<\"2\"<\"3\": 3 3 2 3 3 3 3 2 3 3 ...\n",
      " $ Name         : Factor w/ 1307 levels \"Abbing, Mr. Anthony\",..: 438 1298 1162 1303 1072 1259 178 949 896 994 ...\n",
      " $ Sex_female   : Factor w/ 2 levels \"0\",\"1\": 1 2 1 1 2 1 2 1 2 1 ...\n",
      " $ Sex_male     : Factor w/ 2 levels \"0\",\"1\": 2 1 2 2 1 2 1 2 1 2 ...\n",
      " $ Age          : num  34.5 47 62 27 22 14 30 26 18 21 ...\n",
      " $ SibSp        : int  0 1 0 0 1 0 0 1 0 2 ...\n",
      " $ Parch        : int  0 0 0 0 1 0 0 1 0 0 ...\n",
      " $ Ticket       : Factor w/ 929 levels \"110152\",\"110413\",..: 781 841 726 776 252 869 787 159 745 520 ...\n",
      " $ Fare         : num  7.83 7 9.69 8.66 12.29 ...\n",
      " $ Cabin        : Factor w/ 186 levels \"A10\",\"A14\",\"A16\",..: NA NA NA NA NA NA NA NA NA NA ...\n",
      " $ Embarked_C   : Factor w/ 2 levels \"0\",\"1\": 1 1 1 1 1 1 1 1 2 1 ...\n",
      " $ Embarked_Q   : Factor w/ 2 levels \"0\",\"1\": 2 1 2 1 1 1 2 1 1 1 ...\n",
      " $ Embarked_S   : Factor w/ 2 levels \"0\",\"1\": 1 2 1 2 2 2 1 2 1 2 ...\n",
      " $ Title        : Factor w/ 18 levels \"Capt\",\"Col\",\"Don\",..: 13 14 13 13 14 13 10 13 14 13 ...\n",
      " $ Child        : Factor w/ 2 levels \"FALSE\",\"TRUE\": 1 1 1 1 1 1 1 1 1 1 ...\n",
      " $ Young        : Factor w/ 2 levels \"FALSE\",\"TRUE\": 1 1 1 2 2 1 2 2 2 2 ...\n",
      " $ Title2_Master: Factor w/ 2 levels \"0\",\"1\": 1 1 1 1 1 2 1 1 1 1 ...\n",
      " $ Title2_Miss  : Factor w/ 2 levels \"0\",\"1\": 1 1 1 1 1 1 1 1 1 1 ...\n",
      " $ Title2_Mr    : Factor w/ 2 levels \"0\",\"1\": 2 1 2 2 1 1 1 2 1 2 ...\n",
      " $ Title2_Mrs   : Factor w/ 2 levels \"0\",\"1\": 1 2 1 1 2 1 2 1 2 1 ...\n",
      " $ Title2_Sir   : Factor w/ 2 levels \"0\",\"1\": 1 1 1 1 1 1 1 1 1 1 ...\n",
      " - attr(*, \"dummies\")=List of 3\n",
      "  ..$ Sex     : int  4 5\n",
      "  ..$ Embarked: int  12 13 14\n",
      "  ..$ Title2  : int  18 19 20 21 22\n"
     ]
    }
   ],
   "source": [
    "str(Test)"
   ]
  },
  {
   "cell_type": "markdown",
   "metadata": {},
   "source": [
    "## 5.1 GLM"
   ]
  },
  {
   "cell_type": "code",
   "execution_count": 101,
   "metadata": {
    "collapsed": false,
    "run_control": {
     "marked": false
    }
   },
   "outputs": [],
   "source": [
    "pred_GLM_Test = predict(logmod4, newdata=Test)"
   ]
  },
  {
   "cell_type": "code",
   "execution_count": 102,
   "metadata": {
    "collapsed": false,
    "run_control": {
     "marked": false
    }
   },
   "outputs": [],
   "source": [
    "pred_GLM_final <- cbind(Test$PassengerId, as.character(pred_GLM_Test))"
   ]
  },
  {
   "cell_type": "code",
   "execution_count": 103,
   "metadata": {
    "collapsed": false,
    "run_control": {
     "marked": false
    }
   },
   "outputs": [
    {
     "data": {
      "text/html": [
       "<table>\n",
       "<thead><tr><th scope=col>PassengerId</th><th scope=col>Survived</th></tr></thead>\n",
       "<tbody>\n",
       "\t<tr><td>892</td><td>No </td></tr>\n",
       "\t<tr><td>893</td><td>Yes</td></tr>\n",
       "\t<tr><td>894</td><td>No </td></tr>\n",
       "\t<tr><td>895</td><td>No </td></tr>\n",
       "\t<tr><td>896</td><td>No </td></tr>\n",
       "\t<tr><td>897</td><td>Yes</td></tr>\n",
       "</tbody>\n",
       "</table>\n"
      ],
      "text/latex": [
       "\\begin{tabular}{ll}\n",
       " PassengerId & Survived\\\\\n",
       "\\hline\n",
       "\t 892 & No \\\\\n",
       "\t 893 & Yes\\\\\n",
       "\t 894 & No \\\\\n",
       "\t 895 & No \\\\\n",
       "\t 896 & No \\\\\n",
       "\t 897 & Yes\\\\\n",
       "\\end{tabular}\n"
      ],
      "text/markdown": [
       "\n",
       "PassengerId | Survived | \n",
       "|---|---|---|---|---|---|\n",
       "| 892 | No  | \n",
       "| 893 | Yes | \n",
       "| 894 | No  | \n",
       "| 895 | No  | \n",
       "| 896 | No  | \n",
       "| 897 | Yes | \n",
       "\n",
       "\n"
      ],
      "text/plain": [
       "     PassengerId Survived\n",
       "[1,] 892         No      \n",
       "[2,] 893         Yes     \n",
       "[3,] 894         No      \n",
       "[4,] 895         No      \n",
       "[5,] 896         No      \n",
       "[6,] 897         Yes     "
      ]
     },
     "metadata": {},
     "output_type": "display_data"
    }
   ],
   "source": [
    "colnames(pred_GLM_final) <- c(\"PassengerId\", \"Survived\")\n",
    "head(pred_GLM_final)"
   ]
  },
  {
   "cell_type": "code",
   "execution_count": 104,
   "metadata": {
    "collapsed": false
   },
   "outputs": [],
   "source": [
    "pred_GLM_final <- as.data.frame(pred_GLM_final)"
   ]
  },
  {
   "cell_type": "code",
   "execution_count": 105,
   "metadata": {
    "collapsed": false
   },
   "outputs": [],
   "source": [
    "pred_GLM_final$Survived <- revalue(pred_GLM_final$Survived, c(\"No\"=\"0\", \"Yes\"=\"1\"))"
   ]
  },
  {
   "cell_type": "code",
   "execution_count": 107,
   "metadata": {
    "collapsed": false
   },
   "outputs": [],
   "source": [
    "write.table(pred_GLM_final, file=\"pred_glm_final2.csv\", sep=\",\", row.names=FALSE)"
   ]
  },
  {
   "cell_type": "markdown",
   "metadata": {},
   "source": [
    "leaderboard score on Kaggle:  0.78469"
   ]
  },
  {
   "cell_type": "markdown",
   "metadata": {},
   "source": [
    "## 5.2 CART"
   ]
  },
  {
   "cell_type": "code",
   "execution_count": 109,
   "metadata": {
    "collapsed": false,
    "run_control": {
     "marked": false
    }
   },
   "outputs": [],
   "source": [
    "pred_CART_Test = predict(CART1b, newdata=Test)"
   ]
  },
  {
   "cell_type": "code",
   "execution_count": 110,
   "metadata": {
    "collapsed": false,
    "run_control": {
     "marked": false
    }
   },
   "outputs": [],
   "source": [
    "pred_CART_final <- cbind(Test$PassengerId, as.character(pred_CART_Test))"
   ]
  },
  {
   "cell_type": "code",
   "execution_count": 111,
   "metadata": {
    "collapsed": false,
    "run_control": {
     "marked": false
    }
   },
   "outputs": [],
   "source": [
    "colnames(pred_CART_final) <- c(\"PassengerId\", \"Survived\")"
   ]
  },
  {
   "cell_type": "code",
   "execution_count": 112,
   "metadata": {
    "collapsed": false
   },
   "outputs": [],
   "source": [
    "pred_CART_final <- as.data.frame(pred_CART_final)"
   ]
  },
  {
   "cell_type": "code",
   "execution_count": 113,
   "metadata": {
    "collapsed": false
   },
   "outputs": [],
   "source": [
    "pred_CART_final$Survived <- revalue(pred_CART_final$Survived, c(\"No\"=\"0\", \"Yes\"=\"1\"))"
   ]
  },
  {
   "cell_type": "code",
   "execution_count": 114,
   "metadata": {
    "collapsed": false
   },
   "outputs": [],
   "source": [
    "write.table(pred_CART_final, file=\"pred_cart_final2.csv\", sep=\",\", row.names=FALSE)"
   ]
  },
  {
   "cell_type": "markdown",
   "metadata": {},
   "source": [
    "leaderboard score on Kaggle:  0.79426"
   ]
  },
  {
   "cell_type": "markdown",
   "metadata": {
    "run_control": {
     "marked": false
    }
   },
   "source": [
    "## 5.3  Random forest"
   ]
  },
  {
   "cell_type": "code",
   "execution_count": 115,
   "metadata": {
    "collapsed": false,
    "run_control": {
     "marked": false
    }
   },
   "outputs": [],
   "source": [
    "pred_RF_Test = predict(RF1, newdata=Test)"
   ]
  },
  {
   "cell_type": "code",
   "execution_count": 116,
   "metadata": {
    "collapsed": false,
    "run_control": {
     "marked": false
    }
   },
   "outputs": [],
   "source": [
    "pred_RF_final <- cbind(Test$PassengerId, as.character(pred_RF_Test))"
   ]
  },
  {
   "cell_type": "code",
   "execution_count": 117,
   "metadata": {
    "collapsed": false,
    "run_control": {
     "marked": false
    }
   },
   "outputs": [],
   "source": [
    "colnames(pred_RF_final) <- c(\"PassengerId\", \"Survived\")"
   ]
  },
  {
   "cell_type": "code",
   "execution_count": 118,
   "metadata": {
    "collapsed": false
   },
   "outputs": [],
   "source": [
    "pred_RF_final <- as.data.frame(pred_RF_final)"
   ]
  },
  {
   "cell_type": "code",
   "execution_count": 119,
   "metadata": {
    "collapsed": false
   },
   "outputs": [],
   "source": [
    "pred_RF_final$Survived <- revalue(pred_RF_final$Survived, c(\"No\"=\"0\", \"Yes\"=\"1\"))"
   ]
  },
  {
   "cell_type": "code",
   "execution_count": 120,
   "metadata": {
    "collapsed": false
   },
   "outputs": [],
   "source": [
    "write.table(pred_RF_final, file=\"pred_rf_final2.csv\", sep=\",\", row.names=FALSE)"
   ]
  },
  {
   "cell_type": "markdown",
   "metadata": {},
   "source": [
    "leaderboard score on Kaggle:  0.77512"
   ]
  },
  {
   "cell_type": "markdown",
   "metadata": {
    "run_control": {
     "marked": false
    }
   },
   "source": [
    "## 5.4 SVM"
   ]
  },
  {
   "cell_type": "code",
   "execution_count": 78,
   "metadata": {
    "collapsed": false,
    "run_control": {
     "marked": false
    }
   },
   "outputs": [],
   "source": [
    "pred_SVM_Test = predict(svm3, newdata=Test)"
   ]
  },
  {
   "cell_type": "code",
   "execution_count": 79,
   "metadata": {
    "collapsed": false,
    "run_control": {
     "marked": false
    }
   },
   "outputs": [],
   "source": [
    "pred_SVM_final <- cbind(Test$PassengerId, as.character(pred_SVM_Test))"
   ]
  },
  {
   "cell_type": "code",
   "execution_count": 80,
   "metadata": {
    "collapsed": false,
    "run_control": {
     "marked": false
    }
   },
   "outputs": [],
   "source": [
    "colnames(pred_SVM_final) <- c(\"PassengerId\", \"Survived\")"
   ]
  },
  {
   "cell_type": "code",
   "execution_count": 81,
   "metadata": {
    "collapsed": false
   },
   "outputs": [],
   "source": [
    "pred_SVM_final <- as.data.frame(pred_SVM_final)"
   ]
  },
  {
   "cell_type": "code",
   "execution_count": 85,
   "metadata": {
    "collapsed": false
   },
   "outputs": [],
   "source": [
    "pred_SVM_final$Survived <- revalue(pred_SVM_final$Survived, c(\"No\"=\"0\", \"Yes\"=\"1\"))"
   ]
  },
  {
   "cell_type": "code",
   "execution_count": 87,
   "metadata": {
    "collapsed": false
   },
   "outputs": [],
   "source": [
    "write.table(pred_SVM_final, file=\"pred_svm_final2.csv\", sep=\",\", row.names=FALSE)"
   ]
  },
  {
   "cell_type": "markdown",
   "metadata": {},
   "source": [
    "leaderboard score on Kaggle:  0.78469"
   ]
  },
  {
   "cell_type": "markdown",
   "metadata": {
    "run_control": {
     "marked": false
    }
   },
   "source": [
    "## 5.5 XGBoost (linear)"
   ]
  },
  {
   "cell_type": "code",
   "execution_count": 88,
   "metadata": {
    "collapsed": false,
    "run_control": {
     "marked": false
    }
   },
   "outputs": [],
   "source": [
    "pred_XGBL_Test = predict(xgb1, newdata=Test)"
   ]
  },
  {
   "cell_type": "code",
   "execution_count": 89,
   "metadata": {
    "collapsed": false,
    "run_control": {
     "marked": false
    }
   },
   "outputs": [],
   "source": [
    "pred_XGBL_final <- cbind(Test$PassengerId, as.character(pred_XGBL_Test))"
   ]
  },
  {
   "cell_type": "code",
   "execution_count": 90,
   "metadata": {
    "collapsed": false,
    "run_control": {
     "marked": false
    }
   },
   "outputs": [],
   "source": [
    "colnames(pred_XGBL_final) <- c(\"PassengerId\", \"Survived\")"
   ]
  },
  {
   "cell_type": "code",
   "execution_count": 91,
   "metadata": {
    "collapsed": false
   },
   "outputs": [],
   "source": [
    "pred_XGBL_final <- as.data.frame(pred_XGBL_final)"
   ]
  },
  {
   "cell_type": "code",
   "execution_count": 93,
   "metadata": {
    "collapsed": false
   },
   "outputs": [],
   "source": [
    "pred_XGBL_final$Survived <- revalue(pred_XGBL_final$Survived, c(\"No\"=\"0\", \"Yes\"=\"1\"))"
   ]
  },
  {
   "cell_type": "code",
   "execution_count": 94,
   "metadata": {
    "collapsed": false
   },
   "outputs": [],
   "source": [
    "write.table(pred_XGBL_final, file=\"pred_xgbL_final2.csv\", sep=\",\", row.names=FALSE)"
   ]
  },
  {
   "cell_type": "markdown",
   "metadata": {},
   "source": [
    "leaderboard score on Kaggle: 0.79904 "
   ]
  },
  {
   "cell_type": "markdown",
   "metadata": {
    "run_control": {
     "marked": false
    }
   },
   "source": [
    "## 5.6 XGBoost (tree)"
   ]
  },
  {
   "cell_type": "code",
   "execution_count": 95,
   "metadata": {
    "collapsed": false,
    "run_control": {
     "marked": false
    }
   },
   "outputs": [],
   "source": [
    "pred_XGBT_Test = predict(xgb2, newdata=Test)"
   ]
  },
  {
   "cell_type": "code",
   "execution_count": 96,
   "metadata": {
    "collapsed": false,
    "run_control": {
     "marked": false
    }
   },
   "outputs": [],
   "source": [
    "pred_XGBT_final <- cbind(Test$PassengerId, as.character(pred_XGBT_Test))"
   ]
  },
  {
   "cell_type": "code",
   "execution_count": 97,
   "metadata": {
    "collapsed": false,
    "run_control": {
     "marked": false
    }
   },
   "outputs": [],
   "source": [
    "colnames(pred_XGBT_final) <- c(\"PassengerId\", \"Survived\")"
   ]
  },
  {
   "cell_type": "code",
   "execution_count": 98,
   "metadata": {
    "collapsed": false
   },
   "outputs": [],
   "source": [
    "pred_XGBT_final <- as.data.frame(pred_XGBT_final)"
   ]
  },
  {
   "cell_type": "code",
   "execution_count": 99,
   "metadata": {
    "collapsed": false
   },
   "outputs": [],
   "source": [
    "pred_XGBT_final$Survived <- revalue(pred_XGBT_final$Survived, c(\"No\"=\"0\", \"Yes\"=\"1\"))"
   ]
  },
  {
   "cell_type": "code",
   "execution_count": 100,
   "metadata": {
    "collapsed": false
   },
   "outputs": [],
   "source": [
    "write.table(pred_XGBT_final, file=\"pred_xgbT_final2.csv\", sep=\",\", row.names=FALSE)"
   ]
  },
  {
   "cell_type": "markdown",
   "metadata": {},
   "source": [
    "leaderboard score on Kaggle: 0.73206"
   ]
  },
  {
   "cell_type": "markdown",
   "metadata": {
    "run_control": {
     "marked": false
    }
   },
   "source": [
    "# 6 Going further"
   ]
  },
  {
   "cell_type": "markdown",
   "metadata": {
    "run_control": {
     "marked": false
    }
   },
   "source": [
    "To improve the accuracy, we can try to:\n",
    "* avoid combining Train and Test datasets at the beginning, and split our Train dataset into a Train2 and Validation sets. In doing so, we will avoid contamination of training data through data imputation, parameter optimization and feature selection. I choose not to do so for this first attempt because of the small sample size or the training set.\n",
    "* use separate predictive models for males and females given the difference in survival for each sex.\n",
    "* impute Deck.\n",
    "* create a variable Family (from Name and Ticket) and then use it to create the variables Single, SmallFamily and LargeFamily.\n",
    "* transform data"
   ]
  }
 ],
 "metadata": {
  "_draft": {
   "nbviewer_url": "https://gist.github.com/81a3a03179119d8972d2730100792f64"
  },
  "author": "Titanic: Machine Learning from Disaster",
  "gist": {
   "data": {
    "description": "My first attempt to predict survival of the Titanic's passengers (R)",
    "public": true
   },
   "id": "81a3a03179119d8972d2730100792f64"
  },
  "kernelspec": {
   "display_name": "R",
   "language": "R",
   "name": "ir"
  },
  "language_info": {
   "codemirror_mode": "r",
   "file_extension": ".r",
   "mimetype": "text/x-r-source",
   "name": "R",
   "pygments_lexer": "r",
   "version": "3.4.2"
  },
  "latex_envs": {
   "LaTeX_envs_menu_present": true,
   "autocomplete": true,
   "bibliofile": "biblio.bib",
   "cite_by": "apalike",
   "current_citInitial": 1,
   "eqLabelWithNumbers": true,
   "eqNumInitial": 1,
   "hotkeys": {
    "equation": "Ctrl-E",
    "itemize": "Ctrl-I"
   },
   "labels_anchors": true,
   "latex_user_defs": false,
   "report_style_numbering": true,
   "user_envs_cfg": true
  },
  "notify_time": "30",
  "toc": {
   "colors": {
    "hover_highlight": "#DAA520",
    "navigate_num": "#000000",
    "navigate_text": "#333333",
    "running_highlight": "#FF0000",
    "selected_highlight": "#FFD700",
    "sidebar_border": "#EEEEEE",
    "wrapper_background": "#FFFFFF"
   },
   "moveMenuLeft": true,
   "nav_menu": {
    "height": "512px",
    "width": "252px"
   },
   "navigate_menu": true,
   "number_sections": true,
   "sideBar": true,
   "threshold": "4",
   "toc_cell": true,
   "toc_position": {
    "height": "532px",
    "left": "0px",
    "right": "1154px",
    "top": "106px",
    "width": "291px"
   },
   "toc_section_display": "block",
   "toc_window_display": true,
   "widenNotebook": false
  },
  "varInspector": {
   "cols": {
    "lenName": 16,
    "lenType": 16,
    "lenVar": 40
   },
   "kernels_config": {
    "python": {
     "delete_cmd_postfix": "",
     "delete_cmd_prefix": "del ",
     "library": "var_list.py",
     "varRefreshCmd": "print(var_dic_list())"
    },
    "r": {
     "delete_cmd_postfix": ") ",
     "delete_cmd_prefix": "rm(",
     "library": "var_list.r",
     "varRefreshCmd": "cat(var_dic_list()) "
    }
   },
   "position": {
    "height": "482px",
    "left": "742px",
    "right": "20px",
    "top": "108px",
    "width": "483px"
   },
   "types_to_exclude": [
    "module",
    "function",
    "builtin_function_or_method",
    "instance",
    "_Feature"
   ],
   "window_display": false
  }
 },
 "nbformat": 4,
 "nbformat_minor": 2
}
