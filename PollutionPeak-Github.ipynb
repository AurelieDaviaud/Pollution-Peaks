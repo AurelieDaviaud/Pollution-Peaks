{
 "cells": [
  {
   "cell_type": "markdown",
   "metadata": {},
   "source": [
    "# Pollution peaks\n",
    "Author: Aurélie Daviaud"
   ]
  },
  {
   "cell_type": "markdown",
   "metadata": {},
   "source": [
    "* Language: R\n",
    "* Methods : Time series (regression) (ARIMA, neural network)"
   ]
  },
  {
   "cell_type": "markdown",
   "metadata": {},
   "source": [
    "## Table of Contents\n",
    "1 Data preparation<br>\n",
    "...1.1 Preparation of weather data<br>\n",
    "...1.2 Create dataframe<br>\n",
    "......1.2.1 Load data<br>\n",
    "......1.2.2 Perform date transformations<br>\n",
    "......1.2.3 Calculate daily averages of weather data<br>\n",
    "......1.2.4 Load dataMeteo and give proper class to dates and proper names<br>\n",
    "......1.2.5 Load holidays' dates<br>\n",
    "...1.3 Feature engineering<br>\n",
    "......1.3.1 Weekdays<br>\n",
    "......1.3.2 Holidays<br>\n",
    "......1.3.3 Traffic (days when people go to and return from holidays)<br>\n",
    "......1.3.4 Pollution<br>\n",
    "2 Split the dataset<br>\n",
    "3 Exploratory data analysis<br>\n",
    "...3.1 Check missing values<br>\n",
    "...3.2 Decomposition of the time series<br>\n",
    "......3.2.1 Check plots<br>\n",
    "......3.2.2 Create a time series object<br>\n",
    "......3.2.3 Decomposition of the series<br>\n",
    "...3.3 Visualize relationships<br>\n",
    "......3.3.1 Check correlations among variables<br>\n",
    "......3.3.2 Temperature<br>\n",
    "......3.3.3 Cloudiness<br>\n",
    "......3.3.4 Wind<br>\n",
    "......3.3.5 Rain<br>\n",
    "......3.3.6 Traffic<br>\n",
    "4 Regularized linear regression (coming soon)<br>\n",
    "5 ARIMA<br>\n",
    "...5.1 Preliminar checks<br>\n",
    "......5.1.1 Stationarity<br>\n",
    "......5.1.2 Plot ACF/PACF charts<br>\n",
    "......5.1.3 Differencing the original non-stationary data<br>\n",
    "...5.2 Build models<br>\n",
    "......5.2.1 Quick and dirty<br>\n",
    "......5.2.2 Add seasonality (with Fourier terms)<br>\n",
    "...5.3 Add regressors<br>\n",
    "6 Artificial Neural Networks (feed forward network)<br>\n",
    "...6.1 Build models<br>\n",
    "......6.1.1 Quick and dirty<br>\n",
    "......6.1.2 Add seasonality (with Fourier terms)<br>\n",
    "......6.1.3 Add regressors<br>\n",
    "7 Compare models' performances<br>\n",
    "8 Walk Forward Validation<br>\n",
    "9 Going further"
   ]
  },
  {
   "cell_type": "markdown",
   "metadata": {},
   "source": [
    "**Context** <br>\n",
    "In this project, we will try to **predict pollution peaks** one week ahead.<br>\n",
    "The dataset includes data from the 01/01/2005 to the 31/12/2016 (12 years)."
   ]
  },
  {
   "cell_type": "markdown",
   "metadata": {},
   "source": [
    "**Open Data** <br>\n",
    "Air quality at Nantes: http://data.nantes.fr/donnees/detail/indice-atmo-journalier-a-nantes/ <br>\n",
    "Holidays (as a proxi for traffic)): http://www.education.gouv.fr/cid197/les-archives-calendrier-scolaire-partir-1960.html#Zones <br>\n",
    "Weather: we will use the code from https://github.com/boupetch/meteofrance-synop-omm (see below) to retrieve open data from\n",
    "https://donneespubliques.meteofrance.fr/?fond=produit&id_produit=90&id_rubrique=32"
   ]
  },
  {
   "cell_type": "code",
   "execution_count": 32,
   "metadata": {
    "collapsed": false,
    "init_cell": true,
    "scrolled": true
   },
   "outputs": [],
   "source": [
    "# Load libraries\n",
    "library(RCurl)        # curlPerform()\n",
    "library(lubridate)    # month()\n",
    "library(dplyr)        # %>%\n",
    "library(dummies)      # dummy.data.frame()\n",
    "library(zoo)          # lag(), coredata()\n",
    "library(polycor)      # hetcor()\n",
    "library(ggplot2)      # ggplot()\n",
    "library(caret)        # train(), trainControl(), resamples(), varImp()\n",
    "library(car)          # vif()\n",
    "library(plyr)         # revalue()\n",
    "library(rpart.plot)\n",
    "library(tseries)\n",
    "library(forecast)\n",
    "library(TSA)          # periodogram()\n",
    "library(data.table)   # data.table()\n",
    "library(ggforce)      # visualization tools\n",
    "library(plotly)       # interactive visualizations\n",
    "library(grid)         # visualizations\n",
    "library(animation)    # gif\n",
    "library(magick)       # gif\n",
    "library(scales)       # ggplot dates"
   ]
  },
  {
   "cell_type": "code",
   "execution_count": 33,
   "metadata": {
    "collapsed": false,
    "init_cell": true
   },
   "outputs": [],
   "source": [
    "# Set working directory\n",
    "setwd(\"./\")"
   ]
  },
  {
   "cell_type": "markdown",
   "metadata": {},
   "source": [
    "# 1 Data preparation"
   ]
  },
  {
   "cell_type": "markdown",
   "metadata": {},
   "source": [
    "## 1.1 Preparation of weather data"
   ]
  },
  {
   "cell_type": "markdown",
   "metadata": {},
   "source": [
    "We can use the code from https://github.com/boupetch/meteofrance-synop-omm (see below)to retrieve open data from https://donneespubliques.meteofrance.fr/?fond=produit&id_produit=90&id_rubrique=32"
   ]
  },
  {
   "cell_type": "code",
   "execution_count": null,
   "metadata": {
    "collapsed": false
   },
   "outputs": [],
   "source": [
    "## Stations list\n",
    "\n",
    "filename <- \"postesSynop.csv\"\n",
    "\n",
    "if(!file.exists(filename)){\n",
    "  f = CFILE(filename, mode=\"wb\")\n",
    "  curlPerform(url = \"https://donneespubliques.meteofrance.fr/donnees_libres/Txt/Synop/postesSynop.csv\", writedata = f@ref)\n",
    "  close(f)\n",
    "}\n",
    "synopStations <- read.csv2(filename)\n",
    "\n",
    "\n",
    "## Weather data\n",
    "\n",
    "meteoData <- list()\n",
    "\n",
    "date <- as.Date(\"20041201\",format=\"%Y%m%d\")\n",
    "lastdate <- as.Date(\"20170101\",format=\"%Y%m%d\")\n",
    "\n",
    "while(format(date,\"%Y%m\") < format(lastdate,\"%Y%m\")){\n",
    "  \n",
    "  month(date) <- month(date) + 1\n",
    "  \n",
    "  #Download file\n",
    "  filename <- gsub(\" \", \"\",paste (\"synop.\",format(date,\"%Y%m\"),\".csv.gz\"))\n",
    "  \n",
    "  if(!file.exists(filename) | (format(date,\"%Y%m\") == format(Sys.Date(),\"%Y%m\"))){\n",
    "    f = CFILE(filename, mode=\"wb\")\n",
    "    curlPerform(url = gsub(\" \", \"\",paste(\"https://donneespubliques.meteofrance.fr/donnees_libres/Txt/Synop/Archive/synop.\",format(date,\"%Y%m\"),\".csv.gz\")), writedata = f@ref)\n",
    "    close(f)\n",
    "  }\n",
    "  \n",
    "  meteoData[[format(date,\"%Y%m\")]] <- read.csv2(gzfile(filename))\n",
    "  \n",
    "  print(format(date,\"%Y%m\"))\n",
    "}\n",
    "\n",
    "\n",
    "\n",
    "## Perform date transformations\n",
    "\n",
    "for (name in names(meteoData)) {\n",
    "\n",
    "  #Date characters\n",
    "  meteoData[[name]]$date_string <- format(meteoData[[name]]$date, scientific = FALSE)\n",
    "  meteoData[[name]]$date_string <- as.character(meteoData[[name]]$date_string)\n",
    "  \n",
    "  #Year\n",
    "  meteoData[[name]]$year <- as.numeric(substr(meteoData[[name]]$date_string, 1, 4))\n",
    "  \n",
    "  #Month\n",
    "  meteoData[[name]]$month <- as.numeric(substr(meteoData[[name]]$date_string, 5, 6))\n",
    "  \n",
    "  #Day\n",
    "  meteoData[[name]]$day <- as.numeric(substr(meteoData[[name]]$date_string, 7, 8))\n",
    "  \n",
    "  #Hour\n",
    "  meteoData[[name]]$hour <- as.numeric(substr(meteoData[[name]]$date_string, 9, 10))\n",
    "\n",
    "}\n",
    "\n",
    "\n",
    "## Export to CSV\n",
    "\n",
    "exportFilename <- \"synop.csv\"\n",
    "\n",
    "file.remove(exportFilename)\n",
    "\n",
    "count <- 0\n",
    "for (name in names(meteoData)) {\n",
    "  print(name)\n",
    "  if(count == 0){\n",
    "    write.table(meteoData[[name]], file = exportFilename,sep = \";\",row.names = FALSE,col.names = TRUE)\n",
    "  } else{\n",
    "    write.table(meteoData[[name]], file = exportFilename, append=TRUE,sep = \";\",row.names = FALSE,col.names = FALSE)\n",
    "  }\n",
    "  count <- count+1\n",
    "}"
   ]
  },
  {
   "cell_type": "markdown",
   "metadata": {},
   "source": [
    "## 1.2 Create dataframe"
   ]
  },
  {
   "cell_type": "markdown",
   "metadata": {},
   "source": [
    "### 1.2.1 Load data"
   ]
  },
  {
   "cell_type": "code",
   "execution_count": 239,
   "metadata": {
    "collapsed": true
   },
   "outputs": [],
   "source": [
    "meteo <- read.csv(\"synop.csv\", sep=\";\", header=TRUE, na.strings = \"mq\")\n",
    "meteoNantes <- meteo[meteo$numer_sta==7222,]\n",
    "meteoNantes <- meteoNantes[,-1]\n",
    "\n",
    "airqual <- read.csv(\"QualiteAirNantes.csv\", sep=\",\", header=TRUE)\n",
    "airqual <- airqual[,-1]"
   ]
  },
  {
   "cell_type": "markdown",
   "metadata": {},
   "source": [
    "### 1.2.2 Perform date transformations"
   ]
  },
  {
   "cell_type": "code",
   "execution_count": 240,
   "metadata": {
    "collapsed": true
   },
   "outputs": [],
   "source": [
    "meteoNantes$date2 <- paste(meteoNantes$day, meteoNantes$mont, meteoNantes$year, sep=\"/\")\n",
    "meteoNantes$date3 <- as.Date(meteoNantes$date2, format=\"%d/%m/%Y\")\n",
    "meteoNantes$date <- meteoNantes$date3\n",
    "\n",
    "airqual$DATE <- as.Date(airqual$DATE, format=\"%d/%m/%Y\")\n",
    "airqual$year <- as.numeric(format(airqual$DATE, \"%Y\"))\n",
    "airqual$month <- as.numeric(format(airqual$DATE, \"%m\"))\n",
    "#airqual$day <- as.numeric(format(airqual$DATE, \"%d\"))"
   ]
  },
  {
   "cell_type": "markdown",
   "metadata": {},
   "source": [
    "### 1.2.3 Calculate daily averages of weather data"
   ]
  },
  {
   "cell_type": "code",
   "execution_count": 241,
   "metadata": {
    "collapsed": true
   },
   "outputs": [],
   "source": [
    "meteoNantes$tempC <- as.numeric(as.character(meteoNantes$t))-273.15\n",
    "\n",
    "all <- airqual\n",
    "\n",
    "varnames <- c(\"ff\", \"tempC\", \"u\", \"n\", \"pres\", \"rafper\", \"rr24\")\n",
    "\n",
    "for (var in varnames) {\n",
    "\tavgDaily <- tapply(as.numeric(as.character(meteoNantes[,var])), meteoNantes$date, mean, na.rm=TRUE)\n",
    "\tavgDaily2 <- as.data.frame(avgDaily)\n",
    "\tcolnames(avgDaily2) <- var\n",
    "\tavgDaily2$DATE <- row.names(avgDaily2)\n",
    "\tavgDaily2$DATE <- as.Date(avgDaily2$DATE, format=\"%Y-%m-%d\")\n",
    "\n",
    "\t# Join tables by DATE (left outer join)\n",
    "\tall <- merge(all, avgDaily2, by=\"DATE\", all.x=TRUE)\n",
    "}\n",
    "\n",
    "## Save dataframe\n",
    "write.table(all, file=\"dataMeteo.csv\", sep=\",\", row.names=FALSE)"
   ]
  },
  {
   "cell_type": "markdown",
   "metadata": {},
   "source": [
    "### 1.2.4 Load dataMeteo and give proper class to dates and proper names"
   ]
  },
  {
   "cell_type": "code",
   "execution_count": 242,
   "metadata": {
    "collapsed": true
   },
   "outputs": [],
   "source": [
    "dat <- read.csv(\"dataMeteo.csv\", sep=\",\", header=TRUE)"
   ]
  },
  {
   "cell_type": "code",
   "execution_count": 243,
   "metadata": {
    "collapsed": true
   },
   "outputs": [],
   "source": [
    "dat$DATE <- as.Date(dat$DATE, format=\"%Y-%m-%d\")\n",
    "names(dat)[names(dat) == \"ff\"] <- \"wind\"\n",
    "names(dat)[names(dat) == \"u\"] <- \"humidity\"\n",
    "names(dat)[names(dat) == \"n\"] <- \"cloud\"\n",
    "names(dat)[names(dat) == \"rr24\"] <- \"rain24\"\n",
    "dat$CODE_COULEUR <- NULL"
   ]
  },
  {
   "cell_type": "code",
   "execution_count": 244,
   "metadata": {
    "collapsed": false
   },
   "outputs": [
    {
     "name": "stdout",
     "output_type": "stream",
     "text": [
      "'data.frame':\t4383 obs. of  15 variables:\n",
      " $ DATE                         : Date, format: \"2005-01-01\" \"2005-01-02\" ...\n",
      " $ INDICE_ATMO                  : int  3 3 4 3 3 3 3 3 3 3 ...\n",
      " $ SOUS_INDICE_OZONE            : int  3 3 2 2 3 3 3 3 3 3 ...\n",
      " $ SOUS_INDICE_PARTICULES_FINES : int  1 2 3 2 1 2 1 3 2 2 ...\n",
      " $ SOUS_INDICE_DIOXYDE_D_AZOTE  : int  1 3 4 3 1 3 2 3 1 2 ...\n",
      " $ SOUS_INDICE_DIOXYDE_DE_SOUFRE: int  1 1 1 1 1 1 1 1 1 1 ...\n",
      " $ year                         : int  2005 2005 2005 2005 2005 2005 2005 2005 2005 2005 ...\n",
      " $ month                        : int  1 1 1 1 1 1 1 1 1 1 ...\n",
      " $ wind                         : num  4.89 3.34 1.41 2.96 5.26 ...\n",
      " $ tempC                        : num  11.2 7.88 3.14 3.76 10.81 ...\n",
      " $ humidity                     : num  96.9 80.8 91.6 91.5 95.1 ...\n",
      " $ cloud                        : num  97.5 61.67 8.57 60 98.75 ...\n",
      " $ pres                         : num  102558 102985 103631 102971 102706 ...\n",
      " $ rafper                       : num  7.9 5.64 2.73 4.22 9.2 ...\n",
      " $ rain24                       : num  0.8 1 0 0.4 2.8 4.4 0.4 0.6 4.2 0.8 ...\n"
     ]
    }
   ],
   "source": [
    "str(dat)"
   ]
  },
  {
   "cell_type": "markdown",
   "metadata": {},
   "source": [
    "### 1.2.5 Load holidays' dates"
   ]
  },
  {
   "cell_type": "code",
   "execution_count": 245,
   "metadata": {
    "collapsed": true
   },
   "outputs": [],
   "source": [
    "cal <- read.csv(\"calScol.csv\", sep=\",\", header=TRUE, row.names = NULL)\n",
    "cal$first <- as.Date(cal$first, format=\"%d/%m/%Y\")    # first day of holidays\n",
    "cal$last <- as.Date(cal$last, format=\"%d/%m/%Y\")-1    # the official last day of holidays is actually the first day of school"
   ]
  },
  {
   "cell_type": "code",
   "execution_count": 246,
   "metadata": {
    "collapsed": false
   },
   "outputs": [
    {
     "name": "stdout",
     "output_type": "stream",
     "text": [
      "'data.frame':\t64 obs. of  3 variables:\n",
      " $ Vacances: Factor w/ 5 levels \"Eté\",\"Hiver\",..: 5 3 2 4 1 5 3 2 4 1 ...\n",
      " $ first   : Date, format: \"2004-10-23\" \"2004-12-18\" ...\n",
      " $ last    : Date, format: \"2004-11-03\" \"2005-01-02\" ...\n"
     ]
    }
   ],
   "source": [
    "str(cal)"
   ]
  },
  {
   "cell_type": "markdown",
   "metadata": {},
   "source": [
    "## 1.3 Feature engineering"
   ]
  },
  {
   "cell_type": "markdown",
   "metadata": {},
   "source": [
    "### 1.3.1 Weekdays"
   ]
  },
  {
   "cell_type": "code",
   "execution_count": 247,
   "metadata": {
    "collapsed": true
   },
   "outputs": [],
   "source": [
    "dat$weekday <- weekdays(dat$DATE)"
   ]
  },
  {
   "cell_type": "markdown",
   "metadata": {},
   "source": [
    "Now, we can create dummy variables for 'weekdays' and 'month'."
   ]
  },
  {
   "cell_type": "code",
   "execution_count": 248,
   "metadata": {
    "collapsed": true
   },
   "outputs": [],
   "source": [
    "dat <- dummy.data.frame(dat, names= c(\"weekday\", \"month\") , sep = \"_\")"
   ]
  },
  {
   "cell_type": "code",
   "execution_count": 249,
   "metadata": {
    "collapsed": false
   },
   "outputs": [
    {
     "data": {
      "text/html": [
       "<table>\n",
       "<thead><tr><th scope=col>DATE</th><th scope=col>INDICE_ATMO</th><th scope=col>SOUS_INDICE_OZONE</th><th scope=col>SOUS_INDICE_PARTICULES_FINES</th><th scope=col>SOUS_INDICE_DIOXYDE_D_AZOTE</th><th scope=col>SOUS_INDICE_DIOXYDE_DE_SOUFRE</th><th scope=col>year</th><th scope=col>month_1</th><th scope=col>month_2</th><th scope=col>month_3</th><th scope=col>...</th><th scope=col>pres</th><th scope=col>rafper</th><th scope=col>rain24</th><th scope=col>weekday_dimanche</th><th scope=col>weekday_jeudi</th><th scope=col>weekday_lundi</th><th scope=col>weekday_mardi</th><th scope=col>weekday_mercredi</th><th scope=col>weekday_samedi</th><th scope=col>weekday_vendredi</th></tr></thead>\n",
       "<tbody>\n",
       "\t<tr><td>2005-01-01</td><td>3         </td><td>3         </td><td>1         </td><td>1         </td><td>1         </td><td>2005      </td><td>1         </td><td>0         </td><td>0         </td><td>...       </td><td>102557.5  </td><td>7.9000    </td><td>0.8       </td><td>0         </td><td>0         </td><td>0         </td><td>0         </td><td>0         </td><td>1         </td><td>0         </td></tr>\n",
       "\t<tr><td>2005-01-02</td><td>3         </td><td>3         </td><td>2         </td><td>3         </td><td>1         </td><td>2005      </td><td>1         </td><td>0         </td><td>0         </td><td>...       </td><td>102985.0  </td><td>5.6375    </td><td>1.0       </td><td>1         </td><td>0         </td><td>0         </td><td>0         </td><td>0         </td><td>0         </td><td>0         </td></tr>\n",
       "\t<tr><td>2005-01-03</td><td>4         </td><td>2         </td><td>3         </td><td>4         </td><td>1         </td><td>2005      </td><td>1         </td><td>0         </td><td>0         </td><td>...       </td><td>103631.2  </td><td>2.7250    </td><td>0.0       </td><td>0         </td><td>0         </td><td>1         </td><td>0         </td><td>0         </td><td>0         </td><td>0         </td></tr>\n",
       "</tbody>\n",
       "</table>\n"
      ],
      "text/latex": [
       "\\begin{tabular}{r|lllllllllllllllllllllllllllllllll}\n",
       " DATE & INDICE\\_ATMO & SOUS\\_INDICE\\_OZONE & SOUS\\_INDICE\\_PARTICULES\\_FINES & SOUS\\_INDICE\\_DIOXYDE\\_D\\_AZOTE & SOUS\\_INDICE\\_DIOXYDE\\_DE\\_SOUFRE & year & month\\_1 & month\\_2 & month\\_3 & ... & pres & rafper & rain24 & weekday\\_dimanche & weekday\\_jeudi & weekday\\_lundi & weekday\\_mardi & weekday\\_mercredi & weekday\\_samedi & weekday\\_vendredi\\\\\n",
       "\\hline\n",
       "\t 2005-01-01 & 3          & 3          & 1          & 1          & 1          & 2005       & 1          & 0          & 0          & ...        & 102557.5   & 7.9000     & 0.8        & 0          & 0          & 0          & 0          & 0          & 1          & 0         \\\\\n",
       "\t 2005-01-02 & 3          & 3          & 2          & 3          & 1          & 2005       & 1          & 0          & 0          & ...        & 102985.0   & 5.6375     & 1.0        & 1          & 0          & 0          & 0          & 0          & 0          & 0         \\\\\n",
       "\t 2005-01-03 & 4          & 2          & 3          & 4          & 1          & 2005       & 1          & 0          & 0          & ...        & 103631.2   & 2.7250     & 0.0        & 0          & 0          & 1          & 0          & 0          & 0          & 0         \\\\\n",
       "\\end{tabular}\n"
      ],
      "text/markdown": [
       "\n",
       "DATE | INDICE_ATMO | SOUS_INDICE_OZONE | SOUS_INDICE_PARTICULES_FINES | SOUS_INDICE_DIOXYDE_D_AZOTE | SOUS_INDICE_DIOXYDE_DE_SOUFRE | year | month_1 | month_2 | month_3 | ... | pres | rafper | rain24 | weekday_dimanche | weekday_jeudi | weekday_lundi | weekday_mardi | weekday_mercredi | weekday_samedi | weekday_vendredi | \n",
       "|---|---|---|\n",
       "| 2005-01-01 | 3          | 3          | 1          | 1          | 1          | 2005       | 1          | 0          | 0          | ...        | 102557.5   | 7.9000     | 0.8        | 0          | 0          | 0          | 0          | 0          | 1          | 0          | \n",
       "| 2005-01-02 | 3          | 3          | 2          | 3          | 1          | 2005       | 1          | 0          | 0          | ...        | 102985.0   | 5.6375     | 1.0        | 1          | 0          | 0          | 0          | 0          | 0          | 0          | \n",
       "| 2005-01-03 | 4          | 2          | 3          | 4          | 1          | 2005       | 1          | 0          | 0          | ...        | 103631.2   | 2.7250     | 0.0        | 0          | 0          | 1          | 0          | 0          | 0          | 0          | \n",
       "\n",
       "\n"
      ],
      "text/plain": [
       "  DATE       INDICE_ATMO SOUS_INDICE_OZONE SOUS_INDICE_PARTICULES_FINES\n",
       "1 2005-01-01 3           3                 1                           \n",
       "2 2005-01-02 3           3                 2                           \n",
       "3 2005-01-03 4           2                 3                           \n",
       "  SOUS_INDICE_DIOXYDE_D_AZOTE SOUS_INDICE_DIOXYDE_DE_SOUFRE year month_1\n",
       "1 1                           1                             2005 1      \n",
       "2 3                           1                             2005 1      \n",
       "3 4                           1                             2005 1      \n",
       "  month_2 month_3 ... pres     rafper rain24 weekday_dimanche weekday_jeudi\n",
       "1 0       0       ... 102557.5 7.9000 0.8    0                0            \n",
       "2 0       0       ... 102985.0 5.6375 1.0    1                0            \n",
       "3 0       0       ... 103631.2 2.7250 0.0    0                0            \n",
       "  weekday_lundi weekday_mardi weekday_mercredi weekday_samedi weekday_vendredi\n",
       "1 0             0             0                1              0               \n",
       "2 0             0             0                0              0               \n",
       "3 1             0             0                0              0               "
      ]
     },
     "metadata": {},
     "output_type": "display_data"
    }
   ],
   "source": [
    "head(dat,3)"
   ]
  },
  {
   "cell_type": "markdown",
   "metadata": {},
   "source": [
    "### 1.3.2 Holidays"
   ]
  },
  {
   "cell_type": "code",
   "execution_count": 250,
   "metadata": {
    "collapsed": true
   },
   "outputs": [],
   "source": [
    "# Generate all dates between the first and last day of holidays\n",
    "cal2 <- cal %>% rowwise() %>% \n",
    "   do(data.frame(.[1], date = as.Date(as.Date(.$first):as.Date(.$last), origin=\"1970-01-01\")))\n",
    "cal2 <- as.data.frame(cal2)\n",
    "\n",
    "dat$holidays <- ifelse(dat$DATE %in% cal2$date, 1, 0)"
   ]
  },
  {
   "cell_type": "markdown",
   "metadata": {},
   "source": [
    "### 1.3.3 Traffic (days when people go to and return from holidays)"
   ]
  },
  {
   "cell_type": "markdown",
   "metadata": {},
   "source": [
    "We do not have traffic data but we can use a **proxi** by assuming that days when people go to and return from holidays are likely to face a lot of traffic."
   ]
  },
  {
   "cell_type": "code",
   "execution_count": 251,
   "metadata": {
    "collapsed": true
   },
   "outputs": [],
   "source": [
    "cal$befFirst <- as.Date(cal$first, format=\"%d/%m/%Y\")-1\n",
    "cal$befLast <- as.Date(cal$last, format=\"%d/%m/%Y\")-1\n",
    "\n",
    "dat$goHolidays <- as.numeric(dat$DATE %in% cal$first | dat$DATE %in% cal$befFirst)\n",
    "dat$returnHolidays <- as.numeric(dat$DATE %in% cal$last | dat$DATE %in% cal$befLast)\n",
    "dat$goReturnHolidays <- as.numeric(dat$goHolidays==1 | dat$returnHolidays==1)"
   ]
  },
  {
   "cell_type": "markdown",
   "metadata": {},
   "source": [
    "### 1.3.4 Pollution"
   ]
  },
  {
   "cell_type": "markdown",
   "metadata": {},
   "source": [
    "The pollution is very high when the ATMO index is from 8 to 10. Then we use the expression \"pollution peak\"."
   ]
  },
  {
   "cell_type": "code",
   "execution_count": 252,
   "metadata": {
    "collapsed": true
   },
   "outputs": [],
   "source": [
    "dat$polPeak <- ifelse(dat$INDICE_ATMO >= 8, 1, 0)   # with an ATMO index from 8, the air quality is considered as bad to very bad\n",
    "                                                    # this is a very rare event"
   ]
  },
  {
   "cell_type": "markdown",
   "metadata": {},
   "source": [
    "Let's remove some unnecessary variables."
   ]
  },
  {
   "cell_type": "code",
   "execution_count": 253,
   "metadata": {
    "collapsed": true
   },
   "outputs": [],
   "source": [
    "dat$SOUS_INDICE_OZONE <- NULL\n",
    "dat$SOUS_INDICE_PARTICULES_FINES <- NULL\n",
    "dat$SOUS_INDICE_DIOXYDE_D_AZOTE <- NULL\n",
    "dat$SOUS_INDICE_DIOXYDE_DE_SOUFRE <- NULL\n",
    "dat$goHolidays <- NULL\n",
    "dat$returnHolidays <- NULL"
   ]
  },
  {
   "cell_type": "code",
   "execution_count": 254,
   "metadata": {
    "collapsed": false,
    "scrolled": false
   },
   "outputs": [
    {
     "name": "stdout",
     "output_type": "stream",
     "text": [
      "'data.frame':\t4383 obs. of  32 variables:\n",
      " $ DATE            : Date, format: \"2005-01-01\" \"2005-01-02\" ...\n",
      " $ INDICE_ATMO     : int  3 3 4 3 3 3 3 3 3 3 ...\n",
      " $ year            : int  2005 2005 2005 2005 2005 2005 2005 2005 2005 2005 ...\n",
      " $ month_1         : int  1 1 1 1 1 1 1 1 1 1 ...\n",
      " $ month_2         : int  0 0 0 0 0 0 0 0 0 0 ...\n",
      " $ month_3         : int  0 0 0 0 0 0 0 0 0 0 ...\n",
      " $ month_4         : int  0 0 0 0 0 0 0 0 0 0 ...\n",
      " $ month_5         : int  0 0 0 0 0 0 0 0 0 0 ...\n",
      " $ month_6         : int  0 0 0 0 0 0 0 0 0 0 ...\n",
      " $ month_7         : int  0 0 0 0 0 0 0 0 0 0 ...\n",
      " $ month_8         : int  0 0 0 0 0 0 0 0 0 0 ...\n",
      " $ month_9         : int  0 0 0 0 0 0 0 0 0 0 ...\n",
      " $ month_10        : int  0 0 0 0 0 0 0 0 0 0 ...\n",
      " $ month_11        : int  0 0 0 0 0 0 0 0 0 0 ...\n",
      " $ month_12        : int  0 0 0 0 0 0 0 0 0 0 ...\n",
      " $ wind            : num  4.89 3.34 1.41 2.96 5.26 ...\n",
      " $ tempC           : num  11.2 7.88 3.14 3.76 10.81 ...\n",
      " $ humidity        : num  96.9 80.8 91.6 91.5 95.1 ...\n",
      " $ cloud           : num  97.5 61.67 8.57 60 98.75 ...\n",
      " $ pres            : num  102558 102985 103631 102971 102706 ...\n",
      " $ rafper          : num  7.9 5.64 2.73 4.22 9.2 ...\n",
      " $ rain24          : num  0.8 1 0 0.4 2.8 4.4 0.4 0.6 4.2 0.8 ...\n",
      " $ weekday_dimanche: int  0 1 0 0 0 0 0 0 1 0 ...\n",
      " $ weekday_jeudi   : int  0 0 0 0 0 1 0 0 0 0 ...\n",
      " $ weekday_lundi   : int  0 0 1 0 0 0 0 0 0 1 ...\n",
      " $ weekday_mardi   : int  0 0 0 1 0 0 0 0 0 0 ...\n",
      " $ weekday_mercredi: int  0 0 0 0 1 0 0 0 0 0 ...\n",
      " $ weekday_samedi  : int  1 0 0 0 0 0 0 1 0 0 ...\n",
      " $ weekday_vendredi: int  0 0 0 0 0 0 1 0 0 0 ...\n",
      " $ holidays        : num  1 1 0 0 0 0 0 0 0 0 ...\n",
      " $ goReturnHolidays: num  1 1 0 0 0 0 0 0 0 0 ...\n",
      " $ polPeak         : num  0 0 0 0 0 0 0 0 0 0 ...\n",
      " - attr(*, \"dummies\")=List of 2\n",
      "  ..$ month  : int  8 9 10 11 12 13 14 15 16 17 ...\n",
      "  ..$ weekday: int  27 28 29 30 31 32 33\n"
     ]
    }
   ],
   "source": [
    "str(dat)"
   ]
  },
  {
   "cell_type": "markdown",
   "metadata": {},
   "source": [
    "Save new dataset"
   ]
  },
  {
   "cell_type": "code",
   "execution_count": 255,
   "metadata": {
    "collapsed": true
   },
   "outputs": [],
   "source": [
    "write.table(dat, file=\"dataMeteo2.csv\", sep=\",\", row.names=FALSE)"
   ]
  },
  {
   "cell_type": "markdown",
   "metadata": {},
   "source": [
    "# 2 Split the dataset"
   ]
  },
  {
   "cell_type": "code",
   "execution_count": 256,
   "metadata": {
    "collapsed": false,
    "init_cell": true
   },
   "outputs": [],
   "source": [
    "# Load data and give a  class to dates\n",
    "dat <- read.csv(\"dataMeteo2.csv\", sep=\",\", header=TRUE)\n",
    "dat$DATE <- as.Date(dat$DATE, format=\"%Y-%m-%d\")"
   ]
  },
  {
   "cell_type": "code",
   "execution_count": 257,
   "metadata": {
    "collapsed": false,
    "init_cell": true,
    "scrolled": false
   },
   "outputs": [
    {
     "name": "stdout",
     "output_type": "stream",
     "text": [
      "'data.frame':\t4383 obs. of  32 variables:\n",
      " $ DATE            : Date, format: \"2005-01-01\" \"2005-01-02\" ...\n",
      " $ INDICE_ATMO     : int  3 3 4 3 3 3 3 3 3 3 ...\n",
      " $ year            : int  2005 2005 2005 2005 2005 2005 2005 2005 2005 2005 ...\n",
      " $ month_1         : int  1 1 1 1 1 1 1 1 1 1 ...\n",
      " $ month_2         : int  0 0 0 0 0 0 0 0 0 0 ...\n",
      " $ month_3         : int  0 0 0 0 0 0 0 0 0 0 ...\n",
      " $ month_4         : int  0 0 0 0 0 0 0 0 0 0 ...\n",
      " $ month_5         : int  0 0 0 0 0 0 0 0 0 0 ...\n",
      " $ month_6         : int  0 0 0 0 0 0 0 0 0 0 ...\n",
      " $ month_7         : int  0 0 0 0 0 0 0 0 0 0 ...\n",
      " $ month_8         : int  0 0 0 0 0 0 0 0 0 0 ...\n",
      " $ month_9         : int  0 0 0 0 0 0 0 0 0 0 ...\n",
      " $ month_10        : int  0 0 0 0 0 0 0 0 0 0 ...\n",
      " $ month_11        : int  0 0 0 0 0 0 0 0 0 0 ...\n",
      " $ month_12        : int  0 0 0 0 0 0 0 0 0 0 ...\n",
      " $ wind            : num  4.89 3.34 1.41 2.96 5.26 ...\n",
      " $ tempC           : num  11.2 7.88 3.14 3.76 10.81 ...\n",
      " $ humidity        : num  96.9 80.8 91.6 91.5 95.1 ...\n",
      " $ cloud           : num  97.5 61.67 8.57 60 98.75 ...\n",
      " $ pres            : num  102558 102985 103631 102971 102706 ...\n",
      " $ rafper          : num  7.9 5.64 2.73 4.22 9.2 ...\n",
      " $ rain24          : num  0.8 1 0 0.4 2.8 4.4 0.4 0.6 4.2 0.8 ...\n",
      " $ weekday_dimanche: int  0 1 0 0 0 0 0 0 1 0 ...\n",
      " $ weekday_jeudi   : int  0 0 0 0 0 1 0 0 0 0 ...\n",
      " $ weekday_lundi   : int  0 0 1 0 0 0 0 0 0 1 ...\n",
      " $ weekday_mardi   : int  0 0 0 1 0 0 0 0 0 0 ...\n",
      " $ weekday_mercredi: int  0 0 0 0 1 0 0 0 0 0 ...\n",
      " $ weekday_samedi  : int  1 0 0 0 0 0 0 1 0 0 ...\n",
      " $ weekday_vendredi: int  0 0 0 0 0 0 1 0 0 0 ...\n",
      " $ holidays        : int  1 1 0 0 0 0 0 0 0 0 ...\n",
      " $ goReturnHolidays: int  1 1 0 0 0 0 0 0 0 0 ...\n",
      " $ polPeak         : int  0 0 0 0 0 0 0 0 0 0 ...\n"
     ]
    }
   ],
   "source": [
    "# Check data\n",
    "str(dat)"
   ]
  },
  {
   "cell_type": "markdown",
   "metadata": {},
   "source": [
    "We will **split** our data into three parts: \n",
    "* **train** set: the first 10 years (3652 days, from 2005 to 2014)\n",
    "* **validation** set: the next year (365 days, 2015)\n",
    "* **test** set: the final year (366 days, 2016). <br>\n",
    "The training set will allow us to experiment to find the best model. The performance will be checked by comparing the predictions to the actual values in the validation set.<br>\n",
    "Then, when we will have found the model with the best performance, we will use it to predict values in the test set by using a sliding window approach (Walk forward validation), moving one day forward at each step.<br>\n",
    "\n",
    "**What's a sliding window approach?**<br>\n",
    "Let's say we want to predict an effect one time step ahead.\n",
    "1. Lets use x = [1,2,3]\n",
    "2. Build model to predict y = [4]\n",
    "3. Store the prediction and evaluate it against the known value\n",
    "4. Shift the window in the next training step to include the known value of [4] (such as x = [2,3,4]) and predict y = [5]"
   ]
  },
  {
   "cell_type": "code",
   "execution_count": 258,
   "metadata": {
    "collapsed": false
   },
   "outputs": [
    {
     "data": {
      "text/html": [
       "3652"
      ],
      "text/latex": [
       "3652"
      ],
      "text/markdown": [
       "3652"
      ],
      "text/plain": [
       "[1] 3652"
      ]
     },
     "metadata": {},
     "output_type": "display_data"
    }
   ],
   "source": [
    "# number of days from 2005 to 2014 (train set)\n",
    "sum(apply(dat, 1, function(r) any(r %in% c(2005:2014))))"
   ]
  },
  {
   "cell_type": "code",
   "execution_count": 259,
   "metadata": {
    "collapsed": false
   },
   "outputs": [
    {
     "data": {
      "text/html": [
       "365"
      ],
      "text/latex": [
       "365"
      ],
      "text/markdown": [
       "365"
      ],
      "text/plain": [
       "[1] 365"
      ]
     },
     "metadata": {},
     "output_type": "display_data"
    }
   ],
   "source": [
    "# number of days in 2015 (val set)\n",
    "sum(apply(dat, 1, function(r) any(r %in% c(2015))))"
   ]
  },
  {
   "cell_type": "code",
   "execution_count": 260,
   "metadata": {
    "collapsed": false
   },
   "outputs": [
    {
     "data": {
      "text/html": [
       "366"
      ],
      "text/latex": [
       "366"
      ],
      "text/markdown": [
       "366"
      ],
      "text/plain": [
       "[1] 366"
      ]
     },
     "metadata": {},
     "output_type": "display_data"
    }
   ],
   "source": [
    "# number of days in 2016 (test set)\n",
    "sum(apply(dat, 1, function(r) any(r %in% c(2016))))"
   ]
  },
  {
   "cell_type": "code",
   "execution_count": 261,
   "metadata": {
    "collapsed": true,
    "init_cell": true
   },
   "outputs": [],
   "source": [
    "# Split the dataset\n",
    "Train <- dat[1:3652,]\n",
    "Val <- dat[(3652+1):(3652+365),]\n",
    "Test <- dat[(3652+365+1):nrow(dat),] "
   ]
  },
  {
   "cell_type": "markdown",
   "metadata": {},
   "source": [
    "# 3 Exploratory data analysis"
   ]
  },
  {
   "cell_type": "markdown",
   "metadata": {},
   "source": [
    "How many days with a pollution peak?"
   ]
  },
  {
   "cell_type": "code",
   "execution_count": 262,
   "metadata": {
    "collapsed": false
   },
   "outputs": [
    {
     "data": {
      "text/plain": [
       "\n",
       "FALSE  TRUE \n",
       " 4341    42 "
      ]
     },
     "metadata": {},
     "output_type": "display_data"
    }
   ],
   "source": [
    "table(dat$INDICE_ATMO>=8)"
   ]
  },
  {
   "cell_type": "markdown",
   "metadata": {},
   "source": [
    "Nantes faced **42 days** with a pollution peak between 01/01/2005 and 31/12/2016. <br>"
   ]
  },
  {
   "cell_type": "markdown",
   "metadata": {},
   "source": [
    "## 3.1 Check missing values"
   ]
  },
  {
   "cell_type": "code",
   "execution_count": 263,
   "metadata": {
    "collapsed": true,
    "init_cell": true
   },
   "outputs": [],
   "source": [
    "# Nb of missing values in each variable\n",
    "nbMiss <- function(x) sum(is.na(x))"
   ]
  },
  {
   "cell_type": "code",
   "execution_count": 264,
   "metadata": {
    "collapsed": false
   },
   "outputs": [
    {
     "data": {
      "text/html": [
       "<dl class=dl-horizontal>\n",
       "\t<dt>DATE</dt>\n",
       "\t\t<dd>0</dd>\n",
       "\t<dt>INDICE_ATMO</dt>\n",
       "\t\t<dd>0</dd>\n",
       "\t<dt>year</dt>\n",
       "\t\t<dd>0</dd>\n",
       "\t<dt>month_1</dt>\n",
       "\t\t<dd>0</dd>\n",
       "\t<dt>month_2</dt>\n",
       "\t\t<dd>0</dd>\n",
       "\t<dt>month_3</dt>\n",
       "\t\t<dd>0</dd>\n",
       "\t<dt>month_4</dt>\n",
       "\t\t<dd>0</dd>\n",
       "\t<dt>month_5</dt>\n",
       "\t\t<dd>0</dd>\n",
       "\t<dt>month_6</dt>\n",
       "\t\t<dd>0</dd>\n",
       "\t<dt>month_7</dt>\n",
       "\t\t<dd>0</dd>\n",
       "\t<dt>month_8</dt>\n",
       "\t\t<dd>0</dd>\n",
       "\t<dt>month_9</dt>\n",
       "\t\t<dd>0</dd>\n",
       "\t<dt>month_10</dt>\n",
       "\t\t<dd>0</dd>\n",
       "\t<dt>month_11</dt>\n",
       "\t\t<dd>0</dd>\n",
       "\t<dt>month_12</dt>\n",
       "\t\t<dd>0</dd>\n",
       "\t<dt>wind</dt>\n",
       "\t\t<dd>3</dd>\n",
       "\t<dt>tempC</dt>\n",
       "\t\t<dd>3</dd>\n",
       "\t<dt>humidity</dt>\n",
       "\t\t<dd>3</dd>\n",
       "\t<dt>cloud</dt>\n",
       "\t\t<dd>6</dd>\n",
       "\t<dt>pres</dt>\n",
       "\t\t<dd>3</dd>\n",
       "\t<dt>rafper</dt>\n",
       "\t\t<dd>3</dd>\n",
       "\t<dt>rain24</dt>\n",
       "\t\t<dd>51</dd>\n",
       "\t<dt>weekday_dimanche</dt>\n",
       "\t\t<dd>0</dd>\n",
       "\t<dt>weekday_jeudi</dt>\n",
       "\t\t<dd>0</dd>\n",
       "\t<dt>weekday_lundi</dt>\n",
       "\t\t<dd>0</dd>\n",
       "\t<dt>weekday_mardi</dt>\n",
       "\t\t<dd>0</dd>\n",
       "\t<dt>weekday_mercredi</dt>\n",
       "\t\t<dd>0</dd>\n",
       "\t<dt>weekday_samedi</dt>\n",
       "\t\t<dd>0</dd>\n",
       "\t<dt>weekday_vendredi</dt>\n",
       "\t\t<dd>0</dd>\n",
       "\t<dt>holidays</dt>\n",
       "\t\t<dd>0</dd>\n",
       "\t<dt>goReturnHolidays</dt>\n",
       "\t\t<dd>0</dd>\n",
       "\t<dt>polPeak</dt>\n",
       "\t\t<dd>0</dd>\n",
       "</dl>\n"
      ],
      "text/latex": [
       "\\begin{description*}\n",
       "\\item[DATE] 0\n",
       "\\item[INDICE\\textbackslash{}\\_ATMO] 0\n",
       "\\item[year] 0\n",
       "\\item[month\\textbackslash{}\\_1] 0\n",
       "\\item[month\\textbackslash{}\\_2] 0\n",
       "\\item[month\\textbackslash{}\\_3] 0\n",
       "\\item[month\\textbackslash{}\\_4] 0\n",
       "\\item[month\\textbackslash{}\\_5] 0\n",
       "\\item[month\\textbackslash{}\\_6] 0\n",
       "\\item[month\\textbackslash{}\\_7] 0\n",
       "\\item[month\\textbackslash{}\\_8] 0\n",
       "\\item[month\\textbackslash{}\\_9] 0\n",
       "\\item[month\\textbackslash{}\\_10] 0\n",
       "\\item[month\\textbackslash{}\\_11] 0\n",
       "\\item[month\\textbackslash{}\\_12] 0\n",
       "\\item[wind] 3\n",
       "\\item[tempC] 3\n",
       "\\item[humidity] 3\n",
       "\\item[cloud] 6\n",
       "\\item[pres] 3\n",
       "\\item[rafper] 3\n",
       "\\item[rain24] 51\n",
       "\\item[weekday\\textbackslash{}\\_dimanche] 0\n",
       "\\item[weekday\\textbackslash{}\\_jeudi] 0\n",
       "\\item[weekday\\textbackslash{}\\_lundi] 0\n",
       "\\item[weekday\\textbackslash{}\\_mardi] 0\n",
       "\\item[weekday\\textbackslash{}\\_mercredi] 0\n",
       "\\item[weekday\\textbackslash{}\\_samedi] 0\n",
       "\\item[weekday\\textbackslash{}\\_vendredi] 0\n",
       "\\item[holidays] 0\n",
       "\\item[goReturnHolidays] 0\n",
       "\\item[polPeak] 0\n",
       "\\end{description*}\n"
      ],
      "text/markdown": [
       "DATE\n",
       ":   0INDICE_ATMO\n",
       ":   0year\n",
       ":   0month_1\n",
       ":   0month_2\n",
       ":   0month_3\n",
       ":   0month_4\n",
       ":   0month_5\n",
       ":   0month_6\n",
       ":   0month_7\n",
       ":   0month_8\n",
       ":   0month_9\n",
       ":   0month_10\n",
       ":   0month_11\n",
       ":   0month_12\n",
       ":   0wind\n",
       ":   3tempC\n",
       ":   3humidity\n",
       ":   3cloud\n",
       ":   6pres\n",
       ":   3rafper\n",
       ":   3rain24\n",
       ":   51weekday_dimanche\n",
       ":   0weekday_jeudi\n",
       ":   0weekday_lundi\n",
       ":   0weekday_mardi\n",
       ":   0weekday_mercredi\n",
       ":   0weekday_samedi\n",
       ":   0weekday_vendredi\n",
       ":   0holidays\n",
       ":   0goReturnHolidays\n",
       ":   0polPeak\n",
       ":   0\n",
       "\n"
      ],
      "text/plain": [
       "            DATE      INDICE_ATMO             year          month_1 \n",
       "               0                0                0                0 \n",
       "         month_2          month_3          month_4          month_5 \n",
       "               0                0                0                0 \n",
       "         month_6          month_7          month_8          month_9 \n",
       "               0                0                0                0 \n",
       "        month_10         month_11         month_12             wind \n",
       "               0                0                0                3 \n",
       "           tempC         humidity            cloud             pres \n",
       "               3                3                6                3 \n",
       "          rafper           rain24 weekday_dimanche    weekday_jeudi \n",
       "               3               51                0                0 \n",
       "   weekday_lundi    weekday_mardi weekday_mercredi   weekday_samedi \n",
       "               0                0                0                0 \n",
       "weekday_vendredi         holidays goReturnHolidays          polPeak \n",
       "               0                0                0                0 "
      ]
     },
     "metadata": {},
     "output_type": "display_data"
    }
   ],
   "source": [
    "apply(Train,2,nbMiss)"
   ]
  },
  {
   "cell_type": "markdown",
   "metadata": {},
   "source": [
    "Many functions cannot handle missing values, so the best option is to impute them. Then we will be able to use every variable in our models."
   ]
  },
  {
   "cell_type": "code",
   "execution_count": 265,
   "metadata": {
    "collapsed": false,
    "init_cell": true
   },
   "outputs": [],
   "source": [
    "fun_miss <- function(x){\n",
    "    if (nbMiss(x)>0) {\n",
    "        na.interp(x)\n",
    "    } else {\n",
    "        x\n",
    "    }\n",
    "}"
   ]
  },
  {
   "cell_type": "code",
   "execution_count": 266,
   "metadata": {
    "collapsed": false,
    "init_cell": true
   },
   "outputs": [],
   "source": [
    "Train_imp <- as.data.frame(apply(Train, 2, fun_miss))"
   ]
  },
  {
   "cell_type": "code",
   "execution_count": 267,
   "metadata": {
    "collapsed": true,
    "init_cell": true
   },
   "outputs": [],
   "source": [
    "Train_imp$DATE <- as.Date(Train_imp$DATE, format=\"%Y-%m-%d\")"
   ]
  },
  {
   "cell_type": "code",
   "execution_count": 268,
   "metadata": {
    "collapsed": false
   },
   "outputs": [
    {
     "data": {
      "text/html": [
       "0"
      ],
      "text/latex": [
       "0"
      ],
      "text/markdown": [
       "0"
      ],
      "text/plain": [
       "[1] 0"
      ]
     },
     "metadata": {},
     "output_type": "display_data"
    }
   ],
   "source": [
    "nbMiss(Train_imp)"
   ]
  },
  {
   "cell_type": "code",
   "execution_count": 269,
   "metadata": {
    "collapsed": true,
    "init_cell": true
   },
   "outputs": [],
   "source": [
    "# Give proper class to variables\n",
    "Train_imp[,2:ncol(Train_imp)] <- apply(Train_imp[,2:ncol(Train_imp)], 2, function (x) {as.numeric(as.character(x))})"
   ]
  },
  {
   "cell_type": "code",
   "execution_count": 270,
   "metadata": {
    "collapsed": false,
    "init_cell": true
   },
   "outputs": [
    {
     "name": "stdout",
     "output_type": "stream",
     "text": [
      "'data.frame':\t3652 obs. of  32 variables:\n",
      " $ DATE            : Date, format: \"2005-01-01\" \"2005-01-02\" ...\n",
      " $ INDICE_ATMO     : num  3 3 4 3 3 3 3 3 3 3 ...\n",
      " $ year            : num  2005 2005 2005 2005 2005 ...\n",
      " $ month_1         : num  1 1 1 1 1 1 1 1 1 1 ...\n",
      " $ month_2         : num  0 0 0 0 0 0 0 0 0 0 ...\n",
      " $ month_3         : num  0 0 0 0 0 0 0 0 0 0 ...\n",
      " $ month_4         : num  0 0 0 0 0 0 0 0 0 0 ...\n",
      " $ month_5         : num  0 0 0 0 0 0 0 0 0 0 ...\n",
      " $ month_6         : num  0 0 0 0 0 0 0 0 0 0 ...\n",
      " $ month_7         : num  0 0 0 0 0 0 0 0 0 0 ...\n",
      " $ month_8         : num  0 0 0 0 0 0 0 0 0 0 ...\n",
      " $ month_9         : num  0 0 0 0 0 0 0 0 0 0 ...\n",
      " $ month_10        : num  0 0 0 0 0 0 0 0 0 0 ...\n",
      " $ month_11        : num  0 0 0 0 0 0 0 0 0 0 ...\n",
      " $ month_12        : num  0 0 0 0 0 0 0 0 0 0 ...\n",
      " $ wind            : num  4.89 3.34 1.41 2.96 5.26 ...\n",
      " $ tempC           : num  11.2 7.88 3.14 3.76 10.81 ...\n",
      " $ humidity        : num  96.9 80.8 91.6 91.5 95.1 ...\n",
      " $ cloud           : num  97.5 61.67 8.57 60 98.75 ...\n",
      " $ pres            : num  102558 102985 103631 102971 102706 ...\n",
      " $ rafper          : num  7.9 5.64 2.73 4.22 9.2 ...\n",
      " $ rain24          : num  0.8 1 0 0.4 2.8 4.4 0.4 0.6 4.2 0.8 ...\n",
      " $ weekday_dimanche: num  0 1 0 0 0 0 0 0 1 0 ...\n",
      " $ weekday_jeudi   : num  0 0 0 0 0 1 0 0 0 0 ...\n",
      " $ weekday_lundi   : num  0 0 1 0 0 0 0 0 0 1 ...\n",
      " $ weekday_mardi   : num  0 0 0 1 0 0 0 0 0 0 ...\n",
      " $ weekday_mercredi: num  0 0 0 0 1 0 0 0 0 0 ...\n",
      " $ weekday_samedi  : num  1 0 0 0 0 0 0 1 0 0 ...\n",
      " $ weekday_vendredi: num  0 0 0 0 0 0 1 0 0 0 ...\n",
      " $ holidays        : num  1 1 0 0 0 0 0 0 0 0 ...\n",
      " $ goReturnHolidays: num  1 1 0 0 0 0 0 0 0 0 ...\n",
      " $ polPeak         : num  0 0 0 0 0 0 0 0 0 0 ...\n"
     ]
    }
   ],
   "source": [
    "str(Train_imp)"
   ]
  },
  {
   "cell_type": "markdown",
   "metadata": {},
   "source": [
    "## 3.2 Decomposition of the time series"
   ]
  },
  {
   "cell_type": "markdown",
   "metadata": {},
   "source": [
    "First, we have to check the presence of seasonality, trend, and cycle in our training data. Let's inspect the data and plot the series to visually examine it for any outliers, volatility, or irregularities."
   ]
  },
  {
   "cell_type": "markdown",
   "metadata": {},
   "source": [
    "### 3.2.1 Check plots"
   ]
  },
  {
   "cell_type": "markdown",
   "metadata": {},
   "source": [
    "Here, we will check the **seasonality** in the pollution index (INDICE ATMO)."
   ]
  },
  {
   "cell_type": "code",
   "execution_count": 271,
   "metadata": {
    "collapsed": true,
    "init_cell": true
   },
   "outputs": [],
   "source": [
    "# Prepare a nice theme (i.e. general appearance of graphs)\n",
    "theme_new <- theme_classic() + \n",
    "    theme(plot.title = element_text(size=11, face=\"bold\", hjust = 0.5), axis.text.x = element_text(size = 11))"
   ]
  },
  {
   "cell_type": "code",
   "execution_count": 272,
   "metadata": {
    "collapsed": true,
    "init_cell": true
   },
   "outputs": [],
   "source": [
    "# Give a proper size to plots\n",
    "options(repr.plot.width=10, repr.plot.height=4)"
   ]
  },
  {
   "cell_type": "code",
   "execution_count": 273,
   "metadata": {
    "collapsed": false,
    "scrolled": false
   },
   "outputs": [
    {
     "data": {},
     "metadata": {},
     "output_type": "display_data"
    },
    {
     "data": {
      "image/png": "[encoded data removed]",
      "text/plain": [
       "plot without title"
      ]
     },
     "metadata": {},
     "output_type": "display_data"
    }
   ],
   "source": [
    "ggplot(data=Train_imp) + \n",
    "  geom_line(aes(x = DATE, y = INDICE_ATMO)) + \n",
    "  scale_x_date(date_breaks = \"1 year\", date_labels = \"%Y\") +  \n",
    "  ylab(\"Daily ATMO index\") +\n",
    "  xlab(\"\")"
   ]
  },
  {
   "cell_type": "markdown",
   "metadata": {},
   "source": [
    "Pollution is showing a lot of fluctuations from one day to another. However, even with this volatility present, we already see some patterns emerging. There seem to be a yearly pattern."
   ]
  },
  {
   "cell_type": "markdown",
   "metadata": {},
   "source": [
    "Pollution seems to be seasonal. Let's zoom into 2005 and 2010 to better see it."
   ]
  },
  {
   "cell_type": "code",
   "execution_count": 274,
   "metadata": {
    "collapsed": true
   },
   "outputs": [],
   "source": [
    "Train_imp2005 <- Train_imp[Train_imp$year==2005,]"
   ]
  },
  {
   "cell_type": "code",
   "execution_count": 275,
   "metadata": {
    "collapsed": false,
    "scrolled": false
   },
   "outputs": [
    {
     "data": {},
     "metadata": {},
     "output_type": "display_data"
    },
    {
     "data": {
      "image/png": "[encoded data removed]",
      "text/plain": [
       "plot without title"
      ]
     },
     "metadata": {},
     "output_type": "display_data"
    }
   ],
   "source": [
    "ggplot(data=Train_imp2005) + \n",
    "  geom_line(aes(x = DATE, y = INDICE_ATMO)) + \n",
    "  scale_x_date(date_breaks = \"1 month\", date_labels = \"%B\")  + \n",
    "  ylab(\"Daily ATMO index\") +\n",
    "  xlab(\"\")"
   ]
  },
  {
   "cell_type": "markdown",
   "metadata": {},
   "source": [
    "In 2005, the seasonality is clear, with more pollution in summer."
   ]
  },
  {
   "cell_type": "code",
   "execution_count": 276,
   "metadata": {
    "collapsed": true
   },
   "outputs": [],
   "source": [
    "Train_imp2010 <- Train_imp[Train_imp$year==2010,]"
   ]
  },
  {
   "cell_type": "code",
   "execution_count": 277,
   "metadata": {
    "collapsed": false,
    "scrolled": false
   },
   "outputs": [
    {
     "data": {},
     "metadata": {},
     "output_type": "display_data"
    },
    {
     "data": {
      "image/png": "[encoded data removed]",
      "text/plain": [
       "plot without title"
      ]
     },
     "metadata": {},
     "output_type": "display_data"
    }
   ],
   "source": [
    "ggplot(data=Train_imp2010) + \n",
    "  geom_line(aes(x = DATE, y = INDICE_ATMO)) + \n",
    "  scale_x_date(date_breaks = \"1 month\", date_labels = \"%B\")  + \n",
    "  ylab(\"Daily ATMO index\") +\n",
    "  xlab(\"\")"
   ]
  },
  {
   "cell_type": "markdown",
   "metadata": {},
   "source": [
    "The seasonality is less clear in 2010, but it is still there."
   ]
  },
  {
   "cell_type": "markdown",
   "metadata": {},
   "source": [
    "### 3.2.2 Create a time series object"
   ]
  },
  {
   "cell_type": "code",
   "execution_count": 278,
   "metadata": {
    "collapsed": false,
    "init_cell": true
   },
   "outputs": [],
   "source": [
    "# Create a univariate time series object\n",
    "Train_imp$INDICE_ATMO_ts <- ts(Train_imp$INDICE_ATMO, start=c(2005,as.numeric(format(Train_imp$DATE[1], \"%j\"))))\n",
    "INDICE_ATMO_ts <- Train_imp$INDICE_ATMO_ts"
   ]
  },
  {
   "cell_type": "markdown",
   "metadata": {},
   "source": [
    "### 3.2.3 Decomposition of the series"
   ]
  },
  {
   "cell_type": "markdown",
   "metadata": {},
   "source": [
    "We are going to decompose the series. In order to do so, we have to pre-define a period for the time series. Here, we choose an annual period, so 365.25 days (i.e. average length of a year allowing for leap years)."
   ]
  },
  {
   "cell_type": "code",
   "execution_count": 279,
   "metadata": {
    "collapsed": false,
    "init_cell": true
   },
   "outputs": [],
   "source": [
    "# Create a time series object with a pre-defined frequency\n",
    "Train_imp$INDICE_ATMO_ts365 <- ts(Train_imp$INDICE_ATMO, frequency=365.25, start=c(2005,as.numeric(format(Train_imp$DATE[1], \"%j\"))))\n",
    "INDICE_ATMO_ts365 <- Train_imp$INDICE_ATMO_ts365"
   ]
  },
  {
   "cell_type": "code",
   "execution_count": 280,
   "metadata": {
    "collapsed": false,
    "init_cell": true
   },
   "outputs": [
    {
     "data": {
      "image/png": "[encoded data removed]",
      "text/plain": [
       "plot without title"
      ]
     },
     "metadata": {},
     "output_type": "display_data"
    }
   ],
   "source": [
    "decompts_freq365 <- stl(INDICE_ATMO_ts365, s.window=\"periodic\")\n",
    "plot(decompts_freq365)"
   ]
  },
  {
   "cell_type": "markdown",
   "metadata": {},
   "source": [
    "Here again, the seasonality is clear. We can also observe a trend with an increasing pollution."
   ]
  },
  {
   "cell_type": "markdown",
   "metadata": {},
   "source": [
    "## 3.3 Visualize relationships"
   ]
  },
  {
   "cell_type": "markdown",
   "metadata": {},
   "source": [
    "### 3.3.1 Check correlations among variables"
   ]
  },
  {
   "cell_type": "code",
   "execution_count": 281,
   "metadata": {
    "collapsed": true
   },
   "outputs": [],
   "source": [
    "Train_sub <- subset(Train_imp, select=-c(DATE, INDICE_ATMO_ts, INDICE_ATMO_ts365)) "
   ]
  },
  {
   "cell_type": "code",
   "execution_count": 282,
   "metadata": {
    "collapsed": false
   },
   "outputs": [
    {
     "name": "stderr",
     "output_type": "stream",
     "text": [
      "Warning message in hetcor.data.frame(Train_sub, use = \"pairwise.complete.obs\"):\n",
      "\"the correlation matrix has been adjusted to make it positive-definite\""
     ]
    }
   ],
   "source": [
    "correl <- hetcor(Train_sub, use = \"pairwise.complete.obs\")"
   ]
  },
  {
   "cell_type": "code",
   "execution_count": 283,
   "metadata": {
    "collapsed": false
   },
   "outputs": [],
   "source": [
    "# Edited from http://www.sthda.com/french/wiki/matrice-de-correlation-guide-simple-pour-analyser-formater-et-visualiser\n",
    "flattenCorrMatrix <- function(cormat) {\n",
    "  ut <- upper.tri(cormat)\n",
    "  data.frame(\n",
    "    row = rownames(cormat)[row(cormat)[ut]],\n",
    "    column = rownames(cormat)[col(cormat)[ut]],\n",
    "    cor  =(cormat)[ut]\n",
    "    )\n",
    "}"
   ]
  },
  {
   "cell_type": "code",
   "execution_count": 284,
   "metadata": {
    "collapsed": false
   },
   "outputs": [],
   "source": [
    "flat_correl <- flattenCorrMatrix(correl$correlations)"
   ]
  },
  {
   "cell_type": "code",
   "execution_count": 285,
   "metadata": {
    "collapsed": false
   },
   "outputs": [],
   "source": [
    "flat_correl_ord <- flat_correl[order(abs(flat_correl$cor), decreasing=TRUE),]"
   ]
  },
  {
   "cell_type": "code",
   "execution_count": 286,
   "metadata": {
    "collapsed": false
   },
   "outputs": [
    {
     "data": {
      "text/html": [
       "<table>\n",
       "<thead><tr><th></th><th scope=col>row</th><th scope=col>column</th><th scope=col>cor</th></tr></thead>\n",
       "<tbody>\n",
       "\t<tr><th scope=row>186</th><td>wind       </td><td>rafper     </td><td> 0.9631579 </td></tr>\n",
       "\t<tr><th scope=row>153</th><td>humidity   </td><td>cloud      </td><td> 0.6400424 </td></tr>\n",
       "\t<tr><th scope=row>121</th><td>INDICE_ATMO</td><td>humidity   </td><td>-0.4721492 </td></tr>\n",
       "\t<tr><th scope=row>388</th><td>month_8    </td><td>holidays   </td><td> 0.4294822 </td></tr>\n",
       "\t<tr><th scope=row>436</th><td>INDICE_ATMO</td><td>polPeak    </td><td> 0.3997786 </td></tr>\n",
       "\t<tr><th scope=row>137</th><td>INDICE_ATMO</td><td>cloud      </td><td>-0.3984128 </td></tr>\n",
       "\t<tr><th scope=row>209</th><td>pres       </td><td>rain24     </td><td>-0.3867580 </td></tr>\n",
       "\t<tr><th scope=row>190</th><td>pres       </td><td>rafper     </td><td>-0.3818229 </td></tr>\n",
       "\t<tr><th scope=row>387</th><td>month_7    </td><td>holidays   </td><td> 0.3774289 </td></tr>\n",
       "\t<tr><th scope=row>168</th><td>wind       </td><td>pres       </td><td>-0.3753956 </td></tr>\n",
       "\t<tr><th scope=row>114</th><td>month_7    </td><td>tempC      </td><td> 0.3688508 </td></tr>\n",
       "\t<tr><th scope=row>136</th><td>tempC      </td><td>humidity   </td><td>-0.3533658 </td></tr>\n",
       "\t<tr><th scope=row>119</th><td>month_12   </td><td>tempC      </td><td>-0.3351479 </td></tr>\n",
       "\t<tr><th scope=row>108</th><td>month_1    </td><td>tempC      </td><td>-0.3284446 </td></tr>\n",
       "\t<tr><th scope=row>171</th><td>cloud      </td><td>pres       </td><td>-0.3201946 </td></tr>\n",
       "\t<tr><th scope=row>115</th><td>month_8    </td><td>tempC      </td><td> 0.3164933 </td></tr>\n",
       "\t<tr><th scope=row>109</th><td>month_2    </td><td>tempC      </td><td>-0.3138925 </td></tr>\n",
       "\t<tr><th scope=row>210</th><td>rafper     </td><td>rain24     </td><td> 0.3027519 </td></tr>\n",
       "</tbody>\n",
       "</table>\n"
      ],
      "text/latex": [
       "\\begin{tabular}{r|lll}\n",
       "  & row & column & cor\\\\\n",
       "\\hline\n",
       "\t186 & wind        & rafper      &  0.9631579 \\\\\n",
       "\t153 & humidity    & cloud       &  0.6400424 \\\\\n",
       "\t121 & INDICE\\_ATMO & humidity      & -0.4721492   \\\\\n",
       "\t388 & month\\_8     & holidays      &  0.4294822   \\\\\n",
       "\t436 & INDICE\\_ATMO & polPeak       &  0.3997786   \\\\\n",
       "\t137 & INDICE\\_ATMO & cloud         & -0.3984128   \\\\\n",
       "\t209 & pres        & rain24      & -0.3867580 \\\\\n",
       "\t190 & pres        & rafper      & -0.3818229 \\\\\n",
       "\t387 & month\\_7     & holidays      &  0.3774289   \\\\\n",
       "\t168 & wind        & pres        & -0.3753956 \\\\\n",
       "\t114 & month\\_7     & tempC         &  0.3688508   \\\\\n",
       "\t136 & tempC       & humidity    & -0.3533658 \\\\\n",
       "\t119 & month\\_12    & tempC         & -0.3351479   \\\\\n",
       "\t108 & month\\_1     & tempC         & -0.3284446   \\\\\n",
       "\t171 & cloud       & pres        & -0.3201946 \\\\\n",
       "\t115 & month\\_8     & tempC         &  0.3164933   \\\\\n",
       "\t109 & month\\_2     & tempC         & -0.3138925   \\\\\n",
       "\t210 & rafper      & rain24      &  0.3027519 \\\\\n",
       "\\end{tabular}\n"
      ],
      "text/markdown": [
       "\n",
       "| <!--/--> | row | column | cor | \n",
       "|---|---|---|---|---|---|---|---|---|---|---|---|---|---|---|---|---|---|\n",
       "| 186 | wind        | rafper      |  0.9631579  | \n",
       "| 153 | humidity    | cloud       |  0.6400424  | \n",
       "| 121 | INDICE_ATMO | humidity    | -0.4721492  | \n",
       "| 388 | month_8     | holidays    |  0.4294822  | \n",
       "| 436 | INDICE_ATMO | polPeak     |  0.3997786  | \n",
       "| 137 | INDICE_ATMO | cloud       | -0.3984128  | \n",
       "| 209 | pres        | rain24      | -0.3867580  | \n",
       "| 190 | pres        | rafper      | -0.3818229  | \n",
       "| 387 | month_7     | holidays    |  0.3774289  | \n",
       "| 168 | wind        | pres        | -0.3753956  | \n",
       "| 114 | month_7     | tempC       |  0.3688508  | \n",
       "| 136 | tempC       | humidity    | -0.3533658  | \n",
       "| 119 | month_12    | tempC       | -0.3351479  | \n",
       "| 108 | month_1     | tempC       | -0.3284446  | \n",
       "| 171 | cloud       | pres        | -0.3201946  | \n",
       "| 115 | month_8     | tempC       |  0.3164933  | \n",
       "| 109 | month_2     | tempC       | -0.3138925  | \n",
       "| 210 | rafper      | rain24      |  0.3027519  | \n",
       "\n",
       "\n"
      ],
      "text/plain": [
       "    row         column   cor       \n",
       "186 wind        rafper    0.9631579\n",
       "153 humidity    cloud     0.6400424\n",
       "121 INDICE_ATMO humidity -0.4721492\n",
       "388 month_8     holidays  0.4294822\n",
       "436 INDICE_ATMO polPeak   0.3997786\n",
       "137 INDICE_ATMO cloud    -0.3984128\n",
       "209 pres        rain24   -0.3867580\n",
       "190 pres        rafper   -0.3818229\n",
       "387 month_7     holidays  0.3774289\n",
       "168 wind        pres     -0.3753956\n",
       "114 month_7     tempC     0.3688508\n",
       "136 tempC       humidity -0.3533658\n",
       "119 month_12    tempC    -0.3351479\n",
       "108 month_1     tempC    -0.3284446\n",
       "171 cloud       pres     -0.3201946\n",
       "115 month_8     tempC     0.3164933\n",
       "109 month_2     tempC    -0.3138925\n",
       "210 rafper      rain24    0.3027519"
      ]
     },
     "metadata": {},
     "output_type": "display_data"
    }
   ],
   "source": [
    "flat_correl_ord[flat_correl_ord$cor>=0.3|flat_correl_ord$cor<=-0.3,]"
   ]
  },
  {
   "cell_type": "markdown",
   "metadata": {},
   "source": [
    "### 3.3.2 Temperature"
   ]
  },
  {
   "cell_type": "code",
   "execution_count": 287,
   "metadata": {
    "collapsed": true
   },
   "outputs": [],
   "source": [
    "# Give a proper size to plots\n",
    "options(repr.plot.width=4, repr.plot.height=4)"
   ]
  },
  {
   "cell_type": "code",
   "execution_count": 288,
   "metadata": {
    "collapsed": false,
    "scrolled": false
   },
   "outputs": [
    {
     "data": {},
     "metadata": {},
     "output_type": "display_data"
    },
    {
     "data": {
      "image/png": "[encoded data removed]",
      "text/plain": [
       "plot without title"
      ]
     },
     "metadata": {},
     "output_type": "display_data"
    }
   ],
   "source": [
    "ggplot(data=Train_imp) + \n",
    "  geom_point(aes(y = INDICE_ATMO, x = tempC, colour=factor(INDICE_ATMO))) +\n",
    "  labs(title = \"Pollution\\n according to temperatures\") +\n",
    "  scale_colour_manual(values = alpha(c(\"green\",\"green\",\"green\",\"orange\",\"orange\",\"orange\",\"red\",\"red\"), 0.3), guide=FALSE) +\n",
    "  theme_new"
   ]
  },
  {
   "cell_type": "markdown",
   "metadata": {},
   "source": [
    "We observe that pollution peaks appear mainly when it is cold, although some peaks also appear when it is hot. There is no pollution peak in between."
   ]
  },
  {
   "cell_type": "markdown",
   "metadata": {},
   "source": [
    "### 3.3.3 Cloudiness"
   ]
  },
  {
   "cell_type": "code",
   "execution_count": 289,
   "metadata": {
    "collapsed": false
   },
   "outputs": [
    {
     "data": {},
     "metadata": {},
     "output_type": "display_data"
    },
    {
     "data": {
      "image/png": "[encoded data removed]",
      "text/plain": [
       "plot without title"
      ]
     },
     "metadata": {},
     "output_type": "display_data"
    }
   ],
   "source": [
    "ggplot(data=Train_imp) + \n",
    "  geom_point(aes(y = INDICE_ATMO, x = cloud, colour=factor(INDICE_ATMO))) +\n",
    "  labs(title = \"Pollution\\naccording to cloudiness\") +\n",
    "  scale_colour_manual(values = alpha(c(\"green\",\"green\",\"green\",\"orange\",\"orange\",\"orange\",\"red\",\"red\"), 0.3), guide=FALSE) +\n",
    "  theme_new"
   ]
  },
  {
   "cell_type": "markdown",
   "metadata": {},
   "source": [
    "The cloudiness appears to have a slight effect on pollution: the pollution tends to be higher when there are less clouds."
   ]
  },
  {
   "cell_type": "markdown",
   "metadata": {},
   "source": [
    "### 3.3.4 Wind"
   ]
  },
  {
   "cell_type": "code",
   "execution_count": 290,
   "metadata": {
    "collapsed": false,
    "scrolled": false
   },
   "outputs": [
    {
     "data": {},
     "metadata": {},
     "output_type": "display_data"
    },
    {
     "data": {
      "image/png": "[encoded data removed]",
      "text/plain": [
       "plot without title"
      ]
     },
     "metadata": {},
     "output_type": "display_data"
    }
   ],
   "source": [
    "ggplot(data=Train_imp) + \n",
    "  geom_point(aes(y = INDICE_ATMO, x = wind, colour=factor(INDICE_ATMO))) +\n",
    "  labs(title = \"Pollution\\naccording to wind\") +\n",
    "  scale_colour_manual(values = alpha(c(\"green\",\"green\",\"green\",\"orange\",\"orange\",\"orange\",\"red\",\"red\"), 0.3), guide=FALSE) +\n",
    "  theme_new"
   ]
  },
  {
   "cell_type": "markdown",
   "metadata": {},
   "source": [
    "There is a clear relationship between wind and pollution peak: when the wind is weak, the risk of pollution peak is larger. This is logical because the wind tends to disperse particles."
   ]
  },
  {
   "cell_type": "markdown",
   "metadata": {},
   "source": [
    "### 3.3.5 Rain"
   ]
  },
  {
   "cell_type": "code",
   "execution_count": 291,
   "metadata": {
    "collapsed": false,
    "scrolled": false
   },
   "outputs": [
    {
     "data": {},
     "metadata": {},
     "output_type": "display_data"
    },
    {
     "data": {
      "image/png": "[encoded data removed]",
      "text/plain": [
       "plot without title"
      ]
     },
     "metadata": {},
     "output_type": "display_data"
    }
   ],
   "source": [
    "ggplot(data=Train_imp) + \n",
    "  geom_point(aes(y = INDICE_ATMO, x = rain24, colour=factor(INDICE_ATMO))) +\n",
    "  labs(title = \"Pollution\\naccording to rain\") +\n",
    "  scale_colour_manual(values = alpha(c(\"green\",\"green\",\"green\",\"orange\",\"orange\",\"orange\",\"red\",\"red\"), 0.3), guide=FALSE) +\n",
    "  theme_new"
   ]
  },
  {
   "cell_type": "markdown",
   "metadata": {},
   "source": [
    "Here again, the relationship is clear: when it rains, the risk of pollution peak is smaller. Indeed, rain clears the sky from particles."
   ]
  },
  {
   "cell_type": "markdown",
   "metadata": {},
   "source": [
    "### 3.3.6 Traffic"
   ]
  },
  {
   "cell_type": "code",
   "execution_count": 292,
   "metadata": {
    "collapsed": false,
    "scrolled": false
   },
   "outputs": [
    {
     "data": {
      "text/plain": [
       "   \n",
       "    FALSE TRUE\n",
       "  0  3416   36\n",
       "  1   199    1"
      ]
     },
     "metadata": {},
     "output_type": "display_data"
    }
   ],
   "source": [
    "table(Train_imp$goReturnHolidays, Train_imp$INDICE_ATMO>=8)"
   ]
  },
  {
   "cell_type": "code",
   "execution_count": 293,
   "metadata": {
    "collapsed": false
   },
   "outputs": [
    {
     "data": {},
     "metadata": {},
     "output_type": "display_data"
    },
    {
     "data": {
      "image/png": "[encoded data removed]",
      "text/plain": [
       "plot without title"
      ]
     },
     "metadata": {},
     "output_type": "display_data"
    }
   ],
   "source": [
    "ggplot(data=Train_imp) + \n",
    "  geom_point(aes(x = INDICE_ATMO, y = goReturnHolidays, colour=factor(INDICE_ATMO))) +\n",
    "  labs(title = \"Distribution of traffic\\naccording to pollution\") +\n",
    "  scale_colour_manual(values = alpha(c(\"green\",\"green\",\"green\",\"orange\",\"orange\",\"orange\",\"red\",\"red\"), 0.3), guide=FALSE) +\n",
    "  theme_new"
   ]
  },
  {
   "cell_type": "markdown",
   "metadata": {},
   "source": [
    "Days with a likely high traffic (when people go to and return from holidays) do not seem to be related to pollution peaks, or slightly related but in a counterintuitive way: more pollution outside traffic peaks. We have to keep in mind that our proxi may not be very accurate..."
   ]
  },
  {
   "cell_type": "markdown",
   "metadata": {},
   "source": [
    "# 4 Regularized linear regression"
   ]
  },
  {
   "cell_type": "markdown",
   "metadata": {
    "collapsed": true
   },
   "source": [
    "Coming soon..."
   ]
  },
  {
   "cell_type": "markdown",
   "metadata": {},
   "source": [
    "# 5 ARIMA"
   ]
  },
  {
   "cell_type": "markdown",
   "metadata": {},
   "source": [
    "Let's try an ARIMA model (see https://en.wikipedia.org/wiki/Autoregressive_integrated_moving_average for more details)."
   ]
  },
  {
   "cell_type": "markdown",
   "metadata": {},
   "source": [
    "* Basic assumptions made to implement these models: the time series is **linear** and follows a particular **known statistical distribution** (eg. the normal distribution). \n",
    "* Pros: high flexibility\n",
    "* Cons: pre-assumed linear form of the associated time series"
   ]
  },
  {
   "cell_type": "markdown",
   "metadata": {
    "collapsed": true
   },
   "source": [
    "## 5.1 Preliminar checks"
   ]
  },
  {
   "cell_type": "markdown",
   "metadata": {},
   "source": [
    "### 5.1.1 Stationarity"
   ]
  },
  {
   "cell_type": "markdown",
   "metadata": {},
   "source": [
    "Fitting an ARIMA model requires the series to be stationary (i.e. mean, variance and autocovariance being invariant wrt time). Let's check it by performing a KPSS test."
   ]
  },
  {
   "cell_type": "code",
   "execution_count": 294,
   "metadata": {
    "collapsed": false
   },
   "outputs": [
    {
     "name": "stderr",
     "output_type": "stream",
     "text": [
      "Warning message in kpss.test(INDICE_ATMO_ts):\n",
      "\"p-value smaller than printed p-value\""
     ]
    },
    {
     "data": {
      "text/plain": [
       "\n",
       "\tKPSS Test for Level Stationarity\n",
       "\n",
       "data:  INDICE_ATMO_ts\n",
       "KPSS Level = 1.564, Truncation lag parameter = 13, p-value = 0.01\n"
      ]
     },
     "metadata": {},
     "output_type": "display_data"
    }
   ],
   "source": [
    "kpss.test(INDICE_ATMO_ts)"
   ]
  },
  {
   "cell_type": "markdown",
   "metadata": {},
   "source": [
    "The KPSS test reject the null hypothesis of stationarity. So our series is **not stationary** (which was obvious in the plots of the data)."
   ]
  },
  {
   "cell_type": "code",
   "execution_count": 295,
   "metadata": {
    "collapsed": false
   },
   "outputs": [
    {
     "data": {
      "text/html": [
       "1"
      ],
      "text/latex": [
       "1"
      ],
      "text/markdown": [
       "1"
      ],
      "text/plain": [
       "[1] 1"
      ]
     },
     "metadata": {},
     "output_type": "display_data"
    }
   ],
   "source": [
    "ndiffs(INDICE_ATMO_ts,test = \"kpss\")"
   ]
  },
  {
   "cell_type": "code",
   "execution_count": 296,
   "metadata": {
    "collapsed": false
   },
   "outputs": [
    {
     "data": {
      "text/html": [
       "0"
      ],
      "text/latex": [
       "0"
      ],
      "text/markdown": [
       "0"
      ],
      "text/plain": [
       "[1] 0"
      ]
     },
     "metadata": {},
     "output_type": "display_data"
    }
   ],
   "source": [
    "nsdiffs(INDICE_ATMO_ts365) "
   ]
  },
  {
   "cell_type": "markdown",
   "metadata": {},
   "source": [
    "**One** difference is required to make our time series stationary. However, we don't need any seasonal difference."
   ]
  },
  {
   "cell_type": "markdown",
   "metadata": {},
   "source": [
    "### 5.1.2 Plot ACF/PACF charts"
   ]
  },
  {
   "cell_type": "markdown",
   "metadata": {},
   "source": [
    "They will be useful to find optimal parameters. <br>\n",
    "**ACF** plots display correlation between a series and its lags. In addition to suggesting the order of differencing, ACF plots can help in determining the order of the MA (q) model. Partial autocorrelation plots (**PACF**), as the name suggests, display correlation between a variable and its lags that is not explained by previous lags. PACF plots are useful when determining the order of the AR(p) model. (https://www.datascience.com/blog/introduction-to-forecasting-with-arima-in-r-learn-data-science-tutorials)"
   ]
  },
  {
   "cell_type": "markdown",
   "metadata": {},
   "source": [
    "First, let's try to confirm the order of differencing."
   ]
  },
  {
   "cell_type": "code",
   "execution_count": 297,
   "metadata": {
    "collapsed": true,
    "init_cell": true
   },
   "outputs": [],
   "source": [
    "# Give a proper size to plots\n",
    "options(repr.plot.width=10, repr.plot.height=4)"
   ]
  },
  {
   "cell_type": "code",
   "execution_count": 298,
   "metadata": {
    "collapsed": false,
    "scrolled": false
   },
   "outputs": [
    {
     "data": {
      "image/png": "[encoded data removed]",
      "text/plain": [
       "Plot with title \"\""
      ]
     },
     "metadata": {},
     "output_type": "display_data"
    },
    {
     "data": {
      "image/png": "[encoded data removed]",
      "text/plain": [
       "Plot with title \"\""
      ]
     },
     "metadata": {},
     "output_type": "display_data"
    }
   ],
   "source": [
    "Acf(INDICE_ATMO_ts365, main='')\n",
    "Pacf(INDICE_ATMO_ts365, main='')"
   ]
  },
  {
   "cell_type": "markdown",
   "metadata": {},
   "source": [
    "As expected, the cosine-shaped autocorrelation gives a positive maximum at the lag of one year and negative maximum at the lag of half a year, reflecting the **seasonal change** during the year.<br>"
   ]
  },
  {
   "cell_type": "markdown",
   "metadata": {},
   "source": [
    "Let's zoom into the PACF plot to better see the cut off."
   ]
  },
  {
   "cell_type": "code",
   "execution_count": 299,
   "metadata": {
    "collapsed": false,
    "scrolled": false
   },
   "outputs": [
    {
     "data": {
      "image/png": "[encoded data removed]",
      "text/plain": [
       "Plot with title \"\""
      ]
     },
     "metadata": {},
     "output_type": "display_data"
    }
   ],
   "source": [
    "Pacf(INDICE_ATMO_ts365, main='', xlim=c(0,50))"
   ]
  },
  {
   "cell_type": "markdown",
   "metadata": {},
   "source": [
    "### 5.1.3 Differencing the original non-stationary data"
   ]
  },
  {
   "cell_type": "markdown",
   "metadata": {},
   "source": [
    "As suggested by the ndiffs() function, a difference of 1 seems to be reasonable. So let's try d=1."
   ]
  },
  {
   "cell_type": "code",
   "execution_count": 300,
   "metadata": {
    "collapsed": true
   },
   "outputs": [],
   "source": [
    "INDICE_ATMO_365diff1 <- diff(INDICE_ATMO_ts365, differences = 1)"
   ]
  },
  {
   "cell_type": "code",
   "execution_count": 301,
   "metadata": {
    "collapsed": true
   },
   "outputs": [],
   "source": [
    "# Give a proper size to plots\n",
    "options(repr.plot.width=10, repr.plot.height=4)"
   ]
  },
  {
   "cell_type": "code",
   "execution_count": 302,
   "metadata": {
    "collapsed": false
   },
   "outputs": [
    {
     "data": {
      "image/png": "[encoded data removed]",
      "text/plain": [
       "plot without title"
      ]
     },
     "metadata": {},
     "output_type": "display_data"
    }
   ],
   "source": [
    "plot(INDICE_ATMO_365diff1)"
   ]
  },
  {
   "cell_type": "markdown",
   "metadata": {},
   "source": [
    "This look stationary, so we will not consider further differences."
   ]
  },
  {
   "cell_type": "code",
   "execution_count": 303,
   "metadata": {
    "collapsed": false,
    "scrolled": false
   },
   "outputs": [
    {
     "data": {
      "image/png": "[encoded data removed]",
      "text/plain": [
       "Plot with title \"\""
      ]
     },
     "metadata": {},
     "output_type": "display_data"
    },
    {
     "data": {
      "image/png": "[encoded data removed]",
      "text/plain": [
       "Plot with title \"\""
      ]
     },
     "metadata": {},
     "output_type": "display_data"
    }
   ],
   "source": [
    "Acf(INDICE_ATMO_365diff1, main='')\n",
    "Pacf(INDICE_ATMO_365diff1, main='')"
   ]
  },
  {
   "cell_type": "markdown",
   "metadata": {},
   "source": [
    "Let's zoom in."
   ]
  },
  {
   "cell_type": "code",
   "execution_count": 304,
   "metadata": {
    "collapsed": false,
    "scrolled": false
   },
   "outputs": [
    {
     "data": {
      "image/png": "[encoded data removed]",
      "text/plain": [
       "Plot with title \"\""
      ]
     },
     "metadata": {},
     "output_type": "display_data"
    },
    {
     "data": {
      "image/png": "[encoded data removed]",
      "text/plain": [
       "Plot with title \"\""
      ]
     },
     "metadata": {},
     "output_type": "display_data"
    }
   ],
   "source": [
    "Acf(INDICE_ATMO_365diff1, main='', xlim=c(0,100))\n",
    "Pacf(INDICE_ATMO_365diff1, main='', xlim=c(0,100))"
   ]
  },
  {
   "cell_type": "markdown",
   "metadata": {},
   "source": [
    "Given the **ACF** plot (auto-correlation) and the **PACF** plot: <br>\n",
    "The **p** component should be **0** given that we probably don't have an AR process.<br>\n",
    "The **d** component is **1** as we need one difference to make the series stationary.<br>\n",
    "The **q** component should be **4** given that the process seems to be AM(4)."
   ]
  },
  {
   "cell_type": "markdown",
   "metadata": {},
   "source": [
    "## 5.2 Build models"
   ]
  },
  {
   "cell_type": "markdown",
   "metadata": {},
   "source": [
    "Let's check the variances"
   ]
  },
  {
   "cell_type": "code",
   "execution_count": 305,
   "metadata": {
    "collapsed": false,
    "scrolled": false
   },
   "outputs": [
    {
     "data": {
      "image/png": "[encoded data removed]",
      "text/plain": [
       "plot without title"
      ]
     },
     "metadata": {},
     "output_type": "display_data"
    }
   ],
   "source": [
    "boxplot(INDICE_ATMO_ts365~cycle(INDICE_ATMO_ts365))"
   ]
  },
  {
   "cell_type": "markdown",
   "metadata": {},
   "source": [
    "Let's zoom in."
   ]
  },
  {
   "cell_type": "code",
   "execution_count": 306,
   "metadata": {
    "collapsed": false
   },
   "outputs": [
    {
     "data": {
      "image/png": "[encoded data removed]",
      "text/plain": [
       "plot without title"
      ]
     },
     "metadata": {},
     "output_type": "display_data"
    }
   ],
   "source": [
    "boxplot(INDICE_ATMO_ts365~cycle(INDICE_ATMO_ts365), xlim=c(80,120))"
   ]
  },
  {
   "cell_type": "markdown",
   "metadata": {},
   "source": [
    "There is evidence of changing variance according to the day of the year, so we will do a Box-Cox transformation."
   ]
  },
  {
   "cell_type": "markdown",
   "metadata": {},
   "source": [
    "### 5.2.1 Quick and dirty"
   ]
  },
  {
   "cell_type": "code",
   "execution_count": 307,
   "metadata": {
    "collapsed": false,
    "scrolled": false
   },
   "outputs": [],
   "source": [
    "fit_365 <- auto.arima(INDICE_ATMO_ts365, seasonal=FALSE, lambda= BoxCox.lambda(INDICE_ATMO_ts365), biasadj=TRUE)"
   ]
  },
  {
   "cell_type": "code",
   "execution_count": 308,
   "metadata": {
    "collapsed": true
   },
   "outputs": [],
   "source": [
    "# Give a proper size to plots\n",
    "options(repr.plot.width=10, repr.plot.height=4)"
   ]
  },
  {
   "cell_type": "code",
   "execution_count": 309,
   "metadata": {
    "collapsed": false,
    "scrolled": false
   },
   "outputs": [
    {
     "data": {
      "image/png": "[encoded data removed]",
      "text/plain": [
       "Plot with title \"Series  residuals(fit_365)\""
      ]
     },
     "metadata": {},
     "output_type": "display_data"
    },
    {
     "data": {
      "image/png": "[encoded data removed]",
      "text/plain": [
       "Plot with title \"Series  residuals(fit_365)\""
      ]
     },
     "metadata": {},
     "output_type": "display_data"
    }
   ],
   "source": [
    "Acf(residuals(fit_365))\n",
    "Pacf(residuals(fit_365))"
   ]
  },
  {
   "cell_type": "markdown",
   "metadata": {},
   "source": [
    "There seems to be only white noise remaining.\n",
    "We can confirm this by performing a **Ljung–Box test** (that tests whether any of a group of autocorrelations of the residual time series are different from zero).<br>\n",
    "We use fitdf = p + q and lag = 2 * period of seasonality (following https://robjhyndman.com/hyndsight/ljung-box-test/)."
   ]
  },
  {
   "cell_type": "code",
   "execution_count": 310,
   "metadata": {
    "collapsed": false
   },
   "outputs": [
    {
     "data": {
      "text/html": [
       "<ol class=list-inline>\n",
       "\t<li>1</li>\n",
       "\t<li>1</li>\n",
       "\t<li>2</li>\n",
       "</ol>\n"
      ],
      "text/latex": [
       "\\begin{enumerate*}\n",
       "\\item 1\n",
       "\\item 1\n",
       "\\item 2\n",
       "\\end{enumerate*}\n"
      ],
      "text/markdown": [
       "1. 1\n",
       "2. 1\n",
       "3. 2\n",
       "\n",
       "\n"
      ],
      "text/plain": [
       "[1] 1 1 2"
      ]
     },
     "metadata": {},
     "output_type": "display_data"
    }
   ],
   "source": [
    "arimaorder(fit_365)"
   ]
  },
  {
   "cell_type": "markdown",
   "metadata": {},
   "source": [
    "This is rather far from what we expected (i.e. an ARIMA(0,1,4))..."
   ]
  },
  {
   "cell_type": "code",
   "execution_count": 311,
   "metadata": {
    "collapsed": false,
    "scrolled": false
   },
   "outputs": [
    {
     "data": {
      "text/html": [
       "0.310114366474733"
      ],
      "text/latex": [
       "0.310114366474733"
      ],
      "text/markdown": [
       "0.310114366474733"
      ],
      "text/plain": [
       "[1] 0.3101144"
      ]
     },
     "metadata": {},
     "output_type": "display_data"
    }
   ],
   "source": [
    "Box.test(residuals(fit_365), lag=730.5, type=\"Ljung\", fitdf=sum(arimaorder(fit_365)[c(1,3)]))$p.value"
   ]
  },
  {
   "cell_type": "code",
   "execution_count": 312,
   "metadata": {
    "collapsed": false
   },
   "outputs": [],
   "source": [
    "fc_365 <- forecast(fit_365, h=365)"
   ]
  },
  {
   "cell_type": "markdown",
   "metadata": {},
   "source": [
    "Now, we can compare the model (blue) to the actual data (black) in the **validation set** (2015)."
   ]
  },
  {
   "cell_type": "code",
   "execution_count": 313,
   "metadata": {
    "collapsed": true
   },
   "outputs": [],
   "source": [
    "Val$INDICE_ATMO_ts365 <- ts(Val$INDICE_ATMO, frequency=365.25, start=c(2015,as.numeric(format(Val$DATE[1], \"%j\"))))"
   ]
  },
  {
   "cell_type": "code",
   "execution_count": 314,
   "metadata": {
    "collapsed": false,
    "scrolled": false
   },
   "outputs": [
    {
     "data": {
      "image/png": "[encoded data removed]",
      "text/plain": [
       "Plot with title \"Forecasts from ARIMA(1,1,2)\""
      ]
     },
     "metadata": {},
     "output_type": "display_data"
    }
   ],
   "source": [
    "plot(fc_365, ylim=c(0,10), xlim=c(2014,2016))\n",
    "lines(Val$INDICE_ATMO_ts365)"
   ]
  },
  {
   "cell_type": "markdown",
   "metadata": {},
   "source": [
    "The predictions are very bad!"
   ]
  },
  {
   "cell_type": "markdown",
   "metadata": {},
   "source": [
    "Let's check various **performance measures**:\n",
    "* ME: Mean Error: measures the average deviation of forecasted values from actual ones (should be as close to zero as possible)\n",
    "* RMSE: Root Mean Squared Error:  measures the square root of the average squared deviation of forecasted values.\n",
    "* MAE: Mean Absolute Error:  measures the average absolute deviation of forecasted values from original ones (should be as small as possible)\n",
    "* MPE: Mean Percentage Error:  percentage of average error occurred, while forecasting (should be small)\n",
    "* MAPE: Mean Absolute Percentage Error:  percentage of average absolute error occurred\n",
    "* MASE: Mean Absolute Scaled Error\n",
    "* ACF1: Autocorrelation of errors at lag 1.\n",
    "* Theil’s U-statistics: normalized measure of total forecast error (should be as close to zero as possible)"
   ]
  },
  {
   "cell_type": "code",
   "execution_count": 315,
   "metadata": {
    "collapsed": false
   },
   "outputs": [
    {
     "data": {
      "text/html": [
       "<table>\n",
       "<thead><tr><th></th><th scope=col>ME</th><th scope=col>RMSE</th><th scope=col>MAE</th><th scope=col>MPE</th><th scope=col>MAPE</th><th scope=col>MASE</th><th scope=col>ACF1</th><th scope=col>Theil's U</th></tr></thead>\n",
       "<tbody>\n",
       "\t<tr><th scope=row>Training set</th><td>-0.01660147</td><td>0.8333237  </td><td>0.6144700  </td><td>-4.509692  </td><td>16.30685   </td><td>0.6375514  </td><td>0.1214625  </td><td>      NA   </td></tr>\n",
       "\t<tr><th scope=row>Test set</th><td> 0.04122625</td><td>0.9899692  </td><td>0.6989901  </td><td>-4.367430  </td><td>17.73434   </td><td>0.7252464  </td><td>0.5069524  </td><td>1.009512   </td></tr>\n",
       "</tbody>\n",
       "</table>\n"
      ],
      "text/latex": [
       "\\begin{tabular}{r|llllllll}\n",
       "  & ME & RMSE & MAE & MPE & MAPE & MASE & ACF1 & Theil's U\\\\\n",
       "\\hline\n",
       "\tTraining set & -0.01660147 & 0.8333237   & 0.6144700   & -4.509692   & 16.30685    & 0.6375514   & 0.1214625   &       NA   \\\\\n",
       "\tTest set &  0.04122625 & 0.9899692   & 0.6989901   & -4.367430   & 17.73434    & 0.7252464   & 0.5069524   & 1.009512   \\\\\n",
       "\\end{tabular}\n"
      ],
      "text/markdown": [
       "\n",
       "| <!--/--> | ME | RMSE | MAE | MPE | MAPE | MASE | ACF1 | Theil's U | \n",
       "|---|---|\n",
       "| Training set | -0.01660147 | 0.8333237   | 0.6144700   | -4.509692   | 16.30685    | 0.6375514   | 0.1214625   |       NA    | \n",
       "| Test set |  0.04122625 | 0.9899692   | 0.6989901   | -4.367430   | 17.73434    | 0.7252464   | 0.5069524   | 1.009512    | \n",
       "\n",
       "\n"
      ],
      "text/plain": [
       "             ME          RMSE      MAE       MPE       MAPE     MASE     \n",
       "Training set -0.01660147 0.8333237 0.6144700 -4.509692 16.30685 0.6375514\n",
       "Test set      0.04122625 0.9899692 0.6989901 -4.367430 17.73434 0.7252464\n",
       "             ACF1      Theil's U\n",
       "Training set 0.1214625       NA \n",
       "Test set     0.5069524 1.009512 "
      ]
     },
     "metadata": {},
     "output_type": "display_data"
    }
   ],
   "source": [
    "# Forecast accuracy measures\n",
    "accuracy(f=fc_365, x=Val$INDICE_ATMO_ts365)"
   ]
  },
  {
   "cell_type": "markdown",
   "metadata": {},
   "source": [
    "It may be because we **didn't take into account seasonality** (seasonal=FALSE). The problem is that R does not fit an ARIMA model with seasonality greater than 350 and we have a seasonality of 365.25..."
   ]
  },
  {
   "cell_type": "markdown",
   "metadata": {},
   "source": [
    "Here, we can assume that the annual seasonal shape is unchanged from year to year, so **Fourier** terms could be used to model the annual seasonality. Let's try."
   ]
  },
  {
   "cell_type": "markdown",
   "metadata": {},
   "source": [
    "### 5.2.2 Add seasonality (with Fourier terms)"
   ]
  },
  {
   "cell_type": "markdown",
   "metadata": {},
   "source": [
    "#### Fourier with k=5"
   ]
  },
  {
   "cell_type": "code",
   "execution_count": 316,
   "metadata": {
    "collapsed": false
   },
   "outputs": [],
   "source": [
    "four5_365 <- fourier(INDICE_ATMO_ts365, K=5)\n",
    "four5_365f <- fourier(INDICE_ATMO_ts365, K=5, h=365)"
   ]
  },
  {
   "cell_type": "code",
   "execution_count": 317,
   "metadata": {
    "collapsed": true
   },
   "outputs": [],
   "source": [
    "fit_fourier5_365 <- auto.arima(INDICE_ATMO_ts365, seasonal=FALSE, lambda= BoxCox.lambda(INDICE_ATMO_ts365), biasadj=TRUE, xreg=four5_365)"
   ]
  },
  {
   "cell_type": "code",
   "execution_count": 318,
   "metadata": {
    "collapsed": false,
    "scrolled": false
   },
   "outputs": [
    {
     "data": {
      "image/png": "[encoded data removed]",
      "text/plain": [
       "Plot with title \"Series  residuals(fit_fourier5_365)\""
      ]
     },
     "metadata": {},
     "output_type": "display_data"
    },
    {
     "data": {
      "image/png": "[encoded data removed]",
      "text/plain": [
       "Plot with title \"Series  residuals(fit_fourier5_365)\""
      ]
     },
     "metadata": {},
     "output_type": "display_data"
    }
   ],
   "source": [
    "Acf(residuals(fit_fourier5_365), xlim=c(0,100)) \n",
    "Pacf(residuals(fit_fourier5_365), xlim=c(0,100))"
   ]
  },
  {
   "cell_type": "markdown",
   "metadata": {},
   "source": [
    "In the case of deseasonal data, there is still a clear pattern present in model residuals plots. This is confirmed by the following **Ljung–Box test**."
   ]
  },
  {
   "cell_type": "code",
   "execution_count": 319,
   "metadata": {
    "collapsed": false
   },
   "outputs": [
    {
     "data": {
      "text/html": [
       "<ol class=list-inline>\n",
       "\t<li>1</li>\n",
       "\t<li>1</li>\n",
       "\t<li>1</li>\n",
       "</ol>\n"
      ],
      "text/latex": [
       "\\begin{enumerate*}\n",
       "\\item 1\n",
       "\\item 1\n",
       "\\item 1\n",
       "\\end{enumerate*}\n"
      ],
      "text/markdown": [
       "1. 1\n",
       "2. 1\n",
       "3. 1\n",
       "\n",
       "\n"
      ],
      "text/plain": [
       "[1] 1 1 1"
      ]
     },
     "metadata": {},
     "output_type": "display_data"
    }
   ],
   "source": [
    "arimaorder(fit_fourier5_365)"
   ]
  },
  {
   "cell_type": "code",
   "execution_count": 320,
   "metadata": {
    "collapsed": false
   },
   "outputs": [
    {
     "data": {
      "text/html": [
       "0.72398444844572"
      ],
      "text/latex": [
       "0.72398444844572"
      ],
      "text/markdown": [
       "0.72398444844572"
      ],
      "text/plain": [
       "[1] 0.7239844"
      ]
     },
     "metadata": {},
     "output_type": "display_data"
    }
   ],
   "source": [
    "Box.test(residuals(fit_fourier5_365), lag=730.5, fitdf=sum(arimaorder(fit_fourier5_365)[c(1,3)]), type=\"Ljung\")$p.value"
   ]
  },
  {
   "cell_type": "code",
   "execution_count": 321,
   "metadata": {
    "collapsed": true
   },
   "outputs": [],
   "source": [
    "fc_four5_365 <- forecast(fit_fourier5_365, xreg=four5_365f, h=365)"
   ]
  },
  {
   "cell_type": "markdown",
   "metadata": {},
   "source": [
    "Let's plot the model and the forecast."
   ]
  },
  {
   "cell_type": "code",
   "execution_count": 322,
   "metadata": {
    "collapsed": false,
    "scrolled": false
   },
   "outputs": [
    {
     "data": {
      "image/png": "[encoded data removed]",
      "text/plain": [
       "Plot with title \"Forecasts from Regression with ARIMA(1,1,1) errors\""
      ]
     },
     "metadata": {},
     "output_type": "display_data"
    }
   ],
   "source": [
    "plot(fc_four5_365, ylim=c(0,10), xlim=c(2014,2016))\n",
    "lines(Val$INDICE_ATMO_ts365)"
   ]
  },
  {
   "cell_type": "code",
   "execution_count": 323,
   "metadata": {
    "collapsed": false
   },
   "outputs": [
    {
     "data": {
      "text/html": [
       "<table>\n",
       "<thead><tr><th></th><th scope=col>ME</th><th scope=col>RMSE</th><th scope=col>MAE</th><th scope=col>MPE</th><th scope=col>MAPE</th><th scope=col>MASE</th><th scope=col>ACF1</th><th scope=col>Theil's U</th></tr></thead>\n",
       "<tbody>\n",
       "\t<tr><th scope=row>Training set</th><td>-0.000792868</td><td>0.830737    </td><td>0.6144967   </td><td> -4.159811  </td><td>16.16644    </td><td>0.6375791   </td><td>0.1277809   </td><td>      NA    </td></tr>\n",
       "\t<tr><th scope=row>Test set</th><td>-0.416069100</td><td>1.046072    </td><td>0.8546219   </td><td>-15.343396  </td><td>23.02389    </td><td>0.8867242   </td><td>0.4697611   </td><td>1.146827    </td></tr>\n",
       "</tbody>\n",
       "</table>\n"
      ],
      "text/latex": [
       "\\begin{tabular}{r|llllllll}\n",
       "  & ME & RMSE & MAE & MPE & MAPE & MASE & ACF1 & Theil's U\\\\\n",
       "\\hline\n",
       "\tTraining set & -0.000792868 & 0.830737     & 0.6144967    &  -4.159811   & 16.16644     & 0.6375791    & 0.1277809    &       NA    \\\\\n",
       "\tTest set & -0.416069100 & 1.046072     & 0.8546219    & -15.343396   & 23.02389     & 0.8867242    & 0.4697611    & 1.146827    \\\\\n",
       "\\end{tabular}\n"
      ],
      "text/markdown": [
       "\n",
       "| <!--/--> | ME | RMSE | MAE | MPE | MAPE | MASE | ACF1 | Theil's U | \n",
       "|---|---|\n",
       "| Training set | -0.000792868 | 0.830737     | 0.6144967    |  -4.159811   | 16.16644     | 0.6375791    | 0.1277809    |       NA     | \n",
       "| Test set | -0.416069100 | 1.046072     | 0.8546219    | -15.343396   | 23.02389     | 0.8867242    | 0.4697611    | 1.146827     | \n",
       "\n",
       "\n"
      ],
      "text/plain": [
       "             ME           RMSE     MAE       MPE        MAPE     MASE     \n",
       "Training set -0.000792868 0.830737 0.6144967  -4.159811 16.16644 0.6375791\n",
       "Test set     -0.416069100 1.046072 0.8546219 -15.343396 23.02389 0.8867242\n",
       "             ACF1      Theil's U\n",
       "Training set 0.1277809       NA \n",
       "Test set     0.4697611 1.146827 "
      ]
     },
     "metadata": {},
     "output_type": "display_data"
    }
   ],
   "source": [
    "# Forecast accuracy measures\n",
    "accuracy(f=fc_four5_365, x=Val$INDICE_ATMO_ts365)"
   ]
  },
  {
   "cell_type": "markdown",
   "metadata": {},
   "source": [
    "#### Fourier with k=30"
   ]
  },
  {
   "cell_type": "code",
   "execution_count": 324,
   "metadata": {
    "collapsed": false
   },
   "outputs": [],
   "source": [
    "four30_365 <- fourier(INDICE_ATMO_ts365, K=30)\n",
    "four30_365f <- fourier(INDICE_ATMO_ts365, K=30, h=365)"
   ]
  },
  {
   "cell_type": "code",
   "execution_count": 325,
   "metadata": {
    "collapsed": false
   },
   "outputs": [],
   "source": [
    "fit_fourier30_365 <- auto.arima(INDICE_ATMO_ts365, seasonal=FALSE, lambda= BoxCox.lambda(INDICE_ATMO_ts365), biasadj=TRUE, xreg=four30_365) "
   ]
  },
  {
   "cell_type": "code",
   "execution_count": 326,
   "metadata": {
    "collapsed": false,
    "scrolled": false
   },
   "outputs": [
    {
     "data": {
      "image/png": "[encoded data removed]",
      "text/plain": [
       "Plot with title \"Series  residuals(fit_fourier30_365)\""
      ]
     },
     "metadata": {},
     "output_type": "display_data"
    },
    {
     "data": {
      "image/png": "[encoded data removed]",
      "text/plain": [
       "Plot with title \"Series  residuals(fit_fourier30_365)\""
      ]
     },
     "metadata": {},
     "output_type": "display_data"
    }
   ],
   "source": [
    "Acf(residuals(fit_fourier30_365), xlim=c(0,100))\n",
    "Pacf(residuals(fit_fourier30_365), xlim=c(0,100))"
   ]
  },
  {
   "cell_type": "markdown",
   "metadata": {},
   "source": [
    "There is no clear pattern remaining in model residuals plots which is confirmed by the following **Ljung–Box test**."
   ]
  },
  {
   "cell_type": "code",
   "execution_count": 327,
   "metadata": {
    "collapsed": false
   },
   "outputs": [
    {
     "data": {
      "text/html": [
       "<ol class=list-inline>\n",
       "\t<li>1</li>\n",
       "\t<li>1</li>\n",
       "\t<li>2</li>\n",
       "</ol>\n"
      ],
      "text/latex": [
       "\\begin{enumerate*}\n",
       "\\item 1\n",
       "\\item 1\n",
       "\\item 2\n",
       "\\end{enumerate*}\n"
      ],
      "text/markdown": [
       "1. 1\n",
       "2. 1\n",
       "3. 2\n",
       "\n",
       "\n"
      ],
      "text/plain": [
       "[1] 1 1 2"
      ]
     },
     "metadata": {},
     "output_type": "display_data"
    }
   ],
   "source": [
    "arimaorder(fit_fourier30_365)"
   ]
  },
  {
   "cell_type": "code",
   "execution_count": 328,
   "metadata": {
    "collapsed": false
   },
   "outputs": [
    {
     "data": {
      "text/html": [
       "0.493031013398369"
      ],
      "text/latex": [
       "0.493031013398369"
      ],
      "text/markdown": [
       "0.493031013398369"
      ],
      "text/plain": [
       "[1] 0.493031"
      ]
     },
     "metadata": {},
     "output_type": "display_data"
    }
   ],
   "source": [
    "Box.test(residuals(fit_fourier30_365), lag=730.5, fitdf=sum(arimaorder(fit_fourier30_365)[c(1,3)]), type=\"Ljung\")$p.value"
   ]
  },
  {
   "cell_type": "code",
   "execution_count": 329,
   "metadata": {
    "collapsed": false
   },
   "outputs": [],
   "source": [
    "fc_four30_365 <- forecast(fit_fourier30_365, xreg=four30_365f, h=365)"
   ]
  },
  {
   "cell_type": "markdown",
   "metadata": {},
   "source": [
    "Let's plot the model and the forecast."
   ]
  },
  {
   "cell_type": "code",
   "execution_count": 390,
   "metadata": {
    "collapsed": false,
    "scrolled": false
   },
   "outputs": [
    {
     "data": {
      "image/png": "[encoded data removed]",
      "text/plain": [
       "Plot with title \"Forecasts from Regression with ARIMA(1,1,2) errors\""
      ]
     },
     "metadata": {},
     "output_type": "display_data"
    }
   ],
   "source": [
    "plot(fc_four30_365, ylim=c(0,10))\n",
    "lines(Val$INDICE_ATMO_ts365)"
   ]
  },
  {
   "cell_type": "code",
   "execution_count": 331,
   "metadata": {
    "collapsed": false,
    "scrolled": false
   },
   "outputs": [
    {
     "data": {
      "image/png": "[encoded data removed]",
      "text/plain": [
       "Plot with title \"Forecasts from Regression with ARIMA(1,1,2) errors\""
      ]
     },
     "metadata": {},
     "output_type": "display_data"
    }
   ],
   "source": [
    "plot(fc_four30_365, ylim=c(0,10), xlim=c(2014,2016))\n",
    "lines(Val$INDICE_ATMO_ts365)"
   ]
  },
  {
   "cell_type": "markdown",
   "metadata": {},
   "source": [
    "The model still performs rather poorly and it does not predict the peaks!"
   ]
  },
  {
   "cell_type": "code",
   "execution_count": 332,
   "metadata": {
    "collapsed": false
   },
   "outputs": [
    {
     "data": {
      "text/html": [
       "<table>\n",
       "<thead><tr><th></th><th scope=col>ME</th><th scope=col>RMSE</th><th scope=col>MAE</th><th scope=col>MPE</th><th scope=col>MAPE</th><th scope=col>MASE</th><th scope=col>ACF1</th><th scope=col>Theil's U</th></tr></thead>\n",
       "<tbody>\n",
       "\t<tr><th scope=row>Training set</th><td>-0.01009482</td><td>0.8239045  </td><td>0.6105912  </td><td> -4.320098 </td><td>16.09803   </td><td>0.6335269  </td><td>0.1369593  </td><td>      NA   </td></tr>\n",
       "\t<tr><th scope=row>Test set</th><td>-0.51105393</td><td>1.1080220  </td><td>0.9141352  </td><td>-17.784420 </td><td>24.74555   </td><td>0.9484730  </td><td>0.4933006  </td><td>1.232449   </td></tr>\n",
       "</tbody>\n",
       "</table>\n"
      ],
      "text/latex": [
       "\\begin{tabular}{r|llllllll}\n",
       "  & ME & RMSE & MAE & MPE & MAPE & MASE & ACF1 & Theil's U\\\\\n",
       "\\hline\n",
       "\tTraining set & -0.01009482 & 0.8239045   & 0.6105912   &  -4.320098  & 16.09803    & 0.6335269   & 0.1369593   &       NA   \\\\\n",
       "\tTest set & -0.51105393 & 1.1080220   & 0.9141352   & -17.784420  & 24.74555    & 0.9484730   & 0.4933006   & 1.232449   \\\\\n",
       "\\end{tabular}\n"
      ],
      "text/markdown": [
       "\n",
       "| <!--/--> | ME | RMSE | MAE | MPE | MAPE | MASE | ACF1 | Theil's U | \n",
       "|---|---|\n",
       "| Training set | -0.01009482 | 0.8239045   | 0.6105912   |  -4.320098  | 16.09803    | 0.6335269   | 0.1369593   |       NA    | \n",
       "| Test set | -0.51105393 | 1.1080220   | 0.9141352   | -17.784420  | 24.74555    | 0.9484730   | 0.4933006   | 1.232449    | \n",
       "\n",
       "\n"
      ],
      "text/plain": [
       "             ME          RMSE      MAE       MPE        MAPE     MASE     \n",
       "Training set -0.01009482 0.8239045 0.6105912  -4.320098 16.09803 0.6335269\n",
       "Test set     -0.51105393 1.1080220 0.9141352 -17.784420 24.74555 0.9484730\n",
       "             ACF1      Theil's U\n",
       "Training set 0.1369593       NA \n",
       "Test set     0.4933006 1.232449 "
      ]
     },
     "metadata": {},
     "output_type": "display_data"
    }
   ],
   "source": [
    "# Forecast accuracy measures\n",
    "accuracy(f=fc_four30_365, x=Val$INDICE_ATMO_ts365)"
   ]
  },
  {
   "cell_type": "markdown",
   "metadata": {},
   "source": [
    "#### Multi-Seasonality"
   ]
  },
  {
   "cell_type": "markdown",
   "metadata": {},
   "source": [
    "It is possible that we have a multi-seasonality here. Let's check it."
   ]
  },
  {
   "cell_type": "code",
   "execution_count": 333,
   "metadata": {
    "collapsed": false
   },
   "outputs": [
    {
     "data": {
      "text/html": [
       "24"
      ],
      "text/latex": [
       "24"
      ],
      "text/markdown": [
       "24"
      ],
      "text/plain": [
       "[1] 24"
      ]
     },
     "metadata": {},
     "output_type": "display_data"
    }
   ],
   "source": [
    "findfrequency(Train_imp$INDICE_ATMO_ts)"
   ]
  },
  {
   "cell_type": "code",
   "execution_count": 334,
   "metadata": {
    "collapsed": false
   },
   "outputs": [],
   "source": [
    "y_24_365 <- msts(INDICE_ATMO_ts365, ts.frequency=365.25, seasonal.periods=c(24,365.25), start=c(2005,as.numeric(format(Train_imp$DATE[1], \"%j\"))))"
   ]
  },
  {
   "cell_type": "code",
   "execution_count": 335,
   "metadata": {
    "collapsed": true
   },
   "outputs": [],
   "source": [
    "four_24_365 <- fourier(y_24_365, K=c(12,30))\n",
    "four_24_365f <- fourier(y_24_365, K=c(12,30), h=365)"
   ]
  },
  {
   "cell_type": "code",
   "execution_count": 336,
   "metadata": {
    "collapsed": false
   },
   "outputs": [],
   "source": [
    "fit_multi <- auto.arima(y_24_365, seasonal=F, lambda= BoxCox.lambda(y_24_365), biasadj=TRUE, xreg=four_24_365)"
   ]
  },
  {
   "cell_type": "code",
   "execution_count": 337,
   "metadata": {
    "collapsed": false
   },
   "outputs": [
    {
     "data": {
      "text/html": [
       "<ol class=list-inline>\n",
       "\t<li>1</li>\n",
       "\t<li>1</li>\n",
       "\t<li>2</li>\n",
       "</ol>\n"
      ],
      "text/latex": [
       "\\begin{enumerate*}\n",
       "\\item 1\n",
       "\\item 1\n",
       "\\item 2\n",
       "\\end{enumerate*}\n"
      ],
      "text/markdown": [
       "1. 1\n",
       "2. 1\n",
       "3. 2\n",
       "\n",
       "\n"
      ],
      "text/plain": [
       "[1] 1 1 2"
      ]
     },
     "metadata": {},
     "output_type": "display_data"
    }
   ],
   "source": [
    "arimaorder(fit_multi)"
   ]
  },
  {
   "cell_type": "code",
   "execution_count": 338,
   "metadata": {
    "collapsed": false
   },
   "outputs": [
    {
     "data": {
      "text/html": [
       "0.364626551838709"
      ],
      "text/latex": [
       "0.364626551838709"
      ],
      "text/markdown": [
       "0.364626551838709"
      ],
      "text/plain": [
       "[1] 0.3646266"
      ]
     },
     "metadata": {},
     "output_type": "display_data"
    }
   ],
   "source": [
    "Box.test(residuals(fit_multi), lag=730.5, fitdf=sum(arimaorder(fit_multi)[c(1,3)]), type=\"Ljung\")$p.value"
   ]
  },
  {
   "cell_type": "code",
   "execution_count": 339,
   "metadata": {
    "collapsed": false
   },
   "outputs": [],
   "source": [
    "fc_multi <- forecast(fit_multi, xreg= four_24_365f, h=365)"
   ]
  },
  {
   "cell_type": "code",
   "execution_count": 340,
   "metadata": {
    "collapsed": false
   },
   "outputs": [
    {
     "data": {
      "image/png": "[encoded data removed]",
      "text/plain": [
       "Plot with title \"Forecasts from Regression with ARIMA(1,1,2) errors\""
      ]
     },
     "metadata": {},
     "output_type": "display_data"
    }
   ],
   "source": [
    "plot(fc_multi, ylim=c(0,10), xlim=c(2014,2016))\n",
    "lines(Val$INDICE_ATMO_ts365)"
   ]
  },
  {
   "cell_type": "markdown",
   "metadata": {},
   "source": [
    "The advantage of taking into account multiple seasonalities is not clear here. Let's check the performance."
   ]
  },
  {
   "cell_type": "code",
   "execution_count": 341,
   "metadata": {
    "collapsed": false
   },
   "outputs": [
    {
     "data": {
      "text/html": [
       "<table>\n",
       "<thead><tr><th></th><th scope=col>ME</th><th scope=col>RMSE</th><th scope=col>MAE</th><th scope=col>MPE</th><th scope=col>MAPE</th><th scope=col>MASE</th><th scope=col>ACF1</th><th scope=col>Theil's U</th></tr></thead>\n",
       "<tbody>\n",
       "\t<tr><th scope=row>Training set</th><td>-0.002135699</td><td>0.8213726   </td><td>0.6071796   </td><td> -4.086235  </td><td>15.97005    </td><td>0.6299872   </td><td>0.137445    </td><td>      NA    </td></tr>\n",
       "\t<tr><th scope=row>Test set</th><td>-0.426819874</td><td>1.0684936   </td><td>0.8732383   </td><td>-15.531218  </td><td>23.40821    </td><td>0.9060399   </td><td>0.483016    </td><td>1.171424    </td></tr>\n",
       "</tbody>\n",
       "</table>\n"
      ],
      "text/latex": [
       "\\begin{tabular}{r|llllllll}\n",
       "  & ME & RMSE & MAE & MPE & MAPE & MASE & ACF1 & Theil's U\\\\\n",
       "\\hline\n",
       "\tTraining set & -0.002135699 & 0.8213726    & 0.6071796    &  -4.086235   & 15.97005     & 0.6299872    & 0.137445     &       NA    \\\\\n",
       "\tTest set & -0.426819874 & 1.0684936    & 0.8732383    & -15.531218   & 23.40821     & 0.9060399    & 0.483016     & 1.171424    \\\\\n",
       "\\end{tabular}\n"
      ],
      "text/markdown": [
       "\n",
       "| <!--/--> | ME | RMSE | MAE | MPE | MAPE | MASE | ACF1 | Theil's U | \n",
       "|---|---|\n",
       "| Training set | -0.002135699 | 0.8213726    | 0.6071796    |  -4.086235   | 15.97005     | 0.6299872    | 0.137445     |       NA     | \n",
       "| Test set | -0.426819874 | 1.0684936    | 0.8732383    | -15.531218   | 23.40821     | 0.9060399    | 0.483016     | 1.171424     | \n",
       "\n",
       "\n"
      ],
      "text/plain": [
       "             ME           RMSE      MAE       MPE        MAPE     MASE     \n",
       "Training set -0.002135699 0.8213726 0.6071796  -4.086235 15.97005 0.6299872\n",
       "Test set     -0.426819874 1.0684936 0.8732383 -15.531218 23.40821 0.9060399\n",
       "             ACF1     Theil's U\n",
       "Training set 0.137445       NA \n",
       "Test set     0.483016 1.171424 "
      ]
     },
     "metadata": {},
     "output_type": "display_data"
    }
   ],
   "source": [
    "# Forecast accuracy measures\n",
    "accuracy(f=fc_multi, x=Val$INDICE_ATMO_ts365)"
   ]
  },
  {
   "cell_type": "markdown",
   "metadata": {},
   "source": [
    "Well, it is a bit better. Let's keep both seasonalities."
   ]
  },
  {
   "cell_type": "markdown",
   "metadata": {},
   "source": [
    "## 5.3 Add regressors"
   ]
  },
  {
   "cell_type": "markdown",
   "metadata": {},
   "source": [
    "As we have seen, our model does not predict the peaks. Actually, peaks are probably due to external factors, such as the weather or the traffic. Let's take these factors into account."
   ]
  },
  {
   "cell_type": "code",
   "execution_count": 343,
   "metadata": {
    "collapsed": false
   },
   "outputs": [],
   "source": [
    "# Prepare dataframe with external regressors\n",
    "Ext_reg <- subset(Train_imp, select=c(\"month_2\", \"month_3\", \"month_4\", \"month_5\", \"month_6\", \"month_7\", \"month_8\", \"month_9\", \"month_10\", \"month_11\", \"month_12\", \"wind\", \"tempC\", \"humidity\", \"cloud\", \"pres\", \"rafper\", \"rain24\", \"weekday_dimanche\", \"weekday_jeudi\", \"weekday_mardi\", \"weekday_mercredi\", \"weekday_samedi\", \"weekday_vendredi\", \"holidays\", \"goReturnHolidays\")) \n",
    "Ext_regf <- subset(Val, select=c(\"month_2\", \"month_3\", \"month_4\", \"month_5\", \"month_6\", \"month_7\", \"month_8\", \"month_9\", \"month_10\", \"month_11\", \"month_12\", \"wind\", \"tempC\", \"humidity\", \"cloud\", \"pres\", \"rafper\", \"rain24\", \"weekday_dimanche\", \"weekday_jeudi\", \"weekday_mardi\", \"weekday_mercredi\", \"weekday_samedi\", \"weekday_vendredi\", \"holidays\", \"goReturnHolidays\"))"
   ]
  },
  {
   "cell_type": "markdown",
   "metadata": {},
   "source": [
    "**Note**: don't forget to remove one of each dummy variable to avoid collinearity. Here we have removed \"weekday_lundi\" and \"month_1\"."
   ]
  },
  {
   "cell_type": "code",
   "execution_count": 344,
   "metadata": {
    "collapsed": true
   },
   "outputs": [],
   "source": [
    "# Prepare matrix with external regressors\n",
    "Ext_reg_multi<- cbind(Ext_reg, four_24_365)\n",
    "Ext_reg_mat_multi <- data.matrix(Ext_reg_multi)\n",
    "\n",
    "Ext_regf_multi <- cbind(Ext_regf, four_24_365f)\n",
    "Ext_regf_mat_multi <- data.matrix(Ext_regf_multi)"
   ]
  },
  {
   "cell_type": "code",
   "execution_count": 345,
   "metadata": {
    "collapsed": false
   },
   "outputs": [],
   "source": [
    "# Prepare matrix with external regressors\n",
    "Ext_reg_365<- cbind(Ext_reg, four30_365)\n",
    "Ext_reg_mat_365 <- data.matrix(Ext_reg_365)\n",
    "\n",
    "Ext_regf_365 <- cbind(Ext_regf, four30_365f)\n",
    "Ext_regf_mat_365 <- data.matrix(Ext_regf_365)"
   ]
  },
  {
   "cell_type": "code",
   "execution_count": 346,
   "metadata": {
    "collapsed": true
   },
   "outputs": [],
   "source": [
    "# Fit model and forecast\n",
    "fit_multi_reg <- auto.arima(y_24_365, seasonal=FALSE, lambda= BoxCox.lambda(y_24_365), biasadj=TRUE, xreg=Ext_reg_mat_multi)"
   ]
  },
  {
   "cell_type": "code",
   "execution_count": 347,
   "metadata": {
    "collapsed": true
   },
   "outputs": [],
   "source": [
    "# Fit model and forecast\n",
    "fit_365_reg <- auto.arima(INDICE_ATMO_ts365, seasonal=FALSE, lambda= BoxCox.lambda(INDICE_ATMO_ts365), biasadj=TRUE, xreg=Ext_reg_mat_365)"
   ]
  },
  {
   "cell_type": "code",
   "execution_count": 348,
   "metadata": {
    "collapsed": false
   },
   "outputs": [
    {
     "data": {
      "image/png": "[encoded data removed]",
      "text/plain": [
       "Plot with title \"Series  residuals(fit_multi_reg)\""
      ]
     },
     "metadata": {},
     "output_type": "display_data"
    },
    {
     "data": {
      "image/png": "[encoded data removed]",
      "text/plain": [
       "Plot with title \"Series  residuals(fit_multi_reg)\""
      ]
     },
     "metadata": {},
     "output_type": "display_data"
    }
   ],
   "source": [
    "Acf(residuals(fit_multi_reg)) \n",
    "Pacf(residuals(fit_multi_reg))"
   ]
  },
  {
   "cell_type": "markdown",
   "metadata": {},
   "source": [
    "There is no more a clear pattern present in model residuals plots which is confirm by the following **Ljung–Box test**."
   ]
  },
  {
   "cell_type": "code",
   "execution_count": 349,
   "metadata": {
    "collapsed": false
   },
   "outputs": [
    {
     "data": {
      "text/html": [
       "<ol class=list-inline>\n",
       "\t<li>1</li>\n",
       "\t<li>1</li>\n",
       "\t<li>1</li>\n",
       "</ol>\n"
      ],
      "text/latex": [
       "\\begin{enumerate*}\n",
       "\\item 1\n",
       "\\item 1\n",
       "\\item 1\n",
       "\\end{enumerate*}\n"
      ],
      "text/markdown": [
       "1. 1\n",
       "2. 1\n",
       "3. 1\n",
       "\n",
       "\n"
      ],
      "text/plain": [
       "[1] 1 1 1"
      ]
     },
     "metadata": {},
     "output_type": "display_data"
    },
    {
     "data": {
      "text/html": [
       "<ol class=list-inline>\n",
       "\t<li>1</li>\n",
       "\t<li>1</li>\n",
       "\t<li>1</li>\n",
       "</ol>\n"
      ],
      "text/latex": [
       "\\begin{enumerate*}\n",
       "\\item 1\n",
       "\\item 1\n",
       "\\item 1\n",
       "\\end{enumerate*}\n"
      ],
      "text/markdown": [
       "1. 1\n",
       "2. 1\n",
       "3. 1\n",
       "\n",
       "\n"
      ],
      "text/plain": [
       "[1] 1 1 1"
      ]
     },
     "metadata": {},
     "output_type": "display_data"
    }
   ],
   "source": [
    "arimaorder(fit_multi_reg)\n",
    "arimaorder(fit_365_reg)"
   ]
  },
  {
   "cell_type": "code",
   "execution_count": 350,
   "metadata": {
    "collapsed": false
   },
   "outputs": [
    {
     "data": {
      "text/html": [
       "0.011554583137721"
      ],
      "text/latex": [
       "0.011554583137721"
      ],
      "text/markdown": [
       "0.011554583137721"
      ],
      "text/plain": [
       "[1] 0.01155458"
      ]
     },
     "metadata": {},
     "output_type": "display_data"
    }
   ],
   "source": [
    "Box.test(residuals(fit_multi_reg), lag=730.5, fitdf=sum(arimaorder(fit_multi_reg)[c(1,3)]), type=\"Ljung\")$p.value"
   ]
  },
  {
   "cell_type": "code",
   "execution_count": 351,
   "metadata": {
    "collapsed": false
   },
   "outputs": [
    {
     "data": {
      "text/html": [
       "0.0216253283936135"
      ],
      "text/latex": [
       "0.0216253283936135"
      ],
      "text/markdown": [
       "0.0216253283936135"
      ],
      "text/plain": [
       "[1] 0.02162533"
      ]
     },
     "metadata": {},
     "output_type": "display_data"
    }
   ],
   "source": [
    "Box.test(residuals(fit_365_reg), lag=730.5, fitdf=sum(arimaorder(fit_365_reg)[c(1,3)]), type=\"Ljung\")$p.value"
   ]
  },
  {
   "cell_type": "code",
   "execution_count": 352,
   "metadata": {
    "collapsed": true
   },
   "outputs": [],
   "source": [
    "fc_multi_reg <- forecast(fit_multi_reg, xreg=Ext_regf_mat_multi, h=365)"
   ]
  },
  {
   "cell_type": "code",
   "execution_count": 353,
   "metadata": {
    "collapsed": true
   },
   "outputs": [],
   "source": [
    "fc_365_reg <- forecast(fit_365_reg, xreg=Ext_regf_mat_365, h=365)"
   ]
  },
  {
   "cell_type": "code",
   "execution_count": 354,
   "metadata": {
    "collapsed": false
   },
   "outputs": [
    {
     "data": {
      "image/png": "[encoded data removed]",
      "text/plain": [
       "Plot with title \"Forecasts from Regression with ARIMA(1,1,1) errors\""
      ]
     },
     "metadata": {},
     "output_type": "display_data"
    }
   ],
   "source": [
    "plot(fc_multi_reg, ylim=c(0,10))\n",
    "lines(Val$INDICE_ATMO_ts365)"
   ]
  },
  {
   "cell_type": "code",
   "execution_count": 355,
   "metadata": {
    "collapsed": false
   },
   "outputs": [
    {
     "data": {
      "image/png": "[encoded data removed]",
      "text/plain": [
       "Plot with title \"Arima with regressors\""
      ]
     },
     "metadata": {},
     "output_type": "display_data"
    }
   ],
   "source": [
    "plot(fc_multi_reg, , main=\"Arima with regressors\", ylim=c(0,10), xlim=c(2014,2016))\n",
    "lines(Val$INDICE_ATMO_ts365)"
   ]
  },
  {
   "cell_type": "markdown",
   "metadata": {},
   "source": [
    "This is even better than the Arima model without regressors that we can remind here:"
   ]
  },
  {
   "cell_type": "code",
   "execution_count": 356,
   "metadata": {
    "collapsed": false
   },
   "outputs": [
    {
     "data": {
      "image/png": "[encoded data removed]",
      "text/plain": [
       "Plot with title \"Arima\""
      ]
     },
     "metadata": {},
     "output_type": "display_data"
    }
   ],
   "source": [
    "plot(fc_multi, main=\"Arima\", xlim=c(2014,2016))\n",
    "lines(Val$INDICE_ATMO_ts365)"
   ]
  },
  {
   "cell_type": "markdown",
   "metadata": {},
   "source": [
    "However, the model still doesn't well predict the peaks..."
   ]
  },
  {
   "cell_type": "code",
   "execution_count": 357,
   "metadata": {
    "collapsed": false
   },
   "outputs": [
    {
     "data": {
      "text/html": [
       "<table>\n",
       "<thead><tr><th></th><th scope=col>ME</th><th scope=col>RMSE</th><th scope=col>MAE</th><th scope=col>MPE</th><th scope=col>MAPE</th><th scope=col>MASE</th><th scope=col>ACF1</th><th scope=col>Theil's U</th></tr></thead>\n",
       "<tbody>\n",
       "\t<tr><th scope=row>Training set</th><td>-0.007873774</td><td>0.7704269   </td><td>0.5564256   </td><td> -3.460281  </td><td>14.45653    </td><td>0.5773267   </td><td>0.1299060   </td><td>      NA    </td></tr>\n",
       "\t<tr><th scope=row>Test set</th><td>-0.329768882</td><td>1.1743804   </td><td>0.9011457   </td><td>-12.684336  </td><td>23.10911    </td><td>0.9349955   </td><td>0.3604124   </td><td>1.226622    </td></tr>\n",
       "</tbody>\n",
       "</table>\n"
      ],
      "text/latex": [
       "\\begin{tabular}{r|llllllll}\n",
       "  & ME & RMSE & MAE & MPE & MAPE & MASE & ACF1 & Theil's U\\\\\n",
       "\\hline\n",
       "\tTraining set & -0.007873774 & 0.7704269    & 0.5564256    &  -3.460281   & 14.45653     & 0.5773267    & 0.1299060    &       NA    \\\\\n",
       "\tTest set & -0.329768882 & 1.1743804    & 0.9011457    & -12.684336   & 23.10911     & 0.9349955    & 0.3604124    & 1.226622    \\\\\n",
       "\\end{tabular}\n"
      ],
      "text/markdown": [
       "\n",
       "| <!--/--> | ME | RMSE | MAE | MPE | MAPE | MASE | ACF1 | Theil's U | \n",
       "|---|---|\n",
       "| Training set | -0.007873774 | 0.7704269    | 0.5564256    |  -3.460281   | 14.45653     | 0.5773267    | 0.1299060    |       NA     | \n",
       "| Test set | -0.329768882 | 1.1743804    | 0.9011457    | -12.684336   | 23.10911     | 0.9349955    | 0.3604124    | 1.226622     | \n",
       "\n",
       "\n"
      ],
      "text/plain": [
       "             ME           RMSE      MAE       MPE        MAPE     MASE     \n",
       "Training set -0.007873774 0.7704269 0.5564256  -3.460281 14.45653 0.5773267\n",
       "Test set     -0.329768882 1.1743804 0.9011457 -12.684336 23.10911 0.9349955\n",
       "             ACF1      Theil's U\n",
       "Training set 0.1299060       NA \n",
       "Test set     0.3604124 1.226622 "
      ]
     },
     "metadata": {},
     "output_type": "display_data"
    }
   ],
   "source": [
    "# Forecast accuracy measures\n",
    "accuracy(f=fc_multi_reg, x=Val$INDICE_ATMO_ts365)"
   ]
  },
  {
   "cell_type": "code",
   "execution_count": 358,
   "metadata": {
    "collapsed": false
   },
   "outputs": [
    {
     "data": {
      "text/html": [
       "<table>\n",
       "<thead><tr><th></th><th scope=col>ME</th><th scope=col>RMSE</th><th scope=col>MAE</th><th scope=col>MPE</th><th scope=col>MAPE</th><th scope=col>MASE</th><th scope=col>ACF1</th><th scope=col>Theil's U</th></tr></thead>\n",
       "<tbody>\n",
       "\t<tr><th scope=row>Training set</th><td>-0.00782853</td><td>0.7724091  </td><td>0.5568272  </td><td> -3.477869 </td><td>14.47594   </td><td>0.5777434  </td><td>0.1289898  </td><td>      NA   </td></tr>\n",
       "\t<tr><th scope=row>Test set</th><td>-0.33497390</td><td>1.1786976  </td><td>0.9020556  </td><td>-12.829657 </td><td>23.16011   </td><td>0.9359396  </td><td>0.3609532  </td><td>1.231852   </td></tr>\n",
       "</tbody>\n",
       "</table>\n"
      ],
      "text/latex": [
       "\\begin{tabular}{r|llllllll}\n",
       "  & ME & RMSE & MAE & MPE & MAPE & MASE & ACF1 & Theil's U\\\\\n",
       "\\hline\n",
       "\tTraining set & -0.00782853 & 0.7724091   & 0.5568272   &  -3.477869  & 14.47594    & 0.5777434   & 0.1289898   &       NA   \\\\\n",
       "\tTest set & -0.33497390 & 1.1786976   & 0.9020556   & -12.829657  & 23.16011    & 0.9359396   & 0.3609532   & 1.231852   \\\\\n",
       "\\end{tabular}\n"
      ],
      "text/markdown": [
       "\n",
       "| <!--/--> | ME | RMSE | MAE | MPE | MAPE | MASE | ACF1 | Theil's U | \n",
       "|---|---|\n",
       "| Training set | -0.00782853 | 0.7724091   | 0.5568272   |  -3.477869  | 14.47594    | 0.5777434   | 0.1289898   |       NA    | \n",
       "| Test set | -0.33497390 | 1.1786976   | 0.9020556   | -12.829657  | 23.16011    | 0.9359396   | 0.3609532   | 1.231852    | \n",
       "\n",
       "\n"
      ],
      "text/plain": [
       "             ME          RMSE      MAE       MPE        MAPE     MASE     \n",
       "Training set -0.00782853 0.7724091 0.5568272  -3.477869 14.47594 0.5777434\n",
       "Test set     -0.33497390 1.1786976 0.9020556 -12.829657 23.16011 0.9359396\n",
       "             ACF1      Theil's U\n",
       "Training set 0.1289898       NA \n",
       "Test set     0.3609532 1.231852 "
      ]
     },
     "metadata": {},
     "output_type": "display_data"
    }
   ],
   "source": [
    "# Forecast accuracy measures\n",
    "accuracy(f=fc_365_reg, x=Val$INDICE_ATMO_ts365)"
   ]
  },
  {
   "cell_type": "markdown",
   "metadata": {},
   "source": [
    "The best model seems to be **fit_fourier30_365d_reg**."
   ]
  },
  {
   "cell_type": "markdown",
   "metadata": {},
   "source": [
    "#  6 Artificial Neural Networks (feed forward network)"
   ]
  },
  {
   "cell_type": "markdown",
   "metadata": {},
   "source": [
    "* Pros: non-linear modeling, no presumption about the statistical distribution followed by the observations.\n",
    "* Cons: ?"
   ]
  },
  {
   "cell_type": "markdown",
   "metadata": {},
   "source": [
    "## 6.1 Build models"
   ]
  },
  {
   "cell_type": "markdown",
   "metadata": {},
   "source": [
    "### 6.1.1 Quick and dirty"
   ]
  },
  {
   "cell_type": "code",
   "execution_count": 359,
   "metadata": {
    "collapsed": true
   },
   "outputs": [],
   "source": [
    "fit_nn_365 <- nnetar(INDICE_ATMO_ts365, P = 1, repeats = 20, lambda= BoxCox.lambda(INDICE_ATMO_ts365))"
   ]
  },
  {
   "cell_type": "code",
   "execution_count": 360,
   "metadata": {
    "collapsed": false
   },
   "outputs": [],
   "source": [
    "fc_nn_365 <- forecast(fit_nn_365, h=365)"
   ]
  },
  {
   "cell_type": "code",
   "execution_count": 361,
   "metadata": {
    "collapsed": false
   },
   "outputs": [
    {
     "data": {
      "image/png": "[encoded data removed]",
      "text/plain": [
       "Plot with title \"Forecasts from NNAR(32,1,17)[365]\""
      ]
     },
     "metadata": {},
     "output_type": "display_data"
    }
   ],
   "source": [
    "plot(fc_nn_365, xlim=c(2014,2016))\n",
    "lines(Val$INDICE_ATMO_ts365)"
   ]
  },
  {
   "cell_type": "code",
   "execution_count": 362,
   "metadata": {
    "collapsed": false
   },
   "outputs": [
    {
     "data": {
      "text/html": [
       "<table>\n",
       "<thead><tr><th></th><th scope=col>ME</th><th scope=col>RMSE</th><th scope=col>MAE</th><th scope=col>MPE</th><th scope=col>MAPE</th><th scope=col>MASE</th><th scope=col>ACF1</th><th scope=col>Theil's U</th></tr></thead>\n",
       "<tbody>\n",
       "\t<tr><th scope=row>Training set</th><td>0.1290263</td><td>0.5550401</td><td>0.3751316</td><td> 0.828834</td><td> 9.032847</td><td>0.3892227</td><td>0.1911063</td><td>      NA </td></tr>\n",
       "\t<tr><th scope=row>Test set</th><td>1.0725877</td><td>1.4977741</td><td>1.1675919</td><td>22.864848</td><td>26.198290</td><td>1.2114503</td><td>0.5560037</td><td>1.489206 </td></tr>\n",
       "</tbody>\n",
       "</table>\n"
      ],
      "text/latex": [
       "\\begin{tabular}{r|llllllll}\n",
       "  & ME & RMSE & MAE & MPE & MAPE & MASE & ACF1 & Theil's U\\\\\n",
       "\\hline\n",
       "\tTraining set & 0.1290263 & 0.5550401 & 0.3751316 &  0.828834 &  9.032847 & 0.3892227 & 0.1911063 &       NA \\\\\n",
       "\tTest set & 1.0725877 & 1.4977741 & 1.1675919 & 22.864848 & 26.198290 & 1.2114503 & 0.5560037 & 1.489206 \\\\\n",
       "\\end{tabular}\n"
      ],
      "text/markdown": [
       "\n",
       "| <!--/--> | ME | RMSE | MAE | MPE | MAPE | MASE | ACF1 | Theil's U | \n",
       "|---|---|\n",
       "| Training set | 0.1290263 | 0.5550401 | 0.3751316 |  0.828834 |  9.032847 | 0.3892227 | 0.1911063 |       NA  | \n",
       "| Test set | 1.0725877 | 1.4977741 | 1.1675919 | 22.864848 | 26.198290 | 1.2114503 | 0.5560037 | 1.489206  | \n",
       "\n",
       "\n"
      ],
      "text/plain": [
       "             ME        RMSE      MAE       MPE       MAPE      MASE     \n",
       "Training set 0.1290263 0.5550401 0.3751316  0.828834  9.032847 0.3892227\n",
       "Test set     1.0725877 1.4977741 1.1675919 22.864848 26.198290 1.2114503\n",
       "             ACF1      Theil's U\n",
       "Training set 0.1911063       NA \n",
       "Test set     0.5560037 1.489206 "
      ]
     },
     "metadata": {},
     "output_type": "display_data"
    }
   ],
   "source": [
    "# Forecast accuracy measures\n",
    "accuracy(f=fc_nn_365, x=Val$INDICE_ATMO_ts365)"
   ]
  },
  {
   "cell_type": "markdown",
   "metadata": {},
   "source": [
    "### 6.1.2 Add seasonality (with Fourier terms)"
   ]
  },
  {
   "cell_type": "markdown",
   "metadata": {},
   "source": [
    "#### Fourier with k=30"
   ]
  },
  {
   "cell_type": "code",
   "execution_count": 363,
   "metadata": {
    "collapsed": false
   },
   "outputs": [],
   "source": [
    "# Fit model and forecast\n",
    "fit_nn_fourier30_365 <- nnetar(INDICE_ATMO_ts365, P = 1, repeats = 20, lambda= BoxCox.lambda(INDICE_ATMO_ts365), xreg=four30_365, MaxNWts=4500)"
   ]
  },
  {
   "cell_type": "code",
   "execution_count": 364,
   "metadata": {
    "collapsed": false
   },
   "outputs": [],
   "source": [
    "fc_nn_fourier30_365 <- forecast(fit_nn_fourier30_365, xreg=four30_365f, h=365)"
   ]
  },
  {
   "cell_type": "code",
   "execution_count": 365,
   "metadata": {
    "collapsed": false
   },
   "outputs": [
    {
     "data": {
      "image/png": "[encoded data removed]",
      "text/plain": [
       "Plot with title \"Forecasts from NNAR(32,1,47)[365]\""
      ]
     },
     "metadata": {},
     "output_type": "display_data"
    }
   ],
   "source": [
    "plot(fc_nn_fourier30_365, xlim=c(2014,2016), ylim=c(0,10))\n",
    "lines(Val$INDICE_ATMO_ts365)"
   ]
  },
  {
   "cell_type": "code",
   "execution_count": 366,
   "metadata": {
    "collapsed": false
   },
   "outputs": [
    {
     "data": {
      "text/html": [
       "<table>\n",
       "<thead><tr><th></th><th scope=col>ME</th><th scope=col>RMSE</th><th scope=col>MAE</th><th scope=col>MPE</th><th scope=col>MAPE</th><th scope=col>MASE</th><th scope=col>ACF1</th><th scope=col>Theil's U</th></tr></thead>\n",
       "<tbody>\n",
       "\t<tr><th scope=row>Training set</th><td>0.004881205</td><td>0.03893411 </td><td>0.02329206 </td><td>0.053869   </td><td> 0.5511635 </td><td>0.02416698 </td><td>-0.03278765</td><td>      NA   </td></tr>\n",
       "\t<tr><th scope=row>Test set</th><td>0.358115820</td><td>1.10198201 </td><td>0.80270622 </td><td>5.295731   </td><td>18.9954625 </td><td>0.83285838 </td><td> 0.51511637</td><td>1.110914   </td></tr>\n",
       "</tbody>\n",
       "</table>\n"
      ],
      "text/latex": [
       "\\begin{tabular}{r|llllllll}\n",
       "  & ME & RMSE & MAE & MPE & MAPE & MASE & ACF1 & Theil's U\\\\\n",
       "\\hline\n",
       "\tTraining set & 0.004881205 & 0.03893411  & 0.02329206  & 0.053869    &  0.5511635  & 0.02416698  & -0.03278765 &       NA   \\\\\n",
       "\tTest set & 0.358115820 & 1.10198201  & 0.80270622  & 5.295731    & 18.9954625  & 0.83285838  &  0.51511637 & 1.110914   \\\\\n",
       "\\end{tabular}\n"
      ],
      "text/markdown": [
       "\n",
       "| <!--/--> | ME | RMSE | MAE | MPE | MAPE | MASE | ACF1 | Theil's U | \n",
       "|---|---|\n",
       "| Training set | 0.004881205 | 0.03893411  | 0.02329206  | 0.053869    |  0.5511635  | 0.02416698  | -0.03278765 |       NA    | \n",
       "| Test set | 0.358115820 | 1.10198201  | 0.80270622  | 5.295731    | 18.9954625  | 0.83285838  |  0.51511637 | 1.110914    | \n",
       "\n",
       "\n"
      ],
      "text/plain": [
       "             ME          RMSE       MAE        MPE      MAPE       MASE      \n",
       "Training set 0.004881205 0.03893411 0.02329206 0.053869  0.5511635 0.02416698\n",
       "Test set     0.358115820 1.10198201 0.80270622 5.295731 18.9954625 0.83285838\n",
       "             ACF1        Theil's U\n",
       "Training set -0.03278765       NA \n",
       "Test set      0.51511637 1.110914 "
      ]
     },
     "metadata": {},
     "output_type": "display_data"
    }
   ],
   "source": [
    "# Forecast accuracy measures\n",
    "accuracy(f=fc_nn_fourier30_365, x=Val$INDICE_ATMO_ts365)"
   ]
  },
  {
   "cell_type": "markdown",
   "metadata": {},
   "source": [
    "#### Multi-seasonality"
   ]
  },
  {
   "cell_type": "code",
   "execution_count": 367,
   "metadata": {
    "collapsed": false
   },
   "outputs": [],
   "source": [
    "# Fit model\n",
    "fit_nn_multi <- nnetar(y_24_365, P = 1, repeats = 20, lambda= BoxCox.lambda(INDICE_ATMO_ts365d), xreg=four_24_365, MaxNWts=7000)"
   ]
  },
  {
   "cell_type": "code",
   "execution_count": 368,
   "metadata": {
    "collapsed": false
   },
   "outputs": [],
   "source": [
    "# Forecast\n",
    "fc_nn_multi <- forecast(fit_nn_multi, xreg=four_24_365f, h=365)"
   ]
  },
  {
   "cell_type": "code",
   "execution_count": 369,
   "metadata": {
    "collapsed": false
   },
   "outputs": [
    {
     "data": {
      "image/png": "[encoded data removed]",
      "text/plain": [
       "Plot with title \"Forecasts from NNAR(32,1,58)[365]\""
      ]
     },
     "metadata": {},
     "output_type": "display_data"
    }
   ],
   "source": [
    "plot(fc_nn_multi, xlim=c(2014,2016), ylim=c(0,10))\n",
    "lines(Val$INDICE_ATMO_ts365)"
   ]
  },
  {
   "cell_type": "code",
   "execution_count": 370,
   "metadata": {
    "collapsed": false
   },
   "outputs": [
    {
     "data": {
      "text/html": [
       "<table>\n",
       "<thead><tr><th></th><th scope=col>ME</th><th scope=col>RMSE</th><th scope=col>MAE</th><th scope=col>MPE</th><th scope=col>MAPE</th><th scope=col>MASE</th><th scope=col>ACF1</th><th scope=col>Theil's U</th></tr></thead>\n",
       "<tbody>\n",
       "\t<tr><th scope=row>Training set</th><td>0.000908816</td><td>0.008889296</td><td>0.006155833</td><td>0.01584481 </td><td> 0.148379  </td><td>0.006387066</td><td>0.1385959  </td><td>      NA   </td></tr>\n",
       "\t<tr><th scope=row>Test set</th><td>0.156311432</td><td>1.132072976</td><td>0.827854732</td><td>0.08856936 </td><td>20.192460  </td><td>0.858951548</td><td>0.4979558  </td><td>1.147388   </td></tr>\n",
       "</tbody>\n",
       "</table>\n"
      ],
      "text/latex": [
       "\\begin{tabular}{r|llllllll}\n",
       "  & ME & RMSE & MAE & MPE & MAPE & MASE & ACF1 & Theil's U\\\\\n",
       "\\hline\n",
       "\tTraining set & 0.000908816 & 0.008889296 & 0.006155833 & 0.01584481  &  0.148379   & 0.006387066 & 0.1385959   &       NA   \\\\\n",
       "\tTest set & 0.156311432 & 1.132072976 & 0.827854732 & 0.08856936  & 20.192460   & 0.858951548 & 0.4979558   & 1.147388   \\\\\n",
       "\\end{tabular}\n"
      ],
      "text/markdown": [
       "\n",
       "| <!--/--> | ME | RMSE | MAE | MPE | MAPE | MASE | ACF1 | Theil's U | \n",
       "|---|---|\n",
       "| Training set | 0.000908816 | 0.008889296 | 0.006155833 | 0.01584481  |  0.148379   | 0.006387066 | 0.1385959   |       NA    | \n",
       "| Test set | 0.156311432 | 1.132072976 | 0.827854732 | 0.08856936  | 20.192460   | 0.858951548 | 0.4979558   | 1.147388    | \n",
       "\n",
       "\n"
      ],
      "text/plain": [
       "             ME          RMSE        MAE         MPE        MAPE     \n",
       "Training set 0.000908816 0.008889296 0.006155833 0.01584481  0.148379\n",
       "Test set     0.156311432 1.132072976 0.827854732 0.08856936 20.192460\n",
       "             MASE        ACF1      Theil's U\n",
       "Training set 0.006387066 0.1385959       NA \n",
       "Test set     0.858951548 0.4979558 1.147388 "
      ]
     },
     "metadata": {},
     "output_type": "display_data"
    }
   ],
   "source": [
    "# Forecast accuracy measures\n",
    "accuracy(f=fc_nn_multi, x=Val$INDICE_ATMO_ts365)"
   ]
  },
  {
   "cell_type": "markdown",
   "metadata": {},
   "source": [
    "### 6.1.3 Add regressors"
   ]
  },
  {
   "cell_type": "code",
   "execution_count": 371,
   "metadata": {
    "collapsed": false
   },
   "outputs": [],
   "source": [
    "fit_nn_365_reg <- nnetar(INDICE_ATMO_ts365, P = 1, repeats = 20, lambda= BoxCox.lambda(INDICE_ATMO_ts365), xreg=Ext_reg_mat_365, MaxNWts=7500)"
   ]
  },
  {
   "cell_type": "code",
   "execution_count": 372,
   "metadata": {
    "collapsed": false
   },
   "outputs": [],
   "source": [
    "fc_nn_365_reg <- forecast(fit_nn_365_reg, h=365, xreg=Ext_regf_mat_365)"
   ]
  },
  {
   "cell_type": "code",
   "execution_count": 373,
   "metadata": {
    "collapsed": false
   },
   "outputs": [
    {
     "data": {
      "image/png": "[encoded data removed]",
      "text/plain": [
       "Plot with title \"Forecasts from NNAR(32,1,60)[365]\""
      ]
     },
     "metadata": {},
     "output_type": "display_data"
    }
   ],
   "source": [
    "plot(fc_nn_365_reg, xlim=c(2014,2016))\n",
    "lines(Val$INDICE_ATMO_ts365)"
   ]
  },
  {
   "cell_type": "code",
   "execution_count": 374,
   "metadata": {
    "collapsed": false
   },
   "outputs": [
    {
     "data": {
      "image/png": "[encoded data removed]",
      "text/plain": [
       "Plot with title \"Prédictions d'un réseau neuronal avec variables explicatives\""
      ]
     },
     "metadata": {},
     "output_type": "display_data"
    }
   ],
   "source": [
    "plot(fc_nn_365_reg, xlim=c(2015,2016), ylim=c(0,10), main=\"Prédictions d'un réseau neuronal avec variables explicatives\", ylab=\"Indice ATMO\", xaxt=\"n\")\n",
    "lines(Val$INDICE_ATMO_ts365)\n",
    "axis(1, at=c(2014,2015,2016))"
   ]
  },
  {
   "cell_type": "code",
   "execution_count": 375,
   "metadata": {
    "collapsed": false
   },
   "outputs": [
    {
     "data": {
      "text/html": [
       "<table>\n",
       "<thead><tr><th></th><th scope=col>ME</th><th scope=col>RMSE</th><th scope=col>MAE</th><th scope=col>MPE</th><th scope=col>MAPE</th><th scope=col>MASE</th><th scope=col>ACF1</th><th scope=col>Theil's U</th></tr></thead>\n",
       "<tbody>\n",
       "\t<tr><th scope=row>Training set</th><td>0.001830774</td><td>0.01931006 </td><td>0.01289763 </td><td>0.02101311 </td><td> 0.3091895 </td><td>0.01338211 </td><td>0.004374978</td><td>      NA   </td></tr>\n",
       "\t<tr><th scope=row>Test set</th><td>0.206634323</td><td>1.09307461 </td><td>0.76700281 </td><td>1.42017299 </td><td>18.2224698 </td><td>0.79581384 </td><td>0.319091432</td><td>1.074377   </td></tr>\n",
       "</tbody>\n",
       "</table>\n"
      ],
      "text/latex": [
       "\\begin{tabular}{r|llllllll}\n",
       "  & ME & RMSE & MAE & MPE & MAPE & MASE & ACF1 & Theil's U\\\\\n",
       "\\hline\n",
       "\tTraining set & 0.001830774 & 0.01931006  & 0.01289763  & 0.02101311  &  0.3091895  & 0.01338211  & 0.004374978 &       NA   \\\\\n",
       "\tTest set & 0.206634323 & 1.09307461  & 0.76700281  & 1.42017299  & 18.2224698  & 0.79581384  & 0.319091432 & 1.074377   \\\\\n",
       "\\end{tabular}\n"
      ],
      "text/markdown": [
       "\n",
       "| <!--/--> | ME | RMSE | MAE | MPE | MAPE | MASE | ACF1 | Theil's U | \n",
       "|---|---|\n",
       "| Training set | 0.001830774 | 0.01931006  | 0.01289763  | 0.02101311  |  0.3091895  | 0.01338211  | 0.004374978 |       NA    | \n",
       "| Test set | 0.206634323 | 1.09307461  | 0.76700281  | 1.42017299  | 18.2224698  | 0.79581384  | 0.319091432 | 1.074377    | \n",
       "\n",
       "\n"
      ],
      "text/plain": [
       "             ME          RMSE       MAE        MPE        MAPE       MASE      \n",
       "Training set 0.001830774 0.01931006 0.01289763 0.02101311  0.3091895 0.01338211\n",
       "Test set     0.206634323 1.09307461 0.76700281 1.42017299 18.2224698 0.79581384\n",
       "             ACF1        Theil's U\n",
       "Training set 0.004374978       NA \n",
       "Test set     0.319091432 1.074377 "
      ]
     },
     "metadata": {},
     "output_type": "display_data"
    }
   ],
   "source": [
    "# Forecast accuracy measures\n",
    "accuracy(f=fc_nn_365_reg, x=Val$INDICE_ATMO_ts365)"
   ]
  },
  {
   "cell_type": "markdown",
   "metadata": {},
   "source": [
    "# 7 Compare models' performances"
   ]
  },
  {
   "cell_type": "code",
   "execution_count": 376,
   "metadata": {
    "collapsed": false
   },
   "outputs": [],
   "source": [
    "models <- c(\"fc_365\", \n",
    "          \"fc_four5_365\", \n",
    "          \"fc_four30_365\", \n",
    "          \"fc_multi\", \n",
    "          \"fc_365_reg\",\n",
    "          \"fc_multi_reg\",\n",
    "          \"fc_nn_365\", \n",
    "          \"fc_nn_fourier30_365\", \n",
    "          \"fc_nn_multi\",\n",
    "          \"fc_nn_365_reg\")"
   ]
  },
  {
   "cell_type": "code",
   "execution_count": 377,
   "metadata": {
    "collapsed": false
   },
   "outputs": [],
   "source": [
    "dat_mod <- data.frame(models = models, \n",
    "                      RMSE = rep(NA,length(models)),\n",
    "                      MAPE = rep(NA,length(models)),\n",
    "                      Theil_s_U = rep(NA,length(models)))\n",
    "\n",
    "for (mod in models) {\n",
    "    error <- as.data.frame(accuracy(f=get(mod), x=Val$INDICE_ATMO_ts365))\n",
    "    dat_mod[dat_mod$models == mod,\"RMSE\"] <- error$RMSE[2]\n",
    "    dat_mod[dat_mod$models == mod,\"MAE\"] <- error$MAE[2]\n",
    "    dat_mod[dat_mod$models == mod,\"MAPE\"] <- error$MAPE[2]\n",
    "    dat_mod[dat_mod$models == mod,\"Theil_s_U\"] <- error[2,8]\n",
    "   \n",
    "    }"
   ]
  },
  {
   "cell_type": "code",
   "execution_count": 378,
   "metadata": {
    "collapsed": false,
    "scrolled": false
   },
   "outputs": [
    {
     "data": {
      "text/html": [
       "<table>\n",
       "<thead><tr><th></th><th scope=col>models</th><th scope=col>RMSE</th><th scope=col>MAPE</th><th scope=col>Theil_s_U</th><th scope=col>MAE</th></tr></thead>\n",
       "<tbody>\n",
       "\t<tr><th scope=row>1</th><td>fc_365             </td><td>0.9899692          </td><td>17.73434           </td><td>1.009512           </td><td>0.6989901          </td></tr>\n",
       "\t<tr><th scope=row>10</th><td>fc_nn_365_reg      </td><td>1.0930746          </td><td>18.22247           </td><td>1.074377           </td><td>0.7670028          </td></tr>\n",
       "\t<tr><th scope=row>8</th><td>fc_nn_fourier30_365</td><td>1.1019820          </td><td>18.99546           </td><td>1.110914           </td><td>0.8027062          </td></tr>\n",
       "\t<tr><th scope=row>9</th><td>fc_nn_multi        </td><td>1.1320730          </td><td>20.19246           </td><td>1.147388           </td><td>0.8278547          </td></tr>\n",
       "\t<tr><th scope=row>2</th><td>fc_four5_365       </td><td>1.0460721          </td><td>23.02389           </td><td>1.146827           </td><td>0.8546219          </td></tr>\n",
       "\t<tr><th scope=row>4</th><td>fc_multi           </td><td>1.0684936          </td><td>23.40821           </td><td>1.171424           </td><td>0.8732383          </td></tr>\n",
       "\t<tr><th scope=row>6</th><td>fc_multi_reg       </td><td>1.1743804          </td><td>23.10911           </td><td>1.226622           </td><td>0.9011457          </td></tr>\n",
       "\t<tr><th scope=row>5</th><td>fc_365_reg         </td><td>1.1786976          </td><td>23.16011           </td><td>1.231852           </td><td>0.9020556          </td></tr>\n",
       "\t<tr><th scope=row>3</th><td>fc_four30_365      </td><td>1.1080220          </td><td>24.74555           </td><td>1.232449           </td><td>0.9141352          </td></tr>\n",
       "\t<tr><th scope=row>7</th><td>fc_nn_365          </td><td>1.4977741          </td><td>26.19829           </td><td>1.489206           </td><td>1.1675919          </td></tr>\n",
       "</tbody>\n",
       "</table>\n"
      ],
      "text/latex": [
       "\\begin{tabular}{r|lllll}\n",
       "  & models & RMSE & MAPE & Theil\\_s\\_U & MAE\\\\\n",
       "\\hline\n",
       "\t1 & fc\\_365              & 0.9899692             & 17.73434              & 1.009512              & 0.6989901            \\\\\n",
       "\t10 & fc\\_nn\\_365\\_reg       & 1.0930746                 & 18.22247                  & 1.074377                  & 0.7670028                \\\\\n",
       "\t8 & fc\\_nn\\_fourier30\\_365 & 1.1019820                 & 18.99546                  & 1.110914                  & 0.8027062                \\\\\n",
       "\t9 & fc\\_nn\\_multi         & 1.1320730               & 20.19246                & 1.147388                & 0.8278547              \\\\\n",
       "\t2 & fc\\_four5\\_365        & 1.0460721               & 23.02389                & 1.146827                & 0.8546219              \\\\\n",
       "\t4 & fc\\_multi            & 1.0684936             & 23.40821              & 1.171424              & 0.8732383            \\\\\n",
       "\t6 & fc\\_multi\\_reg        & 1.1743804               & 23.10911                & 1.226622                & 0.9011457              \\\\\n",
       "\t5 & fc\\_365\\_reg          & 1.1786976               & 23.16011                & 1.231852                & 0.9020556              \\\\\n",
       "\t3 & fc\\_four30\\_365       & 1.1080220               & 24.74555                & 1.232449                & 0.9141352              \\\\\n",
       "\t7 & fc\\_nn\\_365           & 1.4977741               & 26.19829                & 1.489206                & 1.1675919              \\\\\n",
       "\\end{tabular}\n"
      ],
      "text/markdown": [
       "\n",
       "| <!--/--> | models | RMSE | MAPE | Theil_s_U | MAE | \n",
       "|---|---|---|---|---|---|---|---|---|---|\n",
       "| 1 | fc_365              | 0.9899692           | 17.73434            | 1.009512            | 0.6989901           | \n",
       "| 10 | fc_nn_365_reg       | 1.0930746           | 18.22247            | 1.074377            | 0.7670028           | \n",
       "| 8 | fc_nn_fourier30_365 | 1.1019820           | 18.99546            | 1.110914            | 0.8027062           | \n",
       "| 9 | fc_nn_multi         | 1.1320730           | 20.19246            | 1.147388            | 0.8278547           | \n",
       "| 2 | fc_four5_365        | 1.0460721           | 23.02389            | 1.146827            | 0.8546219           | \n",
       "| 4 | fc_multi            | 1.0684936           | 23.40821            | 1.171424            | 0.8732383           | \n",
       "| 6 | fc_multi_reg        | 1.1743804           | 23.10911            | 1.226622            | 0.9011457           | \n",
       "| 5 | fc_365_reg          | 1.1786976           | 23.16011            | 1.231852            | 0.9020556           | \n",
       "| 3 | fc_four30_365       | 1.1080220           | 24.74555            | 1.232449            | 0.9141352           | \n",
       "| 7 | fc_nn_365           | 1.4977741           | 26.19829            | 1.489206            | 1.1675919           | \n",
       "\n",
       "\n"
      ],
      "text/plain": [
       "   models              RMSE      MAPE     Theil_s_U MAE      \n",
       "1  fc_365              0.9899692 17.73434 1.009512  0.6989901\n",
       "10 fc_nn_365_reg       1.0930746 18.22247 1.074377  0.7670028\n",
       "8  fc_nn_fourier30_365 1.1019820 18.99546 1.110914  0.8027062\n",
       "9  fc_nn_multi         1.1320730 20.19246 1.147388  0.8278547\n",
       "2  fc_four5_365        1.0460721 23.02389 1.146827  0.8546219\n",
       "4  fc_multi            1.0684936 23.40821 1.171424  0.8732383\n",
       "6  fc_multi_reg        1.1743804 23.10911 1.226622  0.9011457\n",
       "5  fc_365_reg          1.1786976 23.16011 1.231852  0.9020556\n",
       "3  fc_four30_365       1.1080220 24.74555 1.232449  0.9141352\n",
       "7  fc_nn_365           1.4977741 26.19829 1.489206  1.1675919"
      ]
     },
     "metadata": {},
     "output_type": "display_data"
    }
   ],
   "source": [
    "dat_mod[order(dat_mod$MAE),]"
   ]
  },
  {
   "cell_type": "code",
   "execution_count": 379,
   "metadata": {
    "collapsed": false,
    "scrolled": false
   },
   "outputs": [
    {
     "data": {},
     "metadata": {},
     "output_type": "display_data"
    },
    {
     "data": {
      "image/png": "[encoded data removed]",
      "text/plain": [
       "plot without title"
      ]
     },
     "metadata": {},
     "output_type": "display_data"
    }
   ],
   "source": [
    "ggplot(data=dat_mod, aes(x = models)) + \n",
    "  geom_point(aes(y = RMSE, col=\"RMSE\")) +\n",
    "  geom_point(aes(y = MAE, col=\"MAE\")) +\n",
    "  geom_point(aes(y = Theil_s_U, col=\"Theil's U\")) +\n",
    "  scale_colour_manual(labels = c(\"RMSE\", \"MAE\", \"Theil's U\"), \n",
    "                      breaks = c(\"RMSE\", \"MAE\", \"Theil's U\"),\n",
    "                      values = c(\"red\", \"green\", \"blue\")) +\n",
    "  ylab(\"% Error\")+\n",
    "  theme(axis.text.x = element_text(angle = 45, hjust = 1))"
   ]
  },
  {
   "cell_type": "markdown",
   "metadata": {},
   "source": [
    "# 8 Walk Forward Validation"
   ]
  },
  {
   "cell_type": "markdown",
   "metadata": {},
   "source": [
    "The neural network with external regressor seems to give the best results on the validation set. We will use it to perform a walk forward validation on the test set.\n",
    "First, we will merge our previous training and validation sets to create our starting training set. Then, we will use a sliding window to predict pollution one week ahead in the test set."
   ]
  },
  {
   "cell_type": "code",
   "execution_count": 380,
   "metadata": {
    "collapsed": false,
    "init_cell": true
   },
   "outputs": [],
   "source": [
    "dat_imp <- as.data.frame(apply(dat, 2, fun_miss))"
   ]
  },
  {
   "cell_type": "code",
   "execution_count": 381,
   "metadata": {
    "collapsed": false,
    "init_cell": true
   },
   "outputs": [],
   "source": [
    "dat_imp$DATE <- as.Date(dat_imp$DATE, format=\"%Y-%m-%d\")"
   ]
  },
  {
   "cell_type": "code",
   "execution_count": 382,
   "metadata": {
    "collapsed": false,
    "init_cell": true
   },
   "outputs": [],
   "source": [
    "# Make the datasets correspond to weeks (start on Monday and end on Sunday)\n",
    "dat_2 <- head(dat_imp,-6)    # Remove the first 6 days (Tuesday, Wednesday, Thursday, Friday, Saturday, Sunday)\n",
    "dat_w <- tail(dat_2,-2)      # Remove the last 2 days (Monday, Tuesday)\n",
    "\n",
    "INDICE_ATMO_ts365_w <- ts(dat_w$INDICE_ATMO, frequency=365.25, start=c(2005,as.numeric(format(dat_w$DATE[1], \"%j\"))))"
   ]
  },
  {
   "cell_type": "code",
   "execution_count": 383,
   "metadata": {
    "collapsed": true,
    "init_cell": true
   },
   "outputs": [],
   "source": [
    "n_days_test <- 366-6        # 366 (Test) minus the last 2 days that we have just removed from dat\n",
    "n_days_Train <- 3652-6+365  # 3652 (Train) minus the first 6 days, plus 365 (Val)"
   ]
  },
  {
   "cell_type": "code",
   "execution_count": 384,
   "metadata": {
    "collapsed": true,
    "init_cell": true
   },
   "outputs": [],
   "source": [
    "n_weeks_test <- floor(364/7)"
   ]
  },
  {
   "cell_type": "code",
   "execution_count": 385,
   "metadata": {
    "collapsed": false,
    "init_cell": true
   },
   "outputs": [],
   "source": [
    "dat_mod <- data.frame(week = seq(1,52,1), \n",
    "                      RMSE = rep(NA,52),\n",
    "                      MAPE = rep(NA,52),\n",
    "                      Theil_s_U = rep(NA,52))"
   ]
  },
  {
   "cell_type": "code",
   "execution_count": 386,
   "metadata": {
    "collapsed": true,
    "init_cell": true
   },
   "outputs": [],
   "source": [
    "# Define the first week and last week\n",
    "first_week <- 1\n",
    "last_week <- 52\n",
    "\n",
    "# Set delay between frames when replaying\n",
    "oopt = ani.options(interval = 1, nmax = last_week, loop=0)"
   ]
  },
  {
   "cell_type": "code",
   "execution_count": 387,
   "metadata": {
    "collapsed": true,
    "init_cell": true
   },
   "outputs": [],
   "source": [
    "theme_ts <- theme(panel.border = element_rect(fill = NA, \n",
    "                                              colour = \"grey10\"),\n",
    "                  panel.background = element_blank(),\n",
    "                  panel.grid.minor = element_line(colour = \"grey85\"),\n",
    "                  panel.grid.major = element_line(colour = \"grey85\"),\n",
    "                  panel.grid.major.x = element_blank(),\n",
    "                  panel.grid.minor.x = element_blank(),\n",
    "                  axis.text = element_text(size = 13, face = \"bold\"),\n",
    "                  axis.title = element_text(size = 15, face = \"bold\"),\n",
    "                  plot.title = element_text(size = 16, face = \"bold\"),\n",
    "                  strip.text = element_text(size = 16, face = \"bold\"),\n",
    "                  strip.background = element_rect(colour = \"black\"),\n",
    "                  legend.text = element_text(size = 15),\n",
    "                  legend.title = element_text(size = 16, face = \"bold\"),\n",
    "                  legend.background = element_rect(fill = \"white\"),\n",
    "                  legend.key = element_rect(fill = \"white\"))"
   ]
  },
  {
   "cell_type": "code",
   "execution_count": 389,
   "metadata": {
    "collapsed": false,
    "scrolled": true
   },
   "outputs": [
    {
     "name": "stderr",
     "output_type": "stream",
     "text": [
      "Executing: \n",
      "\"convert -loop 0 -delay 100 Rplot1.png Rplot2.png Rplot3.png\n",
      "    Rplot4.png Rplot5.png Rplot6.png Rplot7.png Rplot8.png Rplot9.png\n",
      "    Rplot10.png Rplot11.png Rplot12.png Rplot13.png Rplot14.png\n",
      "    Rplot15.png Rplot16.png Rplot17.png Rplot18.png Rplot19.png\n",
      "    Rplot20.png Rplot21.png Rplot22.png Rplot23.png Rplot24.png\n",
      "    Rplot25.png Rplot26.png Rplot27.png Rplot28.png Rplot29.png\n",
      "    Rplot30.png Rplot31.png Rplot32.png Rplot33.png Rplot34.png\n",
      "    Rplot35.png Rplot36.png Rplot37.png Rplot38.png Rplot39.png\n",
      "    Rplot40.png Rplot41.png Rplot42.png Rplot43.png Rplot44.png\n",
      "    Rplot45.png Rplot46.png Rplot47.png Rplot48.png Rplot49.png\n",
      "    Rplot50.png Rplot51.png Rplot52.png\n",
      "    \"plot_nn_animation_2016_week.gif\"\"\n",
      "Output at: plot_nn_animation_2016_week.gif\n"
     ]
    },
    {
     "data": {
      "text/html": [
       "TRUE"
      ],
      "text/latex": [
       "TRUE"
      ],
      "text/markdown": [
       "TRUE"
      ],
      "text/plain": [
       "[1] TRUE"
      ]
     },
     "metadata": {},
     "output_type": "display_data"
    }
   ],
   "source": [
    "# Begin animation loop\n",
    "makeplot <- function(){\n",
    " \n",
    "    # Begin the loop that creates the individual graphs\n",
    "    for(i in (first_week-1):(last_week-1)){\n",
    "         \n",
    "        # Split the dataset and create time series Train and Test objects from raw data (without NA)\n",
    "        Train_365 <- ts(INDICE_ATMO_ts365_w[(i*7+1):(i*7+n_days_Train)], frequency=365.25, start=c(year(dat_w$DATE[i*7+1]), as.numeric(format(dat_w$DATE[i*7+1], \"%j\"))))   \n",
    "        Test_365 <- ts(INDICE_ATMO_ts365_w[(n_days_Train+1+i*7):(n_days_Train+(i+1)*7)], frequency=365.25, start=c(year(dat_w$DATE[n_days_Train+1+i*7]),as.numeric(format(dat_w$DATE[n_days_Train+1+i*7], \"%j\"))))  # the next week\n",
    "        \n",
    "        # Split the dataset\n",
    "        Train_df = dat_w[(i*7+1):(i*7+n_days_Train),]\n",
    "        Test_df = dat_w[(n_days_Train+1+i*7):(n_days_Train+(i+1)*7),]    # the next week\n",
    "        \n",
    "        # Prepare matrix with external regressors\n",
    "        Ext_reg <- subset(Train_df, select=c(\"month_2\", \"month_3\", \"month_4\", \"month_5\", \"month_6\", \"month_7\", \"month_8\", \"month_9\", \"month_10\", \"month_11\", \"month_12\", \"wind\", \"tempC\", \"humidity\", \"cloud\", \"pres\", \"rafper\", \"rain24\", \"weekday_dimanche\", \"weekday_jeudi\", \"weekday_mardi\", \"weekday_mercredi\", \"weekday_samedi\", \"weekday_vendredi\", \"holidays\", \"goReturnHolidays\")) \n",
    "        Ext_regf <- subset(Test_df,select=c(\"month_2\", \"month_3\", \"month_4\", \"month_5\", \"month_6\", \"month_7\", \"month_8\", \"month_9\", \"month_10\", \"month_11\", \"month_12\", \"wind\", \"tempC\", \"humidity\", \"cloud\", \"pres\", \"rafper\", \"rain24\", \"weekday_dimanche\", \"weekday_jeudi\", \"weekday_mardi\", \"weekday_mercredi\", \"weekday_samedi\", \"weekday_vendredi\", \"holidays\", \"goReturnHolidays\"))\n",
    "        \n",
    "        Ext_reg_mat <- data.matrix(Ext_reg)\n",
    "        Ext_regf_mat <- data.matrix(Ext_regf)\n",
    "       \n",
    "        # Fit model\n",
    "        fit_roll <- nnetar(Train_365, P = 1, repeats = 20, lambda= BoxCox.lambda(Train_365), xreg=Ext_reg_mat, MaxNWts=7500)\n",
    "        \n",
    "        # Forecast\n",
    "        fc_roll <- forecast(fit_roll, h=7, xreg=Ext_regf_mat)\n",
    "        \n",
    "        # Measure errors\n",
    "        error <- as.data.frame(accuracy(f=fc_roll, x=Test_365))\n",
    "        rmse <- error$RMSE[2]\n",
    "        dat_mod[i+1,\"RMSE\"] <- error$RMSE[2]\n",
    "        dat_mod[i+1,\"MAE\"] <- error$MAE[2]\n",
    "        dat_mod[i+1,\"MAPE\"] <- error$MAPE[2]\n",
    "        dat_mod[i+1,\"Theil_s_U\"] <- error[2,8]\n",
    "\n",
    "        # Create a shorter dataframe for plot\n",
    "        Train_df_short <- tail(Train_df, 52*5)\n",
    "  \n",
    "        # Create a dataframe to make the plot\n",
    "        data_for <- data.table(INDICE_ATMO = c(Train_df_short$INDICE_ATMO, Test_df$INDICE_ATMO, fc_roll$mean),\n",
    "                       Date = c(Train_df_short$DATE, rep(Test_df$DATE, 2)),\n",
    "                       Type = c(rep(\"Train data\", nrow(Train_df_short)),\n",
    "                                rep(\"Test data\", nrow(Test_df)),\n",
    "                                rep(\"Forecast\", nrow(Test_df))))\n",
    "        \n",
    "        # Make plot\n",
    "        print(ggplot(data_for, aes(Date, INDICE_ATMO, color = Type)) +\n",
    "          geom_line(size = 0.8, alpha = 0.75) +\n",
    "          facet_zoom(x = Date %in% Test_df$DATE, zoom.size = 1.2) +\n",
    "          labs(x= NULL, title =  paste(\"Forecast from FNN; \", \"week: \", i, \"; RMSE: \",\n",
    "               round(rmse, 2), \"%\", sep = \"\")) +\n",
    "          theme_ts)\n",
    "        ani.pause()\n",
    "    }\n",
    "}\n",
    "\n",
    "saveGIF(makeplot(), movie.name = \"plot_nn_animation_2016_week.gif\")"
   ]
  },
  {
   "cell_type": "markdown",
   "metadata": {},
   "source": [
    "# 9 Going further"
   ]
  },
  {
   "cell_type": "markdown",
   "metadata": {
    "collapsed": true
   },
   "source": [
    "* Select the best external regressors"
   ]
  }
 ],
 "metadata": {
  "author": "Pollution peaks",
  "celltoolbar": "Initialization Cell",
  "kernelspec": {
   "display_name": "R",
   "language": "R",
   "name": "ir"
  },
  "language_info": {
   "codemirror_mode": "r",
   "file_extension": ".r",
   "mimetype": "text/x-r-source",
   "name": "R",
   "pygments_lexer": "r",
   "version": "3.4.2"
  },
  "latex_envs": {
   "LaTeX_envs_menu_present": true,
   "autocomplete": true,
   "bibliofile": "biblio.bib",
   "cite_by": "apalike",
   "current_citInitial": 1,
   "eqLabelWithNumbers": true,
   "eqNumInitial": 1,
   "hotkeys": {
    "equation": "Ctrl-E",
    "itemize": "Ctrl-I"
   },
   "labels_anchors": false,
   "latex_user_defs": false,
   "report_style_numbering": false,
   "user_envs_cfg": false
  },
  "toc": {
   "colors": {
    "hover_highlight": "#DAA520",
    "navigate_num": "#000000",
    "navigate_text": "#333333",
    "running_highlight": "#FF0000",
    "selected_highlight": "#FFD700",
    "sidebar_border": "#EEEEEE",
    "wrapper_background": "#FFFFFF"
   },
   "moveMenuLeft": true,
   "nav_menu": {
    "height": "512px",
    "width": "252px"
   },
   "navigate_menu": true,
   "number_sections": false,
   "sideBar": true,
   "threshold": "4",
   "toc_cell": false,
   "toc_position": {
    "height": "531px",
    "left": "0px",
    "right": "1104px",
    "top": "106px",
    "width": "244px"
   },
   "toc_section_display": "block",
   "toc_window_display": false,
   "widenNotebook": false
  }
 },
 "nbformat": 4,
 "nbformat_minor": 2
}
